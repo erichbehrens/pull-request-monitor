{
  "nbformat": 4,
  "nbformat_minor": 0,
  "metadata": {
    "colab": {
      "name": "OH_Introduction_to_NLP_02_SentimentOverview.ipynb",
      "provenance": [],
      "collapsed_sections": [
        "R3u8SqMWJiGt",
        "q1K8B1fxLkNf"
      ],
      "include_colab_link": true
    },
    "kernelspec": {
      "name": "python3",
      "display_name": "Python 3"
    },
    "accelerator": "GPU"
  },
  "cells": [
    {
      "cell_type": "markdown",
      "metadata": {
        "id": "view-in-github",
        "colab_type": "text"
      },
      "source": [
        "<a href=\"https://colab.research.google.com/github/cwmarris/pull-request-monitor/blob/master/OH_Introduction_to_NLP_02_SentimentOverview.ipynb\" target=\"_parent\"><img src=\"https://colab.research.google.com/assets/colab-badge.svg\" alt=\"Open In Colab\"/></a>"
      ]
    },
    {
      "cell_type": "markdown",
      "metadata": {
        "id": "W_g32uyjqacV"
      },
      "source": [
        "# Sentiment Analysis"
      ]
    },
    {
      "cell_type": "markdown",
      "metadata": {
        "id": "GVOxGhYpufxz"
      },
      "source": [
        "* Author: Amy Zhuang\n",
        "* Last updated: October 2020"
      ]
    },
    {
      "cell_type": "markdown",
      "metadata": {
        "id": "d1g3ODcfSHE5"
      },
      "source": [
        "## Sentiment Analysis Types"
      ]
    },
    {
      "cell_type": "markdown",
      "metadata": {
        "id": "nMeuGqhcG1Re"
      },
      "source": [
        "\n",
        "- Lexicon-based\n",
        "- Cloud API\n",
        "- Machine Learning Model\n"
      ]
    },
    {
      "cell_type": "markdown",
      "metadata": {
        "id": "emydQTNGG4sm"
      },
      "source": [
        "## Lexicon Sentiment Analysis Packages"
      ]
    },
    {
      "cell_type": "markdown",
      "metadata": {
        "id": "tARPqMyZG1NJ"
      },
      "source": [
        "Lexicon sentiment analysis outputs a polarity score of -1 to 1, where -1 represents the extremely negative sentiment and 1 represents the extremely positive sentiment. A value near 0 means neutral sentiment.\n",
        "- TextBlob is a popular Python library built on top of NLTK. \n",
        "- VADER (Valence Aware Dictionary and sEntiment Reasoner) is part of NLTK. \n",
        "\n",
        "A key difference between TextBlob and VADER is that VADER is focused on social media. VADER puts a lot of effort into identifying the sentiments of contents typically appear on social media, such as emojis, repetitive words, and exclamation points.\n"
      ]
    },
    {
      "cell_type": "markdown",
      "metadata": {
        "id": "hsnRbBa1G1JJ"
      },
      "source": [
        "## Cloud API Providers"
      ]
    },
    {
      "cell_type": "markdown",
      "metadata": {
        "id": "yyI2w6DtG1Ej"
      },
      "source": [
        "- Amazon Comprehend: Amazon comprehend service pricing is based on units (100 characters). https://aws.amazon.com/comprehend/pricing/\n",
        "- Azure Text Analytics API: Azure Text Analytics pricing is based on Text Records, which correspond to 1000 character units. It has different instances to choose from. https://azure.microsoft.com/en-us/pricing/details/cognitive-services/text-analytics/\n",
        "- Google Natural Language API: Google Natural Language API pricing is based on units, where one unit correspond to 1000 characters. Characters include whitespace characters and any markup characters such as HTML or XML tags. https://cloud.google.com/natural-language/pricing\n",
        "- IBM Watson Tone Analyzer: IBM Watson Tone Analyzer Pricing is based on API Calls. https://cloud.ibm.com/catalog/services/tone-analyzer"
      ]
    },
    {
      "cell_type": "markdown",
      "metadata": {
        "id": "txhPQFCcG0wP"
      },
      "source": [
        "## Comparison"
      ]
    },
    {
      "cell_type": "markdown",
      "metadata": {
        "id": "yjhMJbEXQANf"
      },
      "source": [
        "- Cost: Cloud API>Machine Learning>Lexicon\n",
        "- Level of Effort: Machine Learning>Lexicon>Cloud API\n",
        "- Accuracy: Machine Learning>Cloud API>Lexicon\n"
      ]
    },
    {
      "cell_type": "markdown",
      "metadata": {
        "id": "rkfBJw_1G0_7"
      },
      "source": [
        "## Machine Learning Model"
      ]
    },
    {
      "cell_type": "markdown",
      "metadata": {
        "id": "1uJz7R35G08y"
      },
      "source": [
        "- Predictors: count based vs. embedding based\n",
        "- Model: bag of words model vs. sequence model"
      ]
    },
    {
      "cell_type": "markdown",
      "metadata": {
        "id": "RRrJj3E1JbMu"
      },
      "source": [
        "## Hands-on Exercises"
      ]
    },
    {
      "cell_type": "markdown",
      "metadata": {
        "id": "R3u8SqMWJiGt"
      },
      "source": [
        "### VADER"
      ]
    },
    {
      "cell_type": "code",
      "metadata": {
        "id": "yCQ_FXFKJJ48",
        "colab": {
          "base_uri": "https://localhost:8080/",
          "height": 187
        },
        "outputId": "99240f40-fe4c-430e-e389-f736724d42d7"
      },
      "source": [
        "!pip install vaderSentiment"
      ],
      "execution_count": null,
      "outputs": [
        {
          "output_type": "stream",
          "text": [
            "Collecting vaderSentiment\n",
            "\u001b[?25l  Downloading https://files.pythonhosted.org/packages/76/fc/310e16254683c1ed35eeb97386986d6c00bc29df17ce280aed64d55537e9/vaderSentiment-3.3.2-py2.py3-none-any.whl (125kB)\n",
            "\r\u001b[K     |██▋                             | 10kB 23.8MB/s eta 0:00:01\r\u001b[K     |█████▏                          | 20kB 26.5MB/s eta 0:00:01\r\u001b[K     |███████▉                        | 30kB 18.4MB/s eta 0:00:01\r\u001b[K     |██████████▍                     | 40kB 15.0MB/s eta 0:00:01\r\u001b[K     |█████████████                   | 51kB 11.9MB/s eta 0:00:01\r\u001b[K     |███████████████▋                | 61kB 11.7MB/s eta 0:00:01\r\u001b[K     |██████████████████▏             | 71kB 11.5MB/s eta 0:00:01\r\u001b[K     |████████████████████▉           | 81kB 11.6MB/s eta 0:00:01\r\u001b[K     |███████████████████████▍        | 92kB 10.7MB/s eta 0:00:01\r\u001b[K     |██████████████████████████      | 102kB 10.3MB/s eta 0:00:01\r\u001b[K     |████████████████████████████▋   | 112kB 10.3MB/s eta 0:00:01\r\u001b[K     |███████████████████████████████▏| 122kB 10.3MB/s eta 0:00:01\r\u001b[K     |████████████████████████████████| 133kB 10.3MB/s \n",
            "\u001b[?25hRequirement already satisfied: requests in /usr/local/lib/python3.6/dist-packages (from vaderSentiment) (2.23.0)\n",
            "Requirement already satisfied: chardet<4,>=3.0.2 in /usr/local/lib/python3.6/dist-packages (from requests->vaderSentiment) (3.0.4)\n",
            "Requirement already satisfied: urllib3!=1.25.0,!=1.25.1,<1.26,>=1.21.1 in /usr/local/lib/python3.6/dist-packages (from requests->vaderSentiment) (1.24.3)\n",
            "Requirement already satisfied: idna<3,>=2.5 in /usr/local/lib/python3.6/dist-packages (from requests->vaderSentiment) (2.9)\n",
            "Requirement already satisfied: certifi>=2017.4.17 in /usr/local/lib/python3.6/dist-packages (from requests->vaderSentiment) (2020.6.20)\n",
            "Installing collected packages: vaderSentiment\n",
            "Successfully installed vaderSentiment-3.3.2\n"
          ],
          "name": "stdout"
        }
      ]
    },
    {
      "cell_type": "code",
      "metadata": {
        "id": "e6gdI6MEJCw2"
      },
      "source": [
        "from vaderSentiment.vaderSentiment import SentimentIntensityAnalyzer"
      ],
      "execution_count": null,
      "outputs": []
    },
    {
      "cell_type": "code",
      "metadata": {
        "id": "dEAZJec3JH3p"
      },
      "source": [
        "analyser = SentimentIntensityAnalyzer()"
      ],
      "execution_count": null,
      "outputs": []
    },
    {
      "cell_type": "code",
      "metadata": {
        "id": "Izjqax77JVIS"
      },
      "source": [
        "def sentiment_analyzer_scores(sentence):\n",
        "    score = analyser.polarity_scores(sentence)\n",
        "    print(f\"{sentence} {score}\")"
      ],
      "execution_count": null,
      "outputs": []
    },
    {
      "cell_type": "code",
      "metadata": {
        "id": "ZK8WPTofJVDG",
        "colab": {
          "base_uri": "https://localhost:8080/",
          "height": 34
        },
        "outputId": "9be1de61-59d0-4792-a696-58aa928dd787"
      },
      "source": [
        "sentiment_analyzer_scores(\"The Harvard Business Analytics Program is so awesome.\")"
      ],
      "execution_count": null,
      "outputs": [
        {
          "output_type": "stream",
          "text": [
            "The Harvard Business Analytics Program is so awesome. {'neg': 0.0, 'neu': 0.572, 'pos': 0.428, 'compound': 0.7384}\n"
          ],
          "name": "stdout"
        }
      ]
    },
    {
      "cell_type": "code",
      "metadata": {
        "id": "2j5DCzi9JU_K",
        "colab": {
          "base_uri": "https://localhost:8080/",
          "height": 34
        },
        "outputId": "d3b338ad-49e5-4afb-a79c-34ba1a3a6e46"
      },
      "source": [
        "sentiment_analyzer_scores(\"The Harvard Business Analytics Program is so AWESOME.\")"
      ],
      "execution_count": null,
      "outputs": [
        {
          "output_type": "stream",
          "text": [
            "The Harvard Business Analytics Program is so AWESOME. {'neg': 0.0, 'neu': 0.532, 'pos': 0.468, 'compound': 0.7996}\n"
          ],
          "name": "stdout"
        }
      ]
    },
    {
      "cell_type": "code",
      "metadata": {
        "id": "u-hjF0wqJU56",
        "colab": {
          "base_uri": "https://localhost:8080/",
          "height": 34
        },
        "outputId": "2b22614c-6333-42c5-9c6d-065e9912faca"
      },
      "source": [
        "sentiment_analyzer_scores(\"The Harvard Business Analytics Program is so AWESOME!\")"
      ],
      "execution_count": null,
      "outputs": [
        {
          "output_type": "stream",
          "text": [
            "The Harvard Business Analytics Program is so AWESOME! {'neg': 0.0, 'neu': 0.52, 'pos': 0.48, 'compound': 0.8151}\n"
          ],
          "name": "stdout"
        }
      ]
    },
    {
      "cell_type": "code",
      "metadata": {
        "id": "-GFLi-fJJUr3",
        "colab": {
          "base_uri": "https://localhost:8080/",
          "height": 34
        },
        "outputId": "8e541e03-660f-4fb8-a338-a8a64e7ce747"
      },
      "source": [
        "sentiment_analyzer_scores(\"The Harvard Business Analytics Program is soooooooo AWESOME!\")"
      ],
      "execution_count": null,
      "outputs": [
        {
          "output_type": "stream",
          "text": [
            "The Harvard Business Analytics Program is soooooooo AWESOME! {'neg': 0.0, 'neu': 0.577, 'pos': 0.423, 'compound': 0.729}\n"
          ],
          "name": "stdout"
        }
      ]
    },
    {
      "cell_type": "code",
      "metadata": {
        "id": "-zheyUWFKDde",
        "colab": {
          "base_uri": "https://localhost:8080/",
          "height": 34
        },
        "outputId": "0be0de80-c162-4f4e-e333-f191cadff9bb"
      },
      "source": [
        "sentiment_analyzer_scores(\"The Harvard Business Analytics Program is so so so so AWESOME!\")"
      ],
      "execution_count": null,
      "outputs": [
        {
          "output_type": "stream",
          "text": [
            "The Harvard Business Analytics Program is so so so so AWESOME! {'neg': 0.0, 'neu': 0.584, 'pos': 0.416, 'compound': 0.8453}\n"
          ],
          "name": "stdout"
        }
      ]
    },
    {
      "cell_type": "code",
      "metadata": {
        "id": "LRUy4F-RKDZO",
        "colab": {
          "base_uri": "https://localhost:8080/",
          "height": 34
        },
        "outputId": "9db98672-1e94-41c7-9af6-06b83af29d7a"
      },
      "source": [
        "sentiment_analyzer_scores(\"The Harvard Business Analytics Program is so AWESOME AWESOME AWESOME!\")"
      ],
      "execution_count": null,
      "outputs": [
        {
          "output_type": "stream",
          "text": [
            "The Harvard Business Analytics Program is so AWESOME AWESOME AWESOME! {'neg': 0.0, 'neu': 0.296, 'pos': 0.704, 'compound': 0.9621}\n"
          ],
          "name": "stdout"
        }
      ]
    },
    {
      "cell_type": "code",
      "metadata": {
        "id": "UCJRZrwEKDVX",
        "colab": {
          "base_uri": "https://localhost:8080/",
          "height": 34
        },
        "outputId": "f72db651-eb29-44f5-c52c-899e107b9c6b"
      },
      "source": [
        "sentiment_analyzer_scores(\"The Harvard Business Analytics Program is so AWESOME AWESOME AWESOME!!!\")"
      ],
      "execution_count": null,
      "outputs": [
        {
          "output_type": "stream",
          "text": [
            "The Harvard Business Analytics Program is so AWESOME AWESOME AWESOME!!! {'neg': 0.0, 'neu': 0.289, 'pos': 0.711, 'compound': 0.965}\n"
          ],
          "name": "stdout"
        }
      ]
    },
    {
      "cell_type": "code",
      "metadata": {
        "id": "RLJ0yWVPKDRY",
        "colab": {
          "base_uri": "https://localhost:8080/",
          "height": 34
        },
        "outputId": "6220a4df-4dc9-4b42-c36d-2750bc9d1011"
      },
      "source": [
        "sentiment_analyzer_scores(\"The Harvard Business Analytics Program is so AWESOME AWESOME AWESOME!!!👍\")"
      ],
      "execution_count": null,
      "outputs": [
        {
          "output_type": "stream",
          "text": [
            "The Harvard Business Analytics Program is so AWESOME AWESOME AWESOME!!!👍 {'neg': 0.0, 'neu': 0.343, 'pos': 0.657, 'compound': 0.965}\n"
          ],
          "name": "stdout"
        }
      ]
    },
    {
      "cell_type": "code",
      "metadata": {
        "id": "0RvNyeKeKDNx",
        "colab": {
          "base_uri": "https://localhost:8080/",
          "height": 34
        },
        "outputId": "beb9e800-b86a-432d-8c95-912824a3362c"
      },
      "source": [
        "sentiment_analyzer_scores(\"The Harvard Business Analytics Program is so AWESOME AWESOME AWESOME!!!🤩\")"
      ],
      "execution_count": null,
      "outputs": [
        {
          "output_type": "stream",
          "text": [
            "The Harvard Business Analytics Program is so AWESOME AWESOME AWESOME!!!🤩 {'neg': 0.0, 'neu': 0.317, 'pos': 0.683, 'compound': 0.965}\n"
          ],
          "name": "stdout"
        }
      ]
    },
    {
      "cell_type": "code",
      "metadata": {
        "id": "rDoTHc7zKDKK",
        "colab": {
          "base_uri": "https://localhost:8080/",
          "height": 34
        },
        "outputId": "64e99b36-ee8c-47a0-c179-eacf91f07d1a"
      },
      "source": [
        "sentiment_analyzer_scores(\"The Harvard Business Analytics Program is so AWESOME AWESOME AWESOME!!!❤️\")"
      ],
      "execution_count": null,
      "outputs": [
        {
          "output_type": "stream",
          "text": [
            "The Harvard Business Analytics Program is so AWESOME AWESOME AWESOME!!!❤️ {'neg': 0.0, 'neu': 0.343, 'pos': 0.657, 'compound': 0.965}\n"
          ],
          "name": "stdout"
        }
      ]
    },
    {
      "cell_type": "code",
      "metadata": {
        "id": "Mx_OYv4xKDGP",
        "colab": {
          "base_uri": "https://localhost:8080/",
          "height": 34
        },
        "outputId": "c493a70e-594a-451d-960a-147f83668fa7"
      },
      "source": [
        "sentiment_analyzer_scores(\"The Harvard Business Analytics Program is so AWESOME AWESOME AWESOME!!!🙂\")"
      ],
      "execution_count": null,
      "outputs": [
        {
          "output_type": "stream",
          "text": [
            "The Harvard Business Analytics Program is so AWESOME AWESOME AWESOME!!!🙂 {'neg': 0.0, 'neu': 0.311, 'pos': 0.689, 'compound': 0.9718}\n"
          ],
          "name": "stdout"
        }
      ]
    },
    {
      "cell_type": "code",
      "metadata": {
        "id": "dE-hlQRXKDCD",
        "colab": {
          "base_uri": "https://localhost:8080/",
          "height": 34
        },
        "outputId": "b3035ea2-0c27-4e5b-c3db-1c3f08b229a1"
      },
      "source": [
        "sentiment_analyzer_scores(\"The Harvard Business Analytics Program is so AWESOME AWESOME AWESOME!!!😄\")"
      ],
      "execution_count": null,
      "outputs": [
        {
          "output_type": "stream",
          "text": [
            "The Harvard Business Analytics Program is so AWESOME AWESOME AWESOME!!!😄 {'neg': 0.0, 'neu': 0.305, 'pos': 0.695, 'compound': 0.977}\n"
          ],
          "name": "stdout"
        }
      ]
    },
    {
      "cell_type": "code",
      "metadata": {
        "id": "KbQPv8n4KC8b",
        "colab": {
          "base_uri": "https://localhost:8080/",
          "height": 34
        },
        "outputId": "3e434ce3-8290-4680-dd98-36f61bb1592b"
      },
      "source": [
        "sentiment_analyzer_scores(\"The Harvard Business Analytics Program is so AWESOME AWESOME AWESOME!!!😊\")"
      ],
      "execution_count": null,
      "outputs": [
        {
          "output_type": "stream",
          "text": [
            "The Harvard Business Analytics Program is so AWESOME AWESOME AWESOME!!!😊 {'neg': 0.0, 'neu': 0.301, 'pos': 0.699, 'compound': 0.9782}\n"
          ],
          "name": "stdout"
        }
      ]
    },
    {
      "cell_type": "code",
      "metadata": {
        "id": "uLs-veG6KC4R",
        "colab": {
          "base_uri": "https://localhost:8080/",
          "height": 34
        },
        "outputId": "2e245920-1334-411d-eb27-3cc581cb071b"
      },
      "source": [
        "sentiment_analyzer_scores(\"The Harvard Business Analytics Program is so AWESOME AWESOME AWESOME!!!😄😄\")"
      ],
      "execution_count": null,
      "outputs": [
        {
          "output_type": "stream",
          "text": [
            "The Harvard Business Analytics Program is so AWESOME AWESOME AWESOME!!!😄😄 {'neg': 0.0, 'neu': 0.315, 'pos': 0.685, 'compound': 0.9838}\n"
          ],
          "name": "stdout"
        }
      ]
    },
    {
      "cell_type": "code",
      "metadata": {
        "id": "CWfd0ru2KC0C",
        "colab": {
          "base_uri": "https://localhost:8080/",
          "height": 34
        },
        "outputId": "7af1cd0c-db51-4ae3-d34c-0f15525f1dbd"
      },
      "source": [
        "sentiment_analyzer_scores(\"The Harvard Business Analytics Program is so AWESOME AWESOME AWESOME!!!😊😊\")"
      ],
      "execution_count": null,
      "outputs": [
        {
          "output_type": "stream",
          "text": [
            "The Harvard Business Analytics Program is so AWESOME AWESOME AWESOME!!!😊😊 {'neg': 0.0, 'neu': 0.308, 'pos': 0.692, 'compound': 0.9852}\n"
          ],
          "name": "stdout"
        }
      ]
    },
    {
      "cell_type": "code",
      "metadata": {
        "id": "PyFuu3G_KCv3",
        "colab": {
          "base_uri": "https://localhost:8080/",
          "height": 34
        },
        "outputId": "317afd0a-d611-4d68-8eb3-a1668d716c62"
      },
      "source": [
        "sentiment_analyzer_scores(\"The Harvard Business Analytics Program is so AWESOME AWESOME AWESOME!!!😊😊😊😊😊😊😊😊\")"
      ],
      "execution_count": null,
      "outputs": [
        {
          "output_type": "stream",
          "text": [
            "The Harvard Business Analytics Program is so AWESOME AWESOME AWESOME!!!😊😊😊😊😊😊😊😊 {'neg': 0.0, 'neu': 0.322, 'pos': 0.678, 'compound': 0.9965}\n"
          ],
          "name": "stdout"
        }
      ]
    },
    {
      "cell_type": "markdown",
      "metadata": {
        "id": "q1K8B1fxLkNf"
      },
      "source": [
        "### TextBlob"
      ]
    },
    {
      "cell_type": "code",
      "metadata": {
        "id": "5pkk6BdqKCra",
        "colab": {
          "base_uri": "https://localhost:8080/",
          "height": 68
        },
        "outputId": "4275c0bd-92e4-42e1-a778-f2ca39251a1f"
      },
      "source": [
        "!pip install textblob"
      ],
      "execution_count": null,
      "outputs": [
        {
          "output_type": "stream",
          "text": [
            "Requirement already satisfied: textblob in /usr/local/lib/python3.6/dist-packages (0.15.3)\n",
            "Requirement already satisfied: nltk>=3.1 in /usr/local/lib/python3.6/dist-packages (from textblob) (3.2.5)\n",
            "Requirement already satisfied: six in /usr/local/lib/python3.6/dist-packages (from nltk>=3.1->textblob) (1.12.0)\n"
          ],
          "name": "stdout"
        }
      ]
    },
    {
      "cell_type": "code",
      "metadata": {
        "id": "7hCKH-CNKCm7"
      },
      "source": [
        "from textblob import TextBlob\n",
        "def sentiment_analyzer_scores(sentence):\n",
        "    analyser = TextBlob(sentence)\n",
        "    score = analyser.sentiment.polarity\n",
        "    print(f\"{sentence} {str(score)}\")"
      ],
      "execution_count": null,
      "outputs": []
    },
    {
      "cell_type": "code",
      "metadata": {
        "id": "h-VsUMnpMI3r",
        "colab": {
          "base_uri": "https://localhost:8080/",
          "height": 34
        },
        "outputId": "8477e2f5-6a02-4c58-fd9f-307b95102bad"
      },
      "source": [
        "sentiment_analyzer_scores(\"The Harvard Business Analytics Program is so awesome.\")"
      ],
      "execution_count": null,
      "outputs": [
        {
          "output_type": "stream",
          "text": [
            "The Harvard Business Analytics Program is so awesome. 1.0\n"
          ],
          "name": "stdout"
        }
      ]
    },
    {
      "cell_type": "code",
      "metadata": {
        "id": "NzWZjJn5MI32",
        "colab": {
          "base_uri": "https://localhost:8080/",
          "height": 34
        },
        "outputId": "489ee870-0d81-4f73-a462-f85a2980cfaf"
      },
      "source": [
        "sentiment_analyzer_scores(\"The Harvard Business Analytics Program is so AWESOME.\")"
      ],
      "execution_count": null,
      "outputs": [
        {
          "output_type": "stream",
          "text": [
            "The Harvard Business Analytics Program is so AWESOME. 1.0\n"
          ],
          "name": "stdout"
        }
      ]
    },
    {
      "cell_type": "code",
      "metadata": {
        "id": "UAb5heBnMI35",
        "colab": {
          "base_uri": "https://localhost:8080/",
          "height": 34
        },
        "outputId": "05a918c3-8862-465a-df54-24fbef952e4e"
      },
      "source": [
        "sentiment_analyzer_scores(\"The Harvard Business Analytics Program is so AWESOME!\")"
      ],
      "execution_count": null,
      "outputs": [
        {
          "output_type": "stream",
          "text": [
            "The Harvard Business Analytics Program is so AWESOME! 1.0\n"
          ],
          "name": "stdout"
        }
      ]
    },
    {
      "cell_type": "code",
      "metadata": {
        "id": "hzjOYBxxMI37",
        "colab": {
          "base_uri": "https://localhost:8080/",
          "height": 34
        },
        "outputId": "f8804ef3-18b7-4deb-a4f7-1a8c64a28955"
      },
      "source": [
        "sentiment_analyzer_scores(\"The Harvard Business Analytics Program is soooooooo AWESOME!\")"
      ],
      "execution_count": null,
      "outputs": [
        {
          "output_type": "stream",
          "text": [
            "The Harvard Business Analytics Program is soooooooo AWESOME! 1.0\n"
          ],
          "name": "stdout"
        }
      ]
    },
    {
      "cell_type": "code",
      "metadata": {
        "id": "N7XvOcRaMI39",
        "colab": {
          "base_uri": "https://localhost:8080/",
          "height": 34
        },
        "outputId": "66263cc0-0a06-4d09-d243-abee9eae8290"
      },
      "source": [
        "sentiment_analyzer_scores(\"The Harvard Business Analytics Program is so so so so AWESOME!\")"
      ],
      "execution_count": null,
      "outputs": [
        {
          "output_type": "stream",
          "text": [
            "The Harvard Business Analytics Program is so so so so AWESOME! 1.0\n"
          ],
          "name": "stdout"
        }
      ]
    },
    {
      "cell_type": "code",
      "metadata": {
        "id": "AEBKQc9YMI4A",
        "colab": {
          "base_uri": "https://localhost:8080/",
          "height": 34
        },
        "outputId": "ba3de42f-c2c7-4b94-af70-47db67bbbc8c"
      },
      "source": [
        "sentiment_analyzer_scores(\"The Harvard Business Analytics Program is so AWESOME AWESOME AWESOME!\")"
      ],
      "execution_count": null,
      "outputs": [
        {
          "output_type": "stream",
          "text": [
            "The Harvard Business Analytics Program is so AWESOME AWESOME AWESOME! 1.0\n"
          ],
          "name": "stdout"
        }
      ]
    },
    {
      "cell_type": "code",
      "metadata": {
        "id": "qbOc57JoMI4D",
        "colab": {
          "base_uri": "https://localhost:8080/",
          "height": 34
        },
        "outputId": "e20b4000-012e-483b-aa6a-9193788abaa0"
      },
      "source": [
        "sentiment_analyzer_scores(\"The Harvard Business Analytics Program is so AWESOME AWESOME AWESOME!!!\")"
      ],
      "execution_count": null,
      "outputs": [
        {
          "output_type": "stream",
          "text": [
            "The Harvard Business Analytics Program is so AWESOME AWESOME AWESOME!!! 1.0\n"
          ],
          "name": "stdout"
        }
      ]
    },
    {
      "cell_type": "code",
      "metadata": {
        "id": "QkiJfDY0MI4F",
        "colab": {
          "base_uri": "https://localhost:8080/",
          "height": 34
        },
        "outputId": "58caaa6e-d335-4c0e-cdf4-fe9ba80e34b8"
      },
      "source": [
        "sentiment_analyzer_scores(\"The Harvard Business Analytics Program is so AWESOME AWESOME AWESOME!!!👍\")"
      ],
      "execution_count": null,
      "outputs": [
        {
          "output_type": "stream",
          "text": [
            "The Harvard Business Analytics Program is so AWESOME AWESOME AWESOME!!!👍 1.0\n"
          ],
          "name": "stdout"
        }
      ]
    },
    {
      "cell_type": "code",
      "metadata": {
        "id": "w9k8ipfdMI4H",
        "colab": {
          "base_uri": "https://localhost:8080/",
          "height": 34
        },
        "outputId": "dd94fbf3-033e-4b4b-d795-e02da694aa71"
      },
      "source": [
        "sentiment_analyzer_scores(\"The Harvard Business Analytics Program is so AWESOME AWESOME AWESOME!!!🤩\")"
      ],
      "execution_count": null,
      "outputs": [
        {
          "output_type": "stream",
          "text": [
            "The Harvard Business Analytics Program is so AWESOME AWESOME AWESOME!!!🤩 1.0\n"
          ],
          "name": "stdout"
        }
      ]
    },
    {
      "cell_type": "code",
      "metadata": {
        "id": "-xQu4fdAMI4J",
        "colab": {
          "base_uri": "https://localhost:8080/",
          "height": 34
        },
        "outputId": "f79d4060-739c-4648-cbec-7b13b4a4db05"
      },
      "source": [
        "sentiment_analyzer_scores(\"The Harvard Business Analytics Program is so AWESOME AWESOME AWESOME!!!❤️\")"
      ],
      "execution_count": null,
      "outputs": [
        {
          "output_type": "stream",
          "text": [
            "The Harvard Business Analytics Program is so AWESOME AWESOME AWESOME!!!❤️ 1.0\n"
          ],
          "name": "stdout"
        }
      ]
    },
    {
      "cell_type": "code",
      "metadata": {
        "id": "i3Sthi4cMI4L",
        "colab": {
          "base_uri": "https://localhost:8080/",
          "height": 34
        },
        "outputId": "628d8f1b-63ff-4f21-e5bc-e3fb766927dc"
      },
      "source": [
        "sentiment_analyzer_scores(\"The Harvard Business Analytics Program is so AWESOME AWESOME AWESOME!!!🙂\")"
      ],
      "execution_count": null,
      "outputs": [
        {
          "output_type": "stream",
          "text": [
            "The Harvard Business Analytics Program is so AWESOME AWESOME AWESOME!!!🙂 1.0\n"
          ],
          "name": "stdout"
        }
      ]
    },
    {
      "cell_type": "code",
      "metadata": {
        "id": "TA-G-glzMI4M",
        "colab": {
          "base_uri": "https://localhost:8080/",
          "height": 34
        },
        "outputId": "d4a76fa5-0042-4b5a-bfeb-0f81c588c467"
      },
      "source": [
        "sentiment_analyzer_scores(\"The Harvard Business Analytics Program is so AWESOME AWESOME AWESOME!!!😄\")"
      ],
      "execution_count": null,
      "outputs": [
        {
          "output_type": "stream",
          "text": [
            "The Harvard Business Analytics Program is so AWESOME AWESOME AWESOME!!!😄 1.0\n"
          ],
          "name": "stdout"
        }
      ]
    },
    {
      "cell_type": "code",
      "metadata": {
        "id": "a7OEoY8eMI4O",
        "colab": {
          "base_uri": "https://localhost:8080/",
          "height": 34
        },
        "outputId": "306a9ab8-a8c6-4cd4-a939-f398c7e052aa"
      },
      "source": [
        "sentiment_analyzer_scores(\"The Harvard Business Analytics Program is so AWESOME AWESOME AWESOME!!!😊\")"
      ],
      "execution_count": null,
      "outputs": [
        {
          "output_type": "stream",
          "text": [
            "The Harvard Business Analytics Program is so AWESOME AWESOME AWESOME!!!😊 1.0\n"
          ],
          "name": "stdout"
        }
      ]
    },
    {
      "cell_type": "code",
      "metadata": {
        "id": "ysyagqSCMI4R",
        "colab": {
          "base_uri": "https://localhost:8080/",
          "height": 34
        },
        "outputId": "41a6430c-dd27-4948-ad55-f51c716ac318"
      },
      "source": [
        "sentiment_analyzer_scores(\"The Harvard Business Analytics Program is so AWESOME AWESOME AWESOME!!!😄😄\")"
      ],
      "execution_count": null,
      "outputs": [
        {
          "output_type": "stream",
          "text": [
            "The Harvard Business Analytics Program is so AWESOME AWESOME AWESOME!!!😄😄 1.0\n"
          ],
          "name": "stdout"
        }
      ]
    },
    {
      "cell_type": "code",
      "metadata": {
        "id": "rajJX6c8MI4T",
        "colab": {
          "base_uri": "https://localhost:8080/",
          "height": 34
        },
        "outputId": "41a45be4-b0aa-4c21-b3a1-788aec932352"
      },
      "source": [
        "sentiment_analyzer_scores(\"The Harvard Business Analytics Program is so AWESOME AWESOME AWESOME!!!😊😊\")"
      ],
      "execution_count": null,
      "outputs": [
        {
          "output_type": "stream",
          "text": [
            "The Harvard Business Analytics Program is so AWESOME AWESOME AWESOME!!!😊😊 1.0\n"
          ],
          "name": "stdout"
        }
      ]
    },
    {
      "cell_type": "code",
      "metadata": {
        "id": "3QFIT2fsMI4V",
        "colab": {
          "base_uri": "https://localhost:8080/",
          "height": 34
        },
        "outputId": "957a55c8-ac77-4d4f-e105-30aeb2e9874e"
      },
      "source": [
        "sentiment_analyzer_scores(\"The Harvard Business Analytics Program is so AWESOME AWESOME AWESOME!!!😊😊😊😊😊😊😊😊\")"
      ],
      "execution_count": null,
      "outputs": [
        {
          "output_type": "stream",
          "text": [
            "The Harvard Business Analytics Program is so AWESOME AWESOME AWESOME!!!😊😊😊😊😊😊😊😊 1.0\n"
          ],
          "name": "stdout"
        }
      ]
    }
  ]
}