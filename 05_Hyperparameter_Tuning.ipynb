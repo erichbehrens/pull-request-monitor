{
  "nbformat": 4,
  "nbformat_minor": 0,
  "metadata": {
    "colab": {
      "name": "05_Hyperparameter_Tuning.ipynb",
      "provenance": [],
      "collapsed_sections": [
        "o-Q5Nfzd6lSE",
        "GSXsVeao7E18",
        "ued0s2OFFPp8",
        "rlJo0tqZB48x",
        "K1TXXiVnkojb",
        "To7DBE72ToBB",
        "v4EdbkeRUXlL",
        "HcY_7AY-WF3x",
        "jOOVlxp3XeuA",
        "1XJW7G9aYDMg",
        "5V5JsZztaahv",
        "w1iI6ts2a4EK",
        "Qul0TkT6ewvK",
        "0nd2B8VNh0OI",
        "9f2IHtLWim4Y",
        "p4doPgkijJ_0",
        "Cv4IRopolh3r",
        "XwifHLlXmPl7",
        "iUcQPy_in8fY",
        "1HI7rvfZqtcQ",
        "wOkjiSD4tyBh",
        "WRgGotqVvA3C",
        "b-TLMPdyx9bS",
        "OBa2BEn4yNyY",
        "5Dz7QJ1Cypqz",
        "6WLS5CndznRK",
        "fh45Vj3gg1Tu",
        "7j-nGgjTM7gz",
        "YydibsV2SQ-t",
        "0Ya_sdrJTTYh",
        "8s8maPDtTusO",
        "Iu3iXnyp95OJ",
        "hA8vhA3zDrOJ",
        "KDKcK-KKGFAc",
        "UCXfE3_RILLM",
        "1i8LwQy0IycL",
        "a6tHO3SwVbHs",
        "iJaQrXwuf1L0",
        "7lAwDBUCil09",
        "oJrgrHjUi16E",
        "6wNzI8GNjLRc"
      ],
      "include_colab_link": true
    },
    "kernelspec": {
      "name": "python3",
      "display_name": "Python 3"
    },
    "accelerator": "TPU"
  },
  "cells": [
    {
      "cell_type": "markdown",
      "metadata": {
        "id": "view-in-github",
        "colab_type": "text"
      },
      "source": [
        "<a href=\"https://colab.research.google.com/github/cwmarris/pull-request-monitor/blob/master/05_Hyperparameter_Tuning.ipynb\" target=\"_parent\"><img src=\"https://colab.research.google.com/assets/colab-badge.svg\" alt=\"Open In Colab\"/></a>"
      ]
    },
    {
      "cell_type": "markdown",
      "metadata": {
        "id": "9m7ZhNdMERaG"
      },
      "source": [
        "# Hyperparameter Tuning to Improve Model Performance\n",
        "\n",
        "- Author: Amy Zhuang\n",
        "- Last Updated: May 2021"
      ]
    },
    {
      "cell_type": "markdown",
      "metadata": {
        "id": "o-Q5Nfzd6lSE"
      },
      "source": [
        "## Import Libraries"
      ]
    },
    {
      "cell_type": "code",
      "metadata": {
        "id": "k7wM9m8J60Ze"
      },
      "source": [
        "import pandas as pd\n",
        "import numpy as np\n",
        "import matplotlib.pyplot as plt\n",
        "%matplotlib inline\n",
        "import seaborn as sns\n",
        "from sklearn.metrics import accuracy_score, classification_report, confusion_matrix, log_loss\n",
        "from keras.wrappers.scikit_learn import KerasClassifier\n",
        "from keras.models import Sequential\n",
        "from keras.layers import Dense\n",
        "from sklearn.model_selection import train_test_split, cross_val_score\n",
        "from keras.models import Sequential\n",
        "from keras.layers import Dense, Activation, Embedding, Dropout\n",
        "from keras.activations import relu, sigmoid\n",
        "from xgboost import XGBClassifier\n",
        "from sklearn.model_selection import StratifiedKFold\n",
        "from sklearn.model_selection import GridSearchCV\n",
        "from sklearn.model_selection import RandomizedSearchCV\n",
        "from hyperopt import tpe\n",
        "from hyperopt import STATUS_OK\n",
        "from hyperopt import Trials\n",
        "from hyperopt import hp\n",
        "from hyperopt import fmin\n",
        "import time"
      ],
      "execution_count": null,
      "outputs": []
    },
    {
      "cell_type": "markdown",
      "metadata": {
        "id": "GSXsVeao7E18"
      },
      "source": [
        "## Readin Data"
      ]
    },
    {
      "cell_type": "code",
      "metadata": {
        "id": "GHv1MJmL62zR"
      },
      "source": [
        "from sklearn import datasets\n",
        "data = datasets.load_breast_cancer()"
      ],
      "execution_count": null,
      "outputs": []
    },
    {
      "cell_type": "code",
      "metadata": {
        "id": "0JaM6-E3A4dZ",
        "colab": {
          "base_uri": "https://localhost:8080/",
          "height": 921
        },
        "outputId": "b9f3ed5c-c614-479b-a00f-a648d47f3c32"
      },
      "source": [
        "data"
      ],
      "execution_count": null,
      "outputs": [
        {
          "output_type": "execute_result",
          "data": {
            "text/plain": [
              "{'DESCR': '.. _breast_cancer_dataset:\\n\\nBreast cancer wisconsin (diagnostic) dataset\\n--------------------------------------------\\n\\n**Data Set Characteristics:**\\n\\n    :Number of Instances: 569\\n\\n    :Number of Attributes: 30 numeric, predictive attributes and the class\\n\\n    :Attribute Information:\\n        - radius (mean of distances from center to points on the perimeter)\\n        - texture (standard deviation of gray-scale values)\\n        - perimeter\\n        - area\\n        - smoothness (local variation in radius lengths)\\n        - compactness (perimeter^2 / area - 1.0)\\n        - concavity (severity of concave portions of the contour)\\n        - concave points (number of concave portions of the contour)\\n        - symmetry \\n        - fractal dimension (\"coastline approximation\" - 1)\\n\\n        The mean, standard error, and \"worst\" or largest (mean of the three\\n        largest values) of these features were computed for each image,\\n        resulting in 30 features.  For instance, field 3 is Mean Radius, field\\n        13 is Radius SE, field 23 is Worst Radius.\\n\\n        - class:\\n                - WDBC-Malignant\\n                - WDBC-Benign\\n\\n    :Summary Statistics:\\n\\n    ===================================== ====== ======\\n                                           Min    Max\\n    ===================================== ====== ======\\n    radius (mean):                        6.981  28.11\\n    texture (mean):                       9.71   39.28\\n    perimeter (mean):                     43.79  188.5\\n    area (mean):                          143.5  2501.0\\n    smoothness (mean):                    0.053  0.163\\n    compactness (mean):                   0.019  0.345\\n    concavity (mean):                     0.0    0.427\\n    concave points (mean):                0.0    0.201\\n    symmetry (mean):                      0.106  0.304\\n    fractal dimension (mean):             0.05   0.097\\n    radius (standard error):              0.112  2.873\\n    texture (standard error):             0.36   4.885\\n    perimeter (standard error):           0.757  21.98\\n    area (standard error):                6.802  542.2\\n    smoothness (standard error):          0.002  0.031\\n    compactness (standard error):         0.002  0.135\\n    concavity (standard error):           0.0    0.396\\n    concave points (standard error):      0.0    0.053\\n    symmetry (standard error):            0.008  0.079\\n    fractal dimension (standard error):   0.001  0.03\\n    radius (worst):                       7.93   36.04\\n    texture (worst):                      12.02  49.54\\n    perimeter (worst):                    50.41  251.2\\n    area (worst):                         185.2  4254.0\\n    smoothness (worst):                   0.071  0.223\\n    compactness (worst):                  0.027  1.058\\n    concavity (worst):                    0.0    1.252\\n    concave points (worst):               0.0    0.291\\n    symmetry (worst):                     0.156  0.664\\n    fractal dimension (worst):            0.055  0.208\\n    ===================================== ====== ======\\n\\n    :Missing Attribute Values: None\\n\\n    :Class Distribution: 212 - Malignant, 357 - Benign\\n\\n    :Creator:  Dr. William H. Wolberg, W. Nick Street, Olvi L. Mangasarian\\n\\n    :Donor: Nick Street\\n\\n    :Date: November, 1995\\n\\nThis is a copy of UCI ML Breast Cancer Wisconsin (Diagnostic) datasets.\\nhttps://goo.gl/U2Uwz2\\n\\nFeatures are computed from a digitized image of a fine needle\\naspirate (FNA) of a breast mass.  They describe\\ncharacteristics of the cell nuclei present in the image.\\n\\nSeparating plane described above was obtained using\\nMultisurface Method-Tree (MSM-T) [K. P. Bennett, \"Decision Tree\\nConstruction Via Linear Programming.\" Proceedings of the 4th\\nMidwest Artificial Intelligence and Cognitive Science Society,\\npp. 97-101, 1992], a classification method which uses linear\\nprogramming to construct a decision tree.  Relevant features\\nwere selected using an exhaustive search in the space of 1-4\\nfeatures and 1-3 separating planes.\\n\\nThe actual linear program used to obtain the separating plane\\nin the 3-dimensional space is that described in:\\n[K. P. Bennett and O. L. Mangasarian: \"Robust Linear\\nProgramming Discrimination of Two Linearly Inseparable Sets\",\\nOptimization Methods and Software 1, 1992, 23-34].\\n\\nThis database is also available through the UW CS ftp server:\\n\\nftp ftp.cs.wisc.edu\\ncd math-prog/cpo-dataset/machine-learn/WDBC/\\n\\n.. topic:: References\\n\\n   - W.N. Street, W.H. Wolberg and O.L. Mangasarian. Nuclear feature extraction \\n     for breast tumor diagnosis. IS&T/SPIE 1993 International Symposium on \\n     Electronic Imaging: Science and Technology, volume 1905, pages 861-870,\\n     San Jose, CA, 1993.\\n   - O.L. Mangasarian, W.N. Street and W.H. Wolberg. Breast cancer diagnosis and \\n     prognosis via linear programming. Operations Research, 43(4), pages 570-577, \\n     July-August 1995.\\n   - W.H. Wolberg, W.N. Street, and O.L. Mangasarian. Machine learning techniques\\n     to diagnose breast cancer from fine-needle aspirates. Cancer Letters 77 (1994) \\n     163-171.',\n",
              " 'data': array([[1.799e+01, 1.038e+01, 1.228e+02, ..., 2.654e-01, 4.601e-01,\n",
              "         1.189e-01],\n",
              "        [2.057e+01, 1.777e+01, 1.329e+02, ..., 1.860e-01, 2.750e-01,\n",
              "         8.902e-02],\n",
              "        [1.969e+01, 2.125e+01, 1.300e+02, ..., 2.430e-01, 3.613e-01,\n",
              "         8.758e-02],\n",
              "        ...,\n",
              "        [1.660e+01, 2.808e+01, 1.083e+02, ..., 1.418e-01, 2.218e-01,\n",
              "         7.820e-02],\n",
              "        [2.060e+01, 2.933e+01, 1.401e+02, ..., 2.650e-01, 4.087e-01,\n",
              "         1.240e-01],\n",
              "        [7.760e+00, 2.454e+01, 4.792e+01, ..., 0.000e+00, 2.871e-01,\n",
              "         7.039e-02]]),\n",
              " 'feature_names': array(['mean radius', 'mean texture', 'mean perimeter', 'mean area',\n",
              "        'mean smoothness', 'mean compactness', 'mean concavity',\n",
              "        'mean concave points', 'mean symmetry', 'mean fractal dimension',\n",
              "        'radius error', 'texture error', 'perimeter error', 'area error',\n",
              "        'smoothness error', 'compactness error', 'concavity error',\n",
              "        'concave points error', 'symmetry error',\n",
              "        'fractal dimension error', 'worst radius', 'worst texture',\n",
              "        'worst perimeter', 'worst area', 'worst smoothness',\n",
              "        'worst compactness', 'worst concavity', 'worst concave points',\n",
              "        'worst symmetry', 'worst fractal dimension'], dtype='<U23'),\n",
              " 'filename': '/usr/local/lib/python3.6/dist-packages/sklearn/datasets/data/breast_cancer.csv',\n",
              " 'target': array([0, 0, 0, 0, 0, 0, 0, 0, 0, 0, 0, 0, 0, 0, 0, 0, 0, 0, 0, 1, 1, 1,\n",
              "        0, 0, 0, 0, 0, 0, 0, 0, 0, 0, 0, 0, 0, 0, 0, 1, 0, 0, 0, 0, 0, 0,\n",
              "        0, 0, 1, 0, 1, 1, 1, 1, 1, 0, 0, 1, 0, 0, 1, 1, 1, 1, 0, 1, 0, 0,\n",
              "        1, 1, 1, 1, 0, 1, 0, 0, 1, 0, 1, 0, 0, 1, 1, 1, 0, 0, 1, 0, 0, 0,\n",
              "        1, 1, 1, 0, 1, 1, 0, 0, 1, 1, 1, 0, 0, 1, 1, 1, 1, 0, 1, 1, 0, 1,\n",
              "        1, 1, 1, 1, 1, 1, 1, 0, 0, 0, 1, 0, 0, 1, 1, 1, 0, 0, 1, 0, 1, 0,\n",
              "        0, 1, 0, 0, 1, 1, 0, 1, 1, 0, 1, 1, 1, 1, 0, 1, 1, 1, 1, 1, 1, 1,\n",
              "        1, 1, 0, 1, 1, 1, 1, 0, 0, 1, 0, 1, 1, 0, 0, 1, 1, 0, 0, 1, 1, 1,\n",
              "        1, 0, 1, 1, 0, 0, 0, 1, 0, 1, 0, 1, 1, 1, 0, 1, 1, 0, 0, 1, 0, 0,\n",
              "        0, 0, 1, 0, 0, 0, 1, 0, 1, 0, 1, 1, 0, 1, 0, 0, 0, 0, 1, 1, 0, 0,\n",
              "        1, 1, 1, 0, 1, 1, 1, 1, 1, 0, 0, 1, 1, 0, 1, 1, 0, 0, 1, 0, 1, 1,\n",
              "        1, 1, 0, 1, 1, 1, 1, 1, 0, 1, 0, 0, 0, 0, 0, 0, 0, 0, 0, 0, 0, 0,\n",
              "        0, 0, 1, 1, 1, 1, 1, 1, 0, 1, 0, 1, 1, 0, 1, 1, 0, 1, 0, 0, 1, 1,\n",
              "        1, 1, 1, 1, 1, 1, 1, 1, 1, 1, 1, 0, 1, 1, 0, 1, 0, 1, 1, 1, 1, 1,\n",
              "        1, 1, 1, 1, 1, 1, 1, 1, 1, 0, 1, 1, 1, 0, 1, 0, 1, 1, 1, 1, 0, 0,\n",
              "        0, 1, 1, 1, 1, 0, 1, 0, 1, 0, 1, 1, 1, 0, 1, 1, 1, 1, 1, 1, 1, 0,\n",
              "        0, 0, 1, 1, 1, 1, 1, 1, 1, 1, 1, 1, 1, 0, 0, 1, 0, 0, 0, 1, 0, 0,\n",
              "        1, 1, 1, 1, 1, 0, 1, 1, 1, 1, 1, 0, 1, 1, 1, 0, 1, 1, 0, 0, 1, 1,\n",
              "        1, 1, 1, 1, 0, 1, 1, 1, 1, 1, 1, 1, 0, 1, 1, 1, 1, 1, 0, 1, 1, 0,\n",
              "        1, 1, 1, 1, 1, 1, 1, 1, 1, 1, 1, 1, 0, 1, 0, 0, 1, 0, 1, 1, 1, 1,\n",
              "        1, 0, 1, 1, 0, 1, 0, 1, 1, 0, 1, 0, 1, 1, 1, 1, 1, 1, 1, 1, 0, 0,\n",
              "        1, 1, 1, 1, 1, 1, 0, 1, 1, 1, 1, 1, 1, 1, 1, 1, 1, 0, 1, 1, 1, 1,\n",
              "        1, 1, 1, 0, 1, 0, 1, 1, 0, 1, 1, 1, 1, 1, 0, 0, 1, 0, 1, 0, 1, 1,\n",
              "        1, 1, 1, 0, 1, 1, 0, 1, 0, 1, 0, 0, 1, 1, 1, 0, 1, 1, 1, 1, 1, 1,\n",
              "        1, 1, 1, 1, 1, 0, 1, 0, 0, 1, 1, 1, 1, 1, 1, 1, 1, 1, 1, 1, 1, 1,\n",
              "        1, 1, 1, 1, 1, 1, 1, 1, 1, 1, 1, 1, 0, 0, 0, 0, 0, 0, 1]),\n",
              " 'target_names': array(['malignant', 'benign'], dtype='<U9')}"
            ]
          },
          "metadata": {
            "tags": []
          },
          "execution_count": 5
        }
      ]
    },
    {
      "cell_type": "code",
      "metadata": {
        "id": "4p8WoyR-9PMl",
        "colab": {
          "base_uri": "https://localhost:8080/",
          "height": 258
        },
        "outputId": "6250ab29-fffe-43a3-b4bc-8e02a7d1e177"
      },
      "source": [
        "df = pd.DataFrame(data=data.data, columns=data.feature_names)\n",
        "df['target']=data.target\n",
        "df.head()"
      ],
      "execution_count": null,
      "outputs": [
        {
          "output_type": "execute_result",
          "data": {
            "text/html": [
              "<div>\n",
              "<style scoped>\n",
              "    .dataframe tbody tr th:only-of-type {\n",
              "        vertical-align: middle;\n",
              "    }\n",
              "\n",
              "    .dataframe tbody tr th {\n",
              "        vertical-align: top;\n",
              "    }\n",
              "\n",
              "    .dataframe thead th {\n",
              "        text-align: right;\n",
              "    }\n",
              "</style>\n",
              "<table border=\"1\" class=\"dataframe\">\n",
              "  <thead>\n",
              "    <tr style=\"text-align: right;\">\n",
              "      <th></th>\n",
              "      <th>mean radius</th>\n",
              "      <th>mean texture</th>\n",
              "      <th>mean perimeter</th>\n",
              "      <th>mean area</th>\n",
              "      <th>mean smoothness</th>\n",
              "      <th>mean compactness</th>\n",
              "      <th>mean concavity</th>\n",
              "      <th>mean concave points</th>\n",
              "      <th>mean symmetry</th>\n",
              "      <th>mean fractal dimension</th>\n",
              "      <th>radius error</th>\n",
              "      <th>texture error</th>\n",
              "      <th>perimeter error</th>\n",
              "      <th>area error</th>\n",
              "      <th>smoothness error</th>\n",
              "      <th>compactness error</th>\n",
              "      <th>concavity error</th>\n",
              "      <th>concave points error</th>\n",
              "      <th>symmetry error</th>\n",
              "      <th>fractal dimension error</th>\n",
              "      <th>worst radius</th>\n",
              "      <th>worst texture</th>\n",
              "      <th>worst perimeter</th>\n",
              "      <th>worst area</th>\n",
              "      <th>worst smoothness</th>\n",
              "      <th>worst compactness</th>\n",
              "      <th>worst concavity</th>\n",
              "      <th>worst concave points</th>\n",
              "      <th>worst symmetry</th>\n",
              "      <th>worst fractal dimension</th>\n",
              "      <th>target</th>\n",
              "    </tr>\n",
              "  </thead>\n",
              "  <tbody>\n",
              "    <tr>\n",
              "      <th>0</th>\n",
              "      <td>17.99</td>\n",
              "      <td>10.38</td>\n",
              "      <td>122.80</td>\n",
              "      <td>1001.0</td>\n",
              "      <td>0.11840</td>\n",
              "      <td>0.27760</td>\n",
              "      <td>0.3001</td>\n",
              "      <td>0.14710</td>\n",
              "      <td>0.2419</td>\n",
              "      <td>0.07871</td>\n",
              "      <td>1.0950</td>\n",
              "      <td>0.9053</td>\n",
              "      <td>8.589</td>\n",
              "      <td>153.40</td>\n",
              "      <td>0.006399</td>\n",
              "      <td>0.04904</td>\n",
              "      <td>0.05373</td>\n",
              "      <td>0.01587</td>\n",
              "      <td>0.03003</td>\n",
              "      <td>0.006193</td>\n",
              "      <td>25.38</td>\n",
              "      <td>17.33</td>\n",
              "      <td>184.60</td>\n",
              "      <td>2019.0</td>\n",
              "      <td>0.1622</td>\n",
              "      <td>0.6656</td>\n",
              "      <td>0.7119</td>\n",
              "      <td>0.2654</td>\n",
              "      <td>0.4601</td>\n",
              "      <td>0.11890</td>\n",
              "      <td>0</td>\n",
              "    </tr>\n",
              "    <tr>\n",
              "      <th>1</th>\n",
              "      <td>20.57</td>\n",
              "      <td>17.77</td>\n",
              "      <td>132.90</td>\n",
              "      <td>1326.0</td>\n",
              "      <td>0.08474</td>\n",
              "      <td>0.07864</td>\n",
              "      <td>0.0869</td>\n",
              "      <td>0.07017</td>\n",
              "      <td>0.1812</td>\n",
              "      <td>0.05667</td>\n",
              "      <td>0.5435</td>\n",
              "      <td>0.7339</td>\n",
              "      <td>3.398</td>\n",
              "      <td>74.08</td>\n",
              "      <td>0.005225</td>\n",
              "      <td>0.01308</td>\n",
              "      <td>0.01860</td>\n",
              "      <td>0.01340</td>\n",
              "      <td>0.01389</td>\n",
              "      <td>0.003532</td>\n",
              "      <td>24.99</td>\n",
              "      <td>23.41</td>\n",
              "      <td>158.80</td>\n",
              "      <td>1956.0</td>\n",
              "      <td>0.1238</td>\n",
              "      <td>0.1866</td>\n",
              "      <td>0.2416</td>\n",
              "      <td>0.1860</td>\n",
              "      <td>0.2750</td>\n",
              "      <td>0.08902</td>\n",
              "      <td>0</td>\n",
              "    </tr>\n",
              "    <tr>\n",
              "      <th>2</th>\n",
              "      <td>19.69</td>\n",
              "      <td>21.25</td>\n",
              "      <td>130.00</td>\n",
              "      <td>1203.0</td>\n",
              "      <td>0.10960</td>\n",
              "      <td>0.15990</td>\n",
              "      <td>0.1974</td>\n",
              "      <td>0.12790</td>\n",
              "      <td>0.2069</td>\n",
              "      <td>0.05999</td>\n",
              "      <td>0.7456</td>\n",
              "      <td>0.7869</td>\n",
              "      <td>4.585</td>\n",
              "      <td>94.03</td>\n",
              "      <td>0.006150</td>\n",
              "      <td>0.04006</td>\n",
              "      <td>0.03832</td>\n",
              "      <td>0.02058</td>\n",
              "      <td>0.02250</td>\n",
              "      <td>0.004571</td>\n",
              "      <td>23.57</td>\n",
              "      <td>25.53</td>\n",
              "      <td>152.50</td>\n",
              "      <td>1709.0</td>\n",
              "      <td>0.1444</td>\n",
              "      <td>0.4245</td>\n",
              "      <td>0.4504</td>\n",
              "      <td>0.2430</td>\n",
              "      <td>0.3613</td>\n",
              "      <td>0.08758</td>\n",
              "      <td>0</td>\n",
              "    </tr>\n",
              "    <tr>\n",
              "      <th>3</th>\n",
              "      <td>11.42</td>\n",
              "      <td>20.38</td>\n",
              "      <td>77.58</td>\n",
              "      <td>386.1</td>\n",
              "      <td>0.14250</td>\n",
              "      <td>0.28390</td>\n",
              "      <td>0.2414</td>\n",
              "      <td>0.10520</td>\n",
              "      <td>0.2597</td>\n",
              "      <td>0.09744</td>\n",
              "      <td>0.4956</td>\n",
              "      <td>1.1560</td>\n",
              "      <td>3.445</td>\n",
              "      <td>27.23</td>\n",
              "      <td>0.009110</td>\n",
              "      <td>0.07458</td>\n",
              "      <td>0.05661</td>\n",
              "      <td>0.01867</td>\n",
              "      <td>0.05963</td>\n",
              "      <td>0.009208</td>\n",
              "      <td>14.91</td>\n",
              "      <td>26.50</td>\n",
              "      <td>98.87</td>\n",
              "      <td>567.7</td>\n",
              "      <td>0.2098</td>\n",
              "      <td>0.8663</td>\n",
              "      <td>0.6869</td>\n",
              "      <td>0.2575</td>\n",
              "      <td>0.6638</td>\n",
              "      <td>0.17300</td>\n",
              "      <td>0</td>\n",
              "    </tr>\n",
              "    <tr>\n",
              "      <th>4</th>\n",
              "      <td>20.29</td>\n",
              "      <td>14.34</td>\n",
              "      <td>135.10</td>\n",
              "      <td>1297.0</td>\n",
              "      <td>0.10030</td>\n",
              "      <td>0.13280</td>\n",
              "      <td>0.1980</td>\n",
              "      <td>0.10430</td>\n",
              "      <td>0.1809</td>\n",
              "      <td>0.05883</td>\n",
              "      <td>0.7572</td>\n",
              "      <td>0.7813</td>\n",
              "      <td>5.438</td>\n",
              "      <td>94.44</td>\n",
              "      <td>0.011490</td>\n",
              "      <td>0.02461</td>\n",
              "      <td>0.05688</td>\n",
              "      <td>0.01885</td>\n",
              "      <td>0.01756</td>\n",
              "      <td>0.005115</td>\n",
              "      <td>22.54</td>\n",
              "      <td>16.67</td>\n",
              "      <td>152.20</td>\n",
              "      <td>1575.0</td>\n",
              "      <td>0.1374</td>\n",
              "      <td>0.2050</td>\n",
              "      <td>0.4000</td>\n",
              "      <td>0.1625</td>\n",
              "      <td>0.2364</td>\n",
              "      <td>0.07678</td>\n",
              "      <td>0</td>\n",
              "    </tr>\n",
              "  </tbody>\n",
              "</table>\n",
              "</div>"
            ],
            "text/plain": [
              "   mean radius  mean texture  ...  worst fractal dimension  target\n",
              "0        17.99         10.38  ...                  0.11890       0\n",
              "1        20.57         17.77  ...                  0.08902       0\n",
              "2        19.69         21.25  ...                  0.08758       0\n",
              "3        11.42         20.38  ...                  0.17300       0\n",
              "4        20.29         14.34  ...                  0.07678       0\n",
              "\n",
              "[5 rows x 31 columns]"
            ]
          },
          "metadata": {
            "tags": []
          },
          "execution_count": 8
        }
      ]
    },
    {
      "cell_type": "code",
      "metadata": {
        "id": "MXODE91N-MDg",
        "colab": {
          "base_uri": "https://localhost:8080/",
          "height": 663
        },
        "outputId": "58cc1bea-7fd6-4a57-817b-7dc04da3a617"
      },
      "source": [
        "df.info()"
      ],
      "execution_count": null,
      "outputs": [
        {
          "output_type": "stream",
          "text": [
            "<class 'pandas.core.frame.DataFrame'>\n",
            "RangeIndex: 569 entries, 0 to 568\n",
            "Data columns (total 31 columns):\n",
            " #   Column                   Non-Null Count  Dtype  \n",
            "---  ------                   --------------  -----  \n",
            " 0   mean radius              569 non-null    float64\n",
            " 1   mean texture             569 non-null    float64\n",
            " 2   mean perimeter           569 non-null    float64\n",
            " 3   mean area                569 non-null    float64\n",
            " 4   mean smoothness          569 non-null    float64\n",
            " 5   mean compactness         569 non-null    float64\n",
            " 6   mean concavity           569 non-null    float64\n",
            " 7   mean concave points      569 non-null    float64\n",
            " 8   mean symmetry            569 non-null    float64\n",
            " 9   mean fractal dimension   569 non-null    float64\n",
            " 10  radius error             569 non-null    float64\n",
            " 11  texture error            569 non-null    float64\n",
            " 12  perimeter error          569 non-null    float64\n",
            " 13  area error               569 non-null    float64\n",
            " 14  smoothness error         569 non-null    float64\n",
            " 15  compactness error        569 non-null    float64\n",
            " 16  concavity error          569 non-null    float64\n",
            " 17  concave points error     569 non-null    float64\n",
            " 18  symmetry error           569 non-null    float64\n",
            " 19  fractal dimension error  569 non-null    float64\n",
            " 20  worst radius             569 non-null    float64\n",
            " 21  worst texture            569 non-null    float64\n",
            " 22  worst perimeter          569 non-null    float64\n",
            " 23  worst area               569 non-null    float64\n",
            " 24  worst smoothness         569 non-null    float64\n",
            " 25  worst compactness        569 non-null    float64\n",
            " 26  worst concavity          569 non-null    float64\n",
            " 27  worst concave points     569 non-null    float64\n",
            " 28  worst symmetry           569 non-null    float64\n",
            " 29  worst fractal dimension  569 non-null    float64\n",
            " 30  target                   569 non-null    int64  \n",
            "dtypes: float64(30), int64(1)\n",
            "memory usage: 137.9 KB\n"
          ],
          "name": "stdout"
        }
      ]
    },
    {
      "cell_type": "code",
      "metadata": {
        "id": "fLmMwLJv_HS1",
        "colab": {
          "base_uri": "https://localhost:8080/",
          "height": 351
        },
        "outputId": "ab0e4b79-d0a0-48dc-c45c-e429e87836e6"
      },
      "source": [
        "df.describe()"
      ],
      "execution_count": null,
      "outputs": [
        {
          "output_type": "execute_result",
          "data": {
            "text/html": [
              "<div>\n",
              "<style scoped>\n",
              "    .dataframe tbody tr th:only-of-type {\n",
              "        vertical-align: middle;\n",
              "    }\n",
              "\n",
              "    .dataframe tbody tr th {\n",
              "        vertical-align: top;\n",
              "    }\n",
              "\n",
              "    .dataframe thead th {\n",
              "        text-align: right;\n",
              "    }\n",
              "</style>\n",
              "<table border=\"1\" class=\"dataframe\">\n",
              "  <thead>\n",
              "    <tr style=\"text-align: right;\">\n",
              "      <th></th>\n",
              "      <th>mean radius</th>\n",
              "      <th>mean texture</th>\n",
              "      <th>mean perimeter</th>\n",
              "      <th>mean area</th>\n",
              "      <th>mean smoothness</th>\n",
              "      <th>mean compactness</th>\n",
              "      <th>mean concavity</th>\n",
              "      <th>mean concave points</th>\n",
              "      <th>mean symmetry</th>\n",
              "      <th>mean fractal dimension</th>\n",
              "      <th>radius error</th>\n",
              "      <th>texture error</th>\n",
              "      <th>perimeter error</th>\n",
              "      <th>area error</th>\n",
              "      <th>smoothness error</th>\n",
              "      <th>compactness error</th>\n",
              "      <th>concavity error</th>\n",
              "      <th>concave points error</th>\n",
              "      <th>symmetry error</th>\n",
              "      <th>fractal dimension error</th>\n",
              "      <th>worst radius</th>\n",
              "      <th>worst texture</th>\n",
              "      <th>worst perimeter</th>\n",
              "      <th>worst area</th>\n",
              "      <th>worst smoothness</th>\n",
              "      <th>worst compactness</th>\n",
              "      <th>worst concavity</th>\n",
              "      <th>worst concave points</th>\n",
              "      <th>worst symmetry</th>\n",
              "      <th>worst fractal dimension</th>\n",
              "      <th>target</th>\n",
              "    </tr>\n",
              "  </thead>\n",
              "  <tbody>\n",
              "    <tr>\n",
              "      <th>count</th>\n",
              "      <td>569.000000</td>\n",
              "      <td>569.000000</td>\n",
              "      <td>569.000000</td>\n",
              "      <td>569.000000</td>\n",
              "      <td>569.000000</td>\n",
              "      <td>569.000000</td>\n",
              "      <td>569.000000</td>\n",
              "      <td>569.000000</td>\n",
              "      <td>569.000000</td>\n",
              "      <td>569.000000</td>\n",
              "      <td>569.000000</td>\n",
              "      <td>569.000000</td>\n",
              "      <td>569.000000</td>\n",
              "      <td>569.000000</td>\n",
              "      <td>569.000000</td>\n",
              "      <td>569.000000</td>\n",
              "      <td>569.000000</td>\n",
              "      <td>569.000000</td>\n",
              "      <td>569.000000</td>\n",
              "      <td>569.000000</td>\n",
              "      <td>569.000000</td>\n",
              "      <td>569.000000</td>\n",
              "      <td>569.000000</td>\n",
              "      <td>569.000000</td>\n",
              "      <td>569.000000</td>\n",
              "      <td>569.000000</td>\n",
              "      <td>569.000000</td>\n",
              "      <td>569.000000</td>\n",
              "      <td>569.000000</td>\n",
              "      <td>569.000000</td>\n",
              "      <td>569.000000</td>\n",
              "    </tr>\n",
              "    <tr>\n",
              "      <th>mean</th>\n",
              "      <td>14.127292</td>\n",
              "      <td>19.289649</td>\n",
              "      <td>91.969033</td>\n",
              "      <td>654.889104</td>\n",
              "      <td>0.096360</td>\n",
              "      <td>0.104341</td>\n",
              "      <td>0.088799</td>\n",
              "      <td>0.048919</td>\n",
              "      <td>0.181162</td>\n",
              "      <td>0.062798</td>\n",
              "      <td>0.405172</td>\n",
              "      <td>1.216853</td>\n",
              "      <td>2.866059</td>\n",
              "      <td>40.337079</td>\n",
              "      <td>0.007041</td>\n",
              "      <td>0.025478</td>\n",
              "      <td>0.031894</td>\n",
              "      <td>0.011796</td>\n",
              "      <td>0.020542</td>\n",
              "      <td>0.003795</td>\n",
              "      <td>16.269190</td>\n",
              "      <td>25.677223</td>\n",
              "      <td>107.261213</td>\n",
              "      <td>880.583128</td>\n",
              "      <td>0.132369</td>\n",
              "      <td>0.254265</td>\n",
              "      <td>0.272188</td>\n",
              "      <td>0.114606</td>\n",
              "      <td>0.290076</td>\n",
              "      <td>0.083946</td>\n",
              "      <td>0.627417</td>\n",
              "    </tr>\n",
              "    <tr>\n",
              "      <th>std</th>\n",
              "      <td>3.524049</td>\n",
              "      <td>4.301036</td>\n",
              "      <td>24.298981</td>\n",
              "      <td>351.914129</td>\n",
              "      <td>0.014064</td>\n",
              "      <td>0.052813</td>\n",
              "      <td>0.079720</td>\n",
              "      <td>0.038803</td>\n",
              "      <td>0.027414</td>\n",
              "      <td>0.007060</td>\n",
              "      <td>0.277313</td>\n",
              "      <td>0.551648</td>\n",
              "      <td>2.021855</td>\n",
              "      <td>45.491006</td>\n",
              "      <td>0.003003</td>\n",
              "      <td>0.017908</td>\n",
              "      <td>0.030186</td>\n",
              "      <td>0.006170</td>\n",
              "      <td>0.008266</td>\n",
              "      <td>0.002646</td>\n",
              "      <td>4.833242</td>\n",
              "      <td>6.146258</td>\n",
              "      <td>33.602542</td>\n",
              "      <td>569.356993</td>\n",
              "      <td>0.022832</td>\n",
              "      <td>0.157336</td>\n",
              "      <td>0.208624</td>\n",
              "      <td>0.065732</td>\n",
              "      <td>0.061867</td>\n",
              "      <td>0.018061</td>\n",
              "      <td>0.483918</td>\n",
              "    </tr>\n",
              "    <tr>\n",
              "      <th>min</th>\n",
              "      <td>6.981000</td>\n",
              "      <td>9.710000</td>\n",
              "      <td>43.790000</td>\n",
              "      <td>143.500000</td>\n",
              "      <td>0.052630</td>\n",
              "      <td>0.019380</td>\n",
              "      <td>0.000000</td>\n",
              "      <td>0.000000</td>\n",
              "      <td>0.106000</td>\n",
              "      <td>0.049960</td>\n",
              "      <td>0.111500</td>\n",
              "      <td>0.360200</td>\n",
              "      <td>0.757000</td>\n",
              "      <td>6.802000</td>\n",
              "      <td>0.001713</td>\n",
              "      <td>0.002252</td>\n",
              "      <td>0.000000</td>\n",
              "      <td>0.000000</td>\n",
              "      <td>0.007882</td>\n",
              "      <td>0.000895</td>\n",
              "      <td>7.930000</td>\n",
              "      <td>12.020000</td>\n",
              "      <td>50.410000</td>\n",
              "      <td>185.200000</td>\n",
              "      <td>0.071170</td>\n",
              "      <td>0.027290</td>\n",
              "      <td>0.000000</td>\n",
              "      <td>0.000000</td>\n",
              "      <td>0.156500</td>\n",
              "      <td>0.055040</td>\n",
              "      <td>0.000000</td>\n",
              "    </tr>\n",
              "    <tr>\n",
              "      <th>25%</th>\n",
              "      <td>11.700000</td>\n",
              "      <td>16.170000</td>\n",
              "      <td>75.170000</td>\n",
              "      <td>420.300000</td>\n",
              "      <td>0.086370</td>\n",
              "      <td>0.064920</td>\n",
              "      <td>0.029560</td>\n",
              "      <td>0.020310</td>\n",
              "      <td>0.161900</td>\n",
              "      <td>0.057700</td>\n",
              "      <td>0.232400</td>\n",
              "      <td>0.833900</td>\n",
              "      <td>1.606000</td>\n",
              "      <td>17.850000</td>\n",
              "      <td>0.005169</td>\n",
              "      <td>0.013080</td>\n",
              "      <td>0.015090</td>\n",
              "      <td>0.007638</td>\n",
              "      <td>0.015160</td>\n",
              "      <td>0.002248</td>\n",
              "      <td>13.010000</td>\n",
              "      <td>21.080000</td>\n",
              "      <td>84.110000</td>\n",
              "      <td>515.300000</td>\n",
              "      <td>0.116600</td>\n",
              "      <td>0.147200</td>\n",
              "      <td>0.114500</td>\n",
              "      <td>0.064930</td>\n",
              "      <td>0.250400</td>\n",
              "      <td>0.071460</td>\n",
              "      <td>0.000000</td>\n",
              "    </tr>\n",
              "    <tr>\n",
              "      <th>50%</th>\n",
              "      <td>13.370000</td>\n",
              "      <td>18.840000</td>\n",
              "      <td>86.240000</td>\n",
              "      <td>551.100000</td>\n",
              "      <td>0.095870</td>\n",
              "      <td>0.092630</td>\n",
              "      <td>0.061540</td>\n",
              "      <td>0.033500</td>\n",
              "      <td>0.179200</td>\n",
              "      <td>0.061540</td>\n",
              "      <td>0.324200</td>\n",
              "      <td>1.108000</td>\n",
              "      <td>2.287000</td>\n",
              "      <td>24.530000</td>\n",
              "      <td>0.006380</td>\n",
              "      <td>0.020450</td>\n",
              "      <td>0.025890</td>\n",
              "      <td>0.010930</td>\n",
              "      <td>0.018730</td>\n",
              "      <td>0.003187</td>\n",
              "      <td>14.970000</td>\n",
              "      <td>25.410000</td>\n",
              "      <td>97.660000</td>\n",
              "      <td>686.500000</td>\n",
              "      <td>0.131300</td>\n",
              "      <td>0.211900</td>\n",
              "      <td>0.226700</td>\n",
              "      <td>0.099930</td>\n",
              "      <td>0.282200</td>\n",
              "      <td>0.080040</td>\n",
              "      <td>1.000000</td>\n",
              "    </tr>\n",
              "    <tr>\n",
              "      <th>75%</th>\n",
              "      <td>15.780000</td>\n",
              "      <td>21.800000</td>\n",
              "      <td>104.100000</td>\n",
              "      <td>782.700000</td>\n",
              "      <td>0.105300</td>\n",
              "      <td>0.130400</td>\n",
              "      <td>0.130700</td>\n",
              "      <td>0.074000</td>\n",
              "      <td>0.195700</td>\n",
              "      <td>0.066120</td>\n",
              "      <td>0.478900</td>\n",
              "      <td>1.474000</td>\n",
              "      <td>3.357000</td>\n",
              "      <td>45.190000</td>\n",
              "      <td>0.008146</td>\n",
              "      <td>0.032450</td>\n",
              "      <td>0.042050</td>\n",
              "      <td>0.014710</td>\n",
              "      <td>0.023480</td>\n",
              "      <td>0.004558</td>\n",
              "      <td>18.790000</td>\n",
              "      <td>29.720000</td>\n",
              "      <td>125.400000</td>\n",
              "      <td>1084.000000</td>\n",
              "      <td>0.146000</td>\n",
              "      <td>0.339100</td>\n",
              "      <td>0.382900</td>\n",
              "      <td>0.161400</td>\n",
              "      <td>0.317900</td>\n",
              "      <td>0.092080</td>\n",
              "      <td>1.000000</td>\n",
              "    </tr>\n",
              "    <tr>\n",
              "      <th>max</th>\n",
              "      <td>28.110000</td>\n",
              "      <td>39.280000</td>\n",
              "      <td>188.500000</td>\n",
              "      <td>2501.000000</td>\n",
              "      <td>0.163400</td>\n",
              "      <td>0.345400</td>\n",
              "      <td>0.426800</td>\n",
              "      <td>0.201200</td>\n",
              "      <td>0.304000</td>\n",
              "      <td>0.097440</td>\n",
              "      <td>2.873000</td>\n",
              "      <td>4.885000</td>\n",
              "      <td>21.980000</td>\n",
              "      <td>542.200000</td>\n",
              "      <td>0.031130</td>\n",
              "      <td>0.135400</td>\n",
              "      <td>0.396000</td>\n",
              "      <td>0.052790</td>\n",
              "      <td>0.078950</td>\n",
              "      <td>0.029840</td>\n",
              "      <td>36.040000</td>\n",
              "      <td>49.540000</td>\n",
              "      <td>251.200000</td>\n",
              "      <td>4254.000000</td>\n",
              "      <td>0.222600</td>\n",
              "      <td>1.058000</td>\n",
              "      <td>1.252000</td>\n",
              "      <td>0.291000</td>\n",
              "      <td>0.663800</td>\n",
              "      <td>0.207500</td>\n",
              "      <td>1.000000</td>\n",
              "    </tr>\n",
              "  </tbody>\n",
              "</table>\n",
              "</div>"
            ],
            "text/plain": [
              "       mean radius  mean texture  ...  worst fractal dimension      target\n",
              "count   569.000000    569.000000  ...               569.000000  569.000000\n",
              "mean     14.127292     19.289649  ...                 0.083946    0.627417\n",
              "std       3.524049      4.301036  ...                 0.018061    0.483918\n",
              "min       6.981000      9.710000  ...                 0.055040    0.000000\n",
              "25%      11.700000     16.170000  ...                 0.071460    0.000000\n",
              "50%      13.370000     18.840000  ...                 0.080040    1.000000\n",
              "75%      15.780000     21.800000  ...                 0.092080    1.000000\n",
              "max      28.110000     39.280000  ...                 0.207500    1.000000\n",
              "\n",
              "[8 rows x 31 columns]"
            ]
          },
          "metadata": {
            "tags": []
          },
          "execution_count": 6
        }
      ]
    },
    {
      "cell_type": "code",
      "metadata": {
        "id": "zt5aNd2o_Rky",
        "colab": {
          "base_uri": "https://localhost:8080/",
          "height": 68
        },
        "outputId": "5aeca80e-e010-4026-f26c-93462eab1c4a"
      },
      "source": [
        "df['target'].value_counts()"
      ],
      "execution_count": null,
      "outputs": [
        {
          "output_type": "execute_result",
          "data": {
            "text/plain": [
              "1    357\n",
              "0    212\n",
              "Name: target, dtype: int64"
            ]
          },
          "metadata": {
            "tags": []
          },
          "execution_count": 7
        }
      ]
    },
    {
      "cell_type": "code",
      "metadata": {
        "id": "t4YxUckqBlXr",
        "colab": {
          "base_uri": "https://localhost:8080/",
          "height": 68
        },
        "outputId": "be3167bd-c757-4882-b420-559e03e41970"
      },
      "source": [
        "df['target'].value_counts(normalize=True)"
      ],
      "execution_count": null,
      "outputs": [
        {
          "output_type": "execute_result",
          "data": {
            "text/plain": [
              "1    0.627417\n",
              "0    0.372583\n",
              "Name: target, dtype: float64"
            ]
          },
          "metadata": {
            "tags": []
          },
          "execution_count": 8
        }
      ]
    },
    {
      "cell_type": "markdown",
      "metadata": {
        "id": "ued0s2OFFPp8"
      },
      "source": [
        "## Standardization"
      ]
    },
    {
      "cell_type": "code",
      "metadata": {
        "id": "sJpPtR6qHE1p"
      },
      "source": [
        "X_features = df[df.columns.difference(['target'])]"
      ],
      "execution_count": null,
      "outputs": []
    },
    {
      "cell_type": "code",
      "metadata": {
        "id": "-z4Q9cqhELby"
      },
      "source": [
        "from sklearn.preprocessing import StandardScaler\n",
        "sc = StandardScaler()\n",
        "X = pd.DataFrame(sc.fit_transform(X_features),index=X_features.index,columns=X_features.columns)\n",
        "# Note: For the datasets with outliers, standardize using Robust Scaler"
      ],
      "execution_count": null,
      "outputs": []
    },
    {
      "cell_type": "markdown",
      "metadata": {
        "id": "fUbgGHeeqNJb"
      },
      "source": [
        "Add the describe after standardization"
      ]
    },
    {
      "cell_type": "code",
      "metadata": {
        "id": "pjtFeZRDFW4c",
        "colab": {
          "base_uri": "https://localhost:8080/",
          "height": 419
        },
        "outputId": "f9e77392-76b8-4576-a230-035b0417fba5"
      },
      "source": [
        "X.describe()"
      ],
      "execution_count": null,
      "outputs": [
        {
          "output_type": "execute_result",
          "data": {
            "text/html": [
              "<div>\n",
              "<style scoped>\n",
              "    .dataframe tbody tr th:only-of-type {\n",
              "        vertical-align: middle;\n",
              "    }\n",
              "\n",
              "    .dataframe tbody tr th {\n",
              "        vertical-align: top;\n",
              "    }\n",
              "\n",
              "    .dataframe thead th {\n",
              "        text-align: right;\n",
              "    }\n",
              "</style>\n",
              "<table border=\"1\" class=\"dataframe\">\n",
              "  <thead>\n",
              "    <tr style=\"text-align: right;\">\n",
              "      <th></th>\n",
              "      <th>area error</th>\n",
              "      <th>compactness error</th>\n",
              "      <th>concave points error</th>\n",
              "      <th>concavity error</th>\n",
              "      <th>fractal dimension error</th>\n",
              "      <th>mean area</th>\n",
              "      <th>mean compactness</th>\n",
              "      <th>mean concave points</th>\n",
              "      <th>mean concavity</th>\n",
              "      <th>mean fractal dimension</th>\n",
              "      <th>mean perimeter</th>\n",
              "      <th>mean radius</th>\n",
              "      <th>mean smoothness</th>\n",
              "      <th>mean symmetry</th>\n",
              "      <th>mean texture</th>\n",
              "      <th>perimeter error</th>\n",
              "      <th>radius error</th>\n",
              "      <th>smoothness error</th>\n",
              "      <th>symmetry error</th>\n",
              "      <th>texture error</th>\n",
              "      <th>worst area</th>\n",
              "      <th>worst compactness</th>\n",
              "      <th>worst concave points</th>\n",
              "      <th>worst concavity</th>\n",
              "      <th>worst fractal dimension</th>\n",
              "      <th>worst perimeter</th>\n",
              "      <th>worst radius</th>\n",
              "      <th>worst smoothness</th>\n",
              "      <th>worst symmetry</th>\n",
              "      <th>worst texture</th>\n",
              "    </tr>\n",
              "  </thead>\n",
              "  <tbody>\n",
              "    <tr>\n",
              "      <th>count</th>\n",
              "      <td>5.690000e+02</td>\n",
              "      <td>5.690000e+02</td>\n",
              "      <td>5.690000e+02</td>\n",
              "      <td>5.690000e+02</td>\n",
              "      <td>5.690000e+02</td>\n",
              "      <td>5.690000e+02</td>\n",
              "      <td>5.690000e+02</td>\n",
              "      <td>5.690000e+02</td>\n",
              "      <td>5.690000e+02</td>\n",
              "      <td>5.690000e+02</td>\n",
              "      <td>5.690000e+02</td>\n",
              "      <td>5.690000e+02</td>\n",
              "      <td>5.690000e+02</td>\n",
              "      <td>5.690000e+02</td>\n",
              "      <td>5.690000e+02</td>\n",
              "      <td>5.690000e+02</td>\n",
              "      <td>5.690000e+02</td>\n",
              "      <td>5.690000e+02</td>\n",
              "      <td>5.690000e+02</td>\n",
              "      <td>5.690000e+02</td>\n",
              "      <td>5.690000e+02</td>\n",
              "      <td>5.690000e+02</td>\n",
              "      <td>5.690000e+02</td>\n",
              "      <td>5.690000e+02</td>\n",
              "      <td>5.690000e+02</td>\n",
              "      <td>5.690000e+02</td>\n",
              "      <td>5.690000e+02</td>\n",
              "      <td>5.690000e+02</td>\n",
              "      <td>5.690000e+02</td>\n",
              "      <td>5.690000e+02</td>\n",
              "    </tr>\n",
              "    <tr>\n",
              "      <th>mean</th>\n",
              "      <td>-8.291551e-16</td>\n",
              "      <td>-3.921877e-16</td>\n",
              "      <td>-2.739461e-16</td>\n",
              "      <td>7.917900e-16</td>\n",
              "      <td>-3.366766e-16</td>\n",
              "      <td>-8.799835e-16</td>\n",
              "      <td>-1.120369e-15</td>\n",
              "      <td>9.732500e-16</td>\n",
              "      <td>-4.421380e-16</td>\n",
              "      <td>-1.453631e-15</td>\n",
              "      <td>-7.078891e-16</td>\n",
              "      <td>-3.162867e-15</td>\n",
              "      <td>6.132177e-15</td>\n",
              "      <td>-1.971670e-15</td>\n",
              "      <td>-6.530609e-15</td>\n",
              "      <td>1.773674e-15</td>\n",
              "      <td>-9.076415e-16</td>\n",
              "      <td>-7.541809e-16</td>\n",
              "      <td>-3.108234e-16</td>\n",
              "      <td>-8.853492e-16</td>\n",
              "      <td>5.049661e-16</td>\n",
              "      <td>-2.174788e-15</td>\n",
              "      <td>-1.412656e-16</td>\n",
              "      <td>6.856456e-16</td>\n",
              "      <td>2.575171e-15</td>\n",
              "      <td>-1.198026e-15</td>\n",
              "      <td>-2.333224e-15</td>\n",
              "      <td>-5.213170e-15</td>\n",
              "      <td>-2.289567e-15</td>\n",
              "      <td>1.763674e-15</td>\n",
              "    </tr>\n",
              "    <tr>\n",
              "      <th>std</th>\n",
              "      <td>1.000880e+00</td>\n",
              "      <td>1.000880e+00</td>\n",
              "      <td>1.000880e+00</td>\n",
              "      <td>1.000880e+00</td>\n",
              "      <td>1.000880e+00</td>\n",
              "      <td>1.000880e+00</td>\n",
              "      <td>1.000880e+00</td>\n",
              "      <td>1.000880e+00</td>\n",
              "      <td>1.000880e+00</td>\n",
              "      <td>1.000880e+00</td>\n",
              "      <td>1.000880e+00</td>\n",
              "      <td>1.000880e+00</td>\n",
              "      <td>1.000880e+00</td>\n",
              "      <td>1.000880e+00</td>\n",
              "      <td>1.000880e+00</td>\n",
              "      <td>1.000880e+00</td>\n",
              "      <td>1.000880e+00</td>\n",
              "      <td>1.000880e+00</td>\n",
              "      <td>1.000880e+00</td>\n",
              "      <td>1.000880e+00</td>\n",
              "      <td>1.000880e+00</td>\n",
              "      <td>1.000880e+00</td>\n",
              "      <td>1.000880e+00</td>\n",
              "      <td>1.000880e+00</td>\n",
              "      <td>1.000880e+00</td>\n",
              "      <td>1.000880e+00</td>\n",
              "      <td>1.000880e+00</td>\n",
              "      <td>1.000880e+00</td>\n",
              "      <td>1.000880e+00</td>\n",
              "      <td>1.000880e+00</td>\n",
              "    </tr>\n",
              "    <tr>\n",
              "      <th>min</th>\n",
              "      <td>-7.378291e-01</td>\n",
              "      <td>-1.298098e+00</td>\n",
              "      <td>-1.913447e+00</td>\n",
              "      <td>-1.057501e+00</td>\n",
              "      <td>-1.096968e+00</td>\n",
              "      <td>-1.454443e+00</td>\n",
              "      <td>-1.610136e+00</td>\n",
              "      <td>-1.261820e+00</td>\n",
              "      <td>-1.114873e+00</td>\n",
              "      <td>-1.819865e+00</td>\n",
              "      <td>-1.984504e+00</td>\n",
              "      <td>-2.029648e+00</td>\n",
              "      <td>-3.112085e+00</td>\n",
              "      <td>-2.744117e+00</td>\n",
              "      <td>-2.229249e+00</td>\n",
              "      <td>-1.044049e+00</td>\n",
              "      <td>-1.059924e+00</td>\n",
              "      <td>-1.776065e+00</td>\n",
              "      <td>-1.532890e+00</td>\n",
              "      <td>-1.554264e+00</td>\n",
              "      <td>-1.222423e+00</td>\n",
              "      <td>-1.443878e+00</td>\n",
              "      <td>-1.745063e+00</td>\n",
              "      <td>-1.305831e+00</td>\n",
              "      <td>-1.601839e+00</td>\n",
              "      <td>-1.693361e+00</td>\n",
              "      <td>-1.726901e+00</td>\n",
              "      <td>-2.682695e+00</td>\n",
              "      <td>-2.160960e+00</td>\n",
              "      <td>-2.223994e+00</td>\n",
              "    </tr>\n",
              "    <tr>\n",
              "      <th>25%</th>\n",
              "      <td>-4.947542e-01</td>\n",
              "      <td>-6.929263e-01</td>\n",
              "      <td>-6.744900e-01</td>\n",
              "      <td>-5.571612e-01</td>\n",
              "      <td>-5.851185e-01</td>\n",
              "      <td>-6.671955e-01</td>\n",
              "      <td>-7.470860e-01</td>\n",
              "      <td>-7.379438e-01</td>\n",
              "      <td>-7.437479e-01</td>\n",
              "      <td>-7.226392e-01</td>\n",
              "      <td>-6.919555e-01</td>\n",
              "      <td>-6.893853e-01</td>\n",
              "      <td>-7.109628e-01</td>\n",
              "      <td>-7.032397e-01</td>\n",
              "      <td>-7.259631e-01</td>\n",
              "      <td>-6.237679e-01</td>\n",
              "      <td>-6.235706e-01</td>\n",
              "      <td>-6.240183e-01</td>\n",
              "      <td>-6.516807e-01</td>\n",
              "      <td>-6.948092e-01</td>\n",
              "      <td>-6.421359e-01</td>\n",
              "      <td>-6.810833e-01</td>\n",
              "      <td>-7.563999e-01</td>\n",
              "      <td>-7.565142e-01</td>\n",
              "      <td>-6.919118e-01</td>\n",
              "      <td>-6.895783e-01</td>\n",
              "      <td>-6.749213e-01</td>\n",
              "      <td>-6.912304e-01</td>\n",
              "      <td>-6.418637e-01</td>\n",
              "      <td>-7.486293e-01</td>\n",
              "    </tr>\n",
              "    <tr>\n",
              "      <th>50%</th>\n",
              "      <td>-3.477828e-01</td>\n",
              "      <td>-2.810204e-01</td>\n",
              "      <td>-1.404958e-01</td>\n",
              "      <td>-1.990654e-01</td>\n",
              "      <td>-2.299405e-01</td>\n",
              "      <td>-2.951869e-01</td>\n",
              "      <td>-2.219405e-01</td>\n",
              "      <td>-3.977212e-01</td>\n",
              "      <td>-3.422399e-01</td>\n",
              "      <td>-1.782793e-01</td>\n",
              "      <td>-2.359800e-01</td>\n",
              "      <td>-2.150816e-01</td>\n",
              "      <td>-3.489108e-02</td>\n",
              "      <td>-7.162650e-02</td>\n",
              "      <td>-1.046362e-01</td>\n",
              "      <td>-2.866520e-01</td>\n",
              "      <td>-2.922452e-01</td>\n",
              "      <td>-2.203352e-01</td>\n",
              "      <td>-2.194304e-01</td>\n",
              "      <td>-1.974976e-01</td>\n",
              "      <td>-3.411812e-01</td>\n",
              "      <td>-2.695009e-01</td>\n",
              "      <td>-2.234689e-01</td>\n",
              "      <td>-2.182321e-01</td>\n",
              "      <td>-2.164441e-01</td>\n",
              "      <td>-2.859802e-01</td>\n",
              "      <td>-2.690395e-01</td>\n",
              "      <td>-4.684277e-02</td>\n",
              "      <td>-1.274095e-01</td>\n",
              "      <td>-4.351564e-02</td>\n",
              "    </tr>\n",
              "    <tr>\n",
              "      <th>75%</th>\n",
              "      <td>1.067726e-01</td>\n",
              "      <td>3.896541e-01</td>\n",
              "      <td>4.726567e-01</td>\n",
              "      <td>3.367521e-01</td>\n",
              "      <td>2.886421e-01</td>\n",
              "      <td>3.635073e-01</td>\n",
              "      <td>4.938569e-01</td>\n",
              "      <td>6.469351e-01</td>\n",
              "      <td>5.260619e-01</td>\n",
              "      <td>4.709834e-01</td>\n",
              "      <td>4.996769e-01</td>\n",
              "      <td>4.693926e-01</td>\n",
              "      <td>6.361990e-01</td>\n",
              "      <td>5.307792e-01</td>\n",
              "      <td>5.841756e-01</td>\n",
              "      <td>2.430307e-01</td>\n",
              "      <td>2.660996e-01</td>\n",
              "      <td>3.683553e-01</td>\n",
              "      <td>3.556925e-01</td>\n",
              "      <td>4.665523e-01</td>\n",
              "      <td>3.575891e-01</td>\n",
              "      <td>5.396688e-01</td>\n",
              "      <td>7.125100e-01</td>\n",
              "      <td>5.311411e-01</td>\n",
              "      <td>4.507624e-01</td>\n",
              "      <td>5.402790e-01</td>\n",
              "      <td>5.220158e-01</td>\n",
              "      <td>5.975448e-01</td>\n",
              "      <td>4.501382e-01</td>\n",
              "      <td>6.583411e-01</td>\n",
              "    </tr>\n",
              "    <tr>\n",
              "      <th>max</th>\n",
              "      <td>1.104184e+01</td>\n",
              "      <td>6.143482e+00</td>\n",
              "      <td>6.649601e+00</td>\n",
              "      <td>1.207268e+01</td>\n",
              "      <td>9.851593e+00</td>\n",
              "      <td>5.250529e+00</td>\n",
              "      <td>4.568425e+00</td>\n",
              "      <td>3.927930e+00</td>\n",
              "      <td>4.243589e+00</td>\n",
              "      <td>4.910919e+00</td>\n",
              "      <td>3.976130e+00</td>\n",
              "      <td>3.971288e+00</td>\n",
              "      <td>4.770911e+00</td>\n",
              "      <td>4.484751e+00</td>\n",
              "      <td>4.651889e+00</td>\n",
              "      <td>9.461986e+00</td>\n",
              "      <td>8.906909e+00</td>\n",
              "      <td>8.029999e+00</td>\n",
              "      <td>7.071917e+00</td>\n",
              "      <td>6.655279e+00</td>\n",
              "      <td>5.930172e+00</td>\n",
              "      <td>5.112877e+00</td>\n",
              "      <td>2.685877e+00</td>\n",
              "      <td>4.700669e+00</td>\n",
              "      <td>6.846856e+00</td>\n",
              "      <td>4.287337e+00</td>\n",
              "      <td>4.094189e+00</td>\n",
              "      <td>3.955374e+00</td>\n",
              "      <td>6.046041e+00</td>\n",
              "      <td>3.885905e+00</td>\n",
              "    </tr>\n",
              "  </tbody>\n",
              "</table>\n",
              "</div>"
            ],
            "text/plain": [
              "         area error  compactness error  ...  worst symmetry  worst texture\n",
              "count  5.690000e+02       5.690000e+02  ...    5.690000e+02   5.690000e+02\n",
              "mean  -8.291551e-16      -3.921877e-16  ...   -2.289567e-15   1.763674e-15\n",
              "std    1.000880e+00       1.000880e+00  ...    1.000880e+00   1.000880e+00\n",
              "min   -7.378291e-01      -1.298098e+00  ...   -2.160960e+00  -2.223994e+00\n",
              "25%   -4.947542e-01      -6.929263e-01  ...   -6.418637e-01  -7.486293e-01\n",
              "50%   -3.477828e-01      -2.810204e-01  ...   -1.274095e-01  -4.351564e-02\n",
              "75%    1.067726e-01       3.896541e-01  ...    4.501382e-01   6.583411e-01\n",
              "max    1.104184e+01       6.143482e+00  ...    6.046041e+00   3.885905e+00\n",
              "\n",
              "[8 rows x 30 columns]"
            ]
          },
          "metadata": {
            "tags": []
          },
          "execution_count": 11
        }
      ]
    },
    {
      "cell_type": "markdown",
      "metadata": {
        "id": "rlJo0tqZB48x"
      },
      "source": [
        "## Train Test Split"
      ]
    },
    {
      "cell_type": "code",
      "metadata": {
        "id": "DqePXiEiBh5_"
      },
      "source": [
        "y = df['target']"
      ],
      "execution_count": null,
      "outputs": []
    },
    {
      "cell_type": "code",
      "metadata": {
        "id": "d28qltqmEiH3"
      },
      "source": [
        "X_train, X_test, y_train, y_test = train_test_split(X, y, test_size=0.2, random_state=42)"
      ],
      "execution_count": null,
      "outputs": []
    },
    {
      "cell_type": "code",
      "metadata": {
        "id": "V7BfXpphHBUi",
        "colab": {
          "base_uri": "https://localhost:8080/",
          "height": 34
        },
        "outputId": "1c3de5dc-1c39-492d-d53f-76cea32d8c5b"
      },
      "source": [
        "X_train.shape"
      ],
      "execution_count": null,
      "outputs": [
        {
          "output_type": "execute_result",
          "data": {
            "text/plain": [
              "(455, 30)"
            ]
          },
          "metadata": {
            "tags": []
          },
          "execution_count": 9
        }
      ]
    },
    {
      "cell_type": "code",
      "metadata": {
        "id": "71Bf7N7wHHaJ",
        "colab": {
          "base_uri": "https://localhost:8080/",
          "height": 34
        },
        "outputId": "f3683b38-71ca-4908-b595-89f9fe6e170b"
      },
      "source": [
        "X_test.shape"
      ],
      "execution_count": null,
      "outputs": [
        {
          "output_type": "execute_result",
          "data": {
            "text/plain": [
              "(114, 30)"
            ]
          },
          "metadata": {
            "tags": []
          },
          "execution_count": 18
        }
      ]
    },
    {
      "cell_type": "code",
      "metadata": {
        "id": "2HT9p6cHHLCV",
        "colab": {
          "base_uri": "https://localhost:8080/",
          "height": 34
        },
        "outputId": "114a51eb-587c-48c5-f1f2-a424a9edd164"
      },
      "source": [
        "y_train.shape"
      ],
      "execution_count": null,
      "outputs": [
        {
          "output_type": "execute_result",
          "data": {
            "text/plain": [
              "(455,)"
            ]
          },
          "metadata": {
            "tags": []
          },
          "execution_count": 19
        }
      ]
    },
    {
      "cell_type": "code",
      "metadata": {
        "id": "ESZ-zj9uHPms",
        "colab": {
          "base_uri": "https://localhost:8080/",
          "height": 34
        },
        "outputId": "d61980c0-2436-4b51-8525-f148a62b708f"
      },
      "source": [
        "y_test.shape"
      ],
      "execution_count": null,
      "outputs": [
        {
          "output_type": "execute_result",
          "data": {
            "text/plain": [
              "(114,)"
            ]
          },
          "metadata": {
            "tags": []
          },
          "execution_count": 16
        }
      ]
    },
    {
      "cell_type": "markdown",
      "metadata": {
        "id": "K1TXXiVnkojb"
      },
      "source": [
        "# XGBoost"
      ]
    },
    {
      "cell_type": "markdown",
      "metadata": {
        "id": "To7DBE72ToBB"
      },
      "source": [
        "## Check Default Parameters"
      ]
    },
    {
      "cell_type": "code",
      "metadata": {
        "id": "DEnNojWITca0",
        "colab": {
          "base_uri": "https://localhost:8080/",
          "height": 442
        },
        "outputId": "ae935ee3-95f3-48ab-d7b2-6e4dac3a7f80"
      },
      "source": [
        "xgboost = XGBClassifier(seed=0)\n",
        "from pprint import pprint\n",
        "print('Parameters currently in use:\\n')\n",
        "pprint(xgboost.get_params())\n",
        "\n",
        "# Reference: XGBoost documentation at https://xgboost.readthedocs.io/en/latest/parameter.html\n",
        "# base_score: The initial prediction score of all instances, For sufficient number of iterations, changing this value will not have too much effect.\n",
        "# booster: Which booster to use. Can be gbtree, gblinear or dart; gbtree and dart use tree based models while gblinear uses linear functions.\n",
        "# colsample_bylevel: is the subsample ratio of columns for each level. Subsampling occurs once for every new depth level reached in a tree. Columns are subsampled from the set of columns chosen for the current tree.\n",
        "# colsample_bynode: is the subsample ratio of columns for each node (split). Subsampling occurs once every time a new split is evaluated. Columns are subsampled from the set of columns chosen for the current level.\n",
        "# colsample_bytree: is the subsample ratio of columns when constructing each tree. Subsampling occurs once for every tree constructed.\n",
        "# gamma: Minimum loss reduction required to make a further partition on a leaf node of the tree. The larger gamma is, the more conservative the algorithm will be.\n",
        "# learning_rate/eta: Step size shrinkage used in update to prevents overfitting. After each boosting step, we can directly get the weights of new features, and eta shrinks the feature weights to make the boosting process more conservative.\n",
        "# max_delta_step: Maximum delta step we allow each leaf output to be. If the value is set to 0, it means there is no constraint. If it is set to a positive value, it can help making the update step more conservative. Usually this parameter is not needed, but it might help in logistic regression when class is extremely imbalanced. Set it to value of 1-10 might help control the update.\n",
        "# max_depth: Maximum depth of a tree. Increasing this value will make the model more complex and more likely to overfit. \n",
        "# min_child_weight: Minimum sum of instance weight (hessian) needed in a child. If the tree partition step results in a leaf node with the sum of instance weight less than min_child_weight, then the building process will give up further partitioning. In linear regression task, this simply corresponds to minimum number of instances needed to be in each node. The larger min_child_weight is, the more conservative the algorithm will be.\n",
        "# missing: Handles missing values\n",
        "# n_estimators: Number of trees\n",
        "# n_jobs: parallel processing when it equals -1\n",
        "# nthread: Number of parallel threads used to run XGBoost. When choosing it, please keep thread contention and hyperthreading in mind.\n",
        "# objective: When used with binary classification, the objective should be binary:logistic or similar functions that work on probability. When used with multi-class classification, objective should be multi:softprob instead of multi:softmax, as the latter doesn’t output probability. \n",
        "# random_state: seed to get reproducible results\n",
        "# reg_alpha: L1 regularization term on weights. Increasing this value will make model more conservative.\n",
        "# reg_lambda: L2 regularization term on weights. Increasing this value will make model more conservative.\n",
        "# scale_pos_weight: Control the balance of positive and negative weights, useful for unbalanced classes.\n",
        "# silent: control verbosity\n",
        "# subsample: Subsample ratio of the training instances. Setting it to 0.5 means that XGBoost would randomly sample half of the training data prior to growing trees. and this will prevent overfitting.\n",
        "# verbosity: Verbosity of printing messages. Valid values of 0 (silent), 1 (warning), 2 (info), and 3 (debug)."
      ],
      "execution_count": null,
      "outputs": [
        {
          "output_type": "stream",
          "text": [
            "Parameters currently in use:\n",
            "\n",
            "{'base_score': 0.5,\n",
            " 'booster': 'gbtree',\n",
            " 'colsample_bylevel': 1,\n",
            " 'colsample_bynode': 1,\n",
            " 'colsample_bytree': 1,\n",
            " 'gamma': 0,\n",
            " 'learning_rate': 0.1,\n",
            " 'max_delta_step': 0,\n",
            " 'max_depth': 3,\n",
            " 'min_child_weight': 1,\n",
            " 'missing': None,\n",
            " 'n_estimators': 100,\n",
            " 'n_jobs': 1,\n",
            " 'nthread': None,\n",
            " 'objective': 'binary:logistic',\n",
            " 'random_state': 0,\n",
            " 'reg_alpha': 0,\n",
            " 'reg_lambda': 1,\n",
            " 'scale_pos_weight': 1,\n",
            " 'seed': 0,\n",
            " 'silent': None,\n",
            " 'subsample': 1,\n",
            " 'verbosity': 1}\n"
          ],
          "name": "stdout"
        }
      ]
    },
    {
      "cell_type": "markdown",
      "metadata": {
        "id": "v4EdbkeRUXlL"
      },
      "source": [
        "## Grid Search Cross Validation"
      ]
    },
    {
      "cell_type": "code",
      "metadata": {
        "id": "mIGtxuyrTcYI",
        "colab": {
          "base_uri": "https://localhost:8080/",
          "height": 102
        },
        "outputId": "ebfd52f1-d171-47bb-901a-81cbee8c6bb0"
      },
      "source": [
        "param_grid = { \"learning_rate\"    : [0.001, 0.01, 0.1] ,\n",
        " \"max_depth\"        : [ 3,  6, 12],\n",
        " \"min_child_weight\" : [ 1, 5, 9 ],\n",
        "# Gamma specifies the minimum loss reduction required to make a split.\n",
        " \"gamma\"  : [0, 0.1, 0.3],\n",
        "# Similar to max_features in GBM. Denotes the fraction of columns to be randomly samples for each tree.\n",
        " \"colsample_bytree\" : [ 0.3, 0.5 , 0.8 ]}\n",
        "param_grid"
      ],
      "execution_count": null,
      "outputs": [
        {
          "output_type": "execute_result",
          "data": {
            "text/plain": [
              "{'colsample_bytree': [0.3, 0.5, 0.8],\n",
              " 'gamma': [0, 0.1, 0.3],\n",
              " 'learning_rate': [0.001, 0.01, 0.1],\n",
              " 'max_depth': [3, 6, 12],\n",
              " 'min_child_weight': [1, 5, 9]}"
            ]
          },
          "metadata": {
            "tags": []
          },
          "execution_count": 11
        }
      ]
    },
    {
      "cell_type": "code",
      "metadata": {
        "id": "AiPdTh6dTcTX"
      },
      "source": [
        "scoring = ['recall']"
      ],
      "execution_count": null,
      "outputs": []
    },
    {
      "cell_type": "code",
      "metadata": {
        "id": "e9dk1V8JTcN5"
      },
      "source": [
        "kfold = StratifiedKFold(n_splits=3, shuffle=True)"
      ],
      "execution_count": null,
      "outputs": []
    },
    {
      "cell_type": "code",
      "metadata": {
        "id": "Zf5wMPj2TcLC"
      },
      "source": [
        "grid_search = GridSearchCV(xgboost, param_grid, scoring=scoring, refit='recall', n_jobs=-1, cv=kfold, verbose=1)\n",
        "# scoring: Strategy to evaluate the performance of the cross-validated model on the test set.\n",
        "# refit: Refit an estimator using the best found parameters on the whole dataset."
      ],
      "execution_count": null,
      "outputs": []
    },
    {
      "cell_type": "code",
      "metadata": {
        "id": "9nUsoarmTcG7",
        "colab": {
          "base_uri": "https://localhost:8080/",
          "height": 119
        },
        "outputId": "37727063-aaa5-467d-9550-64d1a0361456"
      },
      "source": [
        "grid_result = grid_search.fit(X_train, y_train)\n",
        "# 3*3*3*3*3 = 243"
      ],
      "execution_count": null,
      "outputs": [
        {
          "output_type": "stream",
          "text": [
            "Fitting 3 folds for each of 243 candidates, totalling 729 fits\n"
          ],
          "name": "stdout"
        },
        {
          "output_type": "stream",
          "text": [
            "[Parallel(n_jobs=-1)]: Using backend LokyBackend with 2 concurrent workers.\n",
            "[Parallel(n_jobs=-1)]: Done  72 tasks      | elapsed:    3.4s\n",
            "[Parallel(n_jobs=-1)]: Done 372 tasks      | elapsed:   13.6s\n",
            "[Parallel(n_jobs=-1)]: Done 726 out of 729 | elapsed:   29.5s remaining:    0.1s\n",
            "[Parallel(n_jobs=-1)]: Done 729 out of 729 | elapsed:   29.6s finished\n"
          ],
          "name": "stderr"
        }
      ]
    },
    {
      "cell_type": "code",
      "metadata": {
        "id": "eLYPBSDMTcDV",
        "colab": {
          "base_uri": "https://localhost:8080/",
          "height": 357
        },
        "outputId": "1d5f60e2-696f-44b7-9a52-9c00a5e2c178"
      },
      "source": [
        "grid_result"
      ],
      "execution_count": null,
      "outputs": [
        {
          "output_type": "execute_result",
          "data": {
            "text/plain": [
              "GridSearchCV(cv=StratifiedKFold(n_splits=3, random_state=None, shuffle=True),\n",
              "             error_score=nan,\n",
              "             estimator=XGBClassifier(base_score=0.5, booster='gbtree',\n",
              "                                     colsample_bylevel=1, colsample_bynode=1,\n",
              "                                     colsample_bytree=1, gamma=0,\n",
              "                                     learning_rate=0.1, max_delta_step=0,\n",
              "                                     max_depth=3, min_child_weight=1,\n",
              "                                     missing=None, n_estimators=100, n_jobs=1,\n",
              "                                     nthread=None, objective='binary:l...\n",
              "                                     random_state=0, reg_alpha=0, reg_lambda=1,\n",
              "                                     scale_pos_weight=1, seed=0, silent=None,\n",
              "                                     subsample=1, verbosity=1),\n",
              "             iid='deprecated', n_jobs=-1,\n",
              "             param_grid={'colsample_bytree': [0.3, 0.5, 0.8],\n",
              "                         'gamma': [0, 0.1, 0.3],\n",
              "                         'learning_rate': [0.001, 0.01, 0.1],\n",
              "                         'max_depth': [3, 6, 12],\n",
              "                         'min_child_weight': [1, 5, 9]},\n",
              "             pre_dispatch='2*n_jobs', refit='recall', return_train_score=False,\n",
              "             scoring=['recall'], verbose=1)"
            ]
          },
          "metadata": {
            "tags": []
          },
          "execution_count": 24
        }
      ]
    },
    {
      "cell_type": "code",
      "metadata": {
        "id": "xvTeu8DzTb_4",
        "colab": {
          "base_uri": "https://localhost:8080/",
          "height": 1000
        },
        "outputId": "57a27503-c27d-4fc5-da11-4716207a28cd"
      },
      "source": [
        "grid_result.cv_results_"
      ],
      "execution_count": null,
      "outputs": [
        {
          "output_type": "execute_result",
          "data": {
            "text/plain": [
              "{'mean_fit_time': array([0.06250374, 0.05191008, 0.04910382, 0.07277727, 0.05518071,\n",
              "        0.05005407, 0.07430871, 0.05872679, 0.04865686, 0.05650997,\n",
              "        0.05099328, 0.04730193, 0.07552703, 0.05546331, 0.04890482,\n",
              "        0.07567143, 0.05576666, 0.05450511, 0.0528055 , 0.03794042,\n",
              "        0.03260096, 0.05683374, 0.03883894, 0.03306731, 0.06021428,\n",
              "        0.0389928 , 0.03641844, 0.05746524, 0.05213483, 0.04919871,\n",
              "        0.07622385, 0.05454691, 0.04831592, 0.07153193, 0.05464705,\n",
              "        0.04887056, 0.05703465, 0.05303176, 0.04939548, 0.07661319,\n",
              "        0.05538487, 0.05433885, 0.07534099, 0.0676252 , 0.05128105,\n",
              "        0.05029138, 0.03854394, 0.03447342, 0.0574379 , 0.0408566 ,\n",
              "        0.03467989, 0.05886563, 0.03941107, 0.03901219, 0.05709084,\n",
              "        0.05224919, 0.04828437, 0.07135987, 0.05643121, 0.04902029,\n",
              "        0.0730443 , 0.05609171, 0.04994671, 0.05680569, 0.05747835,\n",
              "        0.04845937, 0.07744988, 0.05831734, 0.05176957, 0.08050458,\n",
              "        0.05900216, 0.05030306, 0.05339225, 0.04009151, 0.03787502,\n",
              "        0.06295872, 0.04182418, 0.03500096, 0.06023669, 0.03992796,\n",
              "        0.03405348, 0.07573787, 0.06884106, 0.0625302 , 0.09572212,\n",
              "        0.07305217, 0.06518277, 0.09512186, 0.07022556, 0.06217162,\n",
              "        0.07518156, 0.06583977, 0.05988661, 0.10579499, 0.07642444,\n",
              "        0.06164257, 0.1040864 , 0.07297492, 0.06434727, 0.06354006,\n",
              "        0.04652071, 0.03840152, 0.07346455, 0.04924202, 0.04053537,\n",
              "        0.07550502, 0.04804222, 0.04021088, 0.07560039, 0.06931273,\n",
              "        0.06365434, 0.09593121, 0.07798258, 0.06305361, 0.09540041,\n",
              "        0.06988517, 0.06229997, 0.07445955, 0.06703893, 0.06122112,\n",
              "        0.10152594, 0.07558823, 0.06321653, 0.10256616, 0.07226801,\n",
              "        0.06230036, 0.06497113, 0.04736296, 0.0403533 , 0.07266768,\n",
              "        0.05161476, 0.03851628, 0.07385866, 0.04837243, 0.03793693,\n",
              "        0.07410876, 0.06732527, 0.06376004, 0.09887608, 0.075495  ,\n",
              "        0.06413587, 0.10029109, 0.07766438, 0.06384373, 0.0748752 ,\n",
              "        0.06795454, 0.06332739, 0.10275213, 0.0784235 , 0.06239374,\n",
              "        0.10388009, 0.07163501, 0.06321796, 0.06385144, 0.04735518,\n",
              "        0.0390648 , 0.07455564, 0.05077744, 0.04126859, 0.0746642 ,\n",
              "        0.04845778, 0.03825744, 0.10018857, 0.0911812 , 0.08137886,\n",
              "        0.13083466, 0.09812919, 0.08329058, 0.13149603, 0.09458566,\n",
              "        0.08235693, 0.10136565, 0.09190663, 0.08015116, 0.14059186,\n",
              "        0.09678491, 0.08120227, 0.14890687, 0.1052018 , 0.08156959,\n",
              "        0.08454895, 0.05808544, 0.04536788, 0.10050289, 0.06208412,\n",
              "        0.04645848, 0.10863439, 0.06455437, 0.04952908, 0.10464207,\n",
              "        0.09006421, 0.08289099, 0.13155715, 0.09605742, 0.08661389,\n",
              "        0.13162502, 0.0960149 , 0.0836405 , 0.10216896, 0.08845901,\n",
              "        0.08362937, 0.14218418, 0.0970904 , 0.08187604, 0.1427958 ,\n",
              "        0.10263364, 0.08364018, 0.08385817, 0.06016215, 0.04773593,\n",
              "        0.10036786, 0.06158797, 0.0518171 , 0.10099562, 0.06430324,\n",
              "        0.05136522, 0.11834629, 0.0910879 , 0.08193191, 0.13101228,\n",
              "        0.09583775, 0.08552257, 0.1327676 , 0.09429304, 0.08319847,\n",
              "        0.10112397, 0.09128857, 0.0811824 , 0.14973219, 0.10090923,\n",
              "        0.08614763, 0.17254074, 0.13242038, 0.09448202, 0.09065723,\n",
              "        0.06260586, 0.04893565, 0.1067485 , 0.06312275, 0.04973475,\n",
              "        0.11380816, 0.06345987, 0.04295897]),\n",
              " 'mean_score_time': array([0.00419974, 0.0038468 , 0.00330369, 0.00332514, 0.00313369,\n",
              "        0.00314625, 0.00354028, 0.00330114, 0.00322986, 0.00329916,\n",
              "        0.00324043, 0.00395266, 0.00344729, 0.00342329, 0.00308077,\n",
              "        0.00334517, 0.00312177, 0.00353734, 0.00387915, 0.00302219,\n",
              "        0.00289687, 0.00333365, 0.00305605, 0.00302124, 0.0033644 ,\n",
              "        0.00309547, 0.00425975, 0.00352987, 0.00319012, 0.00312392,\n",
              "        0.00345341, 0.00312289, 0.00331529, 0.00343386, 0.00339246,\n",
              "        0.00339611, 0.0036974 , 0.00370916, 0.00368881, 0.00387669,\n",
              "        0.00359631, 0.00366743, 0.00390569, 0.00478268, 0.00350086,\n",
              "        0.00366052, 0.00348194, 0.00318631, 0.00359559, 0.00346001,\n",
              "        0.00347519, 0.00383743, 0.00377091, 0.00382161, 0.00368667,\n",
              "        0.00360258, 0.00351294, 0.00369279, 0.00355649, 0.00363509,\n",
              "        0.00370256, 0.00364788, 0.00353964, 0.00364296, 0.00365957,\n",
              "        0.00373872, 0.00420348, 0.00385785, 0.00374778, 0.00389918,\n",
              "        0.00375279, 0.0037322 , 0.0040919 , 0.00389822, 0.00383719,\n",
              "        0.00380174, 0.00377973, 0.00365329, 0.00387367, 0.00369279,\n",
              "        0.00358915, 0.00364137, 0.00348488, 0.00343474, 0.00372942,\n",
              "        0.00366179, 0.00361077, 0.00368166, 0.00362619, 0.00339301,\n",
              "        0.00354274, 0.00349474, 0.00343831, 0.0037175 , 0.00356213,\n",
              "        0.00372537, 0.00385912, 0.00366624, 0.00359511, 0.00371464,\n",
              "        0.00371273, 0.00486358, 0.00836849, 0.00375978, 0.00333158,\n",
              "        0.00421246, 0.00405924, 0.00384172, 0.00416303, 0.00483576,\n",
              "        0.00384816, 0.00369072, 0.00348775, 0.00315348, 0.00340954,\n",
              "        0.00318567, 0.00310532, 0.00325553, 0.00320276, 0.00314895,\n",
              "        0.00371639, 0.00341312, 0.00322811, 0.00350642, 0.00323407,\n",
              "        0.0036153 , 0.00342409, 0.00309992, 0.00284831, 0.00332888,\n",
              "        0.00398072, 0.00315865, 0.00333659, 0.0031213 , 0.00286937,\n",
              "        0.00315777, 0.00303729, 0.00512981, 0.00354727, 0.0035766 ,\n",
              "        0.00322421, 0.0063947 , 0.003455  , 0.00344714, 0.00482003,\n",
              "        0.00468175, 0.00348751, 0.00368253, 0.00377234, 0.0035332 ,\n",
              "        0.00370812, 0.00352836, 0.00358248, 0.00377091, 0.00365559,\n",
              "        0.00354489, 0.0037419 , 0.00391332, 0.00368444, 0.00362825,\n",
              "        0.00343442, 0.00325227, 0.0035255 , 0.00349458, 0.00357652,\n",
              "        0.00362674, 0.00383528, 0.00392389, 0.00390728, 0.00347066,\n",
              "        0.00353185, 0.00365035, 0.00361164, 0.00352263, 0.00380747,\n",
              "        0.00358939, 0.00358574, 0.00384498, 0.00356706, 0.00343132,\n",
              "        0.00365194, 0.00342131, 0.0033416 , 0.00391976, 0.0037148 ,\n",
              "        0.00365059, 0.00421762, 0.00407155, 0.00382034, 0.00393518,\n",
              "        0.00368134, 0.00362261, 0.0038263 , 0.00394368, 0.00525228,\n",
              "        0.00395314, 0.00390307, 0.00364995, 0.00388956, 0.00374087,\n",
              "        0.00360044, 0.00395187, 0.00365949, 0.00384029, 0.00393899,\n",
              "        0.0038449 , 0.00392199, 0.00427938, 0.00451438, 0.00405717,\n",
              "        0.00449292, 0.00393709, 0.00381851, 0.00436687, 0.0036517 ,\n",
              "        0.00351461, 0.00387414, 0.00404358, 0.00367379, 0.00392071,\n",
              "        0.0040017 , 0.00564392, 0.00404541, 0.00378068, 0.004234  ,\n",
              "        0.00405566, 0.00392318, 0.0044361 , 0.00555166, 0.00533017,\n",
              "        0.00524632, 0.0056711 , 0.00370169, 0.00384156, 0.00400662,\n",
              "        0.00358144, 0.00349935, 0.00390132, 0.00368722, 0.00358319,\n",
              "        0.00537888, 0.00364502, 0.00352716]),\n",
              " 'mean_test_recall': array([0.96147661, 0.94747807, 0.95800439, 0.96498538, 0.94747807,\n",
              "        0.95800439, 0.96498538, 0.94747807, 0.95800439, 0.97196637,\n",
              "        0.95445906, 0.95800439, 0.97196637, 0.95445906, 0.95800439,\n",
              "        0.97196637, 0.95445906, 0.95800439, 0.98600146, 0.97196637,\n",
              "        0.96147661, 0.97898392, 0.97196637, 0.96147661, 0.97898392,\n",
              "        0.97196637, 0.96147661, 0.96147661, 0.94747807, 0.95800439,\n",
              "        0.96498538, 0.94747807, 0.95800439, 0.96498538, 0.94747807,\n",
              "        0.95800439, 0.97196637, 0.95445906, 0.96151316, 0.97196637,\n",
              "        0.95445906, 0.96151316, 0.97196637, 0.95445906, 0.96151316,\n",
              "        0.97898392, 0.97196637, 0.96147661, 0.98249269, 0.97196637,\n",
              "        0.96147661, 0.98249269, 0.97196637, 0.96147661, 0.96147661,\n",
              "        0.94747807, 0.95800439, 0.96498538, 0.94747807, 0.95800439,\n",
              "        0.96498538, 0.94747807, 0.95800439, 0.97196637, 0.95445906,\n",
              "        0.96151316, 0.97196637, 0.95445906, 0.96151316, 0.97196637,\n",
              "        0.95445906, 0.96151316, 0.97547515, 0.97196637, 0.96147661,\n",
              "        0.97898392, 0.97196637, 0.96147661, 0.97898392, 0.97196637,\n",
              "        0.96147661, 0.94393275, 0.93344298, 0.95800439, 0.94744152,\n",
              "        0.93344298, 0.95800439, 0.94744152, 0.93344298, 0.95800439,\n",
              "        0.95793129, 0.94393275, 0.96151316, 0.95793129, 0.94393275,\n",
              "        0.96151316, 0.95793129, 0.94393275, 0.96151316, 0.97547515,\n",
              "        0.97547515, 0.95796784, 0.97547515, 0.97547515, 0.95796784,\n",
              "        0.97547515, 0.97547515, 0.95796784, 0.94393275, 0.93344298,\n",
              "        0.95800439, 0.94744152, 0.93344298, 0.95800439, 0.94744152,\n",
              "        0.93344298, 0.95800439, 0.95793129, 0.94393275, 0.96151316,\n",
              "        0.95793129, 0.94393275, 0.96151316, 0.95793129, 0.94393275,\n",
              "        0.96151316, 0.97547515, 0.97547515, 0.95796784, 0.9684576 ,\n",
              "        0.97547515, 0.95796784, 0.9684576 , 0.97547515, 0.95796784,\n",
              "        0.94393275, 0.93344298, 0.95800439, 0.94744152, 0.93344298,\n",
              "        0.95800439, 0.94744152, 0.93344298, 0.95800439, 0.95442251,\n",
              "        0.94393275, 0.96151316, 0.95442251, 0.94393275, 0.96151316,\n",
              "        0.95442251, 0.94393275, 0.96151316, 0.9684576 , 0.97547515,\n",
              "        0.96147661, 0.9684576 , 0.97547515, 0.96147661, 0.9684576 ,\n",
              "        0.97547515, 0.96147661, 0.9438962 , 0.93344298, 0.95800439,\n",
              "        0.9438962 , 0.93344298, 0.95800439, 0.9438962 , 0.93344298,\n",
              "        0.95800439, 0.95793129, 0.94038743, 0.95800439, 0.95442251,\n",
              "        0.94038743, 0.95800439, 0.95442251, 0.94038743, 0.95800439,\n",
              "        0.97192982, 0.97196637, 0.95095029, 0.9754386 , 0.97196637,\n",
              "        0.95095029, 0.9754386 , 0.97196637, 0.95095029, 0.9438962 ,\n",
              "        0.93344298, 0.95800439, 0.9438962 , 0.93344298, 0.95800439,\n",
              "        0.9438962 , 0.93344298, 0.95800439, 0.95793129, 0.94038743,\n",
              "        0.95800439, 0.95793129, 0.94038743, 0.95800439, 0.95793129,\n",
              "        0.94038743, 0.95800439, 0.97196637, 0.97196637, 0.95095029,\n",
              "        0.9754386 , 0.97196637, 0.95095029, 0.9754386 , 0.97196637,\n",
              "        0.95095029, 0.9438962 , 0.93344298, 0.95800439, 0.9438962 ,\n",
              "        0.93344298, 0.95800439, 0.9438962 , 0.93344298, 0.95800439,\n",
              "        0.95793129, 0.94038743, 0.95800439, 0.95442251, 0.94038743,\n",
              "        0.95800439, 0.95442251, 0.94038743, 0.95800439, 0.96494883,\n",
              "        0.9684576 , 0.94744152, 0.9754386 , 0.9684576 , 0.94744152,\n",
              "        0.9754386 , 0.9684576 , 0.94744152]),\n",
              " 'param_colsample_bytree': masked_array(data=[0.3, 0.3, 0.3, 0.3, 0.3, 0.3, 0.3, 0.3, 0.3, 0.3, 0.3,\n",
              "                    0.3, 0.3, 0.3, 0.3, 0.3, 0.3, 0.3, 0.3, 0.3, 0.3, 0.3,\n",
              "                    0.3, 0.3, 0.3, 0.3, 0.3, 0.3, 0.3, 0.3, 0.3, 0.3, 0.3,\n",
              "                    0.3, 0.3, 0.3, 0.3, 0.3, 0.3, 0.3, 0.3, 0.3, 0.3, 0.3,\n",
              "                    0.3, 0.3, 0.3, 0.3, 0.3, 0.3, 0.3, 0.3, 0.3, 0.3, 0.3,\n",
              "                    0.3, 0.3, 0.3, 0.3, 0.3, 0.3, 0.3, 0.3, 0.3, 0.3, 0.3,\n",
              "                    0.3, 0.3, 0.3, 0.3, 0.3, 0.3, 0.3, 0.3, 0.3, 0.3, 0.3,\n",
              "                    0.3, 0.3, 0.3, 0.3, 0.5, 0.5, 0.5, 0.5, 0.5, 0.5, 0.5,\n",
              "                    0.5, 0.5, 0.5, 0.5, 0.5, 0.5, 0.5, 0.5, 0.5, 0.5, 0.5,\n",
              "                    0.5, 0.5, 0.5, 0.5, 0.5, 0.5, 0.5, 0.5, 0.5, 0.5, 0.5,\n",
              "                    0.5, 0.5, 0.5, 0.5, 0.5, 0.5, 0.5, 0.5, 0.5, 0.5, 0.5,\n",
              "                    0.5, 0.5, 0.5, 0.5, 0.5, 0.5, 0.5, 0.5, 0.5, 0.5, 0.5,\n",
              "                    0.5, 0.5, 0.5, 0.5, 0.5, 0.5, 0.5, 0.5, 0.5, 0.5, 0.5,\n",
              "                    0.5, 0.5, 0.5, 0.5, 0.5, 0.5, 0.5, 0.5, 0.5, 0.5, 0.5,\n",
              "                    0.5, 0.5, 0.5, 0.5, 0.5, 0.5, 0.5, 0.5, 0.8, 0.8, 0.8,\n",
              "                    0.8, 0.8, 0.8, 0.8, 0.8, 0.8, 0.8, 0.8, 0.8, 0.8, 0.8,\n",
              "                    0.8, 0.8, 0.8, 0.8, 0.8, 0.8, 0.8, 0.8, 0.8, 0.8, 0.8,\n",
              "                    0.8, 0.8, 0.8, 0.8, 0.8, 0.8, 0.8, 0.8, 0.8, 0.8, 0.8,\n",
              "                    0.8, 0.8, 0.8, 0.8, 0.8, 0.8, 0.8, 0.8, 0.8, 0.8, 0.8,\n",
              "                    0.8, 0.8, 0.8, 0.8, 0.8, 0.8, 0.8, 0.8, 0.8, 0.8, 0.8,\n",
              "                    0.8, 0.8, 0.8, 0.8, 0.8, 0.8, 0.8, 0.8, 0.8, 0.8, 0.8,\n",
              "                    0.8, 0.8, 0.8, 0.8, 0.8, 0.8, 0.8, 0.8, 0.8, 0.8, 0.8,\n",
              "                    0.8],\n",
              "              mask=[False, False, False, False, False, False, False, False,\n",
              "                    False, False, False, False, False, False, False, False,\n",
              "                    False, False, False, False, False, False, False, False,\n",
              "                    False, False, False, False, False, False, False, False,\n",
              "                    False, False, False, False, False, False, False, False,\n",
              "                    False, False, False, False, False, False, False, False,\n",
              "                    False, False, False, False, False, False, False, False,\n",
              "                    False, False, False, False, False, False, False, False,\n",
              "                    False, False, False, False, False, False, False, False,\n",
              "                    False, False, False, False, False, False, False, False,\n",
              "                    False, False, False, False, False, False, False, False,\n",
              "                    False, False, False, False, False, False, False, False,\n",
              "                    False, False, False, False, False, False, False, False,\n",
              "                    False, False, False, False, False, False, False, False,\n",
              "                    False, False, False, False, False, False, False, False,\n",
              "                    False, False, False, False, False, False, False, False,\n",
              "                    False, False, False, False, False, False, False, False,\n",
              "                    False, False, False, False, False, False, False, False,\n",
              "                    False, False, False, False, False, False, False, False,\n",
              "                    False, False, False, False, False, False, False, False,\n",
              "                    False, False, False, False, False, False, False, False,\n",
              "                    False, False, False, False, False, False, False, False,\n",
              "                    False, False, False, False, False, False, False, False,\n",
              "                    False, False, False, False, False, False, False, False,\n",
              "                    False, False, False, False, False, False, False, False,\n",
              "                    False, False, False, False, False, False, False, False,\n",
              "                    False, False, False, False, False, False, False, False,\n",
              "                    False, False, False, False, False, False, False, False,\n",
              "                    False, False, False, False, False, False, False, False,\n",
              "                    False, False, False, False, False, False, False, False,\n",
              "                    False, False, False],\n",
              "        fill_value='?',\n",
              "             dtype=object),\n",
              " 'param_gamma': masked_array(data=[0, 0, 0, 0, 0, 0, 0, 0, 0, 0, 0, 0, 0, 0, 0, 0, 0, 0,\n",
              "                    0, 0, 0, 0, 0, 0, 0, 0, 0, 0.1, 0.1, 0.1, 0.1, 0.1,\n",
              "                    0.1, 0.1, 0.1, 0.1, 0.1, 0.1, 0.1, 0.1, 0.1, 0.1, 0.1,\n",
              "                    0.1, 0.1, 0.1, 0.1, 0.1, 0.1, 0.1, 0.1, 0.1, 0.1, 0.1,\n",
              "                    0.3, 0.3, 0.3, 0.3, 0.3, 0.3, 0.3, 0.3, 0.3, 0.3, 0.3,\n",
              "                    0.3, 0.3, 0.3, 0.3, 0.3, 0.3, 0.3, 0.3, 0.3, 0.3, 0.3,\n",
              "                    0.3, 0.3, 0.3, 0.3, 0.3, 0, 0, 0, 0, 0, 0, 0, 0, 0, 0,\n",
              "                    0, 0, 0, 0, 0, 0, 0, 0, 0, 0, 0, 0, 0, 0, 0, 0, 0, 0.1,\n",
              "                    0.1, 0.1, 0.1, 0.1, 0.1, 0.1, 0.1, 0.1, 0.1, 0.1, 0.1,\n",
              "                    0.1, 0.1, 0.1, 0.1, 0.1, 0.1, 0.1, 0.1, 0.1, 0.1, 0.1,\n",
              "                    0.1, 0.1, 0.1, 0.1, 0.3, 0.3, 0.3, 0.3, 0.3, 0.3, 0.3,\n",
              "                    0.3, 0.3, 0.3, 0.3, 0.3, 0.3, 0.3, 0.3, 0.3, 0.3, 0.3,\n",
              "                    0.3, 0.3, 0.3, 0.3, 0.3, 0.3, 0.3, 0.3, 0.3, 0, 0, 0,\n",
              "                    0, 0, 0, 0, 0, 0, 0, 0, 0, 0, 0, 0, 0, 0, 0, 0, 0, 0,\n",
              "                    0, 0, 0, 0, 0, 0, 0.1, 0.1, 0.1, 0.1, 0.1, 0.1, 0.1,\n",
              "                    0.1, 0.1, 0.1, 0.1, 0.1, 0.1, 0.1, 0.1, 0.1, 0.1, 0.1,\n",
              "                    0.1, 0.1, 0.1, 0.1, 0.1, 0.1, 0.1, 0.1, 0.1, 0.3, 0.3,\n",
              "                    0.3, 0.3, 0.3, 0.3, 0.3, 0.3, 0.3, 0.3, 0.3, 0.3, 0.3,\n",
              "                    0.3, 0.3, 0.3, 0.3, 0.3, 0.3, 0.3, 0.3, 0.3, 0.3, 0.3,\n",
              "                    0.3, 0.3, 0.3],\n",
              "              mask=[False, False, False, False, False, False, False, False,\n",
              "                    False, False, False, False, False, False, False, False,\n",
              "                    False, False, False, False, False, False, False, False,\n",
              "                    False, False, False, False, False, False, False, False,\n",
              "                    False, False, False, False, False, False, False, False,\n",
              "                    False, False, False, False, False, False, False, False,\n",
              "                    False, False, False, False, False, False, False, False,\n",
              "                    False, False, False, False, False, False, False, False,\n",
              "                    False, False, False, False, False, False, False, False,\n",
              "                    False, False, False, False, False, False, False, False,\n",
              "                    False, False, False, False, False, False, False, False,\n",
              "                    False, False, False, False, False, False, False, False,\n",
              "                    False, False, False, False, False, False, False, False,\n",
              "                    False, False, False, False, False, False, False, False,\n",
              "                    False, False, False, False, False, False, False, False,\n",
              "                    False, False, False, False, False, False, False, False,\n",
              "                    False, False, False, False, False, False, False, False,\n",
              "                    False, False, False, False, False, False, False, False,\n",
              "                    False, False, False, False, False, False, False, False,\n",
              "                    False, False, False, False, False, False, False, False,\n",
              "                    False, False, False, False, False, False, False, False,\n",
              "                    False, False, False, False, False, False, False, False,\n",
              "                    False, False, False, False, False, False, False, False,\n",
              "                    False, False, False, False, False, False, False, False,\n",
              "                    False, False, False, False, False, False, False, False,\n",
              "                    False, False, False, False, False, False, False, False,\n",
              "                    False, False, False, False, False, False, False, False,\n",
              "                    False, False, False, False, False, False, False, False,\n",
              "                    False, False, False, False, False, False, False, False,\n",
              "                    False, False, False, False, False, False, False, False,\n",
              "                    False, False, False],\n",
              "        fill_value='?',\n",
              "             dtype=object),\n",
              " 'param_learning_rate': masked_array(data=[0.001, 0.001, 0.001, 0.001, 0.001, 0.001, 0.001, 0.001,\n",
              "                    0.001, 0.01, 0.01, 0.01, 0.01, 0.01, 0.01, 0.01, 0.01,\n",
              "                    0.01, 0.1, 0.1, 0.1, 0.1, 0.1, 0.1, 0.1, 0.1, 0.1,\n",
              "                    0.001, 0.001, 0.001, 0.001, 0.001, 0.001, 0.001, 0.001,\n",
              "                    0.001, 0.01, 0.01, 0.01, 0.01, 0.01, 0.01, 0.01, 0.01,\n",
              "                    0.01, 0.1, 0.1, 0.1, 0.1, 0.1, 0.1, 0.1, 0.1, 0.1,\n",
              "                    0.001, 0.001, 0.001, 0.001, 0.001, 0.001, 0.001, 0.001,\n",
              "                    0.001, 0.01, 0.01, 0.01, 0.01, 0.01, 0.01, 0.01, 0.01,\n",
              "                    0.01, 0.1, 0.1, 0.1, 0.1, 0.1, 0.1, 0.1, 0.1, 0.1,\n",
              "                    0.001, 0.001, 0.001, 0.001, 0.001, 0.001, 0.001, 0.001,\n",
              "                    0.001, 0.01, 0.01, 0.01, 0.01, 0.01, 0.01, 0.01, 0.01,\n",
              "                    0.01, 0.1, 0.1, 0.1, 0.1, 0.1, 0.1, 0.1, 0.1, 0.1,\n",
              "                    0.001, 0.001, 0.001, 0.001, 0.001, 0.001, 0.001, 0.001,\n",
              "                    0.001, 0.01, 0.01, 0.01, 0.01, 0.01, 0.01, 0.01, 0.01,\n",
              "                    0.01, 0.1, 0.1, 0.1, 0.1, 0.1, 0.1, 0.1, 0.1, 0.1,\n",
              "                    0.001, 0.001, 0.001, 0.001, 0.001, 0.001, 0.001, 0.001,\n",
              "                    0.001, 0.01, 0.01, 0.01, 0.01, 0.01, 0.01, 0.01, 0.01,\n",
              "                    0.01, 0.1, 0.1, 0.1, 0.1, 0.1, 0.1, 0.1, 0.1, 0.1,\n",
              "                    0.001, 0.001, 0.001, 0.001, 0.001, 0.001, 0.001, 0.001,\n",
              "                    0.001, 0.01, 0.01, 0.01, 0.01, 0.01, 0.01, 0.01, 0.01,\n",
              "                    0.01, 0.1, 0.1, 0.1, 0.1, 0.1, 0.1, 0.1, 0.1, 0.1,\n",
              "                    0.001, 0.001, 0.001, 0.001, 0.001, 0.001, 0.001, 0.001,\n",
              "                    0.001, 0.01, 0.01, 0.01, 0.01, 0.01, 0.01, 0.01, 0.01,\n",
              "                    0.01, 0.1, 0.1, 0.1, 0.1, 0.1, 0.1, 0.1, 0.1, 0.1,\n",
              "                    0.001, 0.001, 0.001, 0.001, 0.001, 0.001, 0.001, 0.001,\n",
              "                    0.001, 0.01, 0.01, 0.01, 0.01, 0.01, 0.01, 0.01, 0.01,\n",
              "                    0.01, 0.1, 0.1, 0.1, 0.1, 0.1, 0.1, 0.1, 0.1, 0.1],\n",
              "              mask=[False, False, False, False, False, False, False, False,\n",
              "                    False, False, False, False, False, False, False, False,\n",
              "                    False, False, False, False, False, False, False, False,\n",
              "                    False, False, False, False, False, False, False, False,\n",
              "                    False, False, False, False, False, False, False, False,\n",
              "                    False, False, False, False, False, False, False, False,\n",
              "                    False, False, False, False, False, False, False, False,\n",
              "                    False, False, False, False, False, False, False, False,\n",
              "                    False, False, False, False, False, False, False, False,\n",
              "                    False, False, False, False, False, False, False, False,\n",
              "                    False, False, False, False, False, False, False, False,\n",
              "                    False, False, False, False, False, False, False, False,\n",
              "                    False, False, False, False, False, False, False, False,\n",
              "                    False, False, False, False, False, False, False, False,\n",
              "                    False, False, False, False, False, False, False, False,\n",
              "                    False, False, False, False, False, False, False, False,\n",
              "                    False, False, False, False, False, False, False, False,\n",
              "                    False, False, False, False, False, False, False, False,\n",
              "                    False, False, False, False, False, False, False, False,\n",
              "                    False, False, False, False, False, False, False, False,\n",
              "                    False, False, False, False, False, False, False, False,\n",
              "                    False, False, False, False, False, False, False, False,\n",
              "                    False, False, False, False, False, False, False, False,\n",
              "                    False, False, False, False, False, False, False, False,\n",
              "                    False, False, False, False, False, False, False, False,\n",
              "                    False, False, False, False, False, False, False, False,\n",
              "                    False, False, False, False, False, False, False, False,\n",
              "                    False, False, False, False, False, False, False, False,\n",
              "                    False, False, False, False, False, False, False, False,\n",
              "                    False, False, False, False, False, False, False, False,\n",
              "                    False, False, False],\n",
              "        fill_value='?',\n",
              "             dtype=object),\n",
              " 'param_max_depth': masked_array(data=[3, 3, 3, 6, 6, 6, 12, 12, 12, 3, 3, 3, 6, 6, 6, 12, 12,\n",
              "                    12, 3, 3, 3, 6, 6, 6, 12, 12, 12, 3, 3, 3, 6, 6, 6, 12,\n",
              "                    12, 12, 3, 3, 3, 6, 6, 6, 12, 12, 12, 3, 3, 3, 6, 6, 6,\n",
              "                    12, 12, 12, 3, 3, 3, 6, 6, 6, 12, 12, 12, 3, 3, 3, 6,\n",
              "                    6, 6, 12, 12, 12, 3, 3, 3, 6, 6, 6, 12, 12, 12, 3, 3,\n",
              "                    3, 6, 6, 6, 12, 12, 12, 3, 3, 3, 6, 6, 6, 12, 12, 12,\n",
              "                    3, 3, 3, 6, 6, 6, 12, 12, 12, 3, 3, 3, 6, 6, 6, 12, 12,\n",
              "                    12, 3, 3, 3, 6, 6, 6, 12, 12, 12, 3, 3, 3, 6, 6, 6, 12,\n",
              "                    12, 12, 3, 3, 3, 6, 6, 6, 12, 12, 12, 3, 3, 3, 6, 6, 6,\n",
              "                    12, 12, 12, 3, 3, 3, 6, 6, 6, 12, 12, 12, 3, 3, 3, 6,\n",
              "                    6, 6, 12, 12, 12, 3, 3, 3, 6, 6, 6, 12, 12, 12, 3, 3,\n",
              "                    3, 6, 6, 6, 12, 12, 12, 3, 3, 3, 6, 6, 6, 12, 12, 12,\n",
              "                    3, 3, 3, 6, 6, 6, 12, 12, 12, 3, 3, 3, 6, 6, 6, 12, 12,\n",
              "                    12, 3, 3, 3, 6, 6, 6, 12, 12, 12, 3, 3, 3, 6, 6, 6, 12,\n",
              "                    12, 12, 3, 3, 3, 6, 6, 6, 12, 12, 12],\n",
              "              mask=[False, False, False, False, False, False, False, False,\n",
              "                    False, False, False, False, False, False, False, False,\n",
              "                    False, False, False, False, False, False, False, False,\n",
              "                    False, False, False, False, False, False, False, False,\n",
              "                    False, False, False, False, False, False, False, False,\n",
              "                    False, False, False, False, False, False, False, False,\n",
              "                    False, False, False, False, False, False, False, False,\n",
              "                    False, False, False, False, False, False, False, False,\n",
              "                    False, False, False, False, False, False, False, False,\n",
              "                    False, False, False, False, False, False, False, False,\n",
              "                    False, False, False, False, False, False, False, False,\n",
              "                    False, False, False, False, False, False, False, False,\n",
              "                    False, False, False, False, False, False, False, False,\n",
              "                    False, False, False, False, False, False, False, False,\n",
              "                    False, False, False, False, False, False, False, False,\n",
              "                    False, False, False, False, False, False, False, False,\n",
              "                    False, False, False, False, False, False, False, False,\n",
              "                    False, False, False, False, False, False, False, False,\n",
              "                    False, False, False, False, False, False, False, False,\n",
              "                    False, False, False, False, False, False, False, False,\n",
              "                    False, False, False, False, False, False, False, False,\n",
              "                    False, False, False, False, False, False, False, False,\n",
              "                    False, False, False, False, False, False, False, False,\n",
              "                    False, False, False, False, False, False, False, False,\n",
              "                    False, False, False, False, False, False, False, False,\n",
              "                    False, False, False, False, False, False, False, False,\n",
              "                    False, False, False, False, False, False, False, False,\n",
              "                    False, False, False, False, False, False, False, False,\n",
              "                    False, False, False, False, False, False, False, False,\n",
              "                    False, False, False, False, False, False, False, False,\n",
              "                    False, False, False],\n",
              "        fill_value='?',\n",
              "             dtype=object),\n",
              " 'param_min_child_weight': masked_array(data=[1, 5, 9, 1, 5, 9, 1, 5, 9, 1, 5, 9, 1, 5, 9, 1, 5, 9,\n",
              "                    1, 5, 9, 1, 5, 9, 1, 5, 9, 1, 5, 9, 1, 5, 9, 1, 5, 9,\n",
              "                    1, 5, 9, 1, 5, 9, 1, 5, 9, 1, 5, 9, 1, 5, 9, 1, 5, 9,\n",
              "                    1, 5, 9, 1, 5, 9, 1, 5, 9, 1, 5, 9, 1, 5, 9, 1, 5, 9,\n",
              "                    1, 5, 9, 1, 5, 9, 1, 5, 9, 1, 5, 9, 1, 5, 9, 1, 5, 9,\n",
              "                    1, 5, 9, 1, 5, 9, 1, 5, 9, 1, 5, 9, 1, 5, 9, 1, 5, 9,\n",
              "                    1, 5, 9, 1, 5, 9, 1, 5, 9, 1, 5, 9, 1, 5, 9, 1, 5, 9,\n",
              "                    1, 5, 9, 1, 5, 9, 1, 5, 9, 1, 5, 9, 1, 5, 9, 1, 5, 9,\n",
              "                    1, 5, 9, 1, 5, 9, 1, 5, 9, 1, 5, 9, 1, 5, 9, 1, 5, 9,\n",
              "                    1, 5, 9, 1, 5, 9, 1, 5, 9, 1, 5, 9, 1, 5, 9, 1, 5, 9,\n",
              "                    1, 5, 9, 1, 5, 9, 1, 5, 9, 1, 5, 9, 1, 5, 9, 1, 5, 9,\n",
              "                    1, 5, 9, 1, 5, 9, 1, 5, 9, 1, 5, 9, 1, 5, 9, 1, 5, 9,\n",
              "                    1, 5, 9, 1, 5, 9, 1, 5, 9, 1, 5, 9, 1, 5, 9, 1, 5, 9,\n",
              "                    1, 5, 9, 1, 5, 9, 1, 5, 9],\n",
              "              mask=[False, False, False, False, False, False, False, False,\n",
              "                    False, False, False, False, False, False, False, False,\n",
              "                    False, False, False, False, False, False, False, False,\n",
              "                    False, False, False, False, False, False, False, False,\n",
              "                    False, False, False, False, False, False, False, False,\n",
              "                    False, False, False, False, False, False, False, False,\n",
              "                    False, False, False, False, False, False, False, False,\n",
              "                    False, False, False, False, False, False, False, False,\n",
              "                    False, False, False, False, False, False, False, False,\n",
              "                    False, False, False, False, False, False, False, False,\n",
              "                    False, False, False, False, False, False, False, False,\n",
              "                    False, False, False, False, False, False, False, False,\n",
              "                    False, False, False, False, False, False, False, False,\n",
              "                    False, False, False, False, False, False, False, False,\n",
              "                    False, False, False, False, False, False, False, False,\n",
              "                    False, False, False, False, False, False, False, False,\n",
              "                    False, False, False, False, False, False, False, False,\n",
              "                    False, False, False, False, False, False, False, False,\n",
              "                    False, False, False, False, False, False, False, False,\n",
              "                    False, False, False, False, False, False, False, False,\n",
              "                    False, False, False, False, False, False, False, False,\n",
              "                    False, False, False, False, False, False, False, False,\n",
              "                    False, False, False, False, False, False, False, False,\n",
              "                    False, False, False, False, False, False, False, False,\n",
              "                    False, False, False, False, False, False, False, False,\n",
              "                    False, False, False, False, False, False, False, False,\n",
              "                    False, False, False, False, False, False, False, False,\n",
              "                    False, False, False, False, False, False, False, False,\n",
              "                    False, False, False, False, False, False, False, False,\n",
              "                    False, False, False, False, False, False, False, False,\n",
              "                    False, False, False],\n",
              "        fill_value='?',\n",
              "             dtype=object),\n",
              " 'params': [{'colsample_bytree': 0.3,\n",
              "   'gamma': 0,\n",
              "   'learning_rate': 0.001,\n",
              "   'max_depth': 3,\n",
              "   'min_child_weight': 1},\n",
              "  {'colsample_bytree': 0.3,\n",
              "   'gamma': 0,\n",
              "   'learning_rate': 0.001,\n",
              "   'max_depth': 3,\n",
              "   'min_child_weight': 5},\n",
              "  {'colsample_bytree': 0.3,\n",
              "   'gamma': 0,\n",
              "   'learning_rate': 0.001,\n",
              "   'max_depth': 3,\n",
              "   'min_child_weight': 9},\n",
              "  {'colsample_bytree': 0.3,\n",
              "   'gamma': 0,\n",
              "   'learning_rate': 0.001,\n",
              "   'max_depth': 6,\n",
              "   'min_child_weight': 1},\n",
              "  {'colsample_bytree': 0.3,\n",
              "   'gamma': 0,\n",
              "   'learning_rate': 0.001,\n",
              "   'max_depth': 6,\n",
              "   'min_child_weight': 5},\n",
              "  {'colsample_bytree': 0.3,\n",
              "   'gamma': 0,\n",
              "   'learning_rate': 0.001,\n",
              "   'max_depth': 6,\n",
              "   'min_child_weight': 9},\n",
              "  {'colsample_bytree': 0.3,\n",
              "   'gamma': 0,\n",
              "   'learning_rate': 0.001,\n",
              "   'max_depth': 12,\n",
              "   'min_child_weight': 1},\n",
              "  {'colsample_bytree': 0.3,\n",
              "   'gamma': 0,\n",
              "   'learning_rate': 0.001,\n",
              "   'max_depth': 12,\n",
              "   'min_child_weight': 5},\n",
              "  {'colsample_bytree': 0.3,\n",
              "   'gamma': 0,\n",
              "   'learning_rate': 0.001,\n",
              "   'max_depth': 12,\n",
              "   'min_child_weight': 9},\n",
              "  {'colsample_bytree': 0.3,\n",
              "   'gamma': 0,\n",
              "   'learning_rate': 0.01,\n",
              "   'max_depth': 3,\n",
              "   'min_child_weight': 1},\n",
              "  {'colsample_bytree': 0.3,\n",
              "   'gamma': 0,\n",
              "   'learning_rate': 0.01,\n",
              "   'max_depth': 3,\n",
              "   'min_child_weight': 5},\n",
              "  {'colsample_bytree': 0.3,\n",
              "   'gamma': 0,\n",
              "   'learning_rate': 0.01,\n",
              "   'max_depth': 3,\n",
              "   'min_child_weight': 9},\n",
              "  {'colsample_bytree': 0.3,\n",
              "   'gamma': 0,\n",
              "   'learning_rate': 0.01,\n",
              "   'max_depth': 6,\n",
              "   'min_child_weight': 1},\n",
              "  {'colsample_bytree': 0.3,\n",
              "   'gamma': 0,\n",
              "   'learning_rate': 0.01,\n",
              "   'max_depth': 6,\n",
              "   'min_child_weight': 5},\n",
              "  {'colsample_bytree': 0.3,\n",
              "   'gamma': 0,\n",
              "   'learning_rate': 0.01,\n",
              "   'max_depth': 6,\n",
              "   'min_child_weight': 9},\n",
              "  {'colsample_bytree': 0.3,\n",
              "   'gamma': 0,\n",
              "   'learning_rate': 0.01,\n",
              "   'max_depth': 12,\n",
              "   'min_child_weight': 1},\n",
              "  {'colsample_bytree': 0.3,\n",
              "   'gamma': 0,\n",
              "   'learning_rate': 0.01,\n",
              "   'max_depth': 12,\n",
              "   'min_child_weight': 5},\n",
              "  {'colsample_bytree': 0.3,\n",
              "   'gamma': 0,\n",
              "   'learning_rate': 0.01,\n",
              "   'max_depth': 12,\n",
              "   'min_child_weight': 9},\n",
              "  {'colsample_bytree': 0.3,\n",
              "   'gamma': 0,\n",
              "   'learning_rate': 0.1,\n",
              "   'max_depth': 3,\n",
              "   'min_child_weight': 1},\n",
              "  {'colsample_bytree': 0.3,\n",
              "   'gamma': 0,\n",
              "   'learning_rate': 0.1,\n",
              "   'max_depth': 3,\n",
              "   'min_child_weight': 5},\n",
              "  {'colsample_bytree': 0.3,\n",
              "   'gamma': 0,\n",
              "   'learning_rate': 0.1,\n",
              "   'max_depth': 3,\n",
              "   'min_child_weight': 9},\n",
              "  {'colsample_bytree': 0.3,\n",
              "   'gamma': 0,\n",
              "   'learning_rate': 0.1,\n",
              "   'max_depth': 6,\n",
              "   'min_child_weight': 1},\n",
              "  {'colsample_bytree': 0.3,\n",
              "   'gamma': 0,\n",
              "   'learning_rate': 0.1,\n",
              "   'max_depth': 6,\n",
              "   'min_child_weight': 5},\n",
              "  {'colsample_bytree': 0.3,\n",
              "   'gamma': 0,\n",
              "   'learning_rate': 0.1,\n",
              "   'max_depth': 6,\n",
              "   'min_child_weight': 9},\n",
              "  {'colsample_bytree': 0.3,\n",
              "   'gamma': 0,\n",
              "   'learning_rate': 0.1,\n",
              "   'max_depth': 12,\n",
              "   'min_child_weight': 1},\n",
              "  {'colsample_bytree': 0.3,\n",
              "   'gamma': 0,\n",
              "   'learning_rate': 0.1,\n",
              "   'max_depth': 12,\n",
              "   'min_child_weight': 5},\n",
              "  {'colsample_bytree': 0.3,\n",
              "   'gamma': 0,\n",
              "   'learning_rate': 0.1,\n",
              "   'max_depth': 12,\n",
              "   'min_child_weight': 9},\n",
              "  {'colsample_bytree': 0.3,\n",
              "   'gamma': 0.1,\n",
              "   'learning_rate': 0.001,\n",
              "   'max_depth': 3,\n",
              "   'min_child_weight': 1},\n",
              "  {'colsample_bytree': 0.3,\n",
              "   'gamma': 0.1,\n",
              "   'learning_rate': 0.001,\n",
              "   'max_depth': 3,\n",
              "   'min_child_weight': 5},\n",
              "  {'colsample_bytree': 0.3,\n",
              "   'gamma': 0.1,\n",
              "   'learning_rate': 0.001,\n",
              "   'max_depth': 3,\n",
              "   'min_child_weight': 9},\n",
              "  {'colsample_bytree': 0.3,\n",
              "   'gamma': 0.1,\n",
              "   'learning_rate': 0.001,\n",
              "   'max_depth': 6,\n",
              "   'min_child_weight': 1},\n",
              "  {'colsample_bytree': 0.3,\n",
              "   'gamma': 0.1,\n",
              "   'learning_rate': 0.001,\n",
              "   'max_depth': 6,\n",
              "   'min_child_weight': 5},\n",
              "  {'colsample_bytree': 0.3,\n",
              "   'gamma': 0.1,\n",
              "   'learning_rate': 0.001,\n",
              "   'max_depth': 6,\n",
              "   'min_child_weight': 9},\n",
              "  {'colsample_bytree': 0.3,\n",
              "   'gamma': 0.1,\n",
              "   'learning_rate': 0.001,\n",
              "   'max_depth': 12,\n",
              "   'min_child_weight': 1},\n",
              "  {'colsample_bytree': 0.3,\n",
              "   'gamma': 0.1,\n",
              "   'learning_rate': 0.001,\n",
              "   'max_depth': 12,\n",
              "   'min_child_weight': 5},\n",
              "  {'colsample_bytree': 0.3,\n",
              "   'gamma': 0.1,\n",
              "   'learning_rate': 0.001,\n",
              "   'max_depth': 12,\n",
              "   'min_child_weight': 9},\n",
              "  {'colsample_bytree': 0.3,\n",
              "   'gamma': 0.1,\n",
              "   'learning_rate': 0.01,\n",
              "   'max_depth': 3,\n",
              "   'min_child_weight': 1},\n",
              "  {'colsample_bytree': 0.3,\n",
              "   'gamma': 0.1,\n",
              "   'learning_rate': 0.01,\n",
              "   'max_depth': 3,\n",
              "   'min_child_weight': 5},\n",
              "  {'colsample_bytree': 0.3,\n",
              "   'gamma': 0.1,\n",
              "   'learning_rate': 0.01,\n",
              "   'max_depth': 3,\n",
              "   'min_child_weight': 9},\n",
              "  {'colsample_bytree': 0.3,\n",
              "   'gamma': 0.1,\n",
              "   'learning_rate': 0.01,\n",
              "   'max_depth': 6,\n",
              "   'min_child_weight': 1},\n",
              "  {'colsample_bytree': 0.3,\n",
              "   'gamma': 0.1,\n",
              "   'learning_rate': 0.01,\n",
              "   'max_depth': 6,\n",
              "   'min_child_weight': 5},\n",
              "  {'colsample_bytree': 0.3,\n",
              "   'gamma': 0.1,\n",
              "   'learning_rate': 0.01,\n",
              "   'max_depth': 6,\n",
              "   'min_child_weight': 9},\n",
              "  {'colsample_bytree': 0.3,\n",
              "   'gamma': 0.1,\n",
              "   'learning_rate': 0.01,\n",
              "   'max_depth': 12,\n",
              "   'min_child_weight': 1},\n",
              "  {'colsample_bytree': 0.3,\n",
              "   'gamma': 0.1,\n",
              "   'learning_rate': 0.01,\n",
              "   'max_depth': 12,\n",
              "   'min_child_weight': 5},\n",
              "  {'colsample_bytree': 0.3,\n",
              "   'gamma': 0.1,\n",
              "   'learning_rate': 0.01,\n",
              "   'max_depth': 12,\n",
              "   'min_child_weight': 9},\n",
              "  {'colsample_bytree': 0.3,\n",
              "   'gamma': 0.1,\n",
              "   'learning_rate': 0.1,\n",
              "   'max_depth': 3,\n",
              "   'min_child_weight': 1},\n",
              "  {'colsample_bytree': 0.3,\n",
              "   'gamma': 0.1,\n",
              "   'learning_rate': 0.1,\n",
              "   'max_depth': 3,\n",
              "   'min_child_weight': 5},\n",
              "  {'colsample_bytree': 0.3,\n",
              "   'gamma': 0.1,\n",
              "   'learning_rate': 0.1,\n",
              "   'max_depth': 3,\n",
              "   'min_child_weight': 9},\n",
              "  {'colsample_bytree': 0.3,\n",
              "   'gamma': 0.1,\n",
              "   'learning_rate': 0.1,\n",
              "   'max_depth': 6,\n",
              "   'min_child_weight': 1},\n",
              "  {'colsample_bytree': 0.3,\n",
              "   'gamma': 0.1,\n",
              "   'learning_rate': 0.1,\n",
              "   'max_depth': 6,\n",
              "   'min_child_weight': 5},\n",
              "  {'colsample_bytree': 0.3,\n",
              "   'gamma': 0.1,\n",
              "   'learning_rate': 0.1,\n",
              "   'max_depth': 6,\n",
              "   'min_child_weight': 9},\n",
              "  {'colsample_bytree': 0.3,\n",
              "   'gamma': 0.1,\n",
              "   'learning_rate': 0.1,\n",
              "   'max_depth': 12,\n",
              "   'min_child_weight': 1},\n",
              "  {'colsample_bytree': 0.3,\n",
              "   'gamma': 0.1,\n",
              "   'learning_rate': 0.1,\n",
              "   'max_depth': 12,\n",
              "   'min_child_weight': 5},\n",
              "  {'colsample_bytree': 0.3,\n",
              "   'gamma': 0.1,\n",
              "   'learning_rate': 0.1,\n",
              "   'max_depth': 12,\n",
              "   'min_child_weight': 9},\n",
              "  {'colsample_bytree': 0.3,\n",
              "   'gamma': 0.3,\n",
              "   'learning_rate': 0.001,\n",
              "   'max_depth': 3,\n",
              "   'min_child_weight': 1},\n",
              "  {'colsample_bytree': 0.3,\n",
              "   'gamma': 0.3,\n",
              "   'learning_rate': 0.001,\n",
              "   'max_depth': 3,\n",
              "   'min_child_weight': 5},\n",
              "  {'colsample_bytree': 0.3,\n",
              "   'gamma': 0.3,\n",
              "   'learning_rate': 0.001,\n",
              "   'max_depth': 3,\n",
              "   'min_child_weight': 9},\n",
              "  {'colsample_bytree': 0.3,\n",
              "   'gamma': 0.3,\n",
              "   'learning_rate': 0.001,\n",
              "   'max_depth': 6,\n",
              "   'min_child_weight': 1},\n",
              "  {'colsample_bytree': 0.3,\n",
              "   'gamma': 0.3,\n",
              "   'learning_rate': 0.001,\n",
              "   'max_depth': 6,\n",
              "   'min_child_weight': 5},\n",
              "  {'colsample_bytree': 0.3,\n",
              "   'gamma': 0.3,\n",
              "   'learning_rate': 0.001,\n",
              "   'max_depth': 6,\n",
              "   'min_child_weight': 9},\n",
              "  {'colsample_bytree': 0.3,\n",
              "   'gamma': 0.3,\n",
              "   'learning_rate': 0.001,\n",
              "   'max_depth': 12,\n",
              "   'min_child_weight': 1},\n",
              "  {'colsample_bytree': 0.3,\n",
              "   'gamma': 0.3,\n",
              "   'learning_rate': 0.001,\n",
              "   'max_depth': 12,\n",
              "   'min_child_weight': 5},\n",
              "  {'colsample_bytree': 0.3,\n",
              "   'gamma': 0.3,\n",
              "   'learning_rate': 0.001,\n",
              "   'max_depth': 12,\n",
              "   'min_child_weight': 9},\n",
              "  {'colsample_bytree': 0.3,\n",
              "   'gamma': 0.3,\n",
              "   'learning_rate': 0.01,\n",
              "   'max_depth': 3,\n",
              "   'min_child_weight': 1},\n",
              "  {'colsample_bytree': 0.3,\n",
              "   'gamma': 0.3,\n",
              "   'learning_rate': 0.01,\n",
              "   'max_depth': 3,\n",
              "   'min_child_weight': 5},\n",
              "  {'colsample_bytree': 0.3,\n",
              "   'gamma': 0.3,\n",
              "   'learning_rate': 0.01,\n",
              "   'max_depth': 3,\n",
              "   'min_child_weight': 9},\n",
              "  {'colsample_bytree': 0.3,\n",
              "   'gamma': 0.3,\n",
              "   'learning_rate': 0.01,\n",
              "   'max_depth': 6,\n",
              "   'min_child_weight': 1},\n",
              "  {'colsample_bytree': 0.3,\n",
              "   'gamma': 0.3,\n",
              "   'learning_rate': 0.01,\n",
              "   'max_depth': 6,\n",
              "   'min_child_weight': 5},\n",
              "  {'colsample_bytree': 0.3,\n",
              "   'gamma': 0.3,\n",
              "   'learning_rate': 0.01,\n",
              "   'max_depth': 6,\n",
              "   'min_child_weight': 9},\n",
              "  {'colsample_bytree': 0.3,\n",
              "   'gamma': 0.3,\n",
              "   'learning_rate': 0.01,\n",
              "   'max_depth': 12,\n",
              "   'min_child_weight': 1},\n",
              "  {'colsample_bytree': 0.3,\n",
              "   'gamma': 0.3,\n",
              "   'learning_rate': 0.01,\n",
              "   'max_depth': 12,\n",
              "   'min_child_weight': 5},\n",
              "  {'colsample_bytree': 0.3,\n",
              "   'gamma': 0.3,\n",
              "   'learning_rate': 0.01,\n",
              "   'max_depth': 12,\n",
              "   'min_child_weight': 9},\n",
              "  {'colsample_bytree': 0.3,\n",
              "   'gamma': 0.3,\n",
              "   'learning_rate': 0.1,\n",
              "   'max_depth': 3,\n",
              "   'min_child_weight': 1},\n",
              "  {'colsample_bytree': 0.3,\n",
              "   'gamma': 0.3,\n",
              "   'learning_rate': 0.1,\n",
              "   'max_depth': 3,\n",
              "   'min_child_weight': 5},\n",
              "  {'colsample_bytree': 0.3,\n",
              "   'gamma': 0.3,\n",
              "   'learning_rate': 0.1,\n",
              "   'max_depth': 3,\n",
              "   'min_child_weight': 9},\n",
              "  {'colsample_bytree': 0.3,\n",
              "   'gamma': 0.3,\n",
              "   'learning_rate': 0.1,\n",
              "   'max_depth': 6,\n",
              "   'min_child_weight': 1},\n",
              "  {'colsample_bytree': 0.3,\n",
              "   'gamma': 0.3,\n",
              "   'learning_rate': 0.1,\n",
              "   'max_depth': 6,\n",
              "   'min_child_weight': 5},\n",
              "  {'colsample_bytree': 0.3,\n",
              "   'gamma': 0.3,\n",
              "   'learning_rate': 0.1,\n",
              "   'max_depth': 6,\n",
              "   'min_child_weight': 9},\n",
              "  {'colsample_bytree': 0.3,\n",
              "   'gamma': 0.3,\n",
              "   'learning_rate': 0.1,\n",
              "   'max_depth': 12,\n",
              "   'min_child_weight': 1},\n",
              "  {'colsample_bytree': 0.3,\n",
              "   'gamma': 0.3,\n",
              "   'learning_rate': 0.1,\n",
              "   'max_depth': 12,\n",
              "   'min_child_weight': 5},\n",
              "  {'colsample_bytree': 0.3,\n",
              "   'gamma': 0.3,\n",
              "   'learning_rate': 0.1,\n",
              "   'max_depth': 12,\n",
              "   'min_child_weight': 9},\n",
              "  {'colsample_bytree': 0.5,\n",
              "   'gamma': 0,\n",
              "   'learning_rate': 0.001,\n",
              "   'max_depth': 3,\n",
              "   'min_child_weight': 1},\n",
              "  {'colsample_bytree': 0.5,\n",
              "   'gamma': 0,\n",
              "   'learning_rate': 0.001,\n",
              "   'max_depth': 3,\n",
              "   'min_child_weight': 5},\n",
              "  {'colsample_bytree': 0.5,\n",
              "   'gamma': 0,\n",
              "   'learning_rate': 0.001,\n",
              "   'max_depth': 3,\n",
              "   'min_child_weight': 9},\n",
              "  {'colsample_bytree': 0.5,\n",
              "   'gamma': 0,\n",
              "   'learning_rate': 0.001,\n",
              "   'max_depth': 6,\n",
              "   'min_child_weight': 1},\n",
              "  {'colsample_bytree': 0.5,\n",
              "   'gamma': 0,\n",
              "   'learning_rate': 0.001,\n",
              "   'max_depth': 6,\n",
              "   'min_child_weight': 5},\n",
              "  {'colsample_bytree': 0.5,\n",
              "   'gamma': 0,\n",
              "   'learning_rate': 0.001,\n",
              "   'max_depth': 6,\n",
              "   'min_child_weight': 9},\n",
              "  {'colsample_bytree': 0.5,\n",
              "   'gamma': 0,\n",
              "   'learning_rate': 0.001,\n",
              "   'max_depth': 12,\n",
              "   'min_child_weight': 1},\n",
              "  {'colsample_bytree': 0.5,\n",
              "   'gamma': 0,\n",
              "   'learning_rate': 0.001,\n",
              "   'max_depth': 12,\n",
              "   'min_child_weight': 5},\n",
              "  {'colsample_bytree': 0.5,\n",
              "   'gamma': 0,\n",
              "   'learning_rate': 0.001,\n",
              "   'max_depth': 12,\n",
              "   'min_child_weight': 9},\n",
              "  {'colsample_bytree': 0.5,\n",
              "   'gamma': 0,\n",
              "   'learning_rate': 0.01,\n",
              "   'max_depth': 3,\n",
              "   'min_child_weight': 1},\n",
              "  {'colsample_bytree': 0.5,\n",
              "   'gamma': 0,\n",
              "   'learning_rate': 0.01,\n",
              "   'max_depth': 3,\n",
              "   'min_child_weight': 5},\n",
              "  {'colsample_bytree': 0.5,\n",
              "   'gamma': 0,\n",
              "   'learning_rate': 0.01,\n",
              "   'max_depth': 3,\n",
              "   'min_child_weight': 9},\n",
              "  {'colsample_bytree': 0.5,\n",
              "   'gamma': 0,\n",
              "   'learning_rate': 0.01,\n",
              "   'max_depth': 6,\n",
              "   'min_child_weight': 1},\n",
              "  {'colsample_bytree': 0.5,\n",
              "   'gamma': 0,\n",
              "   'learning_rate': 0.01,\n",
              "   'max_depth': 6,\n",
              "   'min_child_weight': 5},\n",
              "  {'colsample_bytree': 0.5,\n",
              "   'gamma': 0,\n",
              "   'learning_rate': 0.01,\n",
              "   'max_depth': 6,\n",
              "   'min_child_weight': 9},\n",
              "  {'colsample_bytree': 0.5,\n",
              "   'gamma': 0,\n",
              "   'learning_rate': 0.01,\n",
              "   'max_depth': 12,\n",
              "   'min_child_weight': 1},\n",
              "  {'colsample_bytree': 0.5,\n",
              "   'gamma': 0,\n",
              "   'learning_rate': 0.01,\n",
              "   'max_depth': 12,\n",
              "   'min_child_weight': 5},\n",
              "  {'colsample_bytree': 0.5,\n",
              "   'gamma': 0,\n",
              "   'learning_rate': 0.01,\n",
              "   'max_depth': 12,\n",
              "   'min_child_weight': 9},\n",
              "  {'colsample_bytree': 0.5,\n",
              "   'gamma': 0,\n",
              "   'learning_rate': 0.1,\n",
              "   'max_depth': 3,\n",
              "   'min_child_weight': 1},\n",
              "  {'colsample_bytree': 0.5,\n",
              "   'gamma': 0,\n",
              "   'learning_rate': 0.1,\n",
              "   'max_depth': 3,\n",
              "   'min_child_weight': 5},\n",
              "  {'colsample_bytree': 0.5,\n",
              "   'gamma': 0,\n",
              "   'learning_rate': 0.1,\n",
              "   'max_depth': 3,\n",
              "   'min_child_weight': 9},\n",
              "  {'colsample_bytree': 0.5,\n",
              "   'gamma': 0,\n",
              "   'learning_rate': 0.1,\n",
              "   'max_depth': 6,\n",
              "   'min_child_weight': 1},\n",
              "  {'colsample_bytree': 0.5,\n",
              "   'gamma': 0,\n",
              "   'learning_rate': 0.1,\n",
              "   'max_depth': 6,\n",
              "   'min_child_weight': 5},\n",
              "  {'colsample_bytree': 0.5,\n",
              "   'gamma': 0,\n",
              "   'learning_rate': 0.1,\n",
              "   'max_depth': 6,\n",
              "   'min_child_weight': 9},\n",
              "  {'colsample_bytree': 0.5,\n",
              "   'gamma': 0,\n",
              "   'learning_rate': 0.1,\n",
              "   'max_depth': 12,\n",
              "   'min_child_weight': 1},\n",
              "  {'colsample_bytree': 0.5,\n",
              "   'gamma': 0,\n",
              "   'learning_rate': 0.1,\n",
              "   'max_depth': 12,\n",
              "   'min_child_weight': 5},\n",
              "  {'colsample_bytree': 0.5,\n",
              "   'gamma': 0,\n",
              "   'learning_rate': 0.1,\n",
              "   'max_depth': 12,\n",
              "   'min_child_weight': 9},\n",
              "  {'colsample_bytree': 0.5,\n",
              "   'gamma': 0.1,\n",
              "   'learning_rate': 0.001,\n",
              "   'max_depth': 3,\n",
              "   'min_child_weight': 1},\n",
              "  {'colsample_bytree': 0.5,\n",
              "   'gamma': 0.1,\n",
              "   'learning_rate': 0.001,\n",
              "   'max_depth': 3,\n",
              "   'min_child_weight': 5},\n",
              "  {'colsample_bytree': 0.5,\n",
              "   'gamma': 0.1,\n",
              "   'learning_rate': 0.001,\n",
              "   'max_depth': 3,\n",
              "   'min_child_weight': 9},\n",
              "  {'colsample_bytree': 0.5,\n",
              "   'gamma': 0.1,\n",
              "   'learning_rate': 0.001,\n",
              "   'max_depth': 6,\n",
              "   'min_child_weight': 1},\n",
              "  {'colsample_bytree': 0.5,\n",
              "   'gamma': 0.1,\n",
              "   'learning_rate': 0.001,\n",
              "   'max_depth': 6,\n",
              "   'min_child_weight': 5},\n",
              "  {'colsample_bytree': 0.5,\n",
              "   'gamma': 0.1,\n",
              "   'learning_rate': 0.001,\n",
              "   'max_depth': 6,\n",
              "   'min_child_weight': 9},\n",
              "  {'colsample_bytree': 0.5,\n",
              "   'gamma': 0.1,\n",
              "   'learning_rate': 0.001,\n",
              "   'max_depth': 12,\n",
              "   'min_child_weight': 1},\n",
              "  {'colsample_bytree': 0.5,\n",
              "   'gamma': 0.1,\n",
              "   'learning_rate': 0.001,\n",
              "   'max_depth': 12,\n",
              "   'min_child_weight': 5},\n",
              "  {'colsample_bytree': 0.5,\n",
              "   'gamma': 0.1,\n",
              "   'learning_rate': 0.001,\n",
              "   'max_depth': 12,\n",
              "   'min_child_weight': 9},\n",
              "  {'colsample_bytree': 0.5,\n",
              "   'gamma': 0.1,\n",
              "   'learning_rate': 0.01,\n",
              "   'max_depth': 3,\n",
              "   'min_child_weight': 1},\n",
              "  {'colsample_bytree': 0.5,\n",
              "   'gamma': 0.1,\n",
              "   'learning_rate': 0.01,\n",
              "   'max_depth': 3,\n",
              "   'min_child_weight': 5},\n",
              "  {'colsample_bytree': 0.5,\n",
              "   'gamma': 0.1,\n",
              "   'learning_rate': 0.01,\n",
              "   'max_depth': 3,\n",
              "   'min_child_weight': 9},\n",
              "  {'colsample_bytree': 0.5,\n",
              "   'gamma': 0.1,\n",
              "   'learning_rate': 0.01,\n",
              "   'max_depth': 6,\n",
              "   'min_child_weight': 1},\n",
              "  {'colsample_bytree': 0.5,\n",
              "   'gamma': 0.1,\n",
              "   'learning_rate': 0.01,\n",
              "   'max_depth': 6,\n",
              "   'min_child_weight': 5},\n",
              "  {'colsample_bytree': 0.5,\n",
              "   'gamma': 0.1,\n",
              "   'learning_rate': 0.01,\n",
              "   'max_depth': 6,\n",
              "   'min_child_weight': 9},\n",
              "  {'colsample_bytree': 0.5,\n",
              "   'gamma': 0.1,\n",
              "   'learning_rate': 0.01,\n",
              "   'max_depth': 12,\n",
              "   'min_child_weight': 1},\n",
              "  {'colsample_bytree': 0.5,\n",
              "   'gamma': 0.1,\n",
              "   'learning_rate': 0.01,\n",
              "   'max_depth': 12,\n",
              "   'min_child_weight': 5},\n",
              "  {'colsample_bytree': 0.5,\n",
              "   'gamma': 0.1,\n",
              "   'learning_rate': 0.01,\n",
              "   'max_depth': 12,\n",
              "   'min_child_weight': 9},\n",
              "  {'colsample_bytree': 0.5,\n",
              "   'gamma': 0.1,\n",
              "   'learning_rate': 0.1,\n",
              "   'max_depth': 3,\n",
              "   'min_child_weight': 1},\n",
              "  {'colsample_bytree': 0.5,\n",
              "   'gamma': 0.1,\n",
              "   'learning_rate': 0.1,\n",
              "   'max_depth': 3,\n",
              "   'min_child_weight': 5},\n",
              "  {'colsample_bytree': 0.5,\n",
              "   'gamma': 0.1,\n",
              "   'learning_rate': 0.1,\n",
              "   'max_depth': 3,\n",
              "   'min_child_weight': 9},\n",
              "  {'colsample_bytree': 0.5,\n",
              "   'gamma': 0.1,\n",
              "   'learning_rate': 0.1,\n",
              "   'max_depth': 6,\n",
              "   'min_child_weight': 1},\n",
              "  {'colsample_bytree': 0.5,\n",
              "   'gamma': 0.1,\n",
              "   'learning_rate': 0.1,\n",
              "   'max_depth': 6,\n",
              "   'min_child_weight': 5},\n",
              "  {'colsample_bytree': 0.5,\n",
              "   'gamma': 0.1,\n",
              "   'learning_rate': 0.1,\n",
              "   'max_depth': 6,\n",
              "   'min_child_weight': 9},\n",
              "  {'colsample_bytree': 0.5,\n",
              "   'gamma': 0.1,\n",
              "   'learning_rate': 0.1,\n",
              "   'max_depth': 12,\n",
              "   'min_child_weight': 1},\n",
              "  {'colsample_bytree': 0.5,\n",
              "   'gamma': 0.1,\n",
              "   'learning_rate': 0.1,\n",
              "   'max_depth': 12,\n",
              "   'min_child_weight': 5},\n",
              "  {'colsample_bytree': 0.5,\n",
              "   'gamma': 0.1,\n",
              "   'learning_rate': 0.1,\n",
              "   'max_depth': 12,\n",
              "   'min_child_weight': 9},\n",
              "  {'colsample_bytree': 0.5,\n",
              "   'gamma': 0.3,\n",
              "   'learning_rate': 0.001,\n",
              "   'max_depth': 3,\n",
              "   'min_child_weight': 1},\n",
              "  {'colsample_bytree': 0.5,\n",
              "   'gamma': 0.3,\n",
              "   'learning_rate': 0.001,\n",
              "   'max_depth': 3,\n",
              "   'min_child_weight': 5},\n",
              "  {'colsample_bytree': 0.5,\n",
              "   'gamma': 0.3,\n",
              "   'learning_rate': 0.001,\n",
              "   'max_depth': 3,\n",
              "   'min_child_weight': 9},\n",
              "  {'colsample_bytree': 0.5,\n",
              "   'gamma': 0.3,\n",
              "   'learning_rate': 0.001,\n",
              "   'max_depth': 6,\n",
              "   'min_child_weight': 1},\n",
              "  {'colsample_bytree': 0.5,\n",
              "   'gamma': 0.3,\n",
              "   'learning_rate': 0.001,\n",
              "   'max_depth': 6,\n",
              "   'min_child_weight': 5},\n",
              "  {'colsample_bytree': 0.5,\n",
              "   'gamma': 0.3,\n",
              "   'learning_rate': 0.001,\n",
              "   'max_depth': 6,\n",
              "   'min_child_weight': 9},\n",
              "  {'colsample_bytree': 0.5,\n",
              "   'gamma': 0.3,\n",
              "   'learning_rate': 0.001,\n",
              "   'max_depth': 12,\n",
              "   'min_child_weight': 1},\n",
              "  {'colsample_bytree': 0.5,\n",
              "   'gamma': 0.3,\n",
              "   'learning_rate': 0.001,\n",
              "   'max_depth': 12,\n",
              "   'min_child_weight': 5},\n",
              "  {'colsample_bytree': 0.5,\n",
              "   'gamma': 0.3,\n",
              "   'learning_rate': 0.001,\n",
              "   'max_depth': 12,\n",
              "   'min_child_weight': 9},\n",
              "  {'colsample_bytree': 0.5,\n",
              "   'gamma': 0.3,\n",
              "   'learning_rate': 0.01,\n",
              "   'max_depth': 3,\n",
              "   'min_child_weight': 1},\n",
              "  {'colsample_bytree': 0.5,\n",
              "   'gamma': 0.3,\n",
              "   'learning_rate': 0.01,\n",
              "   'max_depth': 3,\n",
              "   'min_child_weight': 5},\n",
              "  {'colsample_bytree': 0.5,\n",
              "   'gamma': 0.3,\n",
              "   'learning_rate': 0.01,\n",
              "   'max_depth': 3,\n",
              "   'min_child_weight': 9},\n",
              "  {'colsample_bytree': 0.5,\n",
              "   'gamma': 0.3,\n",
              "   'learning_rate': 0.01,\n",
              "   'max_depth': 6,\n",
              "   'min_child_weight': 1},\n",
              "  {'colsample_bytree': 0.5,\n",
              "   'gamma': 0.3,\n",
              "   'learning_rate': 0.01,\n",
              "   'max_depth': 6,\n",
              "   'min_child_weight': 5},\n",
              "  {'colsample_bytree': 0.5,\n",
              "   'gamma': 0.3,\n",
              "   'learning_rate': 0.01,\n",
              "   'max_depth': 6,\n",
              "   'min_child_weight': 9},\n",
              "  {'colsample_bytree': 0.5,\n",
              "   'gamma': 0.3,\n",
              "   'learning_rate': 0.01,\n",
              "   'max_depth': 12,\n",
              "   'min_child_weight': 1},\n",
              "  {'colsample_bytree': 0.5,\n",
              "   'gamma': 0.3,\n",
              "   'learning_rate': 0.01,\n",
              "   'max_depth': 12,\n",
              "   'min_child_weight': 5},\n",
              "  {'colsample_bytree': 0.5,\n",
              "   'gamma': 0.3,\n",
              "   'learning_rate': 0.01,\n",
              "   'max_depth': 12,\n",
              "   'min_child_weight': 9},\n",
              "  {'colsample_bytree': 0.5,\n",
              "   'gamma': 0.3,\n",
              "   'learning_rate': 0.1,\n",
              "   'max_depth': 3,\n",
              "   'min_child_weight': 1},\n",
              "  {'colsample_bytree': 0.5,\n",
              "   'gamma': 0.3,\n",
              "   'learning_rate': 0.1,\n",
              "   'max_depth': 3,\n",
              "   'min_child_weight': 5},\n",
              "  {'colsample_bytree': 0.5,\n",
              "   'gamma': 0.3,\n",
              "   'learning_rate': 0.1,\n",
              "   'max_depth': 3,\n",
              "   'min_child_weight': 9},\n",
              "  {'colsample_bytree': 0.5,\n",
              "   'gamma': 0.3,\n",
              "   'learning_rate': 0.1,\n",
              "   'max_depth': 6,\n",
              "   'min_child_weight': 1},\n",
              "  {'colsample_bytree': 0.5,\n",
              "   'gamma': 0.3,\n",
              "   'learning_rate': 0.1,\n",
              "   'max_depth': 6,\n",
              "   'min_child_weight': 5},\n",
              "  {'colsample_bytree': 0.5,\n",
              "   'gamma': 0.3,\n",
              "   'learning_rate': 0.1,\n",
              "   'max_depth': 6,\n",
              "   'min_child_weight': 9},\n",
              "  {'colsample_bytree': 0.5,\n",
              "   'gamma': 0.3,\n",
              "   'learning_rate': 0.1,\n",
              "   'max_depth': 12,\n",
              "   'min_child_weight': 1},\n",
              "  {'colsample_bytree': 0.5,\n",
              "   'gamma': 0.3,\n",
              "   'learning_rate': 0.1,\n",
              "   'max_depth': 12,\n",
              "   'min_child_weight': 5},\n",
              "  {'colsample_bytree': 0.5,\n",
              "   'gamma': 0.3,\n",
              "   'learning_rate': 0.1,\n",
              "   'max_depth': 12,\n",
              "   'min_child_weight': 9},\n",
              "  {'colsample_bytree': 0.8,\n",
              "   'gamma': 0,\n",
              "   'learning_rate': 0.001,\n",
              "   'max_depth': 3,\n",
              "   'min_child_weight': 1},\n",
              "  {'colsample_bytree': 0.8,\n",
              "   'gamma': 0,\n",
              "   'learning_rate': 0.001,\n",
              "   'max_depth': 3,\n",
              "   'min_child_weight': 5},\n",
              "  {'colsample_bytree': 0.8,\n",
              "   'gamma': 0,\n",
              "   'learning_rate': 0.001,\n",
              "   'max_depth': 3,\n",
              "   'min_child_weight': 9},\n",
              "  {'colsample_bytree': 0.8,\n",
              "   'gamma': 0,\n",
              "   'learning_rate': 0.001,\n",
              "   'max_depth': 6,\n",
              "   'min_child_weight': 1},\n",
              "  {'colsample_bytree': 0.8,\n",
              "   'gamma': 0,\n",
              "   'learning_rate': 0.001,\n",
              "   'max_depth': 6,\n",
              "   'min_child_weight': 5},\n",
              "  {'colsample_bytree': 0.8,\n",
              "   'gamma': 0,\n",
              "   'learning_rate': 0.001,\n",
              "   'max_depth': 6,\n",
              "   'min_child_weight': 9},\n",
              "  {'colsample_bytree': 0.8,\n",
              "   'gamma': 0,\n",
              "   'learning_rate': 0.001,\n",
              "   'max_depth': 12,\n",
              "   'min_child_weight': 1},\n",
              "  {'colsample_bytree': 0.8,\n",
              "   'gamma': 0,\n",
              "   'learning_rate': 0.001,\n",
              "   'max_depth': 12,\n",
              "   'min_child_weight': 5},\n",
              "  {'colsample_bytree': 0.8,\n",
              "   'gamma': 0,\n",
              "   'learning_rate': 0.001,\n",
              "   'max_depth': 12,\n",
              "   'min_child_weight': 9},\n",
              "  {'colsample_bytree': 0.8,\n",
              "   'gamma': 0,\n",
              "   'learning_rate': 0.01,\n",
              "   'max_depth': 3,\n",
              "   'min_child_weight': 1},\n",
              "  {'colsample_bytree': 0.8,\n",
              "   'gamma': 0,\n",
              "   'learning_rate': 0.01,\n",
              "   'max_depth': 3,\n",
              "   'min_child_weight': 5},\n",
              "  {'colsample_bytree': 0.8,\n",
              "   'gamma': 0,\n",
              "   'learning_rate': 0.01,\n",
              "   'max_depth': 3,\n",
              "   'min_child_weight': 9},\n",
              "  {'colsample_bytree': 0.8,\n",
              "   'gamma': 0,\n",
              "   'learning_rate': 0.01,\n",
              "   'max_depth': 6,\n",
              "   'min_child_weight': 1},\n",
              "  {'colsample_bytree': 0.8,\n",
              "   'gamma': 0,\n",
              "   'learning_rate': 0.01,\n",
              "   'max_depth': 6,\n",
              "   'min_child_weight': 5},\n",
              "  {'colsample_bytree': 0.8,\n",
              "   'gamma': 0,\n",
              "   'learning_rate': 0.01,\n",
              "   'max_depth': 6,\n",
              "   'min_child_weight': 9},\n",
              "  {'colsample_bytree': 0.8,\n",
              "   'gamma': 0,\n",
              "   'learning_rate': 0.01,\n",
              "   'max_depth': 12,\n",
              "   'min_child_weight': 1},\n",
              "  {'colsample_bytree': 0.8,\n",
              "   'gamma': 0,\n",
              "   'learning_rate': 0.01,\n",
              "   'max_depth': 12,\n",
              "   'min_child_weight': 5},\n",
              "  {'colsample_bytree': 0.8,\n",
              "   'gamma': 0,\n",
              "   'learning_rate': 0.01,\n",
              "   'max_depth': 12,\n",
              "   'min_child_weight': 9},\n",
              "  {'colsample_bytree': 0.8,\n",
              "   'gamma': 0,\n",
              "   'learning_rate': 0.1,\n",
              "   'max_depth': 3,\n",
              "   'min_child_weight': 1},\n",
              "  {'colsample_bytree': 0.8,\n",
              "   'gamma': 0,\n",
              "   'learning_rate': 0.1,\n",
              "   'max_depth': 3,\n",
              "   'min_child_weight': 5},\n",
              "  {'colsample_bytree': 0.8,\n",
              "   'gamma': 0,\n",
              "   'learning_rate': 0.1,\n",
              "   'max_depth': 3,\n",
              "   'min_child_weight': 9},\n",
              "  {'colsample_bytree': 0.8,\n",
              "   'gamma': 0,\n",
              "   'learning_rate': 0.1,\n",
              "   'max_depth': 6,\n",
              "   'min_child_weight': 1},\n",
              "  {'colsample_bytree': 0.8,\n",
              "   'gamma': 0,\n",
              "   'learning_rate': 0.1,\n",
              "   'max_depth': 6,\n",
              "   'min_child_weight': 5},\n",
              "  {'colsample_bytree': 0.8,\n",
              "   'gamma': 0,\n",
              "   'learning_rate': 0.1,\n",
              "   'max_depth': 6,\n",
              "   'min_child_weight': 9},\n",
              "  {'colsample_bytree': 0.8,\n",
              "   'gamma': 0,\n",
              "   'learning_rate': 0.1,\n",
              "   'max_depth': 12,\n",
              "   'min_child_weight': 1},\n",
              "  {'colsample_bytree': 0.8,\n",
              "   'gamma': 0,\n",
              "   'learning_rate': 0.1,\n",
              "   'max_depth': 12,\n",
              "   'min_child_weight': 5},\n",
              "  {'colsample_bytree': 0.8,\n",
              "   'gamma': 0,\n",
              "   'learning_rate': 0.1,\n",
              "   'max_depth': 12,\n",
              "   'min_child_weight': 9},\n",
              "  {'colsample_bytree': 0.8,\n",
              "   'gamma': 0.1,\n",
              "   'learning_rate': 0.001,\n",
              "   'max_depth': 3,\n",
              "   'min_child_weight': 1},\n",
              "  {'colsample_bytree': 0.8,\n",
              "   'gamma': 0.1,\n",
              "   'learning_rate': 0.001,\n",
              "   'max_depth': 3,\n",
              "   'min_child_weight': 5},\n",
              "  {'colsample_bytree': 0.8,\n",
              "   'gamma': 0.1,\n",
              "   'learning_rate': 0.001,\n",
              "   'max_depth': 3,\n",
              "   'min_child_weight': 9},\n",
              "  {'colsample_bytree': 0.8,\n",
              "   'gamma': 0.1,\n",
              "   'learning_rate': 0.001,\n",
              "   'max_depth': 6,\n",
              "   'min_child_weight': 1},\n",
              "  {'colsample_bytree': 0.8,\n",
              "   'gamma': 0.1,\n",
              "   'learning_rate': 0.001,\n",
              "   'max_depth': 6,\n",
              "   'min_child_weight': 5},\n",
              "  {'colsample_bytree': 0.8,\n",
              "   'gamma': 0.1,\n",
              "   'learning_rate': 0.001,\n",
              "   'max_depth': 6,\n",
              "   'min_child_weight': 9},\n",
              "  {'colsample_bytree': 0.8,\n",
              "   'gamma': 0.1,\n",
              "   'learning_rate': 0.001,\n",
              "   'max_depth': 12,\n",
              "   'min_child_weight': 1},\n",
              "  {'colsample_bytree': 0.8,\n",
              "   'gamma': 0.1,\n",
              "   'learning_rate': 0.001,\n",
              "   'max_depth': 12,\n",
              "   'min_child_weight': 5},\n",
              "  {'colsample_bytree': 0.8,\n",
              "   'gamma': 0.1,\n",
              "   'learning_rate': 0.001,\n",
              "   'max_depth': 12,\n",
              "   'min_child_weight': 9},\n",
              "  {'colsample_bytree': 0.8,\n",
              "   'gamma': 0.1,\n",
              "   'learning_rate': 0.01,\n",
              "   'max_depth': 3,\n",
              "   'min_child_weight': 1},\n",
              "  {'colsample_bytree': 0.8,\n",
              "   'gamma': 0.1,\n",
              "   'learning_rate': 0.01,\n",
              "   'max_depth': 3,\n",
              "   'min_child_weight': 5},\n",
              "  {'colsample_bytree': 0.8,\n",
              "   'gamma': 0.1,\n",
              "   'learning_rate': 0.01,\n",
              "   'max_depth': 3,\n",
              "   'min_child_weight': 9},\n",
              "  {'colsample_bytree': 0.8,\n",
              "   'gamma': 0.1,\n",
              "   'learning_rate': 0.01,\n",
              "   'max_depth': 6,\n",
              "   'min_child_weight': 1},\n",
              "  {'colsample_bytree': 0.8,\n",
              "   'gamma': 0.1,\n",
              "   'learning_rate': 0.01,\n",
              "   'max_depth': 6,\n",
              "   'min_child_weight': 5},\n",
              "  {'colsample_bytree': 0.8,\n",
              "   'gamma': 0.1,\n",
              "   'learning_rate': 0.01,\n",
              "   'max_depth': 6,\n",
              "   'min_child_weight': 9},\n",
              "  {'colsample_bytree': 0.8,\n",
              "   'gamma': 0.1,\n",
              "   'learning_rate': 0.01,\n",
              "   'max_depth': 12,\n",
              "   'min_child_weight': 1},\n",
              "  {'colsample_bytree': 0.8,\n",
              "   'gamma': 0.1,\n",
              "   'learning_rate': 0.01,\n",
              "   'max_depth': 12,\n",
              "   'min_child_weight': 5},\n",
              "  {'colsample_bytree': 0.8,\n",
              "   'gamma': 0.1,\n",
              "   'learning_rate': 0.01,\n",
              "   'max_depth': 12,\n",
              "   'min_child_weight': 9},\n",
              "  {'colsample_bytree': 0.8,\n",
              "   'gamma': 0.1,\n",
              "   'learning_rate': 0.1,\n",
              "   'max_depth': 3,\n",
              "   'min_child_weight': 1},\n",
              "  {'colsample_bytree': 0.8,\n",
              "   'gamma': 0.1,\n",
              "   'learning_rate': 0.1,\n",
              "   'max_depth': 3,\n",
              "   'min_child_weight': 5},\n",
              "  {'colsample_bytree': 0.8,\n",
              "   'gamma': 0.1,\n",
              "   'learning_rate': 0.1,\n",
              "   'max_depth': 3,\n",
              "   'min_child_weight': 9},\n",
              "  {'colsample_bytree': 0.8,\n",
              "   'gamma': 0.1,\n",
              "   'learning_rate': 0.1,\n",
              "   'max_depth': 6,\n",
              "   'min_child_weight': 1},\n",
              "  {'colsample_bytree': 0.8,\n",
              "   'gamma': 0.1,\n",
              "   'learning_rate': 0.1,\n",
              "   'max_depth': 6,\n",
              "   'min_child_weight': 5},\n",
              "  {'colsample_bytree': 0.8,\n",
              "   'gamma': 0.1,\n",
              "   'learning_rate': 0.1,\n",
              "   'max_depth': 6,\n",
              "   'min_child_weight': 9},\n",
              "  {'colsample_bytree': 0.8,\n",
              "   'gamma': 0.1,\n",
              "   'learning_rate': 0.1,\n",
              "   'max_depth': 12,\n",
              "   'min_child_weight': 1},\n",
              "  {'colsample_bytree': 0.8,\n",
              "   'gamma': 0.1,\n",
              "   'learning_rate': 0.1,\n",
              "   'max_depth': 12,\n",
              "   'min_child_weight': 5},\n",
              "  {'colsample_bytree': 0.8,\n",
              "   'gamma': 0.1,\n",
              "   'learning_rate': 0.1,\n",
              "   'max_depth': 12,\n",
              "   'min_child_weight': 9},\n",
              "  {'colsample_bytree': 0.8,\n",
              "   'gamma': 0.3,\n",
              "   'learning_rate': 0.001,\n",
              "   'max_depth': 3,\n",
              "   'min_child_weight': 1},\n",
              "  {'colsample_bytree': 0.8,\n",
              "   'gamma': 0.3,\n",
              "   'learning_rate': 0.001,\n",
              "   'max_depth': 3,\n",
              "   'min_child_weight': 5},\n",
              "  {'colsample_bytree': 0.8,\n",
              "   'gamma': 0.3,\n",
              "   'learning_rate': 0.001,\n",
              "   'max_depth': 3,\n",
              "   'min_child_weight': 9},\n",
              "  {'colsample_bytree': 0.8,\n",
              "   'gamma': 0.3,\n",
              "   'learning_rate': 0.001,\n",
              "   'max_depth': 6,\n",
              "   'min_child_weight': 1},\n",
              "  {'colsample_bytree': 0.8,\n",
              "   'gamma': 0.3,\n",
              "   'learning_rate': 0.001,\n",
              "   'max_depth': 6,\n",
              "   'min_child_weight': 5},\n",
              "  {'colsample_bytree': 0.8,\n",
              "   'gamma': 0.3,\n",
              "   'learning_rate': 0.001,\n",
              "   'max_depth': 6,\n",
              "   'min_child_weight': 9},\n",
              "  {'colsample_bytree': 0.8,\n",
              "   'gamma': 0.3,\n",
              "   'learning_rate': 0.001,\n",
              "   'max_depth': 12,\n",
              "   'min_child_weight': 1},\n",
              "  {'colsample_bytree': 0.8,\n",
              "   'gamma': 0.3,\n",
              "   'learning_rate': 0.001,\n",
              "   'max_depth': 12,\n",
              "   'min_child_weight': 5},\n",
              "  {'colsample_bytree': 0.8,\n",
              "   'gamma': 0.3,\n",
              "   'learning_rate': 0.001,\n",
              "   'max_depth': 12,\n",
              "   'min_child_weight': 9},\n",
              "  {'colsample_bytree': 0.8,\n",
              "   'gamma': 0.3,\n",
              "   'learning_rate': 0.01,\n",
              "   'max_depth': 3,\n",
              "   'min_child_weight': 1},\n",
              "  {'colsample_bytree': 0.8,\n",
              "   'gamma': 0.3,\n",
              "   'learning_rate': 0.01,\n",
              "   'max_depth': 3,\n",
              "   'min_child_weight': 5},\n",
              "  {'colsample_bytree': 0.8,\n",
              "   'gamma': 0.3,\n",
              "   'learning_rate': 0.01,\n",
              "   'max_depth': 3,\n",
              "   'min_child_weight': 9},\n",
              "  {'colsample_bytree': 0.8,\n",
              "   'gamma': 0.3,\n",
              "   'learning_rate': 0.01,\n",
              "   'max_depth': 6,\n",
              "   'min_child_weight': 1},\n",
              "  {'colsample_bytree': 0.8,\n",
              "   'gamma': 0.3,\n",
              "   'learning_rate': 0.01,\n",
              "   'max_depth': 6,\n",
              "   'min_child_weight': 5},\n",
              "  {'colsample_bytree': 0.8,\n",
              "   'gamma': 0.3,\n",
              "   'learning_rate': 0.01,\n",
              "   'max_depth': 6,\n",
              "   'min_child_weight': 9},\n",
              "  {'colsample_bytree': 0.8,\n",
              "   'gamma': 0.3,\n",
              "   'learning_rate': 0.01,\n",
              "   'max_depth': 12,\n",
              "   'min_child_weight': 1},\n",
              "  {'colsample_bytree': 0.8,\n",
              "   'gamma': 0.3,\n",
              "   'learning_rate': 0.01,\n",
              "   'max_depth': 12,\n",
              "   'min_child_weight': 5},\n",
              "  {'colsample_bytree': 0.8,\n",
              "   'gamma': 0.3,\n",
              "   'learning_rate': 0.01,\n",
              "   'max_depth': 12,\n",
              "   'min_child_weight': 9},\n",
              "  {'colsample_bytree': 0.8,\n",
              "   'gamma': 0.3,\n",
              "   'learning_rate': 0.1,\n",
              "   'max_depth': 3,\n",
              "   'min_child_weight': 1},\n",
              "  {'colsample_bytree': 0.8,\n",
              "   'gamma': 0.3,\n",
              "   'learning_rate': 0.1,\n",
              "   'max_depth': 3,\n",
              "   'min_child_weight': 5},\n",
              "  {'colsample_bytree': 0.8,\n",
              "   'gamma': 0.3,\n",
              "   'learning_rate': 0.1,\n",
              "   'max_depth': 3,\n",
              "   'min_child_weight': 9},\n",
              "  {'colsample_bytree': 0.8,\n",
              "   'gamma': 0.3,\n",
              "   'learning_rate': 0.1,\n",
              "   'max_depth': 6,\n",
              "   'min_child_weight': 1},\n",
              "  {'colsample_bytree': 0.8,\n",
              "   'gamma': 0.3,\n",
              "   'learning_rate': 0.1,\n",
              "   'max_depth': 6,\n",
              "   'min_child_weight': 5},\n",
              "  {'colsample_bytree': 0.8,\n",
              "   'gamma': 0.3,\n",
              "   'learning_rate': 0.1,\n",
              "   'max_depth': 6,\n",
              "   'min_child_weight': 9},\n",
              "  {'colsample_bytree': 0.8,\n",
              "   'gamma': 0.3,\n",
              "   'learning_rate': 0.1,\n",
              "   'max_depth': 12,\n",
              "   'min_child_weight': 1},\n",
              "  {'colsample_bytree': 0.8,\n",
              "   'gamma': 0.3,\n",
              "   'learning_rate': 0.1,\n",
              "   'max_depth': 12,\n",
              "   'min_child_weight': 5},\n",
              "  {'colsample_bytree': 0.8,\n",
              "   'gamma': 0.3,\n",
              "   'learning_rate': 0.1,\n",
              "   'max_depth': 12,\n",
              "   'min_child_weight': 9}],\n",
              " 'rank_test_recall': array([ 85, 178, 100,  63, 178, 100,  63, 178, 100,  29, 156, 100,  29,\n",
              "        156, 100,  29, 156, 100,   1,  29,  85,   4,  29,  85,   4,  29,\n",
              "         85,  85, 178, 100,  63, 178, 100,  63, 178, 100,  29, 156,  70,\n",
              "         29, 156,  70,  29, 156,  70,   4,  29,  85,   2,  29,  85,   2,\n",
              "         29,  85,  85, 178, 100,  63, 178, 100,  63, 178, 100,  29, 156,\n",
              "         70,  29, 156,  70,  29, 156,  70,   9,  29,  85,   4,  29,  85,\n",
              "          4,  29,  85, 196, 226, 100, 187, 226, 100, 187, 226, 100, 145,\n",
              "        196,  70, 145, 196,  70, 145, 196,  70,   9,   9, 139,   9,   9,\n",
              "        139,   9,   9, 139, 196, 226, 100, 187, 226, 100, 187, 226, 100,\n",
              "        145, 196,  70, 145, 196,  70, 145, 196,  70,   9,   9, 139,  55,\n",
              "          9, 139,  55,   9, 139, 196, 226, 100, 187, 226, 100, 187, 226,\n",
              "        100, 165, 196,  70, 165, 196,  70, 165, 196,  70,  55,   9,  85,\n",
              "         55,   9,  85,  55,   9,  85, 208, 226, 100, 208, 226, 100, 208,\n",
              "        226, 100, 145, 217, 100, 165, 217, 100, 165, 217, 100,  54,  29,\n",
              "        172,  23,  29, 172,  23,  29, 172, 208, 226, 100, 208, 226, 100,\n",
              "        208, 226, 100, 145, 217, 100, 145, 217, 100, 145, 217, 100,  29,\n",
              "         29, 172,  23,  29, 172,  23,  29, 172, 208, 226, 100, 208, 226,\n",
              "        100, 208, 226, 100, 145, 217, 100, 165, 217, 100, 165, 217, 100,\n",
              "         69,  55, 187,  23,  55, 187,  23,  55, 187], dtype=int32),\n",
              " 'split0_test_recall': array([0.97916667, 0.96875   , 0.96875   , 0.97916667, 0.96875   ,\n",
              "        0.96875   , 0.97916667, 0.96875   , 0.96875   , 0.98958333,\n",
              "        0.97916667, 0.96875   , 0.98958333, 0.97916667, 0.96875   ,\n",
              "        0.98958333, 0.97916667, 0.96875   , 0.98958333, 0.98958333,\n",
              "        0.97916667, 0.98958333, 0.98958333, 0.97916667, 0.98958333,\n",
              "        0.98958333, 0.97916667, 0.97916667, 0.96875   , 0.96875   ,\n",
              "        0.97916667, 0.96875   , 0.96875   , 0.97916667, 0.96875   ,\n",
              "        0.96875   , 0.98958333, 0.97916667, 0.96875   , 0.98958333,\n",
              "        0.97916667, 0.96875   , 0.98958333, 0.97916667, 0.96875   ,\n",
              "        0.98958333, 0.98958333, 0.97916667, 0.98958333, 0.98958333,\n",
              "        0.97916667, 0.98958333, 0.98958333, 0.97916667, 0.97916667,\n",
              "        0.96875   , 0.96875   , 0.97916667, 0.96875   , 0.96875   ,\n",
              "        0.97916667, 0.96875   , 0.96875   , 0.98958333, 0.97916667,\n",
              "        0.96875   , 0.98958333, 0.97916667, 0.96875   , 0.98958333,\n",
              "        0.97916667, 0.96875   , 0.98958333, 0.98958333, 0.97916667,\n",
              "        0.98958333, 0.98958333, 0.97916667, 0.98958333, 0.98958333,\n",
              "        0.97916667, 0.97916667, 0.96875   , 0.96875   , 0.97916667,\n",
              "        0.96875   , 0.96875   , 0.97916667, 0.96875   , 0.96875   ,\n",
              "        0.98958333, 0.97916667, 0.96875   , 0.98958333, 0.97916667,\n",
              "        0.96875   , 0.98958333, 0.97916667, 0.96875   , 0.98958333,\n",
              "        0.98958333, 0.97916667, 0.98958333, 0.98958333, 0.97916667,\n",
              "        0.98958333, 0.98958333, 0.97916667, 0.97916667, 0.96875   ,\n",
              "        0.96875   , 0.97916667, 0.96875   , 0.96875   , 0.97916667,\n",
              "        0.96875   , 0.96875   , 0.98958333, 0.97916667, 0.96875   ,\n",
              "        0.98958333, 0.97916667, 0.96875   , 0.98958333, 0.97916667,\n",
              "        0.96875   , 0.98958333, 0.98958333, 0.97916667, 0.98958333,\n",
              "        0.98958333, 0.97916667, 0.98958333, 0.98958333, 0.97916667,\n",
              "        0.97916667, 0.96875   , 0.96875   , 0.97916667, 0.96875   ,\n",
              "        0.96875   , 0.97916667, 0.96875   , 0.96875   , 0.98958333,\n",
              "        0.97916667, 0.96875   , 0.98958333, 0.97916667, 0.96875   ,\n",
              "        0.98958333, 0.97916667, 0.96875   , 0.98958333, 0.98958333,\n",
              "        0.97916667, 0.98958333, 0.98958333, 0.97916667, 0.98958333,\n",
              "        0.98958333, 0.97916667, 0.98958333, 0.96875   , 0.96875   ,\n",
              "        0.98958333, 0.96875   , 0.96875   , 0.98958333, 0.96875   ,\n",
              "        0.96875   , 0.98958333, 0.98958333, 0.96875   , 0.98958333,\n",
              "        0.98958333, 0.96875   , 0.98958333, 0.98958333, 0.96875   ,\n",
              "        1.        , 0.98958333, 0.97916667, 1.        , 0.98958333,\n",
              "        0.97916667, 1.        , 0.98958333, 0.97916667, 0.98958333,\n",
              "        0.96875   , 0.96875   , 0.98958333, 0.96875   , 0.96875   ,\n",
              "        0.98958333, 0.96875   , 0.96875   , 0.98958333, 0.98958333,\n",
              "        0.96875   , 0.98958333, 0.98958333, 0.96875   , 0.98958333,\n",
              "        0.98958333, 0.96875   , 0.98958333, 0.98958333, 0.97916667,\n",
              "        1.        , 0.98958333, 0.97916667, 1.        , 0.98958333,\n",
              "        0.97916667, 0.98958333, 0.96875   , 0.96875   , 0.98958333,\n",
              "        0.96875   , 0.96875   , 0.98958333, 0.96875   , 0.96875   ,\n",
              "        0.98958333, 0.98958333, 0.96875   , 0.98958333, 0.98958333,\n",
              "        0.96875   , 0.98958333, 0.98958333, 0.96875   , 0.98958333,\n",
              "        0.98958333, 0.97916667, 1.        , 0.98958333, 0.97916667,\n",
              "        1.        , 0.98958333, 0.97916667]),\n",
              " 'split1_test_recall': array([0.90526316, 0.88421053, 0.91578947, 0.91578947, 0.88421053,\n",
              "        0.91578947, 0.91578947, 0.88421053, 0.91578947, 0.92631579,\n",
              "        0.89473684, 0.91578947, 0.92631579, 0.89473684, 0.91578947,\n",
              "        0.92631579, 0.89473684, 0.91578947, 0.96842105, 0.92631579,\n",
              "        0.90526316, 0.94736842, 0.92631579, 0.90526316, 0.94736842,\n",
              "        0.92631579, 0.90526316, 0.90526316, 0.88421053, 0.91578947,\n",
              "        0.91578947, 0.88421053, 0.91578947, 0.91578947, 0.88421053,\n",
              "        0.91578947, 0.92631579, 0.89473684, 0.92631579, 0.92631579,\n",
              "        0.89473684, 0.92631579, 0.92631579, 0.89473684, 0.92631579,\n",
              "        0.94736842, 0.92631579, 0.90526316, 0.95789474, 0.92631579,\n",
              "        0.90526316, 0.95789474, 0.92631579, 0.90526316, 0.90526316,\n",
              "        0.88421053, 0.91578947, 0.91578947, 0.88421053, 0.91578947,\n",
              "        0.91578947, 0.88421053, 0.91578947, 0.92631579, 0.89473684,\n",
              "        0.92631579, 0.92631579, 0.89473684, 0.92631579, 0.92631579,\n",
              "        0.89473684, 0.92631579, 0.93684211, 0.92631579, 0.90526316,\n",
              "        0.94736842, 0.92631579, 0.90526316, 0.94736842, 0.92631579,\n",
              "        0.90526316, 0.87368421, 0.85263158, 0.91578947, 0.87368421,\n",
              "        0.85263158, 0.91578947, 0.87368421, 0.85263158, 0.91578947,\n",
              "        0.88421053, 0.86315789, 0.91578947, 0.88421053, 0.86315789,\n",
              "        0.91578947, 0.88421053, 0.86315789, 0.91578947, 0.94736842,\n",
              "        0.93684211, 0.89473684, 0.93684211, 0.93684211, 0.89473684,\n",
              "        0.93684211, 0.93684211, 0.89473684, 0.87368421, 0.85263158,\n",
              "        0.91578947, 0.87368421, 0.85263158, 0.91578947, 0.87368421,\n",
              "        0.85263158, 0.91578947, 0.88421053, 0.86315789, 0.91578947,\n",
              "        0.88421053, 0.86315789, 0.91578947, 0.88421053, 0.86315789,\n",
              "        0.91578947, 0.94736842, 0.93684211, 0.89473684, 0.92631579,\n",
              "        0.93684211, 0.89473684, 0.92631579, 0.93684211, 0.89473684,\n",
              "        0.87368421, 0.85263158, 0.91578947, 0.87368421, 0.85263158,\n",
              "        0.91578947, 0.87368421, 0.85263158, 0.91578947, 0.88421053,\n",
              "        0.86315789, 0.91578947, 0.87368421, 0.86315789, 0.91578947,\n",
              "        0.87368421, 0.86315789, 0.91578947, 0.92631579, 0.93684211,\n",
              "        0.90526316, 0.92631579, 0.93684211, 0.90526316, 0.92631579,\n",
              "        0.93684211, 0.90526316, 0.86315789, 0.85263158, 0.92631579,\n",
              "        0.86315789, 0.85263158, 0.92631579, 0.86315789, 0.85263158,\n",
              "        0.92631579, 0.89473684, 0.85263158, 0.91578947, 0.88421053,\n",
              "        0.85263158, 0.91578947, 0.88421053, 0.85263158, 0.91578947,\n",
              "        0.92631579, 0.92631579, 0.87368421, 0.93684211, 0.92631579,\n",
              "        0.87368421, 0.93684211, 0.92631579, 0.87368421, 0.86315789,\n",
              "        0.85263158, 0.92631579, 0.86315789, 0.85263158, 0.92631579,\n",
              "        0.86315789, 0.85263158, 0.92631579, 0.89473684, 0.85263158,\n",
              "        0.91578947, 0.89473684, 0.85263158, 0.91578947, 0.89473684,\n",
              "        0.85263158, 0.91578947, 0.93684211, 0.92631579, 0.87368421,\n",
              "        0.93684211, 0.92631579, 0.87368421, 0.93684211, 0.92631579,\n",
              "        0.87368421, 0.86315789, 0.85263158, 0.92631579, 0.86315789,\n",
              "        0.85263158, 0.92631579, 0.86315789, 0.85263158, 0.92631579,\n",
              "        0.89473684, 0.85263158, 0.91578947, 0.88421053, 0.85263158,\n",
              "        0.91578947, 0.88421053, 0.85263158, 0.91578947, 0.91578947,\n",
              "        0.91578947, 0.87368421, 0.93684211, 0.91578947, 0.87368421,\n",
              "        0.93684211, 0.91578947, 0.87368421]),\n",
              " 'split2_test_recall': array([1.        , 0.98947368, 0.98947368, 1.        , 0.98947368,\n",
              "        0.98947368, 1.        , 0.98947368, 0.98947368, 1.        ,\n",
              "        0.98947368, 0.98947368, 1.        , 0.98947368, 0.98947368,\n",
              "        1.        , 0.98947368, 0.98947368, 1.        , 1.        ,\n",
              "        1.        , 1.        , 1.        , 1.        , 1.        ,\n",
              "        1.        , 1.        , 1.        , 0.98947368, 0.98947368,\n",
              "        1.        , 0.98947368, 0.98947368, 1.        , 0.98947368,\n",
              "        0.98947368, 1.        , 0.98947368, 0.98947368, 1.        ,\n",
              "        0.98947368, 0.98947368, 1.        , 0.98947368, 0.98947368,\n",
              "        1.        , 1.        , 1.        , 1.        , 1.        ,\n",
              "        1.        , 1.        , 1.        , 1.        , 1.        ,\n",
              "        0.98947368, 0.98947368, 1.        , 0.98947368, 0.98947368,\n",
              "        1.        , 0.98947368, 0.98947368, 1.        , 0.98947368,\n",
              "        0.98947368, 1.        , 0.98947368, 0.98947368, 1.        ,\n",
              "        0.98947368, 0.98947368, 1.        , 1.        , 1.        ,\n",
              "        1.        , 1.        , 1.        , 1.        , 1.        ,\n",
              "        1.        , 0.97894737, 0.97894737, 0.98947368, 0.98947368,\n",
              "        0.97894737, 0.98947368, 0.98947368, 0.97894737, 0.98947368,\n",
              "        1.        , 0.98947368, 1.        , 1.        , 0.98947368,\n",
              "        1.        , 1.        , 0.98947368, 1.        , 0.98947368,\n",
              "        1.        , 1.        , 1.        , 1.        , 1.        ,\n",
              "        1.        , 1.        , 1.        , 0.97894737, 0.97894737,\n",
              "        0.98947368, 0.98947368, 0.97894737, 0.98947368, 0.98947368,\n",
              "        0.97894737, 0.98947368, 1.        , 0.98947368, 1.        ,\n",
              "        1.        , 0.98947368, 1.        , 1.        , 0.98947368,\n",
              "        1.        , 0.98947368, 1.        , 1.        , 0.98947368,\n",
              "        1.        , 1.        , 0.98947368, 1.        , 1.        ,\n",
              "        0.97894737, 0.97894737, 0.98947368, 0.98947368, 0.97894737,\n",
              "        0.98947368, 0.98947368, 0.97894737, 0.98947368, 0.98947368,\n",
              "        0.98947368, 1.        , 1.        , 0.98947368, 1.        ,\n",
              "        1.        , 0.98947368, 1.        , 0.98947368, 1.        ,\n",
              "        1.        , 0.98947368, 1.        , 1.        , 0.98947368,\n",
              "        1.        , 1.        , 0.97894737, 0.97894737, 0.97894737,\n",
              "        0.97894737, 0.97894737, 0.97894737, 0.97894737, 0.97894737,\n",
              "        0.97894737, 0.98947368, 0.97894737, 0.98947368, 0.98947368,\n",
              "        0.97894737, 0.98947368, 0.98947368, 0.97894737, 0.98947368,\n",
              "        0.98947368, 1.        , 1.        , 0.98947368, 1.        ,\n",
              "        1.        , 0.98947368, 1.        , 1.        , 0.97894737,\n",
              "        0.97894737, 0.97894737, 0.97894737, 0.97894737, 0.97894737,\n",
              "        0.97894737, 0.97894737, 0.97894737, 0.98947368, 0.97894737,\n",
              "        0.98947368, 0.98947368, 0.97894737, 0.98947368, 0.98947368,\n",
              "        0.97894737, 0.98947368, 0.98947368, 1.        , 1.        ,\n",
              "        0.98947368, 1.        , 1.        , 0.98947368, 1.        ,\n",
              "        1.        , 0.97894737, 0.97894737, 0.97894737, 0.97894737,\n",
              "        0.97894737, 0.97894737, 0.97894737, 0.97894737, 0.97894737,\n",
              "        0.98947368, 0.97894737, 0.98947368, 0.98947368, 0.97894737,\n",
              "        0.98947368, 0.98947368, 0.97894737, 0.98947368, 0.98947368,\n",
              "        1.        , 0.98947368, 0.98947368, 1.        , 0.98947368,\n",
              "        0.98947368, 1.        , 0.98947368]),\n",
              " 'std_fit_time': array([5.72438565e-03, 1.08186096e-03, 1.70081010e-03, 4.29726049e-03,\n",
              "        1.14449389e-03, 1.84876307e-03, 2.81980565e-03, 3.28931031e-03,\n",
              "        9.18446842e-04, 5.53843160e-05, 1.05928823e-03, 8.37319653e-05,\n",
              "        3.42621852e-03, 2.37769250e-03, 2.87987716e-03, 2.56283827e-03,\n",
              "        2.60763529e-03, 5.49104005e-03, 1.21176197e-03, 1.60692991e-03,\n",
              "        8.17902788e-04, 1.85982796e-03, 2.41242297e-03, 1.70351390e-03,\n",
              "        3.52909134e-03, 1.40841823e-03, 5.95786727e-03, 1.68326491e-03,\n",
              "        1.33620273e-03, 1.45361284e-03, 2.30950022e-03, 1.74715827e-03,\n",
              "        7.71746500e-04, 3.05484859e-03, 2.32561312e-03, 9.93905968e-04,\n",
              "        5.12427380e-04, 1.62773929e-03, 1.18613663e-03, 3.34226043e-03,\n",
              "        1.80469832e-03, 5.07873545e-03, 2.55063534e-03, 5.27572455e-03,\n",
              "        4.03554551e-03, 9.33415879e-04, 1.76753627e-03, 2.15535335e-03,\n",
              "        2.42206946e-03, 2.99599212e-03, 7.53401503e-04, 2.86284055e-03,\n",
              "        2.31777492e-03, 3.93452152e-03, 4.00177676e-04, 6.69085654e-04,\n",
              "        5.14432173e-04, 3.08743058e-03, 3.49474702e-03, 5.16354979e-04,\n",
              "        4.66591337e-03, 8.17110255e-04, 2.66212113e-03, 3.53373888e-04,\n",
              "        4.68668503e-03, 8.94367748e-04, 2.54480455e-03, 3.05274601e-03,\n",
              "        2.19473546e-03, 2.25166164e-03, 2.99183647e-03, 8.31574619e-04,\n",
              "        2.76003177e-03, 1.58436823e-03, 5.63723786e-03, 2.20909434e-03,\n",
              "        2.15732644e-03, 8.73653869e-04, 2.29244522e-03, 2.26681716e-03,\n",
              "        1.47830658e-03, 1.04563736e-03, 2.79034111e-04, 1.92992004e-03,\n",
              "        5.91650599e-03, 3.03028675e-03, 4.40076312e-03, 6.23625627e-03,\n",
              "        3.84911245e-03, 7.02168590e-04, 2.25165601e-03, 6.65656333e-04,\n",
              "        5.25749254e-04, 2.94725842e-03, 4.48738172e-03, 1.82273204e-03,\n",
              "        3.87799879e-03, 1.23951176e-03, 2.40561409e-03, 1.64075334e-03,\n",
              "        2.78929771e-03, 9.87190168e-04, 3.26360576e-03, 3.59114129e-03,\n",
              "        2.99726853e-03, 1.44625199e-03, 3.06849732e-03, 8.95920350e-04,\n",
              "        1.25440941e-03, 1.13794528e-03, 2.07625691e-03, 5.84473503e-03,\n",
              "        5.26298678e-03, 1.74911969e-03, 6.02543101e-03, 4.48922456e-03,\n",
              "        2.31211676e-03, 8.46169874e-04, 2.95790214e-03, 1.75375466e-03,\n",
              "        4.05187375e-03, 7.41521970e-03, 2.97251720e-03, 4.52598927e-03,\n",
              "        3.86769508e-03, 1.30927438e-03, 4.58589514e-03, 4.07469607e-03,\n",
              "        3.09198551e-03, 2.64859336e-03, 1.81302901e-03, 3.03819805e-04,\n",
              "        4.49016154e-03, 4.66883715e-03, 1.22628579e-03, 1.83866002e-03,\n",
              "        2.13796967e-03, 4.94755835e-04, 3.48621786e-03, 6.82051885e-03,\n",
              "        1.92566954e-03, 9.78341721e-03, 8.39377011e-03, 1.02196777e-03,\n",
              "        2.00335086e-03, 1.64364839e-03, 3.10302350e-03, 4.14228956e-03,\n",
              "        2.37630608e-03, 1.68912899e-03, 5.63394818e-03, 1.13523373e-03,\n",
              "        2.95858828e-03, 8.85156588e-04, 4.59331928e-03, 5.77321234e-04,\n",
              "        2.58224296e-03, 3.80198740e-03, 4.99464836e-03, 3.85291346e-03,\n",
              "        3.52372289e-03, 1.08641563e-03, 1.79159788e-03, 2.38409247e-03,\n",
              "        5.89642786e-04, 1.14277543e-02, 8.20274469e-03, 1.79396603e-03,\n",
              "        1.24397190e-02, 6.37331669e-03, 2.01322527e-03, 2.20939420e-03,\n",
              "        2.47197489e-03, 2.17320239e-03, 6.83483230e-03, 5.81106419e-03,\n",
              "        3.11303916e-03, 1.59007470e-02, 1.04208060e-02, 3.31605935e-03,\n",
              "        2.87636650e-03, 5.05282323e-03, 1.57141883e-03, 6.30040638e-03,\n",
              "        8.06516220e-03, 1.94540515e-03, 3.01263005e-03, 4.93449100e-03,\n",
              "        2.08757111e-03, 6.60377010e-04, 2.31707115e-03, 2.20799095e-03,\n",
              "        1.16856792e-02, 6.52047638e-03, 4.12230248e-03, 1.00829246e-02,\n",
              "        7.39170858e-03, 6.06785740e-04, 2.14806580e-03, 1.47857188e-03,\n",
              "        2.91359686e-03, 6.10813426e-03, 6.26703845e-03, 3.46846290e-03,\n",
              "        6.59909834e-03, 7.61139265e-03, 2.84997838e-03, 1.63923184e-03,\n",
              "        5.50092521e-03, 1.11115976e-03, 6.45093121e-03, 6.00387015e-03,\n",
              "        1.73501995e-03, 3.40133577e-03, 7.08627602e-03, 2.31998702e-03,\n",
              "        1.99180011e-02, 1.91387515e-03, 1.00949426e-03, 9.66090536e-03,\n",
              "        7.80999627e-03, 9.94756036e-04, 1.12331153e-02, 7.51625208e-03,\n",
              "        9.14639991e-04, 1.03793916e-03, 1.32348574e-03, 1.88054347e-03,\n",
              "        1.52977616e-02, 5.69132115e-03, 7.50108548e-03, 3.96678128e-02,\n",
              "        4.38964783e-02, 3.17519885e-03, 7.50012253e-04, 5.58626384e-03,\n",
              "        1.78583920e-03, 5.10256394e-03, 4.91153357e-03, 2.44658488e-03,\n",
              "        7.66122007e-03, 3.61973288e-03, 7.95245318e-03]),\n",
              " 'std_score_time': array([4.56765696e-04, 3.53186706e-04, 9.03780092e-05, 7.31030226e-05,\n",
              "        1.54908893e-05, 7.54725258e-05, 1.31532889e-04, 7.10815316e-05,\n",
              "        4.06044876e-05, 9.68825337e-05, 6.07592752e-05, 1.09333163e-03,\n",
              "        6.31165626e-05, 2.60644786e-04, 3.97128989e-05, 4.57851967e-05,\n",
              "        3.59168091e-05, 4.80180516e-05, 5.92718572e-04, 9.61653785e-05,\n",
              "        6.15970548e-05, 5.92258923e-05, 3.44468782e-05, 2.72934400e-04,\n",
              "        2.88084458e-05, 5.76116295e-05, 1.75871572e-03, 2.19032363e-04,\n",
              "        9.17446616e-05, 7.18486518e-05, 5.43163130e-05, 4.91706489e-05,\n",
              "        1.09462491e-04, 6.39069526e-05, 1.86416599e-04, 4.75776340e-06,\n",
              "        7.43119260e-05, 5.41853394e-05, 4.77722459e-05, 4.53150037e-05,\n",
              "        8.66928334e-05, 1.03632914e-04, 5.63644695e-05, 1.53883209e-03,\n",
              "        1.27410486e-04, 1.45458305e-04, 7.26772241e-05, 4.12045127e-05,\n",
              "        3.73676282e-05, 1.32255399e-04, 3.73645857e-05, 3.95489083e-05,\n",
              "        2.85006540e-04, 2.47274053e-04, 4.26282819e-05, 6.71918472e-05,\n",
              "        6.85066192e-05, 1.23910753e-04, 9.85291040e-05, 5.69463939e-05,\n",
              "        4.68354809e-05, 5.19735490e-05, 6.15324230e-05, 8.45639776e-05,\n",
              "        9.06083314e-05, 3.32673429e-05, 3.19571822e-05, 8.52727860e-05,\n",
              "        7.54047103e-05, 7.44663664e-05, 1.01234886e-04, 5.43074750e-05,\n",
              "        4.54261597e-04, 1.46397593e-04, 1.93148416e-04, 9.90187183e-05,\n",
              "        1.13913914e-04, 9.07572403e-05, 6.40650829e-05, 1.29175109e-04,\n",
              "        1.15938292e-04, 6.81746521e-05, 4.92399627e-05, 7.30026459e-06,\n",
              "        4.72467321e-05, 1.90053890e-04, 1.47048587e-04, 1.01261585e-04,\n",
              "        8.29327374e-05, 2.51063808e-06, 2.39562891e-05, 1.09595292e-04,\n",
              "        2.55729783e-05, 3.95081639e-05, 1.01771754e-04, 1.20925053e-04,\n",
              "        4.49224865e-05, 2.13544032e-06, 1.09517119e-04, 8.13992206e-05,\n",
              "        6.59181262e-05, 2.01667810e-03, 2.70053088e-03, 1.07633307e-04,\n",
              "        3.08008344e-05, 1.40877788e-04, 2.13783470e-05, 1.02276352e-05,\n",
              "        4.80072648e-05, 1.26813505e-03, 1.88928468e-04, 4.65305280e-05,\n",
              "        1.62784823e-04, 9.92131363e-05, 8.16339861e-05, 1.24663105e-04,\n",
              "        7.78283197e-05, 3.45228858e-05, 2.95653992e-05, 7.53529286e-05,\n",
              "        6.95300778e-05, 1.65746170e-04, 2.51757175e-05, 1.12883749e-04,\n",
              "        1.03206394e-04, 7.53959451e-04, 1.52498747e-04, 8.06207410e-05,\n",
              "        2.27456267e-05, 6.93906843e-05, 1.04485131e-03, 3.28014137e-04,\n",
              "        3.33697065e-05, 1.56254758e-04, 4.13700320e-05, 3.01479851e-05,\n",
              "        6.36913367e-05, 2.91687634e-03, 4.26168718e-05, 2.72347171e-04,\n",
              "        2.03354261e-05, 4.29624446e-03, 9.84797329e-05, 5.55265673e-05,\n",
              "        1.71457165e-03, 1.70696382e-03, 9.01901767e-05, 5.75705038e-05,\n",
              "        1.80685667e-04, 5.39371942e-05, 5.17992370e-05, 6.16267831e-05,\n",
              "        1.39551671e-04, 3.37097978e-05, 8.31451728e-05, 6.56300522e-05,\n",
              "        1.24379012e-04, 6.11050410e-04, 2.50837598e-04, 7.02346765e-05,\n",
              "        5.81764132e-05, 1.06003985e-04, 6.18587866e-05, 7.38726629e-05,\n",
              "        5.02179184e-05, 1.51944958e-05, 2.43413447e-04, 5.29299985e-05,\n",
              "        3.25105179e-04, 1.37212740e-04, 1.43491984e-05, 7.03439417e-05,\n",
              "        7.46343669e-05, 6.61424304e-05, 2.21363772e-04, 3.83451401e-06,\n",
              "        1.60443993e-04, 1.51512834e-04, 7.11138674e-05, 1.89509029e-05,\n",
              "        4.68985499e-05, 6.95711242e-05, 7.56277696e-05, 7.35807101e-05,\n",
              "        1.69625059e-04, 2.90398745e-04, 9.13258314e-05, 2.75588250e-04,\n",
              "        1.25956986e-04, 2.60202930e-05, 9.11703696e-05, 1.07049913e-04,\n",
              "        1.11925158e-04, 2.73001732e-04, 2.03319720e-03, 4.50829016e-06,\n",
              "        1.25673557e-04, 4.48053577e-05, 4.78989987e-05, 1.97607951e-04,\n",
              "        8.66262191e-05, 1.09459202e-04, 1.08014581e-04, 9.43672529e-05,\n",
              "        3.65028802e-05, 2.33090090e-04, 3.39078665e-04, 2.04695645e-04,\n",
              "        4.69733183e-04, 2.28801438e-04, 1.04278144e-04, 1.70221775e-04,\n",
              "        1.66870638e-04, 1.20155552e-04, 9.69458793e-05, 2.43474779e-04,\n",
              "        7.79368256e-05, 2.01631933e-04, 2.13008110e-04, 6.35125894e-05,\n",
              "        2.22440091e-04, 2.51514956e-03, 1.46018399e-04, 9.41928077e-05,\n",
              "        3.02910427e-04, 2.38520786e-04, 6.16175586e-05, 7.45850354e-04,\n",
              "        4.06503483e-05, 1.34809538e-04, 8.30521423e-05, 4.13159258e-04,\n",
              "        4.15701555e-05, 1.49198013e-04, 2.41324910e-04, 1.16918380e-04,\n",
              "        5.53228152e-05, 1.04588035e-04, 9.54169569e-05, 1.01250731e-04,\n",
              "        2.18099643e-03, 5.69670195e-05, 9.01116848e-04]),\n",
              " 'std_test_recall': array([0.04064866, 0.04552988, 0.03102625, 0.0358114 , 0.04552988,\n",
              "        0.03102625, 0.0358114 , 0.04552988, 0.03102625, 0.03255875,\n",
              "        0.04243911, 0.03102625, 0.03255875, 0.04243911, 0.03102625,\n",
              "        0.03255875, 0.04243911, 0.03102625, 0.01313849, 0.03255875,\n",
              "        0.04064866, 0.02275641, 0.03255875, 0.04064866, 0.02275641,\n",
              "        0.03255875, 0.04064866, 0.04064866, 0.04552988, 0.03102625,\n",
              "        0.0358114 , 0.04552988, 0.03102625, 0.0358114 , 0.04552988,\n",
              "        0.03102625, 0.03255875, 0.04243911, 0.02628699, 0.03255875,\n",
              "        0.04243911, 0.02628699, 0.03255875, 0.04243911, 0.02628699,\n",
              "        0.02275641, 0.03255875, 0.04064866, 0.0179057 , 0.03255875,\n",
              "        0.04064866, 0.0179057 , 0.03255875, 0.04064866, 0.04064866,\n",
              "        0.04552988, 0.03102625, 0.0358114 , 0.04552988, 0.03102625,\n",
              "        0.0358114 , 0.04552988, 0.03102625, 0.03255875, 0.04243911,\n",
              "        0.02628699, 0.03255875, 0.04243911, 0.02628699, 0.03255875,\n",
              "        0.04243911, 0.02628699, 0.02764671, 0.03255875, 0.04064866,\n",
              "        0.02275641, 0.03255875, 0.04064866, 0.02275641, 0.03255875,\n",
              "        0.04064866, 0.0496733 , 0.05729374, 0.03102625, 0.05232376,\n",
              "        0.05729374, 0.03102625, 0.05232376, 0.05729374, 0.03102625,\n",
              "        0.05230162, 0.05727123, 0.03475756, 0.05230162, 0.05727123,\n",
              "        0.03475756, 0.05230162, 0.05727123, 0.03475756, 0.01987451,\n",
              "        0.02764671, 0.04551283, 0.02764671, 0.02764671, 0.04551283,\n",
              "        0.02764671, 0.02764671, 0.04551283, 0.0496733 , 0.05729374,\n",
              "        0.03102625, 0.05232376, 0.05729374, 0.03102625, 0.05232376,\n",
              "        0.05729374, 0.03102625, 0.05230162, 0.05727123, 0.03475756,\n",
              "        0.05230162, 0.05727123, 0.03475756, 0.05230162, 0.05727123,\n",
              "        0.03475756, 0.01987451, 0.02764671, 0.04551283, 0.0297988 ,\n",
              "        0.02764671, 0.04551283, 0.0297988 , 0.02764671, 0.04551283,\n",
              "        0.0496733 , 0.05729374, 0.03102625, 0.05232376, 0.05729374,\n",
              "        0.03102625, 0.05232376, 0.05729374, 0.03102625, 0.04964739,\n",
              "        0.05727123, 0.03475756, 0.05724877, 0.05727123, 0.03475756,\n",
              "        0.05724877, 0.05727123, 0.03475756, 0.0297988 , 0.02764671,\n",
              "        0.04064866, 0.0297988 , 0.02764671, 0.04064866, 0.0297988 ,\n",
              "        0.02764671, 0.04064866, 0.05725549, 0.05729374, 0.02279067,\n",
              "        0.05725549, 0.05729374, 0.02279067, 0.05725549, 0.05729374,\n",
              "        0.02279067, 0.04468524, 0.06220449, 0.03102625, 0.04964739,\n",
              "        0.06220449, 0.03102625, 0.04964739, 0.06220449, 0.03102625,\n",
              "        0.03253901, 0.03255875, 0.05529341, 0.0276281 , 0.03255875,\n",
              "        0.05529341, 0.0276281 , 0.03255875, 0.05529341, 0.05725549,\n",
              "        0.05729374, 0.02279067, 0.05725549, 0.05729374, 0.02279067,\n",
              "        0.05725549, 0.05729374, 0.02279067, 0.04468524, 0.06220449,\n",
              "        0.03102625, 0.04468524, 0.06220449, 0.03102625, 0.04468524,\n",
              "        0.06220449, 0.03102625, 0.02483665, 0.03255875, 0.05529341,\n",
              "        0.0276281 , 0.03255875, 0.05529341, 0.0276281 , 0.03255875,\n",
              "        0.05529341, 0.05725549, 0.05729374, 0.02279067, 0.05725549,\n",
              "        0.05729374, 0.02279067, 0.05725549, 0.05729374, 0.02279067,\n",
              "        0.04468524, 0.06220449, 0.03102625, 0.04964739, 0.06220449,\n",
              "        0.03102625, 0.04964739, 0.06220449, 0.03102625, 0.03476094,\n",
              "        0.037484  , 0.05232376, 0.0276281 , 0.037484  , 0.05232376,\n",
              "        0.0276281 , 0.037484  , 0.05232376])}"
            ]
          },
          "metadata": {
            "tags": []
          },
          "execution_count": 25
        }
      ]
    },
    {
      "cell_type": "code",
      "metadata": {
        "id": "wktNPjq3Tb7Z",
        "colab": {
          "base_uri": "https://localhost:8080/",
          "height": 1000
        },
        "outputId": "1059c7eb-1229-48b1-f7c2-827a2a739954"
      },
      "source": [
        "# summarize results\n",
        "print(\"Best: %f using %s\" % (grid_result.best_score_, grid_result.best_params_))\n",
        "means = grid_result.cv_results_['mean_test_recall']\n",
        "stds = grid_result.cv_results_['std_test_recall']\n",
        "params = grid_result.cv_results_['params']\n",
        "for mean, stdev, param in zip(means, stds, params):\n",
        "    print(\"%f (%f) with: %r\" % (mean, stdev, param))"
      ],
      "execution_count": null,
      "outputs": [
        {
          "output_type": "stream",
          "text": [
            "Best: 0.986001 using {'colsample_bytree': 0.3, 'gamma': 0, 'learning_rate': 0.1, 'max_depth': 3, 'min_child_weight': 1}\n",
            "0.961477 (0.040649) with: {'colsample_bytree': 0.3, 'gamma': 0, 'learning_rate': 0.001, 'max_depth': 3, 'min_child_weight': 1}\n",
            "0.947478 (0.045530) with: {'colsample_bytree': 0.3, 'gamma': 0, 'learning_rate': 0.001, 'max_depth': 3, 'min_child_weight': 5}\n",
            "0.958004 (0.031026) with: {'colsample_bytree': 0.3, 'gamma': 0, 'learning_rate': 0.001, 'max_depth': 3, 'min_child_weight': 9}\n",
            "0.964985 (0.035811) with: {'colsample_bytree': 0.3, 'gamma': 0, 'learning_rate': 0.001, 'max_depth': 6, 'min_child_weight': 1}\n",
            "0.947478 (0.045530) with: {'colsample_bytree': 0.3, 'gamma': 0, 'learning_rate': 0.001, 'max_depth': 6, 'min_child_weight': 5}\n",
            "0.958004 (0.031026) with: {'colsample_bytree': 0.3, 'gamma': 0, 'learning_rate': 0.001, 'max_depth': 6, 'min_child_weight': 9}\n",
            "0.964985 (0.035811) with: {'colsample_bytree': 0.3, 'gamma': 0, 'learning_rate': 0.001, 'max_depth': 12, 'min_child_weight': 1}\n",
            "0.947478 (0.045530) with: {'colsample_bytree': 0.3, 'gamma': 0, 'learning_rate': 0.001, 'max_depth': 12, 'min_child_weight': 5}\n",
            "0.958004 (0.031026) with: {'colsample_bytree': 0.3, 'gamma': 0, 'learning_rate': 0.001, 'max_depth': 12, 'min_child_weight': 9}\n",
            "0.971966 (0.032559) with: {'colsample_bytree': 0.3, 'gamma': 0, 'learning_rate': 0.01, 'max_depth': 3, 'min_child_weight': 1}\n",
            "0.954459 (0.042439) with: {'colsample_bytree': 0.3, 'gamma': 0, 'learning_rate': 0.01, 'max_depth': 3, 'min_child_weight': 5}\n",
            "0.958004 (0.031026) with: {'colsample_bytree': 0.3, 'gamma': 0, 'learning_rate': 0.01, 'max_depth': 3, 'min_child_weight': 9}\n",
            "0.971966 (0.032559) with: {'colsample_bytree': 0.3, 'gamma': 0, 'learning_rate': 0.01, 'max_depth': 6, 'min_child_weight': 1}\n",
            "0.954459 (0.042439) with: {'colsample_bytree': 0.3, 'gamma': 0, 'learning_rate': 0.01, 'max_depth': 6, 'min_child_weight': 5}\n",
            "0.958004 (0.031026) with: {'colsample_bytree': 0.3, 'gamma': 0, 'learning_rate': 0.01, 'max_depth': 6, 'min_child_weight': 9}\n",
            "0.971966 (0.032559) with: {'colsample_bytree': 0.3, 'gamma': 0, 'learning_rate': 0.01, 'max_depth': 12, 'min_child_weight': 1}\n",
            "0.954459 (0.042439) with: {'colsample_bytree': 0.3, 'gamma': 0, 'learning_rate': 0.01, 'max_depth': 12, 'min_child_weight': 5}\n",
            "0.958004 (0.031026) with: {'colsample_bytree': 0.3, 'gamma': 0, 'learning_rate': 0.01, 'max_depth': 12, 'min_child_weight': 9}\n",
            "0.986001 (0.013138) with: {'colsample_bytree': 0.3, 'gamma': 0, 'learning_rate': 0.1, 'max_depth': 3, 'min_child_weight': 1}\n",
            "0.971966 (0.032559) with: {'colsample_bytree': 0.3, 'gamma': 0, 'learning_rate': 0.1, 'max_depth': 3, 'min_child_weight': 5}\n",
            "0.961477 (0.040649) with: {'colsample_bytree': 0.3, 'gamma': 0, 'learning_rate': 0.1, 'max_depth': 3, 'min_child_weight': 9}\n",
            "0.978984 (0.022756) with: {'colsample_bytree': 0.3, 'gamma': 0, 'learning_rate': 0.1, 'max_depth': 6, 'min_child_weight': 1}\n",
            "0.971966 (0.032559) with: {'colsample_bytree': 0.3, 'gamma': 0, 'learning_rate': 0.1, 'max_depth': 6, 'min_child_weight': 5}\n",
            "0.961477 (0.040649) with: {'colsample_bytree': 0.3, 'gamma': 0, 'learning_rate': 0.1, 'max_depth': 6, 'min_child_weight': 9}\n",
            "0.978984 (0.022756) with: {'colsample_bytree': 0.3, 'gamma': 0, 'learning_rate': 0.1, 'max_depth': 12, 'min_child_weight': 1}\n",
            "0.971966 (0.032559) with: {'colsample_bytree': 0.3, 'gamma': 0, 'learning_rate': 0.1, 'max_depth': 12, 'min_child_weight': 5}\n",
            "0.961477 (0.040649) with: {'colsample_bytree': 0.3, 'gamma': 0, 'learning_rate': 0.1, 'max_depth': 12, 'min_child_weight': 9}\n",
            "0.961477 (0.040649) with: {'colsample_bytree': 0.3, 'gamma': 0.1, 'learning_rate': 0.001, 'max_depth': 3, 'min_child_weight': 1}\n",
            "0.947478 (0.045530) with: {'colsample_bytree': 0.3, 'gamma': 0.1, 'learning_rate': 0.001, 'max_depth': 3, 'min_child_weight': 5}\n",
            "0.958004 (0.031026) with: {'colsample_bytree': 0.3, 'gamma': 0.1, 'learning_rate': 0.001, 'max_depth': 3, 'min_child_weight': 9}\n",
            "0.964985 (0.035811) with: {'colsample_bytree': 0.3, 'gamma': 0.1, 'learning_rate': 0.001, 'max_depth': 6, 'min_child_weight': 1}\n",
            "0.947478 (0.045530) with: {'colsample_bytree': 0.3, 'gamma': 0.1, 'learning_rate': 0.001, 'max_depth': 6, 'min_child_weight': 5}\n",
            "0.958004 (0.031026) with: {'colsample_bytree': 0.3, 'gamma': 0.1, 'learning_rate': 0.001, 'max_depth': 6, 'min_child_weight': 9}\n",
            "0.964985 (0.035811) with: {'colsample_bytree': 0.3, 'gamma': 0.1, 'learning_rate': 0.001, 'max_depth': 12, 'min_child_weight': 1}\n",
            "0.947478 (0.045530) with: {'colsample_bytree': 0.3, 'gamma': 0.1, 'learning_rate': 0.001, 'max_depth': 12, 'min_child_weight': 5}\n",
            "0.958004 (0.031026) with: {'colsample_bytree': 0.3, 'gamma': 0.1, 'learning_rate': 0.001, 'max_depth': 12, 'min_child_weight': 9}\n",
            "0.971966 (0.032559) with: {'colsample_bytree': 0.3, 'gamma': 0.1, 'learning_rate': 0.01, 'max_depth': 3, 'min_child_weight': 1}\n",
            "0.954459 (0.042439) with: {'colsample_bytree': 0.3, 'gamma': 0.1, 'learning_rate': 0.01, 'max_depth': 3, 'min_child_weight': 5}\n",
            "0.961513 (0.026287) with: {'colsample_bytree': 0.3, 'gamma': 0.1, 'learning_rate': 0.01, 'max_depth': 3, 'min_child_weight': 9}\n",
            "0.971966 (0.032559) with: {'colsample_bytree': 0.3, 'gamma': 0.1, 'learning_rate': 0.01, 'max_depth': 6, 'min_child_weight': 1}\n",
            "0.954459 (0.042439) with: {'colsample_bytree': 0.3, 'gamma': 0.1, 'learning_rate': 0.01, 'max_depth': 6, 'min_child_weight': 5}\n",
            "0.961513 (0.026287) with: {'colsample_bytree': 0.3, 'gamma': 0.1, 'learning_rate': 0.01, 'max_depth': 6, 'min_child_weight': 9}\n",
            "0.971966 (0.032559) with: {'colsample_bytree': 0.3, 'gamma': 0.1, 'learning_rate': 0.01, 'max_depth': 12, 'min_child_weight': 1}\n",
            "0.954459 (0.042439) with: {'colsample_bytree': 0.3, 'gamma': 0.1, 'learning_rate': 0.01, 'max_depth': 12, 'min_child_weight': 5}\n",
            "0.961513 (0.026287) with: {'colsample_bytree': 0.3, 'gamma': 0.1, 'learning_rate': 0.01, 'max_depth': 12, 'min_child_weight': 9}\n",
            "0.978984 (0.022756) with: {'colsample_bytree': 0.3, 'gamma': 0.1, 'learning_rate': 0.1, 'max_depth': 3, 'min_child_weight': 1}\n",
            "0.971966 (0.032559) with: {'colsample_bytree': 0.3, 'gamma': 0.1, 'learning_rate': 0.1, 'max_depth': 3, 'min_child_weight': 5}\n",
            "0.961477 (0.040649) with: {'colsample_bytree': 0.3, 'gamma': 0.1, 'learning_rate': 0.1, 'max_depth': 3, 'min_child_weight': 9}\n",
            "0.982493 (0.017906) with: {'colsample_bytree': 0.3, 'gamma': 0.1, 'learning_rate': 0.1, 'max_depth': 6, 'min_child_weight': 1}\n",
            "0.971966 (0.032559) with: {'colsample_bytree': 0.3, 'gamma': 0.1, 'learning_rate': 0.1, 'max_depth': 6, 'min_child_weight': 5}\n",
            "0.961477 (0.040649) with: {'colsample_bytree': 0.3, 'gamma': 0.1, 'learning_rate': 0.1, 'max_depth': 6, 'min_child_weight': 9}\n",
            "0.982493 (0.017906) with: {'colsample_bytree': 0.3, 'gamma': 0.1, 'learning_rate': 0.1, 'max_depth': 12, 'min_child_weight': 1}\n",
            "0.971966 (0.032559) with: {'colsample_bytree': 0.3, 'gamma': 0.1, 'learning_rate': 0.1, 'max_depth': 12, 'min_child_weight': 5}\n",
            "0.961477 (0.040649) with: {'colsample_bytree': 0.3, 'gamma': 0.1, 'learning_rate': 0.1, 'max_depth': 12, 'min_child_weight': 9}\n",
            "0.961477 (0.040649) with: {'colsample_bytree': 0.3, 'gamma': 0.3, 'learning_rate': 0.001, 'max_depth': 3, 'min_child_weight': 1}\n",
            "0.947478 (0.045530) with: {'colsample_bytree': 0.3, 'gamma': 0.3, 'learning_rate': 0.001, 'max_depth': 3, 'min_child_weight': 5}\n",
            "0.958004 (0.031026) with: {'colsample_bytree': 0.3, 'gamma': 0.3, 'learning_rate': 0.001, 'max_depth': 3, 'min_child_weight': 9}\n",
            "0.964985 (0.035811) with: {'colsample_bytree': 0.3, 'gamma': 0.3, 'learning_rate': 0.001, 'max_depth': 6, 'min_child_weight': 1}\n",
            "0.947478 (0.045530) with: {'colsample_bytree': 0.3, 'gamma': 0.3, 'learning_rate': 0.001, 'max_depth': 6, 'min_child_weight': 5}\n",
            "0.958004 (0.031026) with: {'colsample_bytree': 0.3, 'gamma': 0.3, 'learning_rate': 0.001, 'max_depth': 6, 'min_child_weight': 9}\n",
            "0.964985 (0.035811) with: {'colsample_bytree': 0.3, 'gamma': 0.3, 'learning_rate': 0.001, 'max_depth': 12, 'min_child_weight': 1}\n",
            "0.947478 (0.045530) with: {'colsample_bytree': 0.3, 'gamma': 0.3, 'learning_rate': 0.001, 'max_depth': 12, 'min_child_weight': 5}\n",
            "0.958004 (0.031026) with: {'colsample_bytree': 0.3, 'gamma': 0.3, 'learning_rate': 0.001, 'max_depth': 12, 'min_child_weight': 9}\n",
            "0.971966 (0.032559) with: {'colsample_bytree': 0.3, 'gamma': 0.3, 'learning_rate': 0.01, 'max_depth': 3, 'min_child_weight': 1}\n",
            "0.954459 (0.042439) with: {'colsample_bytree': 0.3, 'gamma': 0.3, 'learning_rate': 0.01, 'max_depth': 3, 'min_child_weight': 5}\n",
            "0.961513 (0.026287) with: {'colsample_bytree': 0.3, 'gamma': 0.3, 'learning_rate': 0.01, 'max_depth': 3, 'min_child_weight': 9}\n",
            "0.971966 (0.032559) with: {'colsample_bytree': 0.3, 'gamma': 0.3, 'learning_rate': 0.01, 'max_depth': 6, 'min_child_weight': 1}\n",
            "0.954459 (0.042439) with: {'colsample_bytree': 0.3, 'gamma': 0.3, 'learning_rate': 0.01, 'max_depth': 6, 'min_child_weight': 5}\n",
            "0.961513 (0.026287) with: {'colsample_bytree': 0.3, 'gamma': 0.3, 'learning_rate': 0.01, 'max_depth': 6, 'min_child_weight': 9}\n",
            "0.971966 (0.032559) with: {'colsample_bytree': 0.3, 'gamma': 0.3, 'learning_rate': 0.01, 'max_depth': 12, 'min_child_weight': 1}\n",
            "0.954459 (0.042439) with: {'colsample_bytree': 0.3, 'gamma': 0.3, 'learning_rate': 0.01, 'max_depth': 12, 'min_child_weight': 5}\n",
            "0.961513 (0.026287) with: {'colsample_bytree': 0.3, 'gamma': 0.3, 'learning_rate': 0.01, 'max_depth': 12, 'min_child_weight': 9}\n",
            "0.975475 (0.027647) with: {'colsample_bytree': 0.3, 'gamma': 0.3, 'learning_rate': 0.1, 'max_depth': 3, 'min_child_weight': 1}\n",
            "0.971966 (0.032559) with: {'colsample_bytree': 0.3, 'gamma': 0.3, 'learning_rate': 0.1, 'max_depth': 3, 'min_child_weight': 5}\n",
            "0.961477 (0.040649) with: {'colsample_bytree': 0.3, 'gamma': 0.3, 'learning_rate': 0.1, 'max_depth': 3, 'min_child_weight': 9}\n",
            "0.978984 (0.022756) with: {'colsample_bytree': 0.3, 'gamma': 0.3, 'learning_rate': 0.1, 'max_depth': 6, 'min_child_weight': 1}\n",
            "0.971966 (0.032559) with: {'colsample_bytree': 0.3, 'gamma': 0.3, 'learning_rate': 0.1, 'max_depth': 6, 'min_child_weight': 5}\n",
            "0.961477 (0.040649) with: {'colsample_bytree': 0.3, 'gamma': 0.3, 'learning_rate': 0.1, 'max_depth': 6, 'min_child_weight': 9}\n",
            "0.978984 (0.022756) with: {'colsample_bytree': 0.3, 'gamma': 0.3, 'learning_rate': 0.1, 'max_depth': 12, 'min_child_weight': 1}\n",
            "0.971966 (0.032559) with: {'colsample_bytree': 0.3, 'gamma': 0.3, 'learning_rate': 0.1, 'max_depth': 12, 'min_child_weight': 5}\n",
            "0.961477 (0.040649) with: {'colsample_bytree': 0.3, 'gamma': 0.3, 'learning_rate': 0.1, 'max_depth': 12, 'min_child_weight': 9}\n",
            "0.943933 (0.049673) with: {'colsample_bytree': 0.5, 'gamma': 0, 'learning_rate': 0.001, 'max_depth': 3, 'min_child_weight': 1}\n",
            "0.933443 (0.057294) with: {'colsample_bytree': 0.5, 'gamma': 0, 'learning_rate': 0.001, 'max_depth': 3, 'min_child_weight': 5}\n",
            "0.958004 (0.031026) with: {'colsample_bytree': 0.5, 'gamma': 0, 'learning_rate': 0.001, 'max_depth': 3, 'min_child_weight': 9}\n",
            "0.947442 (0.052324) with: {'colsample_bytree': 0.5, 'gamma': 0, 'learning_rate': 0.001, 'max_depth': 6, 'min_child_weight': 1}\n",
            "0.933443 (0.057294) with: {'colsample_bytree': 0.5, 'gamma': 0, 'learning_rate': 0.001, 'max_depth': 6, 'min_child_weight': 5}\n",
            "0.958004 (0.031026) with: {'colsample_bytree': 0.5, 'gamma': 0, 'learning_rate': 0.001, 'max_depth': 6, 'min_child_weight': 9}\n",
            "0.947442 (0.052324) with: {'colsample_bytree': 0.5, 'gamma': 0, 'learning_rate': 0.001, 'max_depth': 12, 'min_child_weight': 1}\n",
            "0.933443 (0.057294) with: {'colsample_bytree': 0.5, 'gamma': 0, 'learning_rate': 0.001, 'max_depth': 12, 'min_child_weight': 5}\n",
            "0.958004 (0.031026) with: {'colsample_bytree': 0.5, 'gamma': 0, 'learning_rate': 0.001, 'max_depth': 12, 'min_child_weight': 9}\n",
            "0.957931 (0.052302) with: {'colsample_bytree': 0.5, 'gamma': 0, 'learning_rate': 0.01, 'max_depth': 3, 'min_child_weight': 1}\n",
            "0.943933 (0.057271) with: {'colsample_bytree': 0.5, 'gamma': 0, 'learning_rate': 0.01, 'max_depth': 3, 'min_child_weight': 5}\n",
            "0.961513 (0.034758) with: {'colsample_bytree': 0.5, 'gamma': 0, 'learning_rate': 0.01, 'max_depth': 3, 'min_child_weight': 9}\n",
            "0.957931 (0.052302) with: {'colsample_bytree': 0.5, 'gamma': 0, 'learning_rate': 0.01, 'max_depth': 6, 'min_child_weight': 1}\n",
            "0.943933 (0.057271) with: {'colsample_bytree': 0.5, 'gamma': 0, 'learning_rate': 0.01, 'max_depth': 6, 'min_child_weight': 5}\n",
            "0.961513 (0.034758) with: {'colsample_bytree': 0.5, 'gamma': 0, 'learning_rate': 0.01, 'max_depth': 6, 'min_child_weight': 9}\n",
            "0.957931 (0.052302) with: {'colsample_bytree': 0.5, 'gamma': 0, 'learning_rate': 0.01, 'max_depth': 12, 'min_child_weight': 1}\n",
            "0.943933 (0.057271) with: {'colsample_bytree': 0.5, 'gamma': 0, 'learning_rate': 0.01, 'max_depth': 12, 'min_child_weight': 5}\n",
            "0.961513 (0.034758) with: {'colsample_bytree': 0.5, 'gamma': 0, 'learning_rate': 0.01, 'max_depth': 12, 'min_child_weight': 9}\n",
            "0.975475 (0.019875) with: {'colsample_bytree': 0.5, 'gamma': 0, 'learning_rate': 0.1, 'max_depth': 3, 'min_child_weight': 1}\n",
            "0.975475 (0.027647) with: {'colsample_bytree': 0.5, 'gamma': 0, 'learning_rate': 0.1, 'max_depth': 3, 'min_child_weight': 5}\n",
            "0.957968 (0.045513) with: {'colsample_bytree': 0.5, 'gamma': 0, 'learning_rate': 0.1, 'max_depth': 3, 'min_child_weight': 9}\n",
            "0.975475 (0.027647) with: {'colsample_bytree': 0.5, 'gamma': 0, 'learning_rate': 0.1, 'max_depth': 6, 'min_child_weight': 1}\n",
            "0.975475 (0.027647) with: {'colsample_bytree': 0.5, 'gamma': 0, 'learning_rate': 0.1, 'max_depth': 6, 'min_child_weight': 5}\n",
            "0.957968 (0.045513) with: {'colsample_bytree': 0.5, 'gamma': 0, 'learning_rate': 0.1, 'max_depth': 6, 'min_child_weight': 9}\n",
            "0.975475 (0.027647) with: {'colsample_bytree': 0.5, 'gamma': 0, 'learning_rate': 0.1, 'max_depth': 12, 'min_child_weight': 1}\n",
            "0.975475 (0.027647) with: {'colsample_bytree': 0.5, 'gamma': 0, 'learning_rate': 0.1, 'max_depth': 12, 'min_child_weight': 5}\n",
            "0.957968 (0.045513) with: {'colsample_bytree': 0.5, 'gamma': 0, 'learning_rate': 0.1, 'max_depth': 12, 'min_child_weight': 9}\n",
            "0.943933 (0.049673) with: {'colsample_bytree': 0.5, 'gamma': 0.1, 'learning_rate': 0.001, 'max_depth': 3, 'min_child_weight': 1}\n",
            "0.933443 (0.057294) with: {'colsample_bytree': 0.5, 'gamma': 0.1, 'learning_rate': 0.001, 'max_depth': 3, 'min_child_weight': 5}\n",
            "0.958004 (0.031026) with: {'colsample_bytree': 0.5, 'gamma': 0.1, 'learning_rate': 0.001, 'max_depth': 3, 'min_child_weight': 9}\n",
            "0.947442 (0.052324) with: {'colsample_bytree': 0.5, 'gamma': 0.1, 'learning_rate': 0.001, 'max_depth': 6, 'min_child_weight': 1}\n",
            "0.933443 (0.057294) with: {'colsample_bytree': 0.5, 'gamma': 0.1, 'learning_rate': 0.001, 'max_depth': 6, 'min_child_weight': 5}\n",
            "0.958004 (0.031026) with: {'colsample_bytree': 0.5, 'gamma': 0.1, 'learning_rate': 0.001, 'max_depth': 6, 'min_child_weight': 9}\n",
            "0.947442 (0.052324) with: {'colsample_bytree': 0.5, 'gamma': 0.1, 'learning_rate': 0.001, 'max_depth': 12, 'min_child_weight': 1}\n",
            "0.933443 (0.057294) with: {'colsample_bytree': 0.5, 'gamma': 0.1, 'learning_rate': 0.001, 'max_depth': 12, 'min_child_weight': 5}\n",
            "0.958004 (0.031026) with: {'colsample_bytree': 0.5, 'gamma': 0.1, 'learning_rate': 0.001, 'max_depth': 12, 'min_child_weight': 9}\n",
            "0.957931 (0.052302) with: {'colsample_bytree': 0.5, 'gamma': 0.1, 'learning_rate': 0.01, 'max_depth': 3, 'min_child_weight': 1}\n",
            "0.943933 (0.057271) with: {'colsample_bytree': 0.5, 'gamma': 0.1, 'learning_rate': 0.01, 'max_depth': 3, 'min_child_weight': 5}\n",
            "0.961513 (0.034758) with: {'colsample_bytree': 0.5, 'gamma': 0.1, 'learning_rate': 0.01, 'max_depth': 3, 'min_child_weight': 9}\n",
            "0.957931 (0.052302) with: {'colsample_bytree': 0.5, 'gamma': 0.1, 'learning_rate': 0.01, 'max_depth': 6, 'min_child_weight': 1}\n",
            "0.943933 (0.057271) with: {'colsample_bytree': 0.5, 'gamma': 0.1, 'learning_rate': 0.01, 'max_depth': 6, 'min_child_weight': 5}\n",
            "0.961513 (0.034758) with: {'colsample_bytree': 0.5, 'gamma': 0.1, 'learning_rate': 0.01, 'max_depth': 6, 'min_child_weight': 9}\n",
            "0.957931 (0.052302) with: {'colsample_bytree': 0.5, 'gamma': 0.1, 'learning_rate': 0.01, 'max_depth': 12, 'min_child_weight': 1}\n",
            "0.943933 (0.057271) with: {'colsample_bytree': 0.5, 'gamma': 0.1, 'learning_rate': 0.01, 'max_depth': 12, 'min_child_weight': 5}\n",
            "0.961513 (0.034758) with: {'colsample_bytree': 0.5, 'gamma': 0.1, 'learning_rate': 0.01, 'max_depth': 12, 'min_child_weight': 9}\n",
            "0.975475 (0.019875) with: {'colsample_bytree': 0.5, 'gamma': 0.1, 'learning_rate': 0.1, 'max_depth': 3, 'min_child_weight': 1}\n",
            "0.975475 (0.027647) with: {'colsample_bytree': 0.5, 'gamma': 0.1, 'learning_rate': 0.1, 'max_depth': 3, 'min_child_weight': 5}\n",
            "0.957968 (0.045513) with: {'colsample_bytree': 0.5, 'gamma': 0.1, 'learning_rate': 0.1, 'max_depth': 3, 'min_child_weight': 9}\n",
            "0.968458 (0.029799) with: {'colsample_bytree': 0.5, 'gamma': 0.1, 'learning_rate': 0.1, 'max_depth': 6, 'min_child_weight': 1}\n",
            "0.975475 (0.027647) with: {'colsample_bytree': 0.5, 'gamma': 0.1, 'learning_rate': 0.1, 'max_depth': 6, 'min_child_weight': 5}\n",
            "0.957968 (0.045513) with: {'colsample_bytree': 0.5, 'gamma': 0.1, 'learning_rate': 0.1, 'max_depth': 6, 'min_child_weight': 9}\n",
            "0.968458 (0.029799) with: {'colsample_bytree': 0.5, 'gamma': 0.1, 'learning_rate': 0.1, 'max_depth': 12, 'min_child_weight': 1}\n",
            "0.975475 (0.027647) with: {'colsample_bytree': 0.5, 'gamma': 0.1, 'learning_rate': 0.1, 'max_depth': 12, 'min_child_weight': 5}\n",
            "0.957968 (0.045513) with: {'colsample_bytree': 0.5, 'gamma': 0.1, 'learning_rate': 0.1, 'max_depth': 12, 'min_child_weight': 9}\n",
            "0.943933 (0.049673) with: {'colsample_bytree': 0.5, 'gamma': 0.3, 'learning_rate': 0.001, 'max_depth': 3, 'min_child_weight': 1}\n",
            "0.933443 (0.057294) with: {'colsample_bytree': 0.5, 'gamma': 0.3, 'learning_rate': 0.001, 'max_depth': 3, 'min_child_weight': 5}\n",
            "0.958004 (0.031026) with: {'colsample_bytree': 0.5, 'gamma': 0.3, 'learning_rate': 0.001, 'max_depth': 3, 'min_child_weight': 9}\n",
            "0.947442 (0.052324) with: {'colsample_bytree': 0.5, 'gamma': 0.3, 'learning_rate': 0.001, 'max_depth': 6, 'min_child_weight': 1}\n",
            "0.933443 (0.057294) with: {'colsample_bytree': 0.5, 'gamma': 0.3, 'learning_rate': 0.001, 'max_depth': 6, 'min_child_weight': 5}\n",
            "0.958004 (0.031026) with: {'colsample_bytree': 0.5, 'gamma': 0.3, 'learning_rate': 0.001, 'max_depth': 6, 'min_child_weight': 9}\n",
            "0.947442 (0.052324) with: {'colsample_bytree': 0.5, 'gamma': 0.3, 'learning_rate': 0.001, 'max_depth': 12, 'min_child_weight': 1}\n",
            "0.933443 (0.057294) with: {'colsample_bytree': 0.5, 'gamma': 0.3, 'learning_rate': 0.001, 'max_depth': 12, 'min_child_weight': 5}\n",
            "0.958004 (0.031026) with: {'colsample_bytree': 0.5, 'gamma': 0.3, 'learning_rate': 0.001, 'max_depth': 12, 'min_child_weight': 9}\n",
            "0.954423 (0.049647) with: {'colsample_bytree': 0.5, 'gamma': 0.3, 'learning_rate': 0.01, 'max_depth': 3, 'min_child_weight': 1}\n",
            "0.943933 (0.057271) with: {'colsample_bytree': 0.5, 'gamma': 0.3, 'learning_rate': 0.01, 'max_depth': 3, 'min_child_weight': 5}\n",
            "0.961513 (0.034758) with: {'colsample_bytree': 0.5, 'gamma': 0.3, 'learning_rate': 0.01, 'max_depth': 3, 'min_child_weight': 9}\n",
            "0.954423 (0.057249) with: {'colsample_bytree': 0.5, 'gamma': 0.3, 'learning_rate': 0.01, 'max_depth': 6, 'min_child_weight': 1}\n",
            "0.943933 (0.057271) with: {'colsample_bytree': 0.5, 'gamma': 0.3, 'learning_rate': 0.01, 'max_depth': 6, 'min_child_weight': 5}\n",
            "0.961513 (0.034758) with: {'colsample_bytree': 0.5, 'gamma': 0.3, 'learning_rate': 0.01, 'max_depth': 6, 'min_child_weight': 9}\n",
            "0.954423 (0.057249) with: {'colsample_bytree': 0.5, 'gamma': 0.3, 'learning_rate': 0.01, 'max_depth': 12, 'min_child_weight': 1}\n",
            "0.943933 (0.057271) with: {'colsample_bytree': 0.5, 'gamma': 0.3, 'learning_rate': 0.01, 'max_depth': 12, 'min_child_weight': 5}\n",
            "0.961513 (0.034758) with: {'colsample_bytree': 0.5, 'gamma': 0.3, 'learning_rate': 0.01, 'max_depth': 12, 'min_child_weight': 9}\n",
            "0.968458 (0.029799) with: {'colsample_bytree': 0.5, 'gamma': 0.3, 'learning_rate': 0.1, 'max_depth': 3, 'min_child_weight': 1}\n",
            "0.975475 (0.027647) with: {'colsample_bytree': 0.5, 'gamma': 0.3, 'learning_rate': 0.1, 'max_depth': 3, 'min_child_weight': 5}\n",
            "0.961477 (0.040649) with: {'colsample_bytree': 0.5, 'gamma': 0.3, 'learning_rate': 0.1, 'max_depth': 3, 'min_child_weight': 9}\n",
            "0.968458 (0.029799) with: {'colsample_bytree': 0.5, 'gamma': 0.3, 'learning_rate': 0.1, 'max_depth': 6, 'min_child_weight': 1}\n",
            "0.975475 (0.027647) with: {'colsample_bytree': 0.5, 'gamma': 0.3, 'learning_rate': 0.1, 'max_depth': 6, 'min_child_weight': 5}\n",
            "0.961477 (0.040649) with: {'colsample_bytree': 0.5, 'gamma': 0.3, 'learning_rate': 0.1, 'max_depth': 6, 'min_child_weight': 9}\n",
            "0.968458 (0.029799) with: {'colsample_bytree': 0.5, 'gamma': 0.3, 'learning_rate': 0.1, 'max_depth': 12, 'min_child_weight': 1}\n",
            "0.975475 (0.027647) with: {'colsample_bytree': 0.5, 'gamma': 0.3, 'learning_rate': 0.1, 'max_depth': 12, 'min_child_weight': 5}\n",
            "0.961477 (0.040649) with: {'colsample_bytree': 0.5, 'gamma': 0.3, 'learning_rate': 0.1, 'max_depth': 12, 'min_child_weight': 9}\n",
            "0.943896 (0.057255) with: {'colsample_bytree': 0.8, 'gamma': 0, 'learning_rate': 0.001, 'max_depth': 3, 'min_child_weight': 1}\n",
            "0.933443 (0.057294) with: {'colsample_bytree': 0.8, 'gamma': 0, 'learning_rate': 0.001, 'max_depth': 3, 'min_child_weight': 5}\n",
            "0.958004 (0.022791) with: {'colsample_bytree': 0.8, 'gamma': 0, 'learning_rate': 0.001, 'max_depth': 3, 'min_child_weight': 9}\n",
            "0.943896 (0.057255) with: {'colsample_bytree': 0.8, 'gamma': 0, 'learning_rate': 0.001, 'max_depth': 6, 'min_child_weight': 1}\n",
            "0.933443 (0.057294) with: {'colsample_bytree': 0.8, 'gamma': 0, 'learning_rate': 0.001, 'max_depth': 6, 'min_child_weight': 5}\n",
            "0.958004 (0.022791) with: {'colsample_bytree': 0.8, 'gamma': 0, 'learning_rate': 0.001, 'max_depth': 6, 'min_child_weight': 9}\n",
            "0.943896 (0.057255) with: {'colsample_bytree': 0.8, 'gamma': 0, 'learning_rate': 0.001, 'max_depth': 12, 'min_child_weight': 1}\n",
            "0.933443 (0.057294) with: {'colsample_bytree': 0.8, 'gamma': 0, 'learning_rate': 0.001, 'max_depth': 12, 'min_child_weight': 5}\n",
            "0.958004 (0.022791) with: {'colsample_bytree': 0.8, 'gamma': 0, 'learning_rate': 0.001, 'max_depth': 12, 'min_child_weight': 9}\n",
            "0.957931 (0.044685) with: {'colsample_bytree': 0.8, 'gamma': 0, 'learning_rate': 0.01, 'max_depth': 3, 'min_child_weight': 1}\n",
            "0.940387 (0.062204) with: {'colsample_bytree': 0.8, 'gamma': 0, 'learning_rate': 0.01, 'max_depth': 3, 'min_child_weight': 5}\n",
            "0.958004 (0.031026) with: {'colsample_bytree': 0.8, 'gamma': 0, 'learning_rate': 0.01, 'max_depth': 3, 'min_child_weight': 9}\n",
            "0.954423 (0.049647) with: {'colsample_bytree': 0.8, 'gamma': 0, 'learning_rate': 0.01, 'max_depth': 6, 'min_child_weight': 1}\n",
            "0.940387 (0.062204) with: {'colsample_bytree': 0.8, 'gamma': 0, 'learning_rate': 0.01, 'max_depth': 6, 'min_child_weight': 5}\n",
            "0.958004 (0.031026) with: {'colsample_bytree': 0.8, 'gamma': 0, 'learning_rate': 0.01, 'max_depth': 6, 'min_child_weight': 9}\n",
            "0.954423 (0.049647) with: {'colsample_bytree': 0.8, 'gamma': 0, 'learning_rate': 0.01, 'max_depth': 12, 'min_child_weight': 1}\n",
            "0.940387 (0.062204) with: {'colsample_bytree': 0.8, 'gamma': 0, 'learning_rate': 0.01, 'max_depth': 12, 'min_child_weight': 5}\n",
            "0.958004 (0.031026) with: {'colsample_bytree': 0.8, 'gamma': 0, 'learning_rate': 0.01, 'max_depth': 12, 'min_child_weight': 9}\n",
            "0.971930 (0.032539) with: {'colsample_bytree': 0.8, 'gamma': 0, 'learning_rate': 0.1, 'max_depth': 3, 'min_child_weight': 1}\n",
            "0.971966 (0.032559) with: {'colsample_bytree': 0.8, 'gamma': 0, 'learning_rate': 0.1, 'max_depth': 3, 'min_child_weight': 5}\n",
            "0.950950 (0.055293) with: {'colsample_bytree': 0.8, 'gamma': 0, 'learning_rate': 0.1, 'max_depth': 3, 'min_child_weight': 9}\n",
            "0.975439 (0.027628) with: {'colsample_bytree': 0.8, 'gamma': 0, 'learning_rate': 0.1, 'max_depth': 6, 'min_child_weight': 1}\n",
            "0.971966 (0.032559) with: {'colsample_bytree': 0.8, 'gamma': 0, 'learning_rate': 0.1, 'max_depth': 6, 'min_child_weight': 5}\n",
            "0.950950 (0.055293) with: {'colsample_bytree': 0.8, 'gamma': 0, 'learning_rate': 0.1, 'max_depth': 6, 'min_child_weight': 9}\n",
            "0.975439 (0.027628) with: {'colsample_bytree': 0.8, 'gamma': 0, 'learning_rate': 0.1, 'max_depth': 12, 'min_child_weight': 1}\n",
            "0.971966 (0.032559) with: {'colsample_bytree': 0.8, 'gamma': 0, 'learning_rate': 0.1, 'max_depth': 12, 'min_child_weight': 5}\n",
            "0.950950 (0.055293) with: {'colsample_bytree': 0.8, 'gamma': 0, 'learning_rate': 0.1, 'max_depth': 12, 'min_child_weight': 9}\n",
            "0.943896 (0.057255) with: {'colsample_bytree': 0.8, 'gamma': 0.1, 'learning_rate': 0.001, 'max_depth': 3, 'min_child_weight': 1}\n",
            "0.933443 (0.057294) with: {'colsample_bytree': 0.8, 'gamma': 0.1, 'learning_rate': 0.001, 'max_depth': 3, 'min_child_weight': 5}\n",
            "0.958004 (0.022791) with: {'colsample_bytree': 0.8, 'gamma': 0.1, 'learning_rate': 0.001, 'max_depth': 3, 'min_child_weight': 9}\n",
            "0.943896 (0.057255) with: {'colsample_bytree': 0.8, 'gamma': 0.1, 'learning_rate': 0.001, 'max_depth': 6, 'min_child_weight': 1}\n",
            "0.933443 (0.057294) with: {'colsample_bytree': 0.8, 'gamma': 0.1, 'learning_rate': 0.001, 'max_depth': 6, 'min_child_weight': 5}\n",
            "0.958004 (0.022791) with: {'colsample_bytree': 0.8, 'gamma': 0.1, 'learning_rate': 0.001, 'max_depth': 6, 'min_child_weight': 9}\n",
            "0.943896 (0.057255) with: {'colsample_bytree': 0.8, 'gamma': 0.1, 'learning_rate': 0.001, 'max_depth': 12, 'min_child_weight': 1}\n",
            "0.933443 (0.057294) with: {'colsample_bytree': 0.8, 'gamma': 0.1, 'learning_rate': 0.001, 'max_depth': 12, 'min_child_weight': 5}\n",
            "0.958004 (0.022791) with: {'colsample_bytree': 0.8, 'gamma': 0.1, 'learning_rate': 0.001, 'max_depth': 12, 'min_child_weight': 9}\n",
            "0.957931 (0.044685) with: {'colsample_bytree': 0.8, 'gamma': 0.1, 'learning_rate': 0.01, 'max_depth': 3, 'min_child_weight': 1}\n",
            "0.940387 (0.062204) with: {'colsample_bytree': 0.8, 'gamma': 0.1, 'learning_rate': 0.01, 'max_depth': 3, 'min_child_weight': 5}\n",
            "0.958004 (0.031026) with: {'colsample_bytree': 0.8, 'gamma': 0.1, 'learning_rate': 0.01, 'max_depth': 3, 'min_child_weight': 9}\n",
            "0.957931 (0.044685) with: {'colsample_bytree': 0.8, 'gamma': 0.1, 'learning_rate': 0.01, 'max_depth': 6, 'min_child_weight': 1}\n",
            "0.940387 (0.062204) with: {'colsample_bytree': 0.8, 'gamma': 0.1, 'learning_rate': 0.01, 'max_depth': 6, 'min_child_weight': 5}\n",
            "0.958004 (0.031026) with: {'colsample_bytree': 0.8, 'gamma': 0.1, 'learning_rate': 0.01, 'max_depth': 6, 'min_child_weight': 9}\n",
            "0.957931 (0.044685) with: {'colsample_bytree': 0.8, 'gamma': 0.1, 'learning_rate': 0.01, 'max_depth': 12, 'min_child_weight': 1}\n",
            "0.940387 (0.062204) with: {'colsample_bytree': 0.8, 'gamma': 0.1, 'learning_rate': 0.01, 'max_depth': 12, 'min_child_weight': 5}\n",
            "0.958004 (0.031026) with: {'colsample_bytree': 0.8, 'gamma': 0.1, 'learning_rate': 0.01, 'max_depth': 12, 'min_child_weight': 9}\n",
            "0.971966 (0.024837) with: {'colsample_bytree': 0.8, 'gamma': 0.1, 'learning_rate': 0.1, 'max_depth': 3, 'min_child_weight': 1}\n",
            "0.971966 (0.032559) with: {'colsample_bytree': 0.8, 'gamma': 0.1, 'learning_rate': 0.1, 'max_depth': 3, 'min_child_weight': 5}\n",
            "0.950950 (0.055293) with: {'colsample_bytree': 0.8, 'gamma': 0.1, 'learning_rate': 0.1, 'max_depth': 3, 'min_child_weight': 9}\n",
            "0.975439 (0.027628) with: {'colsample_bytree': 0.8, 'gamma': 0.1, 'learning_rate': 0.1, 'max_depth': 6, 'min_child_weight': 1}\n",
            "0.971966 (0.032559) with: {'colsample_bytree': 0.8, 'gamma': 0.1, 'learning_rate': 0.1, 'max_depth': 6, 'min_child_weight': 5}\n",
            "0.950950 (0.055293) with: {'colsample_bytree': 0.8, 'gamma': 0.1, 'learning_rate': 0.1, 'max_depth': 6, 'min_child_weight': 9}\n",
            "0.975439 (0.027628) with: {'colsample_bytree': 0.8, 'gamma': 0.1, 'learning_rate': 0.1, 'max_depth': 12, 'min_child_weight': 1}\n",
            "0.971966 (0.032559) with: {'colsample_bytree': 0.8, 'gamma': 0.1, 'learning_rate': 0.1, 'max_depth': 12, 'min_child_weight': 5}\n",
            "0.950950 (0.055293) with: {'colsample_bytree': 0.8, 'gamma': 0.1, 'learning_rate': 0.1, 'max_depth': 12, 'min_child_weight': 9}\n",
            "0.943896 (0.057255) with: {'colsample_bytree': 0.8, 'gamma': 0.3, 'learning_rate': 0.001, 'max_depth': 3, 'min_child_weight': 1}\n",
            "0.933443 (0.057294) with: {'colsample_bytree': 0.8, 'gamma': 0.3, 'learning_rate': 0.001, 'max_depth': 3, 'min_child_weight': 5}\n",
            "0.958004 (0.022791) with: {'colsample_bytree': 0.8, 'gamma': 0.3, 'learning_rate': 0.001, 'max_depth': 3, 'min_child_weight': 9}\n",
            "0.943896 (0.057255) with: {'colsample_bytree': 0.8, 'gamma': 0.3, 'learning_rate': 0.001, 'max_depth': 6, 'min_child_weight': 1}\n",
            "0.933443 (0.057294) with: {'colsample_bytree': 0.8, 'gamma': 0.3, 'learning_rate': 0.001, 'max_depth': 6, 'min_child_weight': 5}\n",
            "0.958004 (0.022791) with: {'colsample_bytree': 0.8, 'gamma': 0.3, 'learning_rate': 0.001, 'max_depth': 6, 'min_child_weight': 9}\n",
            "0.943896 (0.057255) with: {'colsample_bytree': 0.8, 'gamma': 0.3, 'learning_rate': 0.001, 'max_depth': 12, 'min_child_weight': 1}\n",
            "0.933443 (0.057294) with: {'colsample_bytree': 0.8, 'gamma': 0.3, 'learning_rate': 0.001, 'max_depth': 12, 'min_child_weight': 5}\n",
            "0.958004 (0.022791) with: {'colsample_bytree': 0.8, 'gamma': 0.3, 'learning_rate': 0.001, 'max_depth': 12, 'min_child_weight': 9}\n",
            "0.957931 (0.044685) with: {'colsample_bytree': 0.8, 'gamma': 0.3, 'learning_rate': 0.01, 'max_depth': 3, 'min_child_weight': 1}\n",
            "0.940387 (0.062204) with: {'colsample_bytree': 0.8, 'gamma': 0.3, 'learning_rate': 0.01, 'max_depth': 3, 'min_child_weight': 5}\n",
            "0.958004 (0.031026) with: {'colsample_bytree': 0.8, 'gamma': 0.3, 'learning_rate': 0.01, 'max_depth': 3, 'min_child_weight': 9}\n",
            "0.954423 (0.049647) with: {'colsample_bytree': 0.8, 'gamma': 0.3, 'learning_rate': 0.01, 'max_depth': 6, 'min_child_weight': 1}\n",
            "0.940387 (0.062204) with: {'colsample_bytree': 0.8, 'gamma': 0.3, 'learning_rate': 0.01, 'max_depth': 6, 'min_child_weight': 5}\n",
            "0.958004 (0.031026) with: {'colsample_bytree': 0.8, 'gamma': 0.3, 'learning_rate': 0.01, 'max_depth': 6, 'min_child_weight': 9}\n",
            "0.954423 (0.049647) with: {'colsample_bytree': 0.8, 'gamma': 0.3, 'learning_rate': 0.01, 'max_depth': 12, 'min_child_weight': 1}\n",
            "0.940387 (0.062204) with: {'colsample_bytree': 0.8, 'gamma': 0.3, 'learning_rate': 0.01, 'max_depth': 12, 'min_child_weight': 5}\n",
            "0.958004 (0.031026) with: {'colsample_bytree': 0.8, 'gamma': 0.3, 'learning_rate': 0.01, 'max_depth': 12, 'min_child_weight': 9}\n",
            "0.964949 (0.034761) with: {'colsample_bytree': 0.8, 'gamma': 0.3, 'learning_rate': 0.1, 'max_depth': 3, 'min_child_weight': 1}\n",
            "0.968458 (0.037484) with: {'colsample_bytree': 0.8, 'gamma': 0.3, 'learning_rate': 0.1, 'max_depth': 3, 'min_child_weight': 5}\n",
            "0.947442 (0.052324) with: {'colsample_bytree': 0.8, 'gamma': 0.3, 'learning_rate': 0.1, 'max_depth': 3, 'min_child_weight': 9}\n",
            "0.975439 (0.027628) with: {'colsample_bytree': 0.8, 'gamma': 0.3, 'learning_rate': 0.1, 'max_depth': 6, 'min_child_weight': 1}\n",
            "0.968458 (0.037484) with: {'colsample_bytree': 0.8, 'gamma': 0.3, 'learning_rate': 0.1, 'max_depth': 6, 'min_child_weight': 5}\n",
            "0.947442 (0.052324) with: {'colsample_bytree': 0.8, 'gamma': 0.3, 'learning_rate': 0.1, 'max_depth': 6, 'min_child_weight': 9}\n",
            "0.975439 (0.027628) with: {'colsample_bytree': 0.8, 'gamma': 0.3, 'learning_rate': 0.1, 'max_depth': 12, 'min_child_weight': 1}\n",
            "0.968458 (0.037484) with: {'colsample_bytree': 0.8, 'gamma': 0.3, 'learning_rate': 0.1, 'max_depth': 12, 'min_child_weight': 5}\n",
            "0.947442 (0.052324) with: {'colsample_bytree': 0.8, 'gamma': 0.3, 'learning_rate': 0.1, 'max_depth': 12, 'min_child_weight': 9}\n"
          ],
          "name": "stdout"
        }
      ]
    },
    {
      "cell_type": "markdown",
      "metadata": {
        "id": "HcY_7AY-WF3x"
      },
      "source": [
        "## Grid Search Final Model"
      ]
    },
    {
      "cell_type": "code",
      "metadata": {
        "id": "mV7-obnrTb3h"
      },
      "source": [
        "xgboost_gs = XGBClassifier(colsample_bytree=0.3, gamma=0, learning_rate=0.1, max_depth=3, min_child_weight=1).fit(X_train,y_train)"
      ],
      "execution_count": null,
      "outputs": []
    },
    {
      "cell_type": "markdown",
      "metadata": {
        "id": "jOOVlxp3XeuA"
      },
      "source": [
        "## Grid Search Prediction"
      ]
    },
    {
      "cell_type": "code",
      "metadata": {
        "id": "4NRFndxRTbzu"
      },
      "source": [
        "y_test_prob = xgboost_gs.predict_proba(X_test)[:,1]\n",
        "y_test_predict = xgboost_gs.predict(X_test)"
      ],
      "execution_count": null,
      "outputs": []
    },
    {
      "cell_type": "code",
      "metadata": {
        "id": "WzTob5siTbv0",
        "colab": {
          "base_uri": "https://localhost:8080/",
          "height": 258
        },
        "outputId": "1957347e-9c74-4444-b7ea-034f514abb96"
      },
      "source": [
        "testPred = X_test.copy()\n",
        "testPred['y_test'], testPred['y_test_prob'], testPred['y_test_predict']=[y_test,y_test_prob,y_test_predict]\n",
        "testPred.head()"
      ],
      "execution_count": null,
      "outputs": [
        {
          "output_type": "execute_result",
          "data": {
            "text/html": [
              "<div>\n",
              "<style scoped>\n",
              "    .dataframe tbody tr th:only-of-type {\n",
              "        vertical-align: middle;\n",
              "    }\n",
              "\n",
              "    .dataframe tbody tr th {\n",
              "        vertical-align: top;\n",
              "    }\n",
              "\n",
              "    .dataframe thead th {\n",
              "        text-align: right;\n",
              "    }\n",
              "</style>\n",
              "<table border=\"1\" class=\"dataframe\">\n",
              "  <thead>\n",
              "    <tr style=\"text-align: right;\">\n",
              "      <th></th>\n",
              "      <th>area error</th>\n",
              "      <th>compactness error</th>\n",
              "      <th>concave points error</th>\n",
              "      <th>concavity error</th>\n",
              "      <th>fractal dimension error</th>\n",
              "      <th>mean area</th>\n",
              "      <th>mean compactness</th>\n",
              "      <th>mean concave points</th>\n",
              "      <th>mean concavity</th>\n",
              "      <th>mean fractal dimension</th>\n",
              "      <th>mean perimeter</th>\n",
              "      <th>mean radius</th>\n",
              "      <th>mean smoothness</th>\n",
              "      <th>mean symmetry</th>\n",
              "      <th>mean texture</th>\n",
              "      <th>perimeter error</th>\n",
              "      <th>radius error</th>\n",
              "      <th>smoothness error</th>\n",
              "      <th>symmetry error</th>\n",
              "      <th>texture error</th>\n",
              "      <th>worst area</th>\n",
              "      <th>worst compactness</th>\n",
              "      <th>worst concave points</th>\n",
              "      <th>worst concavity</th>\n",
              "      <th>worst fractal dimension</th>\n",
              "      <th>worst perimeter</th>\n",
              "      <th>worst radius</th>\n",
              "      <th>worst smoothness</th>\n",
              "      <th>worst symmetry</th>\n",
              "      <th>worst texture</th>\n",
              "      <th>y_test</th>\n",
              "      <th>y_test_prob</th>\n",
              "      <th>y_test_predict</th>\n",
              "    </tr>\n",
              "  </thead>\n",
              "  <tbody>\n",
              "    <tr>\n",
              "      <th>204</th>\n",
              "      <td>-0.221053</td>\n",
              "      <td>-0.355912</td>\n",
              "      <td>-0.231333</td>\n",
              "      <td>-0.161929</td>\n",
              "      <td>-0.079018</td>\n",
              "      <td>-0.491999</td>\n",
              "      <td>0.027651</td>\n",
              "      <td>-0.276232</td>\n",
              "      <td>-0.109847</td>\n",
              "      <td>0.132176</td>\n",
              "      <td>-0.448110</td>\n",
              "      <td>-0.470694</td>\n",
              "      <td>0.234114</td>\n",
              "      <td>0.413949</td>\n",
              "      <td>-0.160486</td>\n",
              "      <td>-0.182696</td>\n",
              "      <td>-0.032743</td>\n",
              "      <td>-0.029327</td>\n",
              "      <td>-0.329612</td>\n",
              "      <td>-0.313616</td>\n",
              "      <td>-0.356299</td>\n",
              "      <td>-0.104741</td>\n",
              "      <td>-0.199563</td>\n",
              "      <td>-0.024412</td>\n",
              "      <td>0.196958</td>\n",
              "      <td>-0.333935</td>\n",
              "      <td>-0.269040</td>\n",
              "      <td>0.448503</td>\n",
              "      <td>0.183204</td>\n",
              "      <td>-0.168905</td>\n",
              "      <td>1</td>\n",
              "      <td>0.989319</td>\n",
              "      <td>1</td>\n",
              "    </tr>\n",
              "    <tr>\n",
              "      <th>70</th>\n",
              "      <td>1.225780</td>\n",
              "      <td>-0.500666</td>\n",
              "      <td>0.308825</td>\n",
              "      <td>-0.305168</td>\n",
              "      <td>-0.793157</td>\n",
              "      <td>1.351264</td>\n",
              "      <td>-0.027309</td>\n",
              "      <td>0.789060</td>\n",
              "      <td>0.241064</td>\n",
              "      <td>-1.160679</td>\n",
              "      <td>1.302886</td>\n",
              "      <td>1.366877</td>\n",
              "      <td>-0.446227</td>\n",
              "      <td>-0.838325</td>\n",
              "      <td>0.470149</td>\n",
              "      <td>1.296951</td>\n",
              "      <td>1.384594</td>\n",
              "      <td>-0.865695</td>\n",
              "      <td>-0.809083</td>\n",
              "      <td>-0.760851</td>\n",
              "      <td>1.732277</td>\n",
              "      <td>-0.131459</td>\n",
              "      <td>0.978975</td>\n",
              "      <td>-0.016736</td>\n",
              "      <td>-1.000578</td>\n",
              "      <td>1.746605</td>\n",
              "      <td>1.779007</td>\n",
              "      <td>-0.572873</td>\n",
              "      <td>-0.565828</td>\n",
              "      <td>0.147012</td>\n",
              "      <td>0</td>\n",
              "      <td>0.001732</td>\n",
              "      <td>0</td>\n",
              "    </tr>\n",
              "    <tr>\n",
              "      <th>131</th>\n",
              "      <td>0.175418</td>\n",
              "      <td>-0.594561</td>\n",
              "      <td>-0.140496</td>\n",
              "      <td>-0.124794</td>\n",
              "      <td>-0.504551</td>\n",
              "      <td>0.267377</td>\n",
              "      <td>0.340350</td>\n",
              "      <td>0.824140</td>\n",
              "      <td>0.725686</td>\n",
              "      <td>-0.685782</td>\n",
              "      <td>0.400820</td>\n",
              "      <td>0.378508</td>\n",
              "      <td>0.913744</td>\n",
              "      <td>0.435855</td>\n",
              "      <td>0.044296</td>\n",
              "      <td>0.112838</td>\n",
              "      <td>0.249497</td>\n",
              "      <td>-0.267004</td>\n",
              "      <td>-0.795764</td>\n",
              "      <td>-0.781898</td>\n",
              "      <td>0.484159</td>\n",
              "      <td>-0.094562</td>\n",
              "      <td>0.560244</td>\n",
              "      <td>0.512911</td>\n",
              "      <td>-0.208132</td>\n",
              "      <td>0.525386</td>\n",
              "      <td>0.619345</td>\n",
              "      <td>0.974533</td>\n",
              "      <td>-0.103143</td>\n",
              "      <td>0.052562</td>\n",
              "      <td>0</td>\n",
              "      <td>0.003250</td>\n",
              "      <td>0</td>\n",
              "    </tr>\n",
              "    <tr>\n",
              "      <th>431</th>\n",
              "      <td>-0.547998</td>\n",
              "      <td>0.417599</td>\n",
              "      <td>-0.020461</td>\n",
              "      <td>0.554262</td>\n",
              "      <td>0.835972</td>\n",
              "      <td>-0.532101</td>\n",
              "      <td>0.516599</td>\n",
              "      <td>-0.539846</td>\n",
              "      <td>-0.142993</td>\n",
              "      <td>1.165609</td>\n",
              "      <td>-0.432457</td>\n",
              "      <td>-0.490575</td>\n",
              "      <td>0.643316</td>\n",
              "      <td>-0.002259</td>\n",
              "      <td>-0.374576</td>\n",
              "      <td>-0.327740</td>\n",
              "      <td>-0.824604</td>\n",
              "      <td>0.986380</td>\n",
              "      <td>0.160756</td>\n",
              "      <td>0.441152</td>\n",
              "      <td>-0.641257</td>\n",
              "      <td>0.054930</td>\n",
              "      <td>-0.622863</td>\n",
              "      <td>-0.152986</td>\n",
              "      <td>0.534440</td>\n",
              "      <td>-0.525756</td>\n",
              "      <td>-0.701842</td>\n",
              "      <td>0.553709</td>\n",
              "      <td>-0.557739</td>\n",
              "      <td>-0.450625</td>\n",
              "      <td>1</td>\n",
              "      <td>0.998543</td>\n",
              "      <td>1</td>\n",
              "    </tr>\n",
              "    <tr>\n",
              "      <th>540</th>\n",
              "      <td>-0.428529</td>\n",
              "      <td>0.874216</td>\n",
              "      <td>0.509965</td>\n",
              "      <td>0.783709</td>\n",
              "      <td>0.649494</td>\n",
              "      <td>-0.716683</td>\n",
              "      <td>0.145150</td>\n",
              "      <td>-0.592724</td>\n",
              "      <td>-0.269044</td>\n",
              "      <td>0.711976</td>\n",
              "      <td>-0.713374</td>\n",
              "      <td>-0.734828</td>\n",
              "      <td>0.247636</td>\n",
              "      <td>0.023298</td>\n",
              "      <td>-1.128546</td>\n",
              "      <td>-0.612877</td>\n",
              "      <td>-0.457547</td>\n",
              "      <td>1.703076</td>\n",
              "      <td>-0.259386</td>\n",
              "      <td>0.999969</td>\n",
              "      <td>-0.743216</td>\n",
              "      <td>-0.270137</td>\n",
              "      <td>-0.691687</td>\n",
              "      <td>-0.443716</td>\n",
              "      <td>-0.144403</td>\n",
              "      <td>-0.848337</td>\n",
              "      <td>-0.830233</td>\n",
              "      <td>0.093432</td>\n",
              "      <td>-0.924975</td>\n",
              "      <td>-0.976611</td>\n",
              "      <td>1</td>\n",
              "      <td>0.999208</td>\n",
              "      <td>1</td>\n",
              "    </tr>\n",
              "  </tbody>\n",
              "</table>\n",
              "</div>"
            ],
            "text/plain": [
              "     area error  compactness error  ...  y_test_prob  y_test_predict\n",
              "204   -0.221053          -0.355912  ...     0.989319               1\n",
              "70     1.225780          -0.500666  ...     0.001732               0\n",
              "131    0.175418          -0.594561  ...     0.003250               0\n",
              "431   -0.547998           0.417599  ...     0.998543               1\n",
              "540   -0.428529           0.874216  ...     0.999208               1\n",
              "\n",
              "[5 rows x 33 columns]"
            ]
          },
          "metadata": {
            "tags": []
          },
          "execution_count": 30
        }
      ]
    },
    {
      "cell_type": "markdown",
      "metadata": {
        "id": "1XJW7G9aYDMg"
      },
      "source": [
        "## Grid Search Performance"
      ]
    },
    {
      "cell_type": "code",
      "metadata": {
        "id": "0Ja0z2ckTbrx",
        "colab": {
          "base_uri": "https://localhost:8080/",
          "height": 265
        },
        "outputId": "ab9ca80c-f27e-4a35-8537-47a8c1004b64"
      },
      "source": [
        "#ROC/AUC Curve\n",
        "from sklearn import metrics\n",
        "# y_test_prob=et_gs.predict_proba(X_test)[:,1]\n",
        "fpr,tpr, _=metrics.roc_curve(y_test,y_test_prob)\n",
        "auc=metrics.roc_auc_score(y_test,y_test_prob)\n",
        "plt.plot(fpr,tpr,label=\"area=\"+str(auc))\n",
        "plt.legend(loc=4)\n",
        "plt.show()"
      ],
      "execution_count": null,
      "outputs": [
        {
          "output_type": "display_data",
          "data": {
            "image/png": "[encoded data removed]",
            "text/plain": [
              "<Figure size 432x288 with 1 Axes>"
            ]
          },
          "metadata": {
            "tags": [],
            "needs_background": "light"
          }
        }
      ]
    },
    {
      "cell_type": "code",
      "metadata": {
        "id": "OHq5029bTbn9",
        "colab": {
          "base_uri": "https://localhost:8080/",
          "height": 34
        },
        "outputId": "4f9980ef-bdab-4414-ebe0-d4713c5ce9dc"
      },
      "source": [
        "log_loss(y_test,y_test_prob)"
      ],
      "execution_count": null,
      "outputs": [
        {
          "output_type": "execute_result",
          "data": {
            "text/plain": [
              "0.0991665813811491"
            ]
          },
          "metadata": {
            "tags": []
          },
          "execution_count": 32
        }
      ]
    },
    {
      "cell_type": "code",
      "metadata": {
        "id": "DLTNbRhIYyiX",
        "colab": {
          "base_uri": "https://localhost:8080/",
          "height": 68
        },
        "outputId": "f1164254-2b3b-4ff8-dd74-cd9cc6b4378e"
      },
      "source": [
        "cm = confusion_matrix(y_test, y_test_predict)\n",
        "cmtx = pd.DataFrame(cm, index=['true:no', 'true:yes'], columns=['pred:no', 'pred:yes'])\n",
        "print(cmtx)"
      ],
      "execution_count": null,
      "outputs": [
        {
          "output_type": "stream",
          "text": [
            "          pred:no  pred:yes\n",
            "true:no        40         3\n",
            "true:yes        1        70\n"
          ],
          "name": "stdout"
        }
      ]
    },
    {
      "cell_type": "code",
      "metadata": {
        "id": "bP6mmL7ZYycq",
        "colab": {
          "base_uri": "https://localhost:8080/",
          "height": 170
        },
        "outputId": "89041d8b-7141-4949-d20a-052a0143f858"
      },
      "source": [
        "print(classification_report(y_test, y_test_predict, digits=3))"
      ],
      "execution_count": null,
      "outputs": [
        {
          "output_type": "stream",
          "text": [
            "              precision    recall  f1-score   support\n",
            "\n",
            "           0      0.976     0.930     0.952        43\n",
            "           1      0.959     0.986     0.972        71\n",
            "\n",
            "    accuracy                          0.965       114\n",
            "   macro avg      0.967     0.958     0.962       114\n",
            "weighted avg      0.965     0.965     0.965       114\n",
            "\n"
          ],
          "name": "stdout"
        }
      ]
    },
    {
      "cell_type": "code",
      "metadata": {
        "id": "2CNoCU0VYyW7",
        "colab": {
          "base_uri": "https://localhost:8080/",
          "height": 979
        },
        "outputId": "9fd6f764-3b76-40c2-839b-ed49d3079e95"
      },
      "source": [
        "Coeff = pd.concat([pd.DataFrame(X.columns),pd.DataFrame(np.transpose(xgboost_gs.feature_importances_))], axis = 1)\n",
        "Coeff.columns=['Variable','Feature_Importance']\n",
        "CoeffSorted = Coeff.sort_values(by='Feature_Importance', ascending=False)\n",
        "CoeffSorted"
      ],
      "execution_count": null,
      "outputs": [
        {
          "output_type": "execute_result",
          "data": {
            "text/html": [
              "<div>\n",
              "<style scoped>\n",
              "    .dataframe tbody tr th:only-of-type {\n",
              "        vertical-align: middle;\n",
              "    }\n",
              "\n",
              "    .dataframe tbody tr th {\n",
              "        vertical-align: top;\n",
              "    }\n",
              "\n",
              "    .dataframe thead th {\n",
              "        text-align: right;\n",
              "    }\n",
              "</style>\n",
              "<table border=\"1\" class=\"dataframe\">\n",
              "  <thead>\n",
              "    <tr style=\"text-align: right;\">\n",
              "      <th></th>\n",
              "      <th>Variable</th>\n",
              "      <th>Feature_Importance</th>\n",
              "    </tr>\n",
              "  </thead>\n",
              "  <tbody>\n",
              "    <tr>\n",
              "      <th>25</th>\n",
              "      <td>worst perimeter</td>\n",
              "      <td>0.220260</td>\n",
              "    </tr>\n",
              "    <tr>\n",
              "      <th>22</th>\n",
              "      <td>worst concave points</td>\n",
              "      <td>0.121168</td>\n",
              "    </tr>\n",
              "    <tr>\n",
              "      <th>8</th>\n",
              "      <td>mean concavity</td>\n",
              "      <td>0.113353</td>\n",
              "    </tr>\n",
              "    <tr>\n",
              "      <th>26</th>\n",
              "      <td>worst radius</td>\n",
              "      <td>0.075156</td>\n",
              "    </tr>\n",
              "    <tr>\n",
              "      <th>20</th>\n",
              "      <td>worst area</td>\n",
              "      <td>0.056587</td>\n",
              "    </tr>\n",
              "    <tr>\n",
              "      <th>11</th>\n",
              "      <td>mean radius</td>\n",
              "      <td>0.050274</td>\n",
              "    </tr>\n",
              "    <tr>\n",
              "      <th>7</th>\n",
              "      <td>mean concave points</td>\n",
              "      <td>0.044541</td>\n",
              "    </tr>\n",
              "    <tr>\n",
              "      <th>21</th>\n",
              "      <td>worst compactness</td>\n",
              "      <td>0.041862</td>\n",
              "    </tr>\n",
              "    <tr>\n",
              "      <th>10</th>\n",
              "      <td>mean perimeter</td>\n",
              "      <td>0.038211</td>\n",
              "    </tr>\n",
              "    <tr>\n",
              "      <th>0</th>\n",
              "      <td>area error</td>\n",
              "      <td>0.024386</td>\n",
              "    </tr>\n",
              "    <tr>\n",
              "      <th>23</th>\n",
              "      <td>worst concavity</td>\n",
              "      <td>0.024315</td>\n",
              "    </tr>\n",
              "    <tr>\n",
              "      <th>14</th>\n",
              "      <td>mean texture</td>\n",
              "      <td>0.019396</td>\n",
              "    </tr>\n",
              "    <tr>\n",
              "      <th>29</th>\n",
              "      <td>worst texture</td>\n",
              "      <td>0.019204</td>\n",
              "    </tr>\n",
              "    <tr>\n",
              "      <th>3</th>\n",
              "      <td>concavity error</td>\n",
              "      <td>0.014941</td>\n",
              "    </tr>\n",
              "    <tr>\n",
              "      <th>5</th>\n",
              "      <td>mean area</td>\n",
              "      <td>0.013383</td>\n",
              "    </tr>\n",
              "    <tr>\n",
              "      <th>28</th>\n",
              "      <td>worst symmetry</td>\n",
              "      <td>0.012196</td>\n",
              "    </tr>\n",
              "    <tr>\n",
              "      <th>16</th>\n",
              "      <td>radius error</td>\n",
              "      <td>0.012054</td>\n",
              "    </tr>\n",
              "    <tr>\n",
              "      <th>9</th>\n",
              "      <td>mean fractal dimension</td>\n",
              "      <td>0.011338</td>\n",
              "    </tr>\n",
              "    <tr>\n",
              "      <th>17</th>\n",
              "      <td>smoothness error</td>\n",
              "      <td>0.011270</td>\n",
              "    </tr>\n",
              "    <tr>\n",
              "      <th>6</th>\n",
              "      <td>mean compactness</td>\n",
              "      <td>0.010761</td>\n",
              "    </tr>\n",
              "    <tr>\n",
              "      <th>4</th>\n",
              "      <td>fractal dimension error</td>\n",
              "      <td>0.010603</td>\n",
              "    </tr>\n",
              "    <tr>\n",
              "      <th>1</th>\n",
              "      <td>compactness error</td>\n",
              "      <td>0.007096</td>\n",
              "    </tr>\n",
              "    <tr>\n",
              "      <th>13</th>\n",
              "      <td>mean symmetry</td>\n",
              "      <td>0.007082</td>\n",
              "    </tr>\n",
              "    <tr>\n",
              "      <th>24</th>\n",
              "      <td>worst fractal dimension</td>\n",
              "      <td>0.007082</td>\n",
              "    </tr>\n",
              "    <tr>\n",
              "      <th>27</th>\n",
              "      <td>worst smoothness</td>\n",
              "      <td>0.006861</td>\n",
              "    </tr>\n",
              "    <tr>\n",
              "      <th>15</th>\n",
              "      <td>perimeter error</td>\n",
              "      <td>0.006608</td>\n",
              "    </tr>\n",
              "    <tr>\n",
              "      <th>12</th>\n",
              "      <td>mean smoothness</td>\n",
              "      <td>0.006230</td>\n",
              "    </tr>\n",
              "    <tr>\n",
              "      <th>19</th>\n",
              "      <td>texture error</td>\n",
              "      <td>0.005967</td>\n",
              "    </tr>\n",
              "    <tr>\n",
              "      <th>18</th>\n",
              "      <td>symmetry error</td>\n",
              "      <td>0.004563</td>\n",
              "    </tr>\n",
              "    <tr>\n",
              "      <th>2</th>\n",
              "      <td>concave points error</td>\n",
              "      <td>0.003252</td>\n",
              "    </tr>\n",
              "  </tbody>\n",
              "</table>\n",
              "</div>"
            ],
            "text/plain": [
              "                   Variable  Feature_Importance\n",
              "25          worst perimeter            0.220260\n",
              "22     worst concave points            0.121168\n",
              "8            mean concavity            0.113353\n",
              "26             worst radius            0.075156\n",
              "20               worst area            0.056587\n",
              "11              mean radius            0.050274\n",
              "7       mean concave points            0.044541\n",
              "21        worst compactness            0.041862\n",
              "10           mean perimeter            0.038211\n",
              "0                area error            0.024386\n",
              "23          worst concavity            0.024315\n",
              "14             mean texture            0.019396\n",
              "29            worst texture            0.019204\n",
              "3           concavity error            0.014941\n",
              "5                 mean area            0.013383\n",
              "28           worst symmetry            0.012196\n",
              "16             radius error            0.012054\n",
              "9    mean fractal dimension            0.011338\n",
              "17         smoothness error            0.011270\n",
              "6          mean compactness            0.010761\n",
              "4   fractal dimension error            0.010603\n",
              "1         compactness error            0.007096\n",
              "13            mean symmetry            0.007082\n",
              "24  worst fractal dimension            0.007082\n",
              "27         worst smoothness            0.006861\n",
              "15          perimeter error            0.006608\n",
              "12          mean smoothness            0.006230\n",
              "19            texture error            0.005967\n",
              "18           symmetry error            0.004563\n",
              "2      concave points error            0.003252"
            ]
          },
          "metadata": {
            "tags": []
          },
          "execution_count": 35
        }
      ]
    },
    {
      "cell_type": "markdown",
      "metadata": {
        "id": "5V5JsZztaahv"
      },
      "source": [
        "## Grid Search Feature Importance"
      ]
    },
    {
      "cell_type": "code",
      "metadata": {
        "id": "wovS7efFYyOS",
        "colab": {
          "base_uri": "https://localhost:8080/",
          "height": 297
        },
        "outputId": "22ca2e6e-90ce-43f9-bcd6-bcb1c111e8ff"
      },
      "source": [
        "ax = sns.barplot(x='Feature_Importance', y='Variable', data=CoeffSorted, order=CoeffSorted['Variable'])\n",
        "ax.set_xlabel('Feature Importance')\n",
        "ax.set_ylabel('Features')"
      ],
      "execution_count": null,
      "outputs": [
        {
          "output_type": "execute_result",
          "data": {
            "text/plain": [
              "Text(0, 0.5, 'Features')"
            ]
          },
          "metadata": {
            "tags": []
          },
          "execution_count": 37
        },
        {
          "output_type": "display_data",
          "data": {
            "image/png": "[encoded data removed]",
            "text/plain": [
              "<Figure size 432x288 with 1 Axes>"
            ]
          },
          "metadata": {
            "tags": [],
            "needs_background": "light"
          }
        }
      ]
    },
    {
      "cell_type": "markdown",
      "metadata": {
        "id": "w1iI6ts2a4EK"
      },
      "source": [
        "## Grid Search Prediction Distribution"
      ]
    },
    {
      "cell_type": "code",
      "metadata": {
        "id": "49QAu6wmYyGA",
        "colab": {
          "base_uri": "https://localhost:8080/",
          "height": 282
        },
        "outputId": "fa5eb7be-9196-468c-d13c-b3a7446fd2b5"
      },
      "source": [
        "# Plot the predicted probability distribution\n",
        "sns.distplot(y_test_prob, label='Predicted Probability', kde=False)"
      ],
      "execution_count": null,
      "outputs": [
        {
          "output_type": "execute_result",
          "data": {
            "text/plain": [
              "<matplotlib.axes._subplots.AxesSubplot at 0x7f18ae5f96d8>"
            ]
          },
          "metadata": {
            "tags": []
          },
          "execution_count": 38
        },
        {
          "output_type": "display_data",
          "data": {
            "image/png": "[encoded data removed]",
            "text/plain": [
              "<Figure size 432x288 with 1 Axes>"
            ]
          },
          "metadata": {
            "tags": [],
            "needs_background": "light"
          }
        }
      ]
    },
    {
      "cell_type": "code",
      "metadata": {
        "id": "fl73esJ1Yx-a",
        "colab": {
          "base_uri": "https://localhost:8080/",
          "height": 279
        },
        "outputId": "0c5390fe-bd8a-47a9-ea02-be575ffb00e1"
      },
      "source": [
        "# this is to plot the kde by label\n",
        "sns.distplot(testPred[testPred['y_test']==1]['y_test_prob'],label='1', kde=False);\n",
        "sns.distplot(testPred[testPred['y_test']==0]['y_test_prob'],label='0', kde=False);\n",
        "\n",
        "# add labels\n",
        "plt.xlabel('Predicted Probability')\n",
        "plt.ylabel('Frequency')\n",
        "plt.show()"
      ],
      "execution_count": null,
      "outputs": [
        {
          "output_type": "display_data",
          "data": {
            "image/png": "[encoded data removed]",
            "text/plain": [
              "<Figure size 432x288 with 1 Axes>"
            ]
          },
          "metadata": {
            "tags": [],
            "needs_background": "light"
          }
        }
      ]
    },
    {
      "cell_type": "markdown",
      "metadata": {
        "id": "Qul0TkT6ewvK"
      },
      "source": [
        "## Random Search Cross Validation"
      ]
    },
    {
      "cell_type": "code",
      "metadata": {
        "id": "lGdcYM7jdtno",
        "colab": {
          "base_uri": "https://localhost:8080/",
          "height": 136
        },
        "outputId": "fab539ec-979d-4335-a81c-ce0aeac2b30b"
      },
      "source": [
        "# Randome Search param_grid\n",
        "param_grid = {\n",
        "# \n",
        " \"learning_rate\": [0.0001, 0.001, 0.01, 0.1] ,\n",
        "# The maximum depth of a tree, same as GBM.\n",
        " 'max_depth':range(10,21,2),\n",
        "# This is similar to min_child_leaf in GBM but not exactly. This refers to min “sum of weights” of observations while GBM has min “number of observations”.    \n",
        " 'min_child_weight':range(1,6,2),\n",
        "#  node is split only when the resulting split gives a positive reduction in the loss function. Gamma specifies the minimum loss reduction required to make a split.    \n",
        " 'gamma':[i/10.0 for i in range(0,5)],\n",
        "# Same as the subsample of GBM. Denotes the fraction of observations to be randomly samples for each tree.    \n",
        " 'subsample':[i/10.0 for i in range(6,10)],\n",
        "# Similar to max_features in GBM. Denotes the fraction of columns to be randomly samples for each tree.\n",
        " 'colsample_bytree':[i/10.0 for i in range(5,10)],\n",
        "# Same as the subsample of GBM. Denotes the fraction of observations to be randomly samples for each tree.    \n",
        " 'subsample':[i/100.0 for i in range(75,90,5)],\n",
        "# L1 regularization\n",
        " 'reg_alpha':[1e-5, 1e-2, 0.1, 1, 10, 100]\n",
        "    }\n",
        "param_grid"
      ],
      "execution_count": null,
      "outputs": [
        {
          "output_type": "execute_result",
          "data": {
            "text/plain": [
              "{'colsample_bytree': [0.5, 0.6, 0.7, 0.8, 0.9],\n",
              " 'gamma': [0.0, 0.1, 0.2, 0.3, 0.4],\n",
              " 'learning_rate': [0.0001, 0.001, 0.01, 0.1],\n",
              " 'max_depth': range(10, 21, 2),\n",
              " 'min_child_weight': range(1, 6, 2),\n",
              " 'reg_alpha': [1e-05, 0.01, 0.1, 1, 10, 100],\n",
              " 'subsample': [0.75, 0.8, 0.85]}"
            ]
          },
          "metadata": {
            "tags": []
          },
          "execution_count": 40
        }
      ]
    },
    {
      "cell_type": "code",
      "metadata": {
        "id": "iREBDSpYdtkV"
      },
      "source": [
        "scoring = ['recall']"
      ],
      "execution_count": null,
      "outputs": []
    },
    {
      "cell_type": "code",
      "metadata": {
        "id": "Zw761X2UdthT"
      },
      "source": [
        "kfold = StratifiedKFold(n_splits=3, shuffle=True)"
      ],
      "execution_count": null,
      "outputs": []
    },
    {
      "cell_type": "code",
      "metadata": {
        "id": "-bo6YuUKdtdo"
      },
      "source": [
        "random_search = RandomizedSearchCV(xgboost, param_grid, n_iter=100,scoring=scoring, refit='recall', n_jobs=-1, cv=kfold, verbose=1)"
      ],
      "execution_count": null,
      "outputs": []
    },
    {
      "cell_type": "code",
      "metadata": {
        "id": "NZR8beRJdtW1",
        "colab": {
          "base_uri": "https://localhost:8080/",
          "height": 85
        },
        "outputId": "5747051e-8c7b-4f0b-e3a1-791df63e34b0"
      },
      "source": [
        "random_result = random_search.fit(X_train, y_train)"
      ],
      "execution_count": null,
      "outputs": [
        {
          "output_type": "stream",
          "text": [
            "Fitting 3 folds for each of 100 candidates, totalling 300 fits\n"
          ],
          "name": "stdout"
        },
        {
          "output_type": "stream",
          "text": [
            "[Parallel(n_jobs=-1)]: Using backend LokyBackend with 2 concurrent workers.\n",
            "[Parallel(n_jobs=-1)]: Done  62 tasks      | elapsed:    4.2s\n",
            "[Parallel(n_jobs=-1)]: Done 300 out of 300 | elapsed:   14.6s finished\n"
          ],
          "name": "stderr"
        }
      ]
    },
    {
      "cell_type": "code",
      "metadata": {
        "id": "N1zCQzbWdtTe",
        "colab": {
          "base_uri": "https://localhost:8080/",
          "height": 408
        },
        "outputId": "88b868a3-755a-46f8-c9a9-ecf294b3a44b"
      },
      "source": [
        "random_result"
      ],
      "execution_count": null,
      "outputs": [
        {
          "output_type": "execute_result",
          "data": {
            "text/plain": [
              "RandomizedSearchCV(cv=StratifiedKFold(n_splits=3, random_state=None, shuffle=True),\n",
              "                   error_score=nan,\n",
              "                   estimator=XGBClassifier(base_score=0.5, booster='gbtree',\n",
              "                                           colsample_bylevel=1,\n",
              "                                           colsample_bynode=1,\n",
              "                                           colsample_bytree=1, gamma=0,\n",
              "                                           learning_rate=0.1, max_delta_step=0,\n",
              "                                           max_depth=3, min_child_weight=1,\n",
              "                                           missing=None, n_estimators=100,\n",
              "                                           n_jobs=1, nthread=None,\n",
              "                                           objective='bi...\n",
              "                   param_distributions={'colsample_bytree': [0.5, 0.6, 0.7, 0.8,\n",
              "                                                             0.9],\n",
              "                                        'gamma': [0.0, 0.1, 0.2, 0.3, 0.4],\n",
              "                                        'learning_rate': [0.0001, 0.001, 0.01,\n",
              "                                                          0.1],\n",
              "                                        'max_depth': range(10, 21, 2),\n",
              "                                        'min_child_weight': range(1, 6, 2),\n",
              "                                        'reg_alpha': [1e-05, 0.01, 0.1, 1, 10,\n",
              "                                                      100],\n",
              "                                        'subsample': [0.75, 0.8, 0.85]},\n",
              "                   pre_dispatch='2*n_jobs', random_state=None, refit='recall',\n",
              "                   return_train_score=False, scoring=['recall'], verbose=1)"
            ]
          },
          "metadata": {
            "tags": []
          },
          "execution_count": 50
        }
      ]
    },
    {
      "cell_type": "code",
      "metadata": {
        "id": "YMecGsfrdtP4",
        "colab": {
          "base_uri": "https://localhost:8080/",
          "height": 1000
        },
        "outputId": "2dd0fcf1-03fe-4d88-83d6-fb29a8373a3f"
      },
      "source": [
        "random_result.cv_results_"
      ],
      "execution_count": null,
      "outputs": [
        {
          "output_type": "execute_result",
          "data": {
            "text/plain": [
              "{'mean_fit_time': array([0.11260176, 0.0967892 , 0.1421601 , 0.12969788, 0.09197863,\n",
              "        0.07753205, 0.09213456, 0.13853049, 0.09661547, 0.08170883,\n",
              "        0.10742998, 0.04439219, 0.04850833, 0.04174582, 0.06618452,\n",
              "        0.07702486, 0.12980882, 0.05725058, 0.10351046, 0.07297572,\n",
              "        0.06971598, 0.06849019, 0.11175903, 0.089559  , 0.11001229,\n",
              "        0.08421357, 0.09379601, 0.03872061, 0.10818068, 0.10149821,\n",
              "        0.08457081, 0.05926243, 0.07481662, 0.10590076, 0.08937788,\n",
              "        0.10073876, 0.10079336, 0.04209598, 0.09502935, 0.07721146,\n",
              "        0.08209658, 0.0453136 , 0.05052423, 0.08035103, 0.07974299,\n",
              "        0.08341551, 0.06859827, 0.10314298, 0.09953348, 0.09559329,\n",
              "        0.0865473 , 0.11181943, 0.04878608, 0.09295861, 0.08129493,\n",
              "        0.04467543, 0.05219165, 0.04474831, 0.1501383 , 0.07923849,\n",
              "        0.12249041, 0.15209254, 0.05157908, 0.04147363, 0.10288334,\n",
              "        0.12671701, 0.11095659, 0.08260123, 0.07472865, 0.03839238,\n",
              "        0.08668303, 0.10750786, 0.04080923, 0.04680641, 0.08742587,\n",
              "        0.10073217, 0.04451791, 0.05942901, 0.08439255, 0.07674424,\n",
              "        0.1031812 , 0.09794211, 0.10285314, 0.07521645, 0.05677207,\n",
              "        0.07479914, 0.10854769, 0.05082822, 0.09466577, 0.08731802,\n",
              "        0.08234962, 0.08953333, 0.10774787, 0.04092455, 0.08500679,\n",
              "        0.09485126, 0.03985604, 0.05743241, 0.06725232, 0.08419887]),\n",
              " 'mean_score_time': array([0.00534328, 0.00362476, 0.00391865, 0.00382447, 0.00381557,\n",
              "        0.00361975, 0.00363421, 0.00373522, 0.00397857, 0.00534908,\n",
              "        0.00367928, 0.00349975, 0.00366306, 0.00334112, 0.00371949,\n",
              "        0.00369342, 0.00377615, 0.00377496, 0.00364423, 0.00362857,\n",
              "        0.00363421, 0.00440955, 0.0037446 , 0.00362213, 0.00376622,\n",
              "        0.0035158 , 0.00376368, 0.00332228, 0.00552932, 0.00359106,\n",
              "        0.00360266, 0.00361307, 0.00375247, 0.00363477, 0.00363994,\n",
              "        0.00368841, 0.00360115, 0.00338078, 0.00527716, 0.00380548,\n",
              "        0.00361109, 0.00331426, 0.00322588, 0.0037655 , 0.00370733,\n",
              "        0.00367586, 0.00400305, 0.00382956, 0.00371854, 0.00364582,\n",
              "        0.00360823, 0.00374794, 0.00332642, 0.00372863, 0.00362134,\n",
              "        0.00337108, 0.00340017, 0.00341296, 0.00374142, 0.00359877,\n",
              "        0.00376399, 0.00384752, 0.00358661, 0.00338411, 0.00354211,\n",
              "        0.00380969, 0.00373371, 0.00384974, 0.00390204, 0.00337768,\n",
              "        0.00366489, 0.00372394, 0.00339826, 0.00336178, 0.00367085,\n",
              "        0.00367721, 0.00338022, 0.00385865, 0.00365218, 0.0037001 ,\n",
              "        0.00375454, 0.00362388, 0.00376956, 0.00399828, 0.00404723,\n",
              "        0.00407219, 0.00409071, 0.00382725, 0.00406424, 0.00436624,\n",
              "        0.00417757, 0.00374039, 0.0037415 , 0.00332038, 0.00359535,\n",
              "        0.00377591, 0.00360521, 0.00365051, 0.00362921, 0.00322588]),\n",
              " 'mean_test_recall': array([0.94393275, 0.94744152, 0.95793129, 0.96491228, 0.96842105,\n",
              "        0.94751462, 0.9439693 , 0.95793129, 0.95098684, 0.96491228,\n",
              "        0.94744152, 0.        , 0.9754386 , 0.        , 0.96140351,\n",
              "        0.95449561, 0.94747807, 0.9754386 , 0.94740497, 0.96144006,\n",
              "        0.95445906, 0.95445906, 0.95087719, 0.95091374, 0.95095029,\n",
              "        0.95789474, 0.97192982, 0.        , 0.94393275, 0.94049708,\n",
              "        0.95789474, 0.96140351, 0.95098684, 0.95438596, 0.95091374,\n",
              "        0.95789474, 0.9439693 , 0.        , 0.95438596, 0.95098684,\n",
              "        0.97192982, 0.        , 0.        , 0.9754386 , 0.94751462,\n",
              "        0.95438596, 0.97196637, 0.95789474, 0.94049708, 0.94744152,\n",
              "        0.9439693 , 0.95789474, 0.        , 0.94744152, 0.9439693 ,\n",
              "        0.        , 0.        , 0.        , 0.95438596, 0.95445906,\n",
              "        0.95091374, 0.95438596, 0.97192982, 0.        , 0.94740497,\n",
              "        0.95789474, 0.95442251, 0.95095029, 0.97894737, 0.        ,\n",
              "        0.95095029, 0.95789474, 0.        , 0.        , 0.94744152,\n",
              "        0.95789474, 0.        , 0.97192982, 0.9439693 , 0.95098684,\n",
              "        0.9439693 , 0.9439693 , 0.96140351, 0.95793129, 0.97894737,\n",
              "        0.96491228, 0.94046053, 0.        , 0.95438596, 0.97894737,\n",
              "        0.97894737, 0.96140351, 0.97894737, 0.        , 0.94049708,\n",
              "        0.97192982, 0.        , 0.96491228, 0.94751462, 0.94049708]),\n",
              " 'param_colsample_bytree': masked_array(data=[0.9, 0.8, 0.9, 0.6, 0.5, 0.6, 0.8, 0.9, 0.6, 0.5, 0.9,\n",
              "                    0.7, 0.5, 0.6, 0.5, 0.5, 0.9, 0.5, 0.9, 0.5, 0.5, 0.5,\n",
              "                    0.9, 0.8, 0.7, 0.8, 0.8, 0.5, 0.9, 0.9, 0.8, 0.7, 0.6,\n",
              "                    0.8, 0.8, 0.6, 0.9, 0.6, 0.8, 0.6, 0.9, 0.7, 0.9, 0.6,\n",
              "                    0.6, 0.7, 0.5, 0.6, 0.9, 0.8, 0.7, 0.7, 0.9, 0.7, 0.7,\n",
              "                    0.7, 0.9, 0.6, 0.9, 0.5, 0.8, 0.9, 0.6, 0.6, 0.9, 0.8,\n",
              "                    0.7, 0.6, 0.5, 0.5, 0.6, 0.9, 0.5, 0.8, 0.7, 0.8, 0.7,\n",
              "                    0.5, 0.7, 0.6, 0.7, 0.9, 0.6, 0.8, 0.5, 0.5, 0.9, 0.9,\n",
              "                    0.8, 0.7, 0.6, 0.6, 0.9, 0.6, 0.7, 0.5, 0.5, 0.7, 0.5,\n",
              "                    0.9],\n",
              "              mask=[False, False, False, False, False, False, False, False,\n",
              "                    False, False, False, False, False, False, False, False,\n",
              "                    False, False, False, False, False, False, False, False,\n",
              "                    False, False, False, False, False, False, False, False,\n",
              "                    False, False, False, False, False, False, False, False,\n",
              "                    False, False, False, False, False, False, False, False,\n",
              "                    False, False, False, False, False, False, False, False,\n",
              "                    False, False, False, False, False, False, False, False,\n",
              "                    False, False, False, False, False, False, False, False,\n",
              "                    False, False, False, False, False, False, False, False,\n",
              "                    False, False, False, False, False, False, False, False,\n",
              "                    False, False, False, False, False, False, False, False,\n",
              "                    False, False, False, False],\n",
              "        fill_value='?',\n",
              "             dtype=object),\n",
              " 'param_gamma': masked_array(data=[0.0, 0.3, 0.0, 0.4, 0.4, 0.0, 0.2, 0.4, 0.0, 0.3, 0.3,\n",
              "                    0.4, 0.0, 0.2, 0.0, 0.3, 0.4, 0.1, 0.0, 0.3, 0.3, 0.0,\n",
              "                    0.2, 0.2, 0.0, 0.3, 0.4, 0.4, 0.3, 0.3, 0.4, 0.4, 0.4,\n",
              "                    0.0, 0.2, 0.2, 0.2, 0.3, 0.1, 0.4, 0.3, 0.0, 0.0, 0.4,\n",
              "                    0.4, 0.4, 0.0, 0.3, 0.3, 0.4, 0.1, 0.1, 0.0, 0.2, 0.1,\n",
              "                    0.4, 0.0, 0.4, 0.3, 0.2, 0.4, 0.2, 0.3, 0.2, 0.1, 0.4,\n",
              "                    0.3, 0.2, 0.0, 0.1, 0.0, 0.0, 0.3, 0.1, 0.1, 0.2, 0.3,\n",
              "                    0.0, 0.2, 0.4, 0.3, 0.1, 0.2, 0.3, 0.2, 0.1, 0.4, 0.0,\n",
              "                    0.2, 0.0, 0.3, 0.3, 0.4, 0.4, 0.2, 0.0, 0.4, 0.3, 0.4,\n",
              "                    0.4],\n",
              "              mask=[False, False, False, False, False, False, False, False,\n",
              "                    False, False, False, False, False, False, False, False,\n",
              "                    False, False, False, False, False, False, False, False,\n",
              "                    False, False, False, False, False, False, False, False,\n",
              "                    False, False, False, False, False, False, False, False,\n",
              "                    False, False, False, False, False, False, False, False,\n",
              "                    False, False, False, False, False, False, False, False,\n",
              "                    False, False, False, False, False, False, False, False,\n",
              "                    False, False, False, False, False, False, False, False,\n",
              "                    False, False, False, False, False, False, False, False,\n",
              "                    False, False, False, False, False, False, False, False,\n",
              "                    False, False, False, False, False, False, False, False,\n",
              "                    False, False, False, False],\n",
              "        fill_value='?',\n",
              "             dtype=object),\n",
              " 'param_learning_rate': masked_array(data=[0.0001, 0.0001, 0.001, 0.01, 0.0001, 0.001, 0.001,\n",
              "                    0.0001, 0.001, 0.01, 0.001, 0.0001, 0.1, 0.001, 0.01,\n",
              "                    0.001, 0.001, 0.1, 0.01, 0.01, 0.0001, 0.0001, 0.01,\n",
              "                    0.01, 0.01, 0.1, 0.1, 0.01, 0.0001, 0.0001, 0.1, 0.1,\n",
              "                    0.001, 0.01, 0.01, 0.001, 0.0001, 0.1, 0.01, 0.0001,\n",
              "                    0.1, 0.1, 0.0001, 0.1, 0.0001, 0.01, 0.1, 0.0001,\n",
              "                    0.001, 0.0001, 0.0001, 0.001, 0.01, 0.001, 0.001,\n",
              "                    0.0001, 0.001, 0.0001, 0.01, 0.001, 0.001, 0.01, 0.1,\n",
              "                    0.1, 0.01, 0.01, 0.001, 0.01, 0.1, 0.1, 0.0001, 0.01,\n",
              "                    0.0001, 0.01, 0.01, 0.01, 0.01, 0.1, 0.0001, 0.0001,\n",
              "                    0.0001, 0.001, 0.01, 0.1, 0.1, 0.001, 0.0001, 0.001,\n",
              "                    0.01, 0.1, 0.1, 0.01, 0.1, 0.0001, 0.0001, 0.001, 0.1,\n",
              "                    0.1, 0.0001, 0.001],\n",
              "              mask=[False, False, False, False, False, False, False, False,\n",
              "                    False, False, False, False, False, False, False, False,\n",
              "                    False, False, False, False, False, False, False, False,\n",
              "                    False, False, False, False, False, False, False, False,\n",
              "                    False, False, False, False, False, False, False, False,\n",
              "                    False, False, False, False, False, False, False, False,\n",
              "                    False, False, False, False, False, False, False, False,\n",
              "                    False, False, False, False, False, False, False, False,\n",
              "                    False, False, False, False, False, False, False, False,\n",
              "                    False, False, False, False, False, False, False, False,\n",
              "                    False, False, False, False, False, False, False, False,\n",
              "                    False, False, False, False, False, False, False, False,\n",
              "                    False, False, False, False],\n",
              "        fill_value='?',\n",
              "             dtype=object),\n",
              " 'param_max_depth': masked_array(data=[18, 18, 18, 16, 20, 10, 14, 12, 18, 18, 12, 12, 12, 14,\n",
              "                    12, 12, 20, 18, 14, 10, 12, 16, 12, 18, 18, 16, 20, 14,\n",
              "                    16, 18, 12, 18, 12, 16, 12, 18, 18, 14, 14, 16, 16, 12,\n",
              "                    18, 16, 12, 20, 16, 10, 14, 14, 14, 18, 20, 16, 20, 18,\n",
              "                    16, 18, 18, 18, 16, 14, 10, 14, 14, 10, 14, 10, 18, 14,\n",
              "                    18, 18, 14, 18, 10, 10, 16, 18, 16, 14, 18, 10, 16, 14,\n",
              "                    12, 20, 16, 20, 12, 16, 18, 16, 16, 20, 10, 14, 10, 10,\n",
              "                    20, 10],\n",
              "              mask=[False, False, False, False, False, False, False, False,\n",
              "                    False, False, False, False, False, False, False, False,\n",
              "                    False, False, False, False, False, False, False, False,\n",
              "                    False, False, False, False, False, False, False, False,\n",
              "                    False, False, False, False, False, False, False, False,\n",
              "                    False, False, False, False, False, False, False, False,\n",
              "                    False, False, False, False, False, False, False, False,\n",
              "                    False, False, False, False, False, False, False, False,\n",
              "                    False, False, False, False, False, False, False, False,\n",
              "                    False, False, False, False, False, False, False, False,\n",
              "                    False, False, False, False, False, False, False, False,\n",
              "                    False, False, False, False, False, False, False, False,\n",
              "                    False, False, False, False],\n",
              "        fill_value='?',\n",
              "             dtype=object),\n",
              " 'param_min_child_weight': masked_array(data=[3, 3, 1, 1, 1, 5, 5, 1, 1, 3, 3, 3, 5, 1, 5, 3, 1, 3,\n",
              "                    5, 5, 5, 5, 3, 5, 1, 3, 1, 3, 3, 3, 3, 5, 5, 3, 5, 1,\n",
              "                    5, 3, 5, 5, 3, 1, 1, 1, 3, 5, 1, 1, 5, 3, 5, 1, 3, 3,\n",
              "                    5, 3, 3, 5, 1, 3, 1, 1, 5, 3, 5, 1, 1, 3, 1, 5, 3, 3,\n",
              "                    1, 5, 5, 3, 1, 3, 5, 5, 5, 5, 1, 5, 3, 3, 5, 3, 5, 1,\n",
              "                    1, 3, 1, 5, 5, 1, 5, 5, 5, 5],\n",
              "              mask=[False, False, False, False, False, False, False, False,\n",
              "                    False, False, False, False, False, False, False, False,\n",
              "                    False, False, False, False, False, False, False, False,\n",
              "                    False, False, False, False, False, False, False, False,\n",
              "                    False, False, False, False, False, False, False, False,\n",
              "                    False, False, False, False, False, False, False, False,\n",
              "                    False, False, False, False, False, False, False, False,\n",
              "                    False, False, False, False, False, False, False, False,\n",
              "                    False, False, False, False, False, False, False, False,\n",
              "                    False, False, False, False, False, False, False, False,\n",
              "                    False, False, False, False, False, False, False, False,\n",
              "                    False, False, False, False, False, False, False, False,\n",
              "                    False, False, False, False],\n",
              "        fill_value='?',\n",
              "             dtype=object),\n",
              " 'param_reg_alpha': masked_array(data=[1, 1, 1e-05, 0.01, 0.1, 1e-05, 0.01, 0.1, 10, 0.01,\n",
              "                    1e-05, 100, 0.1, 100, 1, 10, 10, 1, 0.01, 0.01, 0.1,\n",
              "                    1e-05, 1, 1e-05, 10, 10, 0.1, 100, 0.1, 10, 10, 1, 1,\n",
              "                    0.1, 0.01, 1, 0.01, 100, 1, 1, 1, 100, 100, 0.01, 10,\n",
              "                    1, 10, 0.01, 10, 1, 0.01, 0.01, 100, 0.1, 1, 100, 100,\n",
              "                    100, 0.1, 1e-05, 0.01, 1e-05, 0.01, 100, 1, 0.1, 1, 10,\n",
              "                    0.1, 100, 0.01, 10, 100, 100, 0.01, 1, 100, 10, 1e-05,\n",
              "                    0.01, 0.01, 0.1, 1, 10, 0.01, 1, 1e-05, 100, 0.1,\n",
              "                    1e-05, 0.1, 1e-05, 0.1, 100, 10, 0.1, 100, 0.1, 10, 10],\n",
              "              mask=[False, False, False, False, False, False, False, False,\n",
              "                    False, False, False, False, False, False, False, False,\n",
              "                    False, False, False, False, False, False, False, False,\n",
              "                    False, False, False, False, False, False, False, False,\n",
              "                    False, False, False, False, False, False, False, False,\n",
              "                    False, False, False, False, False, False, False, False,\n",
              "                    False, False, False, False, False, False, False, False,\n",
              "                    False, False, False, False, False, False, False, False,\n",
              "                    False, False, False, False, False, False, False, False,\n",
              "                    False, False, False, False, False, False, False, False,\n",
              "                    False, False, False, False, False, False, False, False,\n",
              "                    False, False, False, False, False, False, False, False,\n",
              "                    False, False, False, False],\n",
              "        fill_value='?',\n",
              "             dtype=object),\n",
              " 'param_subsample': masked_array(data=[0.8, 0.8, 0.85, 0.85, 0.75, 0.8, 0.8, 0.85, 0.8, 0.75,\n",
              "                    0.75, 0.75, 0.8, 0.75, 0.75, 0.8, 0.8, 0.8, 0.85, 0.85,\n",
              "                    0.75, 0.75, 0.85, 0.75, 0.8, 0.75, 0.75, 0.75, 0.8,\n",
              "                    0.75, 0.85, 0.8, 0.75, 0.8, 0.75, 0.85, 0.8, 0.8, 0.8,\n",
              "                    0.75, 0.8, 0.85, 0.85, 0.75, 0.75, 0.8, 0.8, 0.8, 0.8,\n",
              "                    0.8, 0.8, 0.8, 0.75, 0.8, 0.75, 0.85, 0.75, 0.8, 0.85,\n",
              "                    0.85, 0.8, 0.85, 0.8, 0.8, 0.85, 0.75, 0.85, 0.85,\n",
              "                    0.85, 0.75, 0.8, 0.8, 0.75, 0.85, 0.85, 0.85, 0.75,\n",
              "                    0.8, 0.75, 0.75, 0.8, 0.75, 0.8, 0.8, 0.8, 0.8, 0.85,\n",
              "                    0.75, 0.8, 0.75, 0.8, 0.8, 0.85, 0.75, 0.85, 0.8, 0.8,\n",
              "                    0.85, 0.8, 0.75],\n",
              "              mask=[False, False, False, False, False, False, False, False,\n",
              "                    False, False, False, False, False, False, False, False,\n",
              "                    False, False, False, False, False, False, False, False,\n",
              "                    False, False, False, False, False, False, False, False,\n",
              "                    False, False, False, False, False, False, False, False,\n",
              "                    False, False, False, False, False, False, False, False,\n",
              "                    False, False, False, False, False, False, False, False,\n",
              "                    False, False, False, False, False, False, False, False,\n",
              "                    False, False, False, False, False, False, False, False,\n",
              "                    False, False, False, False, False, False, False, False,\n",
              "                    False, False, False, False, False, False, False, False,\n",
              "                    False, False, False, False, False, False, False, False,\n",
              "                    False, False, False, False],\n",
              "        fill_value='?',\n",
              "             dtype=object),\n",
              " 'params': [{'colsample_bytree': 0.9,\n",
              "   'gamma': 0.0,\n",
              "   'learning_rate': 0.0001,\n",
              "   'max_depth': 18,\n",
              "   'min_child_weight': 3,\n",
              "   'reg_alpha': 1,\n",
              "   'subsample': 0.8},\n",
              "  {'colsample_bytree': 0.8,\n",
              "   'gamma': 0.3,\n",
              "   'learning_rate': 0.0001,\n",
              "   'max_depth': 18,\n",
              "   'min_child_weight': 3,\n",
              "   'reg_alpha': 1,\n",
              "   'subsample': 0.8},\n",
              "  {'colsample_bytree': 0.9,\n",
              "   'gamma': 0.0,\n",
              "   'learning_rate': 0.001,\n",
              "   'max_depth': 18,\n",
              "   'min_child_weight': 1,\n",
              "   'reg_alpha': 1e-05,\n",
              "   'subsample': 0.85},\n",
              "  {'colsample_bytree': 0.6,\n",
              "   'gamma': 0.4,\n",
              "   'learning_rate': 0.01,\n",
              "   'max_depth': 16,\n",
              "   'min_child_weight': 1,\n",
              "   'reg_alpha': 0.01,\n",
              "   'subsample': 0.85},\n",
              "  {'colsample_bytree': 0.5,\n",
              "   'gamma': 0.4,\n",
              "   'learning_rate': 0.0001,\n",
              "   'max_depth': 20,\n",
              "   'min_child_weight': 1,\n",
              "   'reg_alpha': 0.1,\n",
              "   'subsample': 0.75},\n",
              "  {'colsample_bytree': 0.6,\n",
              "   'gamma': 0.0,\n",
              "   'learning_rate': 0.001,\n",
              "   'max_depth': 10,\n",
              "   'min_child_weight': 5,\n",
              "   'reg_alpha': 1e-05,\n",
              "   'subsample': 0.8},\n",
              "  {'colsample_bytree': 0.8,\n",
              "   'gamma': 0.2,\n",
              "   'learning_rate': 0.001,\n",
              "   'max_depth': 14,\n",
              "   'min_child_weight': 5,\n",
              "   'reg_alpha': 0.01,\n",
              "   'subsample': 0.8},\n",
              "  {'colsample_bytree': 0.9,\n",
              "   'gamma': 0.4,\n",
              "   'learning_rate': 0.0001,\n",
              "   'max_depth': 12,\n",
              "   'min_child_weight': 1,\n",
              "   'reg_alpha': 0.1,\n",
              "   'subsample': 0.85},\n",
              "  {'colsample_bytree': 0.6,\n",
              "   'gamma': 0.0,\n",
              "   'learning_rate': 0.001,\n",
              "   'max_depth': 18,\n",
              "   'min_child_weight': 1,\n",
              "   'reg_alpha': 10,\n",
              "   'subsample': 0.8},\n",
              "  {'colsample_bytree': 0.5,\n",
              "   'gamma': 0.3,\n",
              "   'learning_rate': 0.01,\n",
              "   'max_depth': 18,\n",
              "   'min_child_weight': 3,\n",
              "   'reg_alpha': 0.01,\n",
              "   'subsample': 0.75},\n",
              "  {'colsample_bytree': 0.9,\n",
              "   'gamma': 0.3,\n",
              "   'learning_rate': 0.001,\n",
              "   'max_depth': 12,\n",
              "   'min_child_weight': 3,\n",
              "   'reg_alpha': 1e-05,\n",
              "   'subsample': 0.75},\n",
              "  {'colsample_bytree': 0.7,\n",
              "   'gamma': 0.4,\n",
              "   'learning_rate': 0.0001,\n",
              "   'max_depth': 12,\n",
              "   'min_child_weight': 3,\n",
              "   'reg_alpha': 100,\n",
              "   'subsample': 0.75},\n",
              "  {'colsample_bytree': 0.5,\n",
              "   'gamma': 0.0,\n",
              "   'learning_rate': 0.1,\n",
              "   'max_depth': 12,\n",
              "   'min_child_weight': 5,\n",
              "   'reg_alpha': 0.1,\n",
              "   'subsample': 0.8},\n",
              "  {'colsample_bytree': 0.6,\n",
              "   'gamma': 0.2,\n",
              "   'learning_rate': 0.001,\n",
              "   'max_depth': 14,\n",
              "   'min_child_weight': 1,\n",
              "   'reg_alpha': 100,\n",
              "   'subsample': 0.75},\n",
              "  {'colsample_bytree': 0.5,\n",
              "   'gamma': 0.0,\n",
              "   'learning_rate': 0.01,\n",
              "   'max_depth': 12,\n",
              "   'min_child_weight': 5,\n",
              "   'reg_alpha': 1,\n",
              "   'subsample': 0.75},\n",
              "  {'colsample_bytree': 0.5,\n",
              "   'gamma': 0.3,\n",
              "   'learning_rate': 0.001,\n",
              "   'max_depth': 12,\n",
              "   'min_child_weight': 3,\n",
              "   'reg_alpha': 10,\n",
              "   'subsample': 0.8},\n",
              "  {'colsample_bytree': 0.9,\n",
              "   'gamma': 0.4,\n",
              "   'learning_rate': 0.001,\n",
              "   'max_depth': 20,\n",
              "   'min_child_weight': 1,\n",
              "   'reg_alpha': 10,\n",
              "   'subsample': 0.8},\n",
              "  {'colsample_bytree': 0.5,\n",
              "   'gamma': 0.1,\n",
              "   'learning_rate': 0.1,\n",
              "   'max_depth': 18,\n",
              "   'min_child_weight': 3,\n",
              "   'reg_alpha': 1,\n",
              "   'subsample': 0.8},\n",
              "  {'colsample_bytree': 0.9,\n",
              "   'gamma': 0.0,\n",
              "   'learning_rate': 0.01,\n",
              "   'max_depth': 14,\n",
              "   'min_child_weight': 5,\n",
              "   'reg_alpha': 0.01,\n",
              "   'subsample': 0.85},\n",
              "  {'colsample_bytree': 0.5,\n",
              "   'gamma': 0.3,\n",
              "   'learning_rate': 0.01,\n",
              "   'max_depth': 10,\n",
              "   'min_child_weight': 5,\n",
              "   'reg_alpha': 0.01,\n",
              "   'subsample': 0.85},\n",
              "  {'colsample_bytree': 0.5,\n",
              "   'gamma': 0.3,\n",
              "   'learning_rate': 0.0001,\n",
              "   'max_depth': 12,\n",
              "   'min_child_weight': 5,\n",
              "   'reg_alpha': 0.1,\n",
              "   'subsample': 0.75},\n",
              "  {'colsample_bytree': 0.5,\n",
              "   'gamma': 0.0,\n",
              "   'learning_rate': 0.0001,\n",
              "   'max_depth': 16,\n",
              "   'min_child_weight': 5,\n",
              "   'reg_alpha': 1e-05,\n",
              "   'subsample': 0.75},\n",
              "  {'colsample_bytree': 0.9,\n",
              "   'gamma': 0.2,\n",
              "   'learning_rate': 0.01,\n",
              "   'max_depth': 12,\n",
              "   'min_child_weight': 3,\n",
              "   'reg_alpha': 1,\n",
              "   'subsample': 0.85},\n",
              "  {'colsample_bytree': 0.8,\n",
              "   'gamma': 0.2,\n",
              "   'learning_rate': 0.01,\n",
              "   'max_depth': 18,\n",
              "   'min_child_weight': 5,\n",
              "   'reg_alpha': 1e-05,\n",
              "   'subsample': 0.75},\n",
              "  {'colsample_bytree': 0.7,\n",
              "   'gamma': 0.0,\n",
              "   'learning_rate': 0.01,\n",
              "   'max_depth': 18,\n",
              "   'min_child_weight': 1,\n",
              "   'reg_alpha': 10,\n",
              "   'subsample': 0.8},\n",
              "  {'colsample_bytree': 0.8,\n",
              "   'gamma': 0.3,\n",
              "   'learning_rate': 0.1,\n",
              "   'max_depth': 16,\n",
              "   'min_child_weight': 3,\n",
              "   'reg_alpha': 10,\n",
              "   'subsample': 0.75},\n",
              "  {'colsample_bytree': 0.8,\n",
              "   'gamma': 0.4,\n",
              "   'learning_rate': 0.1,\n",
              "   'max_depth': 20,\n",
              "   'min_child_weight': 1,\n",
              "   'reg_alpha': 0.1,\n",
              "   'subsample': 0.75},\n",
              "  {'colsample_bytree': 0.5,\n",
              "   'gamma': 0.4,\n",
              "   'learning_rate': 0.01,\n",
              "   'max_depth': 14,\n",
              "   'min_child_weight': 3,\n",
              "   'reg_alpha': 100,\n",
              "   'subsample': 0.75},\n",
              "  {'colsample_bytree': 0.9,\n",
              "   'gamma': 0.3,\n",
              "   'learning_rate': 0.0001,\n",
              "   'max_depth': 16,\n",
              "   'min_child_weight': 3,\n",
              "   'reg_alpha': 0.1,\n",
              "   'subsample': 0.8},\n",
              "  {'colsample_bytree': 0.9,\n",
              "   'gamma': 0.3,\n",
              "   'learning_rate': 0.0001,\n",
              "   'max_depth': 18,\n",
              "   'min_child_weight': 3,\n",
              "   'reg_alpha': 10,\n",
              "   'subsample': 0.75},\n",
              "  {'colsample_bytree': 0.8,\n",
              "   'gamma': 0.4,\n",
              "   'learning_rate': 0.1,\n",
              "   'max_depth': 12,\n",
              "   'min_child_weight': 3,\n",
              "   'reg_alpha': 10,\n",
              "   'subsample': 0.85},\n",
              "  {'colsample_bytree': 0.7,\n",
              "   'gamma': 0.4,\n",
              "   'learning_rate': 0.1,\n",
              "   'max_depth': 18,\n",
              "   'min_child_weight': 5,\n",
              "   'reg_alpha': 1,\n",
              "   'subsample': 0.8},\n",
              "  {'colsample_bytree': 0.6,\n",
              "   'gamma': 0.4,\n",
              "   'learning_rate': 0.001,\n",
              "   'max_depth': 12,\n",
              "   'min_child_weight': 5,\n",
              "   'reg_alpha': 1,\n",
              "   'subsample': 0.75},\n",
              "  {'colsample_bytree': 0.8,\n",
              "   'gamma': 0.0,\n",
              "   'learning_rate': 0.01,\n",
              "   'max_depth': 16,\n",
              "   'min_child_weight': 3,\n",
              "   'reg_alpha': 0.1,\n",
              "   'subsample': 0.8},\n",
              "  {'colsample_bytree': 0.8,\n",
              "   'gamma': 0.2,\n",
              "   'learning_rate': 0.01,\n",
              "   'max_depth': 12,\n",
              "   'min_child_weight': 5,\n",
              "   'reg_alpha': 0.01,\n",
              "   'subsample': 0.75},\n",
              "  {'colsample_bytree': 0.6,\n",
              "   'gamma': 0.2,\n",
              "   'learning_rate': 0.001,\n",
              "   'max_depth': 18,\n",
              "   'min_child_weight': 1,\n",
              "   'reg_alpha': 1,\n",
              "   'subsample': 0.85},\n",
              "  {'colsample_bytree': 0.9,\n",
              "   'gamma': 0.2,\n",
              "   'learning_rate': 0.0001,\n",
              "   'max_depth': 18,\n",
              "   'min_child_weight': 5,\n",
              "   'reg_alpha': 0.01,\n",
              "   'subsample': 0.8},\n",
              "  {'colsample_bytree': 0.6,\n",
              "   'gamma': 0.3,\n",
              "   'learning_rate': 0.1,\n",
              "   'max_depth': 14,\n",
              "   'min_child_weight': 3,\n",
              "   'reg_alpha': 100,\n",
              "   'subsample': 0.8},\n",
              "  {'colsample_bytree': 0.8,\n",
              "   'gamma': 0.1,\n",
              "   'learning_rate': 0.01,\n",
              "   'max_depth': 14,\n",
              "   'min_child_weight': 5,\n",
              "   'reg_alpha': 1,\n",
              "   'subsample': 0.8},\n",
              "  {'colsample_bytree': 0.6,\n",
              "   'gamma': 0.4,\n",
              "   'learning_rate': 0.0001,\n",
              "   'max_depth': 16,\n",
              "   'min_child_weight': 5,\n",
              "   'reg_alpha': 1,\n",
              "   'subsample': 0.75},\n",
              "  {'colsample_bytree': 0.9,\n",
              "   'gamma': 0.3,\n",
              "   'learning_rate': 0.1,\n",
              "   'max_depth': 16,\n",
              "   'min_child_weight': 3,\n",
              "   'reg_alpha': 1,\n",
              "   'subsample': 0.8},\n",
              "  {'colsample_bytree': 0.7,\n",
              "   'gamma': 0.0,\n",
              "   'learning_rate': 0.1,\n",
              "   'max_depth': 12,\n",
              "   'min_child_weight': 1,\n",
              "   'reg_alpha': 100,\n",
              "   'subsample': 0.85},\n",
              "  {'colsample_bytree': 0.9,\n",
              "   'gamma': 0.0,\n",
              "   'learning_rate': 0.0001,\n",
              "   'max_depth': 18,\n",
              "   'min_child_weight': 1,\n",
              "   'reg_alpha': 100,\n",
              "   'subsample': 0.85},\n",
              "  {'colsample_bytree': 0.6,\n",
              "   'gamma': 0.4,\n",
              "   'learning_rate': 0.1,\n",
              "   'max_depth': 16,\n",
              "   'min_child_weight': 1,\n",
              "   'reg_alpha': 0.01,\n",
              "   'subsample': 0.75},\n",
              "  {'colsample_bytree': 0.6,\n",
              "   'gamma': 0.4,\n",
              "   'learning_rate': 0.0001,\n",
              "   'max_depth': 12,\n",
              "   'min_child_weight': 3,\n",
              "   'reg_alpha': 10,\n",
              "   'subsample': 0.75},\n",
              "  {'colsample_bytree': 0.7,\n",
              "   'gamma': 0.4,\n",
              "   'learning_rate': 0.01,\n",
              "   'max_depth': 20,\n",
              "   'min_child_weight': 5,\n",
              "   'reg_alpha': 1,\n",
              "   'subsample': 0.8},\n",
              "  {'colsample_bytree': 0.5,\n",
              "   'gamma': 0.0,\n",
              "   'learning_rate': 0.1,\n",
              "   'max_depth': 16,\n",
              "   'min_child_weight': 1,\n",
              "   'reg_alpha': 10,\n",
              "   'subsample': 0.8},\n",
              "  {'colsample_bytree': 0.6,\n",
              "   'gamma': 0.3,\n",
              "   'learning_rate': 0.0001,\n",
              "   'max_depth': 10,\n",
              "   'min_child_weight': 1,\n",
              "   'reg_alpha': 0.01,\n",
              "   'subsample': 0.8},\n",
              "  {'colsample_bytree': 0.9,\n",
              "   'gamma': 0.3,\n",
              "   'learning_rate': 0.001,\n",
              "   'max_depth': 14,\n",
              "   'min_child_weight': 5,\n",
              "   'reg_alpha': 10,\n",
              "   'subsample': 0.8},\n",
              "  {'colsample_bytree': 0.8,\n",
              "   'gamma': 0.4,\n",
              "   'learning_rate': 0.0001,\n",
              "   'max_depth': 14,\n",
              "   'min_child_weight': 3,\n",
              "   'reg_alpha': 1,\n",
              "   'subsample': 0.8},\n",
              "  {'colsample_bytree': 0.7,\n",
              "   'gamma': 0.1,\n",
              "   'learning_rate': 0.0001,\n",
              "   'max_depth': 14,\n",
              "   'min_child_weight': 5,\n",
              "   'reg_alpha': 0.01,\n",
              "   'subsample': 0.8},\n",
              "  {'colsample_bytree': 0.7,\n",
              "   'gamma': 0.1,\n",
              "   'learning_rate': 0.001,\n",
              "   'max_depth': 18,\n",
              "   'min_child_weight': 1,\n",
              "   'reg_alpha': 0.01,\n",
              "   'subsample': 0.8},\n",
              "  {'colsample_bytree': 0.9,\n",
              "   'gamma': 0.0,\n",
              "   'learning_rate': 0.01,\n",
              "   'max_depth': 20,\n",
              "   'min_child_weight': 3,\n",
              "   'reg_alpha': 100,\n",
              "   'subsample': 0.75},\n",
              "  {'colsample_bytree': 0.7,\n",
              "   'gamma': 0.2,\n",
              "   'learning_rate': 0.001,\n",
              "   'max_depth': 16,\n",
              "   'min_child_weight': 3,\n",
              "   'reg_alpha': 0.1,\n",
              "   'subsample': 0.8},\n",
              "  {'colsample_bytree': 0.7,\n",
              "   'gamma': 0.1,\n",
              "   'learning_rate': 0.001,\n",
              "   'max_depth': 20,\n",
              "   'min_child_weight': 5,\n",
              "   'reg_alpha': 1,\n",
              "   'subsample': 0.75},\n",
              "  {'colsample_bytree': 0.7,\n",
              "   'gamma': 0.4,\n",
              "   'learning_rate': 0.0001,\n",
              "   'max_depth': 18,\n",
              "   'min_child_weight': 3,\n",
              "   'reg_alpha': 100,\n",
              "   'subsample': 0.85},\n",
              "  {'colsample_bytree': 0.9,\n",
              "   'gamma': 0.0,\n",
              "   'learning_rate': 0.001,\n",
              "   'max_depth': 16,\n",
              "   'min_child_weight': 3,\n",
              "   'reg_alpha': 100,\n",
              "   'subsample': 0.75},\n",
              "  {'colsample_bytree': 0.6,\n",
              "   'gamma': 0.4,\n",
              "   'learning_rate': 0.0001,\n",
              "   'max_depth': 18,\n",
              "   'min_child_weight': 5,\n",
              "   'reg_alpha': 100,\n",
              "   'subsample': 0.8},\n",
              "  {'colsample_bytree': 0.9,\n",
              "   'gamma': 0.3,\n",
              "   'learning_rate': 0.01,\n",
              "   'max_depth': 18,\n",
              "   'min_child_weight': 1,\n",
              "   'reg_alpha': 0.1,\n",
              "   'subsample': 0.85},\n",
              "  {'colsample_bytree': 0.5,\n",
              "   'gamma': 0.2,\n",
              "   'learning_rate': 0.001,\n",
              "   'max_depth': 18,\n",
              "   'min_child_weight': 3,\n",
              "   'reg_alpha': 1e-05,\n",
              "   'subsample': 0.85},\n",
              "  {'colsample_bytree': 0.8,\n",
              "   'gamma': 0.4,\n",
              "   'learning_rate': 0.001,\n",
              "   'max_depth': 16,\n",
              "   'min_child_weight': 1,\n",
              "   'reg_alpha': 0.01,\n",
              "   'subsample': 0.8},\n",
              "  {'colsample_bytree': 0.9,\n",
              "   'gamma': 0.2,\n",
              "   'learning_rate': 0.01,\n",
              "   'max_depth': 14,\n",
              "   'min_child_weight': 1,\n",
              "   'reg_alpha': 1e-05,\n",
              "   'subsample': 0.85},\n",
              "  {'colsample_bytree': 0.6,\n",
              "   'gamma': 0.3,\n",
              "   'learning_rate': 0.1,\n",
              "   'max_depth': 10,\n",
              "   'min_child_weight': 5,\n",
              "   'reg_alpha': 0.01,\n",
              "   'subsample': 0.8},\n",
              "  {'colsample_bytree': 0.6,\n",
              "   'gamma': 0.2,\n",
              "   'learning_rate': 0.1,\n",
              "   'max_depth': 14,\n",
              "   'min_child_weight': 3,\n",
              "   'reg_alpha': 100,\n",
              "   'subsample': 0.8},\n",
              "  {'colsample_bytree': 0.9,\n",
              "   'gamma': 0.1,\n",
              "   'learning_rate': 0.01,\n",
              "   'max_depth': 14,\n",
              "   'min_child_weight': 5,\n",
              "   'reg_alpha': 1,\n",
              "   'subsample': 0.85},\n",
              "  {'colsample_bytree': 0.8,\n",
              "   'gamma': 0.4,\n",
              "   'learning_rate': 0.01,\n",
              "   'max_depth': 10,\n",
              "   'min_child_weight': 1,\n",
              "   'reg_alpha': 0.1,\n",
              "   'subsample': 0.75},\n",
              "  {'colsample_bytree': 0.7,\n",
              "   'gamma': 0.3,\n",
              "   'learning_rate': 0.001,\n",
              "   'max_depth': 14,\n",
              "   'min_child_weight': 1,\n",
              "   'reg_alpha': 1,\n",
              "   'subsample': 0.85},\n",
              "  {'colsample_bytree': 0.6,\n",
              "   'gamma': 0.2,\n",
              "   'learning_rate': 0.01,\n",
              "   'max_depth': 10,\n",
              "   'min_child_weight': 3,\n",
              "   'reg_alpha': 10,\n",
              "   'subsample': 0.85},\n",
              "  {'colsample_bytree': 0.5,\n",
              "   'gamma': 0.0,\n",
              "   'learning_rate': 0.1,\n",
              "   'max_depth': 18,\n",
              "   'min_child_weight': 1,\n",
              "   'reg_alpha': 0.1,\n",
              "   'subsample': 0.85},\n",
              "  {'colsample_bytree': 0.5,\n",
              "   'gamma': 0.1,\n",
              "   'learning_rate': 0.1,\n",
              "   'max_depth': 14,\n",
              "   'min_child_weight': 5,\n",
              "   'reg_alpha': 100,\n",
              "   'subsample': 0.75},\n",
              "  {'colsample_bytree': 0.6,\n",
              "   'gamma': 0.0,\n",
              "   'learning_rate': 0.0001,\n",
              "   'max_depth': 18,\n",
              "   'min_child_weight': 3,\n",
              "   'reg_alpha': 0.01,\n",
              "   'subsample': 0.8},\n",
              "  {'colsample_bytree': 0.9,\n",
              "   'gamma': 0.0,\n",
              "   'learning_rate': 0.01,\n",
              "   'max_depth': 18,\n",
              "   'min_child_weight': 3,\n",
              "   'reg_alpha': 10,\n",
              "   'subsample': 0.8},\n",
              "  {'colsample_bytree': 0.5,\n",
              "   'gamma': 0.3,\n",
              "   'learning_rate': 0.0001,\n",
              "   'max_depth': 14,\n",
              "   'min_child_weight': 1,\n",
              "   'reg_alpha': 100,\n",
              "   'subsample': 0.75},\n",
              "  {'colsample_bytree': 0.8,\n",
              "   'gamma': 0.1,\n",
              "   'learning_rate': 0.01,\n",
              "   'max_depth': 18,\n",
              "   'min_child_weight': 5,\n",
              "   'reg_alpha': 100,\n",
              "   'subsample': 0.85},\n",
              "  {'colsample_bytree': 0.7,\n",
              "   'gamma': 0.1,\n",
              "   'learning_rate': 0.01,\n",
              "   'max_depth': 10,\n",
              "   'min_child_weight': 5,\n",
              "   'reg_alpha': 0.01,\n",
              "   'subsample': 0.85},\n",
              "  {'colsample_bytree': 0.8,\n",
              "   'gamma': 0.2,\n",
              "   'learning_rate': 0.01,\n",
              "   'max_depth': 10,\n",
              "   'min_child_weight': 3,\n",
              "   'reg_alpha': 1,\n",
              "   'subsample': 0.85},\n",
              "  {'colsample_bytree': 0.7,\n",
              "   'gamma': 0.3,\n",
              "   'learning_rate': 0.01,\n",
              "   'max_depth': 16,\n",
              "   'min_child_weight': 1,\n",
              "   'reg_alpha': 100,\n",
              "   'subsample': 0.75},\n",
              "  {'colsample_bytree': 0.5,\n",
              "   'gamma': 0.0,\n",
              "   'learning_rate': 0.1,\n",
              "   'max_depth': 18,\n",
              "   'min_child_weight': 3,\n",
              "   'reg_alpha': 10,\n",
              "   'subsample': 0.8},\n",
              "  {'colsample_bytree': 0.7,\n",
              "   'gamma': 0.2,\n",
              "   'learning_rate': 0.0001,\n",
              "   'max_depth': 16,\n",
              "   'min_child_weight': 5,\n",
              "   'reg_alpha': 1e-05,\n",
              "   'subsample': 0.75},\n",
              "  {'colsample_bytree': 0.6,\n",
              "   'gamma': 0.4,\n",
              "   'learning_rate': 0.0001,\n",
              "   'max_depth': 14,\n",
              "   'min_child_weight': 5,\n",
              "   'reg_alpha': 0.01,\n",
              "   'subsample': 0.75},\n",
              "  {'colsample_bytree': 0.7,\n",
              "   'gamma': 0.3,\n",
              "   'learning_rate': 0.0001,\n",
              "   'max_depth': 18,\n",
              "   'min_child_weight': 5,\n",
              "   'reg_alpha': 0.01,\n",
              "   'subsample': 0.8},\n",
              "  {'colsample_bytree': 0.9,\n",
              "   'gamma': 0.1,\n",
              "   'learning_rate': 0.001,\n",
              "   'max_depth': 10,\n",
              "   'min_child_weight': 5,\n",
              "   'reg_alpha': 0.1,\n",
              "   'subsample': 0.75},\n",
              "  {'colsample_bytree': 0.6,\n",
              "   'gamma': 0.2,\n",
              "   'learning_rate': 0.01,\n",
              "   'max_depth': 16,\n",
              "   'min_child_weight': 1,\n",
              "   'reg_alpha': 1,\n",
              "   'subsample': 0.8},\n",
              "  {'colsample_bytree': 0.8,\n",
              "   'gamma': 0.3,\n",
              "   'learning_rate': 0.1,\n",
              "   'max_depth': 14,\n",
              "   'min_child_weight': 5,\n",
              "   'reg_alpha': 10,\n",
              "   'subsample': 0.8},\n",
              "  {'colsample_bytree': 0.5,\n",
              "   'gamma': 0.2,\n",
              "   'learning_rate': 0.1,\n",
              "   'max_depth': 12,\n",
              "   'min_child_weight': 3,\n",
              "   'reg_alpha': 0.01,\n",
              "   'subsample': 0.8},\n",
              "  {'colsample_bytree': 0.5,\n",
              "   'gamma': 0.1,\n",
              "   'learning_rate': 0.001,\n",
              "   'max_depth': 20,\n",
              "   'min_child_weight': 3,\n",
              "   'reg_alpha': 1,\n",
              "   'subsample': 0.8},\n",
              "  {'colsample_bytree': 0.9,\n",
              "   'gamma': 0.4,\n",
              "   'learning_rate': 0.0001,\n",
              "   'max_depth': 16,\n",
              "   'min_child_weight': 5,\n",
              "   'reg_alpha': 1e-05,\n",
              "   'subsample': 0.85},\n",
              "  {'colsample_bytree': 0.9,\n",
              "   'gamma': 0.0,\n",
              "   'learning_rate': 0.001,\n",
              "   'max_depth': 20,\n",
              "   'min_child_weight': 3,\n",
              "   'reg_alpha': 100,\n",
              "   'subsample': 0.75},\n",
              "  {'colsample_bytree': 0.8,\n",
              "   'gamma': 0.2,\n",
              "   'learning_rate': 0.01,\n",
              "   'max_depth': 12,\n",
              "   'min_child_weight': 5,\n",
              "   'reg_alpha': 0.1,\n",
              "   'subsample': 0.8},\n",
              "  {'colsample_bytree': 0.7,\n",
              "   'gamma': 0.0,\n",
              "   'learning_rate': 0.1,\n",
              "   'max_depth': 16,\n",
              "   'min_child_weight': 1,\n",
              "   'reg_alpha': 1e-05,\n",
              "   'subsample': 0.75},\n",
              "  {'colsample_bytree': 0.6,\n",
              "   'gamma': 0.3,\n",
              "   'learning_rate': 0.1,\n",
              "   'max_depth': 18,\n",
              "   'min_child_weight': 1,\n",
              "   'reg_alpha': 0.1,\n",
              "   'subsample': 0.8},\n",
              "  {'colsample_bytree': 0.6,\n",
              "   'gamma': 0.3,\n",
              "   'learning_rate': 0.01,\n",
              "   'max_depth': 16,\n",
              "   'min_child_weight': 3,\n",
              "   'reg_alpha': 1e-05,\n",
              "   'subsample': 0.8},\n",
              "  {'colsample_bytree': 0.9,\n",
              "   'gamma': 0.4,\n",
              "   'learning_rate': 0.1,\n",
              "   'max_depth': 16,\n",
              "   'min_child_weight': 1,\n",
              "   'reg_alpha': 0.1,\n",
              "   'subsample': 0.85},\n",
              "  {'colsample_bytree': 0.6,\n",
              "   'gamma': 0.4,\n",
              "   'learning_rate': 0.0001,\n",
              "   'max_depth': 20,\n",
              "   'min_child_weight': 5,\n",
              "   'reg_alpha': 100,\n",
              "   'subsample': 0.75},\n",
              "  {'colsample_bytree': 0.7,\n",
              "   'gamma': 0.2,\n",
              "   'learning_rate': 0.0001,\n",
              "   'max_depth': 10,\n",
              "   'min_child_weight': 5,\n",
              "   'reg_alpha': 10,\n",
              "   'subsample': 0.85},\n",
              "  {'colsample_bytree': 0.5,\n",
              "   'gamma': 0.0,\n",
              "   'learning_rate': 0.001,\n",
              "   'max_depth': 14,\n",
              "   'min_child_weight': 1,\n",
              "   'reg_alpha': 0.1,\n",
              "   'subsample': 0.8},\n",
              "  {'colsample_bytree': 0.5,\n",
              "   'gamma': 0.4,\n",
              "   'learning_rate': 0.1,\n",
              "   'max_depth': 10,\n",
              "   'min_child_weight': 5,\n",
              "   'reg_alpha': 100,\n",
              "   'subsample': 0.8},\n",
              "  {'colsample_bytree': 0.7,\n",
              "   'gamma': 0.3,\n",
              "   'learning_rate': 0.1,\n",
              "   'max_depth': 10,\n",
              "   'min_child_weight': 5,\n",
              "   'reg_alpha': 0.1,\n",
              "   'subsample': 0.85},\n",
              "  {'colsample_bytree': 0.5,\n",
              "   'gamma': 0.4,\n",
              "   'learning_rate': 0.0001,\n",
              "   'max_depth': 20,\n",
              "   'min_child_weight': 5,\n",
              "   'reg_alpha': 10,\n",
              "   'subsample': 0.8},\n",
              "  {'colsample_bytree': 0.9,\n",
              "   'gamma': 0.4,\n",
              "   'learning_rate': 0.001,\n",
              "   'max_depth': 10,\n",
              "   'min_child_weight': 5,\n",
              "   'reg_alpha': 10,\n",
              "   'subsample': 0.75}],\n",
              " 'rank_test_recall': array([76, 62, 25, 16, 15, 58, 69, 25, 47, 16, 62, 83,  6, 83, 21, 36, 61,\n",
              "         6, 67, 20, 37, 37, 57, 54, 51, 28, 10, 83, 76, 78, 28, 21, 47, 41,\n",
              "        54, 28, 69, 83, 41, 47, 10, 83, 83,  6, 58, 41,  9, 28, 78, 62, 69,\n",
              "        28, 83, 62, 69, 83, 83, 83, 41, 37, 54, 41, 10, 83, 67, 28, 40, 51,\n",
              "         1, 83, 51, 28, 83, 83, 62, 28, 83, 10, 69, 47, 69, 69, 21, 27,  1,\n",
              "        16, 82, 83, 41,  1,  1, 21,  1, 83, 78, 10, 83, 16, 58, 78],\n",
              "       dtype=int32),\n",
              " 'split0_test_recall': array([0.97916667, 0.97916667, 0.98958333, 1.        , 1.        ,\n",
              "        0.95833333, 0.96875   , 0.98958333, 0.96875   , 1.        ,\n",
              "        0.97916667, 0.        , 1.        , 0.        , 1.        ,\n",
              "        0.96875   , 0.96875   , 1.        , 0.98958333, 0.98958333,\n",
              "        0.97916667, 0.97916667, 1.        , 0.98958333, 0.97916667,\n",
              "        1.        , 1.        , 0.        , 0.97916667, 0.95833333,\n",
              "        1.        , 1.        , 0.96875   , 1.        , 0.98958333,\n",
              "        1.        , 0.96875   , 0.        , 1.        , 0.96875   ,\n",
              "        1.        , 0.        , 0.        , 1.        , 0.95833333,\n",
              "        1.        , 0.98958333, 1.        , 0.95833333, 0.97916667,\n",
              "        0.96875   , 1.        , 0.        , 0.97916667, 0.96875   ,\n",
              "        0.        , 0.        , 0.        , 1.        , 0.97916667,\n",
              "        0.98958333, 1.        , 1.        , 0.        , 0.98958333,\n",
              "        1.        , 0.98958333, 0.97916667, 1.        , 0.        ,\n",
              "        0.97916667, 1.        , 0.        , 0.        , 0.97916667,\n",
              "        1.        , 0.        , 1.        , 0.96875   , 0.96875   ,\n",
              "        0.96875   , 0.96875   , 1.        , 0.98958333, 1.        ,\n",
              "        1.        , 0.96875   , 0.        , 1.        , 1.        ,\n",
              "        1.        , 1.        , 1.        , 0.        , 0.95833333,\n",
              "        1.        , 0.        , 1.        , 0.95833333, 0.95833333]),\n",
              " 'split1_test_recall': array([0.88421053, 0.88421053, 0.90526316, 0.90526316, 0.90526316,\n",
              "        0.88421053, 0.88421053, 0.90526316, 0.88421053, 0.89473684,\n",
              "        0.88421053, 0.        , 0.92631579, 0.        , 0.88421053,\n",
              "        0.89473684, 0.88421053, 0.92631579, 0.88421053, 0.89473684,\n",
              "        0.88421053, 0.88421053, 0.88421053, 0.88421053, 0.88421053,\n",
              "        0.88421053, 0.92631579, 0.        , 0.88421053, 0.88421053,\n",
              "        0.88421053, 0.89473684, 0.88421053, 0.89473684, 0.88421053,\n",
              "        0.88421053, 0.88421053, 0.        , 0.88421053, 0.88421053,\n",
              "        0.91578947, 0.        , 0.        , 0.93684211, 0.88421053,\n",
              "        0.88421053, 0.92631579, 0.88421053, 0.88421053, 0.88421053,\n",
              "        0.88421053, 0.88421053, 0.        , 0.88421053, 0.88421053,\n",
              "        0.        , 0.        , 0.        , 0.88421053, 0.89473684,\n",
              "        0.88421053, 0.88421053, 0.92631579, 0.        , 0.88421053,\n",
              "        0.88421053, 0.88421053, 0.88421053, 0.94736842, 0.        ,\n",
              "        0.88421053, 0.88421053, 0.        , 0.        , 0.89473684,\n",
              "        0.88421053, 0.        , 0.91578947, 0.88421053, 0.88421053,\n",
              "        0.88421053, 0.88421053, 0.89473684, 0.89473684, 0.93684211,\n",
              "        0.89473684, 0.88421053, 0.        , 0.88421053, 0.94736842,\n",
              "        0.93684211, 0.89473684, 0.93684211, 0.        , 0.88421053,\n",
              "        0.91578947, 0.        , 0.90526316, 0.88421053, 0.88421053]),\n",
              " 'split2_test_recall': array([0.96842105, 0.97894737, 0.97894737, 0.98947368, 1.        ,\n",
              "        1.        , 0.97894737, 0.97894737, 1.        , 1.        ,\n",
              "        0.97894737, 0.        , 1.        , 0.        , 1.        ,\n",
              "        1.        , 0.98947368, 1.        , 0.96842105, 1.        ,\n",
              "        1.        , 1.        , 0.96842105, 0.97894737, 0.98947368,\n",
              "        0.98947368, 0.98947368, 0.        , 0.96842105, 0.97894737,\n",
              "        0.98947368, 0.98947368, 1.        , 0.96842105, 0.97894737,\n",
              "        0.98947368, 0.97894737, 0.        , 0.97894737, 1.        ,\n",
              "        1.        , 0.        , 0.        , 0.98947368, 1.        ,\n",
              "        0.97894737, 1.        , 0.98947368, 0.97894737, 0.97894737,\n",
              "        0.97894737, 0.98947368, 0.        , 0.97894737, 0.97894737,\n",
              "        0.        , 0.        , 0.        , 0.97894737, 0.98947368,\n",
              "        0.97894737, 0.97894737, 0.98947368, 0.        , 0.96842105,\n",
              "        0.98947368, 0.98947368, 0.98947368, 0.98947368, 0.        ,\n",
              "        0.98947368, 0.98947368, 0.        , 0.        , 0.96842105,\n",
              "        0.98947368, 0.        , 1.        , 0.97894737, 1.        ,\n",
              "        0.97894737, 0.97894737, 0.98947368, 0.98947368, 1.        ,\n",
              "        1.        , 0.96842105, 0.        , 0.97894737, 0.98947368,\n",
              "        1.        , 0.98947368, 1.        , 0.        , 0.97894737,\n",
              "        1.        , 0.        , 0.98947368, 1.        , 0.97894737]),\n",
              " 'std_fit_time': array([4.47301252e-03, 2.68062999e-03, 8.12105526e-03, 1.51921548e-02,\n",
              "        5.58659504e-03, 1.80567794e-03, 2.34249056e-03, 7.24670815e-03,\n",
              "        4.06001596e-03, 8.04159799e-03, 3.92789052e-03, 3.44247606e-04,\n",
              "        2.89723878e-03, 5.75810348e-05, 1.13617393e-03, 3.55785872e-03,\n",
              "        2.14565342e-03, 2.68462475e-03, 5.82843118e-03, 4.23747649e-03,\n",
              "        2.95977048e-03, 8.16194247e-04, 2.20073639e-03, 2.74128566e-03,\n",
              "        5.13325790e-03, 7.86415578e-03, 7.47247983e-03, 1.84027331e-04,\n",
              "        3.71292729e-03, 2.15619724e-03, 3.36484916e-04, 1.47606153e-03,\n",
              "        1.41497170e-03, 1.84439893e-03, 2.74735755e-03, 5.99143681e-03,\n",
              "        3.85708300e-03, 5.47304041e-04, 8.38625716e-03, 3.04623647e-03,\n",
              "        2.08019915e-03, 3.27274350e-04, 4.52148793e-04, 3.22781692e-03,\n",
              "        2.91378597e-03, 3.23381462e-03, 3.86712860e-03, 2.88686598e-03,\n",
              "        1.75481145e-03, 2.56967884e-03, 3.19623081e-03, 4.46712993e-03,\n",
              "        2.14555910e-04, 7.14776020e-04, 1.13151492e-03, 1.52722480e-04,\n",
              "        1.80013644e-03, 5.15710588e-03, 1.26067684e-02, 4.75136210e-03,\n",
              "        5.29263546e-03, 1.05529009e-02, 3.48560485e-03, 3.56739424e-04,\n",
              "        1.93295128e-03, 8.07087688e-03, 6.51873612e-03, 9.36742407e-04,\n",
              "        4.90021150e-03, 1.36849818e-04, 4.74255254e-03, 5.23451529e-03,\n",
              "        2.49258691e-03, 1.20491182e-04, 3.10927938e-03, 4.42604477e-03,\n",
              "        4.19487370e-04, 6.64910287e-04, 1.06414085e-03, 2.26458397e-03,\n",
              "        5.36398509e-03, 4.04713557e-03, 6.26282148e-03, 4.76094675e-03,\n",
              "        3.71364395e-03, 1.90629439e-03, 5.06612984e-03, 5.60883580e-04,\n",
              "        3.21753642e-03, 6.72398792e-03, 6.00372614e-03, 2.15230204e-03,\n",
              "        1.04032448e-02, 2.32449189e-04, 1.00408128e-03, 2.87928246e-03,\n",
              "        1.56927469e-03, 4.08643877e-03, 2.73460779e-03, 1.04562886e-02]),\n",
              " 'std_score_time': array([1.26637638e-03, 5.20322110e-05, 1.24003946e-04, 3.62228890e-05,\n",
              "        8.43948637e-05, 4.18243244e-05, 4.35416996e-05, 3.93952986e-05,\n",
              "        2.38990204e-04, 1.61868736e-03, 2.52881091e-05, 1.46293842e-04,\n",
              "        4.64897889e-05, 5.64165511e-05, 2.70975649e-05, 1.87091434e-04,\n",
              "        4.17581291e-05, 7.13362661e-05, 3.77168848e-05, 8.56075064e-05,\n",
              "        2.78456842e-05, 1.15631105e-03, 3.02149500e-05, 1.21642759e-04,\n",
              "        1.75253531e-04, 8.28408408e-05, 1.09650948e-04, 5.85563451e-05,\n",
              "        1.95398830e-03, 9.11597004e-05, 1.77162100e-05, 1.17446959e-04,\n",
              "        1.32917164e-04, 7.31890242e-05, 3.33450921e-05, 7.40686200e-05,\n",
              "        2.70597793e-05, 9.94673245e-05, 2.32366168e-03, 6.80682144e-05,\n",
              "        6.20569564e-05, 3.28539303e-05, 5.72351375e-05, 5.02455803e-05,\n",
              "        6.50873502e-05, 5.01799213e-05, 2.52243101e-04, 9.09814656e-05,\n",
              "        1.61240581e-04, 2.21411444e-05, 4.35064370e-05, 3.07649284e-05,\n",
              "        5.56889868e-05, 1.67346180e-04, 7.79420930e-05, 2.62306190e-05,\n",
              "        3.99905661e-05, 1.70742774e-05, 7.53715339e-05, 4.07160177e-05,\n",
              "        3.77762851e-05, 1.07877023e-04, 5.41108052e-05, 2.61529714e-05,\n",
              "        1.90001641e-05, 5.83799427e-05, 5.58531956e-05, 1.97149821e-04,\n",
              "        1.27289673e-04, 2.23054141e-05, 6.73310089e-05, 1.22624794e-04,\n",
              "        5.65493934e-05, 5.08960227e-05, 2.61553863e-05, 8.19721616e-05,\n",
              "        9.90508609e-05, 3.57532718e-04, 5.69097818e-05, 9.20813036e-05,\n",
              "        1.19709924e-04, 3.12278791e-06, 4.73064492e-05, 4.59775049e-05,\n",
              "        7.45596903e-05, 4.48784583e-05, 5.77558312e-05, 4.20709533e-05,\n",
              "        4.47403261e-05, 4.50942480e-05, 4.74858151e-05, 1.59310875e-05,\n",
              "        2.65084580e-05, 8.02816719e-05, 7.23429180e-05, 1.99858047e-05,\n",
              "        3.45006613e-04, 4.18917719e-05, 4.91886285e-05, 5.76994778e-04]),\n",
              " 'std_test_recall': array([0.04245723, 0.04471115, 0.03749426, 0.04239665, 0.04465938,\n",
              "        0.04788586, 0.04246041, 0.03749426, 0.04891113, 0.04962153,\n",
              "        0.04471115, 0.        , 0.03473507, 0.        , 0.05458368,\n",
              "        0.04413973, 0.04552988, 0.03473507, 0.04551274, 0.04735762,\n",
              "        0.0503961 , 0.0503961 , 0.04887154, 0.04736574, 0.04737936,\n",
              "        0.05227952, 0.03253901, 0.        , 0.04245723, 0.0406806 ,\n",
              "        0.05227952, 0.04733592, 0.04891113, 0.04410458, 0.04736574,\n",
              "        0.05227952, 0.04246041, 0.        , 0.05036035, 0.04891113,\n",
              "        0.03969722, 0.        , 0.        , 0.0276281 , 0.04788586,\n",
              "        0.05036035, 0.03255875, 0.05227952, 0.0406806 , 0.04471115,\n",
              "        0.04246041, 0.05227952, 0.        , 0.04471115, 0.04246041,\n",
              "        0.        , 0.        , 0.        , 0.05036035, 0.04243911,\n",
              "        0.04736574, 0.05036035, 0.03253901, 0.        , 0.04551274,\n",
              "        0.05227952, 0.04964739, 0.04737936, 0.02273944, 0.        ,\n",
              "        0.04737936, 0.05227952, 0.        , 0.        , 0.03752514,\n",
              "        0.05227952, 0.        , 0.03969722, 0.04246041, 0.04891113,\n",
              "        0.04246041, 0.04246041, 0.04733592, 0.04468524, 0.02977292,\n",
              "        0.04962153, 0.03977498, 0.        , 0.05036035, 0.02273944,\n",
              "        0.02977292, 0.04733592, 0.02977292, 0.        , 0.0406806 ,\n",
              "        0.03969722, 0.        , 0.04239665, 0.04788586, 0.0406806 ])}"
            ]
          },
          "metadata": {
            "tags": []
          },
          "execution_count": 51
        }
      ]
    },
    {
      "cell_type": "code",
      "metadata": {
        "id": "qNlLccHJdtL_",
        "colab": {
          "base_uri": "https://localhost:8080/",
          "height": 1000
        },
        "outputId": "0cef3944-1836-4d4e-9994-2568b6a68098"
      },
      "source": [
        "# summarize results\n",
        "print(\"Best: %f using %s\" % (random_result.best_score_, random_result.best_params_))\n",
        "means = random_result.cv_results_['mean_test_recall']\n",
        "stds = random_result.cv_results_['std_test_recall']\n",
        "params = random_result.cv_results_['params']\n",
        "for mean, stdev, param in zip(means, stds, params):\n",
        "    print(\"%f (%f) with: %r\" % (mean, stdev, param))"
      ],
      "execution_count": null,
      "outputs": [
        {
          "output_type": "stream",
          "text": [
            "Best: 0.978947 using {'subsample': 0.85, 'reg_alpha': 0.1, 'min_child_weight': 1, 'max_depth': 18, 'learning_rate': 0.1, 'gamma': 0.0, 'colsample_bytree': 0.5}\n",
            "0.943933 (0.042457) with: {'subsample': 0.8, 'reg_alpha': 1, 'min_child_weight': 3, 'max_depth': 18, 'learning_rate': 0.0001, 'gamma': 0.0, 'colsample_bytree': 0.9}\n",
            "0.947442 (0.044711) with: {'subsample': 0.8, 'reg_alpha': 1, 'min_child_weight': 3, 'max_depth': 18, 'learning_rate': 0.0001, 'gamma': 0.3, 'colsample_bytree': 0.8}\n",
            "0.957931 (0.037494) with: {'subsample': 0.85, 'reg_alpha': 1e-05, 'min_child_weight': 1, 'max_depth': 18, 'learning_rate': 0.001, 'gamma': 0.0, 'colsample_bytree': 0.9}\n",
            "0.964912 (0.042397) with: {'subsample': 0.85, 'reg_alpha': 0.01, 'min_child_weight': 1, 'max_depth': 16, 'learning_rate': 0.01, 'gamma': 0.4, 'colsample_bytree': 0.6}\n",
            "0.968421 (0.044659) with: {'subsample': 0.75, 'reg_alpha': 0.1, 'min_child_weight': 1, 'max_depth': 20, 'learning_rate': 0.0001, 'gamma': 0.4, 'colsample_bytree': 0.5}\n",
            "0.947515 (0.047886) with: {'subsample': 0.8, 'reg_alpha': 1e-05, 'min_child_weight': 5, 'max_depth': 10, 'learning_rate': 0.001, 'gamma': 0.0, 'colsample_bytree': 0.6}\n",
            "0.943969 (0.042460) with: {'subsample': 0.8, 'reg_alpha': 0.01, 'min_child_weight': 5, 'max_depth': 14, 'learning_rate': 0.001, 'gamma': 0.2, 'colsample_bytree': 0.8}\n",
            "0.957931 (0.037494) with: {'subsample': 0.85, 'reg_alpha': 0.1, 'min_child_weight': 1, 'max_depth': 12, 'learning_rate': 0.0001, 'gamma': 0.4, 'colsample_bytree': 0.9}\n",
            "0.950987 (0.048911) with: {'subsample': 0.8, 'reg_alpha': 10, 'min_child_weight': 1, 'max_depth': 18, 'learning_rate': 0.001, 'gamma': 0.0, 'colsample_bytree': 0.6}\n",
            "0.964912 (0.049622) with: {'subsample': 0.75, 'reg_alpha': 0.01, 'min_child_weight': 3, 'max_depth': 18, 'learning_rate': 0.01, 'gamma': 0.3, 'colsample_bytree': 0.5}\n",
            "0.947442 (0.044711) with: {'subsample': 0.75, 'reg_alpha': 1e-05, 'min_child_weight': 3, 'max_depth': 12, 'learning_rate': 0.001, 'gamma': 0.3, 'colsample_bytree': 0.9}\n",
            "0.000000 (0.000000) with: {'subsample': 0.75, 'reg_alpha': 100, 'min_child_weight': 3, 'max_depth': 12, 'learning_rate': 0.0001, 'gamma': 0.4, 'colsample_bytree': 0.7}\n",
            "0.975439 (0.034735) with: {'subsample': 0.8, 'reg_alpha': 0.1, 'min_child_weight': 5, 'max_depth': 12, 'learning_rate': 0.1, 'gamma': 0.0, 'colsample_bytree': 0.5}\n",
            "0.000000 (0.000000) with: {'subsample': 0.75, 'reg_alpha': 100, 'min_child_weight': 1, 'max_depth': 14, 'learning_rate': 0.001, 'gamma': 0.2, 'colsample_bytree': 0.6}\n",
            "0.961404 (0.054584) with: {'subsample': 0.75, 'reg_alpha': 1, 'min_child_weight': 5, 'max_depth': 12, 'learning_rate': 0.01, 'gamma': 0.0, 'colsample_bytree': 0.5}\n",
            "0.954496 (0.044140) with: {'subsample': 0.8, 'reg_alpha': 10, 'min_child_weight': 3, 'max_depth': 12, 'learning_rate': 0.001, 'gamma': 0.3, 'colsample_bytree': 0.5}\n",
            "0.947478 (0.045530) with: {'subsample': 0.8, 'reg_alpha': 10, 'min_child_weight': 1, 'max_depth': 20, 'learning_rate': 0.001, 'gamma': 0.4, 'colsample_bytree': 0.9}\n",
            "0.975439 (0.034735) with: {'subsample': 0.8, 'reg_alpha': 1, 'min_child_weight': 3, 'max_depth': 18, 'learning_rate': 0.1, 'gamma': 0.1, 'colsample_bytree': 0.5}\n",
            "0.947405 (0.045513) with: {'subsample': 0.85, 'reg_alpha': 0.01, 'min_child_weight': 5, 'max_depth': 14, 'learning_rate': 0.01, 'gamma': 0.0, 'colsample_bytree': 0.9}\n",
            "0.961440 (0.047358) with: {'subsample': 0.85, 'reg_alpha': 0.01, 'min_child_weight': 5, 'max_depth': 10, 'learning_rate': 0.01, 'gamma': 0.3, 'colsample_bytree': 0.5}\n",
            "0.954459 (0.050396) with: {'subsample': 0.75, 'reg_alpha': 0.1, 'min_child_weight': 5, 'max_depth': 12, 'learning_rate': 0.0001, 'gamma': 0.3, 'colsample_bytree': 0.5}\n",
            "0.954459 (0.050396) with: {'subsample': 0.75, 'reg_alpha': 1e-05, 'min_child_weight': 5, 'max_depth': 16, 'learning_rate': 0.0001, 'gamma': 0.0, 'colsample_bytree': 0.5}\n",
            "0.950877 (0.048872) with: {'subsample': 0.85, 'reg_alpha': 1, 'min_child_weight': 3, 'max_depth': 12, 'learning_rate': 0.01, 'gamma': 0.2, 'colsample_bytree': 0.9}\n",
            "0.950914 (0.047366) with: {'subsample': 0.75, 'reg_alpha': 1e-05, 'min_child_weight': 5, 'max_depth': 18, 'learning_rate': 0.01, 'gamma': 0.2, 'colsample_bytree': 0.8}\n",
            "0.950950 (0.047379) with: {'subsample': 0.8, 'reg_alpha': 10, 'min_child_weight': 1, 'max_depth': 18, 'learning_rate': 0.01, 'gamma': 0.0, 'colsample_bytree': 0.7}\n",
            "0.957895 (0.052280) with: {'subsample': 0.75, 'reg_alpha': 10, 'min_child_weight': 3, 'max_depth': 16, 'learning_rate': 0.1, 'gamma': 0.3, 'colsample_bytree': 0.8}\n",
            "0.971930 (0.032539) with: {'subsample': 0.75, 'reg_alpha': 0.1, 'min_child_weight': 1, 'max_depth': 20, 'learning_rate': 0.1, 'gamma': 0.4, 'colsample_bytree': 0.8}\n",
            "0.000000 (0.000000) with: {'subsample': 0.75, 'reg_alpha': 100, 'min_child_weight': 3, 'max_depth': 14, 'learning_rate': 0.01, 'gamma': 0.4, 'colsample_bytree': 0.5}\n",
            "0.943933 (0.042457) with: {'subsample': 0.8, 'reg_alpha': 0.1, 'min_child_weight': 3, 'max_depth': 16, 'learning_rate': 0.0001, 'gamma': 0.3, 'colsample_bytree': 0.9}\n",
            "0.940497 (0.040681) with: {'subsample': 0.75, 'reg_alpha': 10, 'min_child_weight': 3, 'max_depth': 18, 'learning_rate': 0.0001, 'gamma': 0.3, 'colsample_bytree': 0.9}\n",
            "0.957895 (0.052280) with: {'subsample': 0.85, 'reg_alpha': 10, 'min_child_weight': 3, 'max_depth': 12, 'learning_rate': 0.1, 'gamma': 0.4, 'colsample_bytree': 0.8}\n",
            "0.961404 (0.047336) with: {'subsample': 0.8, 'reg_alpha': 1, 'min_child_weight': 5, 'max_depth': 18, 'learning_rate': 0.1, 'gamma': 0.4, 'colsample_bytree': 0.7}\n",
            "0.950987 (0.048911) with: {'subsample': 0.75, 'reg_alpha': 1, 'min_child_weight': 5, 'max_depth': 12, 'learning_rate': 0.001, 'gamma': 0.4, 'colsample_bytree': 0.6}\n",
            "0.954386 (0.044105) with: {'subsample': 0.8, 'reg_alpha': 0.1, 'min_child_weight': 3, 'max_depth': 16, 'learning_rate': 0.01, 'gamma': 0.0, 'colsample_bytree': 0.8}\n",
            "0.950914 (0.047366) with: {'subsample': 0.75, 'reg_alpha': 0.01, 'min_child_weight': 5, 'max_depth': 12, 'learning_rate': 0.01, 'gamma': 0.2, 'colsample_bytree': 0.8}\n",
            "0.957895 (0.052280) with: {'subsample': 0.85, 'reg_alpha': 1, 'min_child_weight': 1, 'max_depth': 18, 'learning_rate': 0.001, 'gamma': 0.2, 'colsample_bytree': 0.6}\n",
            "0.943969 (0.042460) with: {'subsample': 0.8, 'reg_alpha': 0.01, 'min_child_weight': 5, 'max_depth': 18, 'learning_rate': 0.0001, 'gamma': 0.2, 'colsample_bytree': 0.9}\n",
            "0.000000 (0.000000) with: {'subsample': 0.8, 'reg_alpha': 100, 'min_child_weight': 3, 'max_depth': 14, 'learning_rate': 0.1, 'gamma': 0.3, 'colsample_bytree': 0.6}\n",
            "0.954386 (0.050360) with: {'subsample': 0.8, 'reg_alpha': 1, 'min_child_weight': 5, 'max_depth': 14, 'learning_rate': 0.01, 'gamma': 0.1, 'colsample_bytree': 0.8}\n",
            "0.950987 (0.048911) with: {'subsample': 0.75, 'reg_alpha': 1, 'min_child_weight': 5, 'max_depth': 16, 'learning_rate': 0.0001, 'gamma': 0.4, 'colsample_bytree': 0.6}\n",
            "0.971930 (0.039697) with: {'subsample': 0.8, 'reg_alpha': 1, 'min_child_weight': 3, 'max_depth': 16, 'learning_rate': 0.1, 'gamma': 0.3, 'colsample_bytree': 0.9}\n",
            "0.000000 (0.000000) with: {'subsample': 0.85, 'reg_alpha': 100, 'min_child_weight': 1, 'max_depth': 12, 'learning_rate': 0.1, 'gamma': 0.0, 'colsample_bytree': 0.7}\n",
            "0.000000 (0.000000) with: {'subsample': 0.85, 'reg_alpha': 100, 'min_child_weight': 1, 'max_depth': 18, 'learning_rate': 0.0001, 'gamma': 0.0, 'colsample_bytree': 0.9}\n",
            "0.975439 (0.027628) with: {'subsample': 0.75, 'reg_alpha': 0.01, 'min_child_weight': 1, 'max_depth': 16, 'learning_rate': 0.1, 'gamma': 0.4, 'colsample_bytree': 0.6}\n",
            "0.947515 (0.047886) with: {'subsample': 0.75, 'reg_alpha': 10, 'min_child_weight': 3, 'max_depth': 12, 'learning_rate': 0.0001, 'gamma': 0.4, 'colsample_bytree': 0.6}\n",
            "0.954386 (0.050360) with: {'subsample': 0.8, 'reg_alpha': 1, 'min_child_weight': 5, 'max_depth': 20, 'learning_rate': 0.01, 'gamma': 0.4, 'colsample_bytree': 0.7}\n",
            "0.971966 (0.032559) with: {'subsample': 0.8, 'reg_alpha': 10, 'min_child_weight': 1, 'max_depth': 16, 'learning_rate': 0.1, 'gamma': 0.0, 'colsample_bytree': 0.5}\n",
            "0.957895 (0.052280) with: {'subsample': 0.8, 'reg_alpha': 0.01, 'min_child_weight': 1, 'max_depth': 10, 'learning_rate': 0.0001, 'gamma': 0.3, 'colsample_bytree': 0.6}\n",
            "0.940497 (0.040681) with: {'subsample': 0.8, 'reg_alpha': 10, 'min_child_weight': 5, 'max_depth': 14, 'learning_rate': 0.001, 'gamma': 0.3, 'colsample_bytree': 0.9}\n",
            "0.947442 (0.044711) with: {'subsample': 0.8, 'reg_alpha': 1, 'min_child_weight': 3, 'max_depth': 14, 'learning_rate': 0.0001, 'gamma': 0.4, 'colsample_bytree': 0.8}\n",
            "0.943969 (0.042460) with: {'subsample': 0.8, 'reg_alpha': 0.01, 'min_child_weight': 5, 'max_depth': 14, 'learning_rate': 0.0001, 'gamma': 0.1, 'colsample_bytree': 0.7}\n",
            "0.957895 (0.052280) with: {'subsample': 0.8, 'reg_alpha': 0.01, 'min_child_weight': 1, 'max_depth': 18, 'learning_rate': 0.001, 'gamma': 0.1, 'colsample_bytree': 0.7}\n",
            "0.000000 (0.000000) with: {'subsample': 0.75, 'reg_alpha': 100, 'min_child_weight': 3, 'max_depth': 20, 'learning_rate': 0.01, 'gamma': 0.0, 'colsample_bytree': 0.9}\n",
            "0.947442 (0.044711) with: {'subsample': 0.8, 'reg_alpha': 0.1, 'min_child_weight': 3, 'max_depth': 16, 'learning_rate': 0.001, 'gamma': 0.2, 'colsample_bytree': 0.7}\n",
            "0.943969 (0.042460) with: {'subsample': 0.75, 'reg_alpha': 1, 'min_child_weight': 5, 'max_depth': 20, 'learning_rate': 0.001, 'gamma': 0.1, 'colsample_bytree': 0.7}\n",
            "0.000000 (0.000000) with: {'subsample': 0.85, 'reg_alpha': 100, 'min_child_weight': 3, 'max_depth': 18, 'learning_rate': 0.0001, 'gamma': 0.4, 'colsample_bytree': 0.7}\n",
            "0.000000 (0.000000) with: {'subsample': 0.75, 'reg_alpha': 100, 'min_child_weight': 3, 'max_depth': 16, 'learning_rate': 0.001, 'gamma': 0.0, 'colsample_bytree': 0.9}\n",
            "0.000000 (0.000000) with: {'subsample': 0.8, 'reg_alpha': 100, 'min_child_weight': 5, 'max_depth': 18, 'learning_rate': 0.0001, 'gamma': 0.4, 'colsample_bytree': 0.6}\n",
            "0.954386 (0.050360) with: {'subsample': 0.85, 'reg_alpha': 0.1, 'min_child_weight': 1, 'max_depth': 18, 'learning_rate': 0.01, 'gamma': 0.3, 'colsample_bytree': 0.9}\n",
            "0.954459 (0.042439) with: {'subsample': 0.85, 'reg_alpha': 1e-05, 'min_child_weight': 3, 'max_depth': 18, 'learning_rate': 0.001, 'gamma': 0.2, 'colsample_bytree': 0.5}\n",
            "0.950914 (0.047366) with: {'subsample': 0.8, 'reg_alpha': 0.01, 'min_child_weight': 1, 'max_depth': 16, 'learning_rate': 0.001, 'gamma': 0.4, 'colsample_bytree': 0.8}\n",
            "0.954386 (0.050360) with: {'subsample': 0.85, 'reg_alpha': 1e-05, 'min_child_weight': 1, 'max_depth': 14, 'learning_rate': 0.01, 'gamma': 0.2, 'colsample_bytree': 0.9}\n",
            "0.971930 (0.032539) with: {'subsample': 0.8, 'reg_alpha': 0.01, 'min_child_weight': 5, 'max_depth': 10, 'learning_rate': 0.1, 'gamma': 0.3, 'colsample_bytree': 0.6}\n",
            "0.000000 (0.000000) with: {'subsample': 0.8, 'reg_alpha': 100, 'min_child_weight': 3, 'max_depth': 14, 'learning_rate': 0.1, 'gamma': 0.2, 'colsample_bytree': 0.6}\n",
            "0.947405 (0.045513) with: {'subsample': 0.85, 'reg_alpha': 1, 'min_child_weight': 5, 'max_depth': 14, 'learning_rate': 0.01, 'gamma': 0.1, 'colsample_bytree': 0.9}\n",
            "0.957895 (0.052280) with: {'subsample': 0.75, 'reg_alpha': 0.1, 'min_child_weight': 1, 'max_depth': 10, 'learning_rate': 0.01, 'gamma': 0.4, 'colsample_bytree': 0.8}\n",
            "0.954423 (0.049647) with: {'subsample': 0.85, 'reg_alpha': 1, 'min_child_weight': 1, 'max_depth': 14, 'learning_rate': 0.001, 'gamma': 0.3, 'colsample_bytree': 0.7}\n",
            "0.950950 (0.047379) with: {'subsample': 0.85, 'reg_alpha': 10, 'min_child_weight': 3, 'max_depth': 10, 'learning_rate': 0.01, 'gamma': 0.2, 'colsample_bytree': 0.6}\n",
            "0.978947 (0.022739) with: {'subsample': 0.85, 'reg_alpha': 0.1, 'min_child_weight': 1, 'max_depth': 18, 'learning_rate': 0.1, 'gamma': 0.0, 'colsample_bytree': 0.5}\n",
            "0.000000 (0.000000) with: {'subsample': 0.75, 'reg_alpha': 100, 'min_child_weight': 5, 'max_depth': 14, 'learning_rate': 0.1, 'gamma': 0.1, 'colsample_bytree': 0.5}\n",
            "0.950950 (0.047379) with: {'subsample': 0.8, 'reg_alpha': 0.01, 'min_child_weight': 3, 'max_depth': 18, 'learning_rate': 0.0001, 'gamma': 0.0, 'colsample_bytree': 0.6}\n",
            "0.957895 (0.052280) with: {'subsample': 0.8, 'reg_alpha': 10, 'min_child_weight': 3, 'max_depth': 18, 'learning_rate': 0.01, 'gamma': 0.0, 'colsample_bytree': 0.9}\n",
            "0.000000 (0.000000) with: {'subsample': 0.75, 'reg_alpha': 100, 'min_child_weight': 1, 'max_depth': 14, 'learning_rate': 0.0001, 'gamma': 0.3, 'colsample_bytree': 0.5}\n",
            "0.000000 (0.000000) with: {'subsample': 0.85, 'reg_alpha': 100, 'min_child_weight': 5, 'max_depth': 18, 'learning_rate': 0.01, 'gamma': 0.1, 'colsample_bytree': 0.8}\n",
            "0.947442 (0.037525) with: {'subsample': 0.85, 'reg_alpha': 0.01, 'min_child_weight': 5, 'max_depth': 10, 'learning_rate': 0.01, 'gamma': 0.1, 'colsample_bytree': 0.7}\n",
            "0.957895 (0.052280) with: {'subsample': 0.85, 'reg_alpha': 1, 'min_child_weight': 3, 'max_depth': 10, 'learning_rate': 0.01, 'gamma': 0.2, 'colsample_bytree': 0.8}\n",
            "0.000000 (0.000000) with: {'subsample': 0.75, 'reg_alpha': 100, 'min_child_weight': 1, 'max_depth': 16, 'learning_rate': 0.01, 'gamma': 0.3, 'colsample_bytree': 0.7}\n",
            "0.971930 (0.039697) with: {'subsample': 0.8, 'reg_alpha': 10, 'min_child_weight': 3, 'max_depth': 18, 'learning_rate': 0.1, 'gamma': 0.0, 'colsample_bytree': 0.5}\n",
            "0.943969 (0.042460) with: {'subsample': 0.75, 'reg_alpha': 1e-05, 'min_child_weight': 5, 'max_depth': 16, 'learning_rate': 0.0001, 'gamma': 0.2, 'colsample_bytree': 0.7}\n",
            "0.950987 (0.048911) with: {'subsample': 0.75, 'reg_alpha': 0.01, 'min_child_weight': 5, 'max_depth': 14, 'learning_rate': 0.0001, 'gamma': 0.4, 'colsample_bytree': 0.6}\n",
            "0.943969 (0.042460) with: {'subsample': 0.8, 'reg_alpha': 0.01, 'min_child_weight': 5, 'max_depth': 18, 'learning_rate': 0.0001, 'gamma': 0.3, 'colsample_bytree': 0.7}\n",
            "0.943969 (0.042460) with: {'subsample': 0.75, 'reg_alpha': 0.1, 'min_child_weight': 5, 'max_depth': 10, 'learning_rate': 0.001, 'gamma': 0.1, 'colsample_bytree': 0.9}\n",
            "0.961404 (0.047336) with: {'subsample': 0.8, 'reg_alpha': 1, 'min_child_weight': 1, 'max_depth': 16, 'learning_rate': 0.01, 'gamma': 0.2, 'colsample_bytree': 0.6}\n",
            "0.957931 (0.044685) with: {'subsample': 0.8, 'reg_alpha': 10, 'min_child_weight': 5, 'max_depth': 14, 'learning_rate': 0.1, 'gamma': 0.3, 'colsample_bytree': 0.8}\n",
            "0.978947 (0.029773) with: {'subsample': 0.8, 'reg_alpha': 0.01, 'min_child_weight': 3, 'max_depth': 12, 'learning_rate': 0.1, 'gamma': 0.2, 'colsample_bytree': 0.5}\n",
            "0.964912 (0.049622) with: {'subsample': 0.8, 'reg_alpha': 1, 'min_child_weight': 3, 'max_depth': 20, 'learning_rate': 0.001, 'gamma': 0.1, 'colsample_bytree': 0.5}\n",
            "0.940461 (0.039775) with: {'subsample': 0.85, 'reg_alpha': 1e-05, 'min_child_weight': 5, 'max_depth': 16, 'learning_rate': 0.0001, 'gamma': 0.4, 'colsample_bytree': 0.9}\n",
            "0.000000 (0.000000) with: {'subsample': 0.75, 'reg_alpha': 100, 'min_child_weight': 3, 'max_depth': 20, 'learning_rate': 0.001, 'gamma': 0.0, 'colsample_bytree': 0.9}\n",
            "0.954386 (0.050360) with: {'subsample': 0.8, 'reg_alpha': 0.1, 'min_child_weight': 5, 'max_depth': 12, 'learning_rate': 0.01, 'gamma': 0.2, 'colsample_bytree': 0.8}\n",
            "0.978947 (0.022739) with: {'subsample': 0.75, 'reg_alpha': 1e-05, 'min_child_weight': 1, 'max_depth': 16, 'learning_rate': 0.1, 'gamma': 0.0, 'colsample_bytree': 0.7}\n",
            "0.978947 (0.029773) with: {'subsample': 0.8, 'reg_alpha': 0.1, 'min_child_weight': 1, 'max_depth': 18, 'learning_rate': 0.1, 'gamma': 0.3, 'colsample_bytree': 0.6}\n",
            "0.961404 (0.047336) with: {'subsample': 0.8, 'reg_alpha': 1e-05, 'min_child_weight': 3, 'max_depth': 16, 'learning_rate': 0.01, 'gamma': 0.3, 'colsample_bytree': 0.6}\n",
            "0.978947 (0.029773) with: {'subsample': 0.85, 'reg_alpha': 0.1, 'min_child_weight': 1, 'max_depth': 16, 'learning_rate': 0.1, 'gamma': 0.4, 'colsample_bytree': 0.9}\n",
            "0.000000 (0.000000) with: {'subsample': 0.75, 'reg_alpha': 100, 'min_child_weight': 5, 'max_depth': 20, 'learning_rate': 0.0001, 'gamma': 0.4, 'colsample_bytree': 0.6}\n",
            "0.940497 (0.040681) with: {'subsample': 0.85, 'reg_alpha': 10, 'min_child_weight': 5, 'max_depth': 10, 'learning_rate': 0.0001, 'gamma': 0.2, 'colsample_bytree': 0.7}\n",
            "0.971930 (0.039697) with: {'subsample': 0.8, 'reg_alpha': 0.1, 'min_child_weight': 1, 'max_depth': 14, 'learning_rate': 0.001, 'gamma': 0.0, 'colsample_bytree': 0.5}\n",
            "0.000000 (0.000000) with: {'subsample': 0.8, 'reg_alpha': 100, 'min_child_weight': 5, 'max_depth': 10, 'learning_rate': 0.1, 'gamma': 0.4, 'colsample_bytree': 0.5}\n",
            "0.964912 (0.042397) with: {'subsample': 0.85, 'reg_alpha': 0.1, 'min_child_weight': 5, 'max_depth': 10, 'learning_rate': 0.1, 'gamma': 0.3, 'colsample_bytree': 0.7}\n",
            "0.947515 (0.047886) with: {'subsample': 0.8, 'reg_alpha': 10, 'min_child_weight': 5, 'max_depth': 20, 'learning_rate': 0.0001, 'gamma': 0.4, 'colsample_bytree': 0.5}\n",
            "0.940497 (0.040681) with: {'subsample': 0.75, 'reg_alpha': 10, 'min_child_weight': 5, 'max_depth': 10, 'learning_rate': 0.001, 'gamma': 0.4, 'colsample_bytree': 0.9}\n"
          ],
          "name": "stdout"
        }
      ]
    },
    {
      "cell_type": "markdown",
      "metadata": {
        "id": "0nd2B8VNh0OI"
      },
      "source": [
        "## Random Search Final Model"
      ]
    },
    {
      "cell_type": "code",
      "metadata": {
        "id": "oCjxhBDBdtIn"
      },
      "source": [
        "xgboost_rs = XGBClassifier(seed=0, subsample=0.85, reg_alpha=10.1, min_child_weight=1, max_depth=18, learning_rate=0.1, gamma=0.0, colsample_bytree=0.5).fit(X_train,y_train)"
      ],
      "execution_count": null,
      "outputs": []
    },
    {
      "cell_type": "markdown",
      "metadata": {
        "id": "9f2IHtLWim4Y"
      },
      "source": [
        "## Random Search Prediction"
      ]
    },
    {
      "cell_type": "code",
      "metadata": {
        "id": "fe9cXn5bdtEr"
      },
      "source": [
        "y_test_prob = xgboost_rs.predict_proba(X_test)[:,1]\n",
        "y_test_predict = xgboost_rs.predict(X_test)"
      ],
      "execution_count": null,
      "outputs": []
    },
    {
      "cell_type": "code",
      "metadata": {
        "id": "dbDW6vIxdtA_",
        "colab": {
          "base_uri": "https://localhost:8080/",
          "height": 258
        },
        "outputId": "2d7da476-9277-4ebb-9325-b4b404bbb18f"
      },
      "source": [
        "testPred = X_test.copy()\n",
        "testPred['y_test'], testPred['y_test_prob'], testPred['y_test_predict']=[y_test,y_test_prob,y_test_predict]\n",
        "testPred.head()"
      ],
      "execution_count": null,
      "outputs": [
        {
          "output_type": "execute_result",
          "data": {
            "text/html": [
              "<div>\n",
              "<style scoped>\n",
              "    .dataframe tbody tr th:only-of-type {\n",
              "        vertical-align: middle;\n",
              "    }\n",
              "\n",
              "    .dataframe tbody tr th {\n",
              "        vertical-align: top;\n",
              "    }\n",
              "\n",
              "    .dataframe thead th {\n",
              "        text-align: right;\n",
              "    }\n",
              "</style>\n",
              "<table border=\"1\" class=\"dataframe\">\n",
              "  <thead>\n",
              "    <tr style=\"text-align: right;\">\n",
              "      <th></th>\n",
              "      <th>area error</th>\n",
              "      <th>compactness error</th>\n",
              "      <th>concave points error</th>\n",
              "      <th>concavity error</th>\n",
              "      <th>fractal dimension error</th>\n",
              "      <th>mean area</th>\n",
              "      <th>mean compactness</th>\n",
              "      <th>mean concave points</th>\n",
              "      <th>mean concavity</th>\n",
              "      <th>mean fractal dimension</th>\n",
              "      <th>mean perimeter</th>\n",
              "      <th>mean radius</th>\n",
              "      <th>mean smoothness</th>\n",
              "      <th>mean symmetry</th>\n",
              "      <th>mean texture</th>\n",
              "      <th>perimeter error</th>\n",
              "      <th>radius error</th>\n",
              "      <th>smoothness error</th>\n",
              "      <th>symmetry error</th>\n",
              "      <th>texture error</th>\n",
              "      <th>worst area</th>\n",
              "      <th>worst compactness</th>\n",
              "      <th>worst concave points</th>\n",
              "      <th>worst concavity</th>\n",
              "      <th>worst fractal dimension</th>\n",
              "      <th>worst perimeter</th>\n",
              "      <th>worst radius</th>\n",
              "      <th>worst smoothness</th>\n",
              "      <th>worst symmetry</th>\n",
              "      <th>worst texture</th>\n",
              "      <th>y_test</th>\n",
              "      <th>y_test_prob</th>\n",
              "      <th>y_test_predict</th>\n",
              "    </tr>\n",
              "  </thead>\n",
              "  <tbody>\n",
              "    <tr>\n",
              "      <th>204</th>\n",
              "      <td>-0.221053</td>\n",
              "      <td>-0.355912</td>\n",
              "      <td>-0.231333</td>\n",
              "      <td>-0.161929</td>\n",
              "      <td>-0.079018</td>\n",
              "      <td>-0.491999</td>\n",
              "      <td>0.027651</td>\n",
              "      <td>-0.276232</td>\n",
              "      <td>-0.109847</td>\n",
              "      <td>0.132176</td>\n",
              "      <td>-0.448110</td>\n",
              "      <td>-0.470694</td>\n",
              "      <td>0.234114</td>\n",
              "      <td>0.413949</td>\n",
              "      <td>-0.160486</td>\n",
              "      <td>-0.182696</td>\n",
              "      <td>-0.032743</td>\n",
              "      <td>-0.029327</td>\n",
              "      <td>-0.329612</td>\n",
              "      <td>-0.313616</td>\n",
              "      <td>-0.356299</td>\n",
              "      <td>-0.104741</td>\n",
              "      <td>-0.199563</td>\n",
              "      <td>-0.024412</td>\n",
              "      <td>0.196958</td>\n",
              "      <td>-0.333935</td>\n",
              "      <td>-0.269040</td>\n",
              "      <td>0.448503</td>\n",
              "      <td>0.183204</td>\n",
              "      <td>-0.168905</td>\n",
              "      <td>1</td>\n",
              "      <td>0.957385</td>\n",
              "      <td>1</td>\n",
              "    </tr>\n",
              "    <tr>\n",
              "      <th>70</th>\n",
              "      <td>1.225780</td>\n",
              "      <td>-0.500666</td>\n",
              "      <td>0.308825</td>\n",
              "      <td>-0.305168</td>\n",
              "      <td>-0.793157</td>\n",
              "      <td>1.351264</td>\n",
              "      <td>-0.027309</td>\n",
              "      <td>0.789060</td>\n",
              "      <td>0.241064</td>\n",
              "      <td>-1.160679</td>\n",
              "      <td>1.302886</td>\n",
              "      <td>1.366877</td>\n",
              "      <td>-0.446227</td>\n",
              "      <td>-0.838325</td>\n",
              "      <td>0.470149</td>\n",
              "      <td>1.296951</td>\n",
              "      <td>1.384594</td>\n",
              "      <td>-0.865695</td>\n",
              "      <td>-0.809083</td>\n",
              "      <td>-0.760851</td>\n",
              "      <td>1.732277</td>\n",
              "      <td>-0.131459</td>\n",
              "      <td>0.978975</td>\n",
              "      <td>-0.016736</td>\n",
              "      <td>-1.000578</td>\n",
              "      <td>1.746605</td>\n",
              "      <td>1.779007</td>\n",
              "      <td>-0.572873</td>\n",
              "      <td>-0.565828</td>\n",
              "      <td>0.147012</td>\n",
              "      <td>0</td>\n",
              "      <td>0.058338</td>\n",
              "      <td>0</td>\n",
              "    </tr>\n",
              "    <tr>\n",
              "      <th>131</th>\n",
              "      <td>0.175418</td>\n",
              "      <td>-0.594561</td>\n",
              "      <td>-0.140496</td>\n",
              "      <td>-0.124794</td>\n",
              "      <td>-0.504551</td>\n",
              "      <td>0.267377</td>\n",
              "      <td>0.340350</td>\n",
              "      <td>0.824140</td>\n",
              "      <td>0.725686</td>\n",
              "      <td>-0.685782</td>\n",
              "      <td>0.400820</td>\n",
              "      <td>0.378508</td>\n",
              "      <td>0.913744</td>\n",
              "      <td>0.435855</td>\n",
              "      <td>0.044296</td>\n",
              "      <td>0.112838</td>\n",
              "      <td>0.249497</td>\n",
              "      <td>-0.267004</td>\n",
              "      <td>-0.795764</td>\n",
              "      <td>-0.781898</td>\n",
              "      <td>0.484159</td>\n",
              "      <td>-0.094562</td>\n",
              "      <td>0.560244</td>\n",
              "      <td>0.512911</td>\n",
              "      <td>-0.208132</td>\n",
              "      <td>0.525386</td>\n",
              "      <td>0.619345</td>\n",
              "      <td>0.974533</td>\n",
              "      <td>-0.103143</td>\n",
              "      <td>0.052562</td>\n",
              "      <td>0</td>\n",
              "      <td>0.059088</td>\n",
              "      <td>0</td>\n",
              "    </tr>\n",
              "    <tr>\n",
              "      <th>431</th>\n",
              "      <td>-0.547998</td>\n",
              "      <td>0.417599</td>\n",
              "      <td>-0.020461</td>\n",
              "      <td>0.554262</td>\n",
              "      <td>0.835972</td>\n",
              "      <td>-0.532101</td>\n",
              "      <td>0.516599</td>\n",
              "      <td>-0.539846</td>\n",
              "      <td>-0.142993</td>\n",
              "      <td>1.165609</td>\n",
              "      <td>-0.432457</td>\n",
              "      <td>-0.490575</td>\n",
              "      <td>0.643316</td>\n",
              "      <td>-0.002259</td>\n",
              "      <td>-0.374576</td>\n",
              "      <td>-0.327740</td>\n",
              "      <td>-0.824604</td>\n",
              "      <td>0.986380</td>\n",
              "      <td>0.160756</td>\n",
              "      <td>0.441152</td>\n",
              "      <td>-0.641257</td>\n",
              "      <td>0.054930</td>\n",
              "      <td>-0.622863</td>\n",
              "      <td>-0.152986</td>\n",
              "      <td>0.534440</td>\n",
              "      <td>-0.525756</td>\n",
              "      <td>-0.701842</td>\n",
              "      <td>0.553709</td>\n",
              "      <td>-0.557739</td>\n",
              "      <td>-0.450625</td>\n",
              "      <td>1</td>\n",
              "      <td>0.963692</td>\n",
              "      <td>1</td>\n",
              "    </tr>\n",
              "    <tr>\n",
              "      <th>540</th>\n",
              "      <td>-0.428529</td>\n",
              "      <td>0.874216</td>\n",
              "      <td>0.509965</td>\n",
              "      <td>0.783709</td>\n",
              "      <td>0.649494</td>\n",
              "      <td>-0.716683</td>\n",
              "      <td>0.145150</td>\n",
              "      <td>-0.592724</td>\n",
              "      <td>-0.269044</td>\n",
              "      <td>0.711976</td>\n",
              "      <td>-0.713374</td>\n",
              "      <td>-0.734828</td>\n",
              "      <td>0.247636</td>\n",
              "      <td>0.023298</td>\n",
              "      <td>-1.128546</td>\n",
              "      <td>-0.612877</td>\n",
              "      <td>-0.457547</td>\n",
              "      <td>1.703076</td>\n",
              "      <td>-0.259386</td>\n",
              "      <td>0.999969</td>\n",
              "      <td>-0.743216</td>\n",
              "      <td>-0.270137</td>\n",
              "      <td>-0.691687</td>\n",
              "      <td>-0.443716</td>\n",
              "      <td>-0.144403</td>\n",
              "      <td>-0.848337</td>\n",
              "      <td>-0.830233</td>\n",
              "      <td>0.093432</td>\n",
              "      <td>-0.924975</td>\n",
              "      <td>-0.976611</td>\n",
              "      <td>1</td>\n",
              "      <td>0.966031</td>\n",
              "      <td>1</td>\n",
              "    </tr>\n",
              "  </tbody>\n",
              "</table>\n",
              "</div>"
            ],
            "text/plain": [
              "     area error  compactness error  ...  y_test_prob  y_test_predict\n",
              "204   -0.221053          -0.355912  ...     0.957385               1\n",
              "70     1.225780          -0.500666  ...     0.058338               0\n",
              "131    0.175418          -0.594561  ...     0.059088               0\n",
              "431   -0.547998           0.417599  ...     0.963692               1\n",
              "540   -0.428529           0.874216  ...     0.966031               1\n",
              "\n",
              "[5 rows x 33 columns]"
            ]
          },
          "metadata": {
            "tags": []
          },
          "execution_count": 12
        }
      ]
    },
    {
      "cell_type": "markdown",
      "metadata": {
        "id": "p4doPgkijJ_0"
      },
      "source": [
        "## Random Search Model Performance"
      ]
    },
    {
      "cell_type": "code",
      "metadata": {
        "id": "BG9Z9UMuds9l",
        "colab": {
          "base_uri": "https://localhost:8080/",
          "height": 265
        },
        "outputId": "add9f72f-41cc-41c2-ca8c-e204c2a55771"
      },
      "source": [
        "#ROC/AUC Curve\n",
        "from sklearn import metrics\n",
        "# y_test_prob=et_gs.predict_proba(X_test)[:,1]\n",
        "fpr,tpr, _=metrics.roc_curve(y_test,y_test_prob)\n",
        "auc=metrics.roc_auc_score(y_test,y_test_prob)\n",
        "plt.plot(fpr,tpr,label=\"area=\"+str(auc))\n",
        "plt.legend(loc=4)\n",
        "plt.show()"
      ],
      "execution_count": null,
      "outputs": [
        {
          "output_type": "display_data",
          "data": {
            "image/png": "[encoded data removed]",
            "text/plain": [
              "<Figure size 432x288 with 1 Axes>"
            ]
          },
          "metadata": {
            "tags": [],
            "needs_background": "light"
          }
        }
      ]
    },
    {
      "cell_type": "code",
      "metadata": {
        "id": "ABDo4jZkds6-",
        "colab": {
          "base_uri": "https://localhost:8080/",
          "height": 34
        },
        "outputId": "df49ab35-f7ca-4ee7-9c56-fa402b719eeb"
      },
      "source": [
        "log_loss(y_test,y_test_prob)"
      ],
      "execution_count": null,
      "outputs": [
        {
          "output_type": "execute_result",
          "data": {
            "text/plain": [
              "0.14446483523045717"
            ]
          },
          "metadata": {
            "tags": []
          },
          "execution_count": 13
        }
      ]
    },
    {
      "cell_type": "code",
      "metadata": {
        "id": "uE2LGF5Cds2Y",
        "colab": {
          "base_uri": "https://localhost:8080/",
          "height": 68
        },
        "outputId": "af01ce80-46f0-41b4-d8d4-9e78ab00b09a"
      },
      "source": [
        "cm = confusion_matrix(y_test, y_test_predict)\n",
        "cmtx = pd.DataFrame(cm, index=['true:no', 'true:yes'], columns=['pred:no', 'pred:yes'])\n",
        "print(cmtx)"
      ],
      "execution_count": null,
      "outputs": [
        {
          "output_type": "stream",
          "text": [
            "          pred:no  pred:yes\n",
            "true:no        40         3\n",
            "true:yes        2        69\n"
          ],
          "name": "stdout"
        }
      ]
    },
    {
      "cell_type": "code",
      "metadata": {
        "id": "e1Aw-nUgdszm",
        "colab": {
          "base_uri": "https://localhost:8080/",
          "height": 170
        },
        "outputId": "f3a90fd1-6f23-4015-fac8-60d5e516a8d3"
      },
      "source": [
        "print(classification_report(y_test, y_test_predict, digits=4))"
      ],
      "execution_count": null,
      "outputs": [
        {
          "output_type": "stream",
          "text": [
            "              precision    recall  f1-score   support\n",
            "\n",
            "           0     0.9524    0.9302    0.9412        43\n",
            "           1     0.9583    0.9718    0.9650        71\n",
            "\n",
            "    accuracy                         0.9561       114\n",
            "   macro avg     0.9554    0.9510    0.9531       114\n",
            "weighted avg     0.9561    0.9561    0.9560       114\n",
            "\n"
          ],
          "name": "stdout"
        }
      ]
    },
    {
      "cell_type": "markdown",
      "metadata": {
        "id": "Cv4IRopolh3r"
      },
      "source": [
        "## Random Search Feature Importance"
      ]
    },
    {
      "cell_type": "code",
      "metadata": {
        "id": "R73Fh7WPdswZ",
        "colab": {
          "base_uri": "https://localhost:8080/",
          "height": 979
        },
        "outputId": "e710c907-0f47-4150-f5f9-ef6d44a980ec"
      },
      "source": [
        "Coeff = pd.concat([pd.DataFrame(X.columns),pd.DataFrame(np.transpose(xgboost_rs.feature_importances_))], axis = 1)\n",
        "Coeff.columns=['Variable','Feature_Importance']\n",
        "CoeffSorted = Coeff.sort_values(by='Feature_Importance', ascending=False)\n",
        "CoeffSorted"
      ],
      "execution_count": null,
      "outputs": [
        {
          "output_type": "execute_result",
          "data": {
            "text/html": [
              "<div>\n",
              "<style scoped>\n",
              "    .dataframe tbody tr th:only-of-type {\n",
              "        vertical-align: middle;\n",
              "    }\n",
              "\n",
              "    .dataframe tbody tr th {\n",
              "        vertical-align: top;\n",
              "    }\n",
              "\n",
              "    .dataframe thead th {\n",
              "        text-align: right;\n",
              "    }\n",
              "</style>\n",
              "<table border=\"1\" class=\"dataframe\">\n",
              "  <thead>\n",
              "    <tr style=\"text-align: right;\">\n",
              "      <th></th>\n",
              "      <th>Variable</th>\n",
              "      <th>Feature_Importance</th>\n",
              "    </tr>\n",
              "  </thead>\n",
              "  <tbody>\n",
              "    <tr>\n",
              "      <th>7</th>\n",
              "      <td>mean concave points</td>\n",
              "      <td>0.298057</td>\n",
              "    </tr>\n",
              "    <tr>\n",
              "      <th>25</th>\n",
              "      <td>worst perimeter</td>\n",
              "      <td>0.216578</td>\n",
              "    </tr>\n",
              "    <tr>\n",
              "      <th>22</th>\n",
              "      <td>worst concave points</td>\n",
              "      <td>0.089430</td>\n",
              "    </tr>\n",
              "    <tr>\n",
              "      <th>20</th>\n",
              "      <td>worst area</td>\n",
              "      <td>0.084101</td>\n",
              "    </tr>\n",
              "    <tr>\n",
              "      <th>21</th>\n",
              "      <td>worst compactness</td>\n",
              "      <td>0.052967</td>\n",
              "    </tr>\n",
              "    <tr>\n",
              "      <th>8</th>\n",
              "      <td>mean concavity</td>\n",
              "      <td>0.045955</td>\n",
              "    </tr>\n",
              "    <tr>\n",
              "      <th>5</th>\n",
              "      <td>mean area</td>\n",
              "      <td>0.034902</td>\n",
              "    </tr>\n",
              "    <tr>\n",
              "      <th>26</th>\n",
              "      <td>worst radius</td>\n",
              "      <td>0.026963</td>\n",
              "    </tr>\n",
              "    <tr>\n",
              "      <th>29</th>\n",
              "      <td>worst texture</td>\n",
              "      <td>0.021188</td>\n",
              "    </tr>\n",
              "    <tr>\n",
              "      <th>0</th>\n",
              "      <td>area error</td>\n",
              "      <td>0.017616</td>\n",
              "    </tr>\n",
              "    <tr>\n",
              "      <th>14</th>\n",
              "      <td>mean texture</td>\n",
              "      <td>0.012453</td>\n",
              "    </tr>\n",
              "    <tr>\n",
              "      <th>23</th>\n",
              "      <td>worst concavity</td>\n",
              "      <td>0.012316</td>\n",
              "    </tr>\n",
              "    <tr>\n",
              "      <th>15</th>\n",
              "      <td>perimeter error</td>\n",
              "      <td>0.010691</td>\n",
              "    </tr>\n",
              "    <tr>\n",
              "      <th>3</th>\n",
              "      <td>concavity error</td>\n",
              "      <td>0.010188</td>\n",
              "    </tr>\n",
              "    <tr>\n",
              "      <th>10</th>\n",
              "      <td>mean perimeter</td>\n",
              "      <td>0.009936</td>\n",
              "    </tr>\n",
              "    <tr>\n",
              "      <th>9</th>\n",
              "      <td>mean fractal dimension</td>\n",
              "      <td>0.009588</td>\n",
              "    </tr>\n",
              "    <tr>\n",
              "      <th>1</th>\n",
              "      <td>compactness error</td>\n",
              "      <td>0.008655</td>\n",
              "    </tr>\n",
              "    <tr>\n",
              "      <th>28</th>\n",
              "      <td>worst symmetry</td>\n",
              "      <td>0.005520</td>\n",
              "    </tr>\n",
              "    <tr>\n",
              "      <th>16</th>\n",
              "      <td>radius error</td>\n",
              "      <td>0.005509</td>\n",
              "    </tr>\n",
              "    <tr>\n",
              "      <th>19</th>\n",
              "      <td>texture error</td>\n",
              "      <td>0.005131</td>\n",
              "    </tr>\n",
              "    <tr>\n",
              "      <th>4</th>\n",
              "      <td>fractal dimension error</td>\n",
              "      <td>0.005088</td>\n",
              "    </tr>\n",
              "    <tr>\n",
              "      <th>27</th>\n",
              "      <td>worst smoothness</td>\n",
              "      <td>0.004399</td>\n",
              "    </tr>\n",
              "    <tr>\n",
              "      <th>12</th>\n",
              "      <td>mean smoothness</td>\n",
              "      <td>0.004281</td>\n",
              "    </tr>\n",
              "    <tr>\n",
              "      <th>18</th>\n",
              "      <td>symmetry error</td>\n",
              "      <td>0.004138</td>\n",
              "    </tr>\n",
              "    <tr>\n",
              "      <th>17</th>\n",
              "      <td>smoothness error</td>\n",
              "      <td>0.002482</td>\n",
              "    </tr>\n",
              "    <tr>\n",
              "      <th>6</th>\n",
              "      <td>mean compactness</td>\n",
              "      <td>0.001275</td>\n",
              "    </tr>\n",
              "    <tr>\n",
              "      <th>24</th>\n",
              "      <td>worst fractal dimension</td>\n",
              "      <td>0.000380</td>\n",
              "    </tr>\n",
              "    <tr>\n",
              "      <th>11</th>\n",
              "      <td>mean radius</td>\n",
              "      <td>0.000215</td>\n",
              "    </tr>\n",
              "    <tr>\n",
              "      <th>13</th>\n",
              "      <td>mean symmetry</td>\n",
              "      <td>0.000000</td>\n",
              "    </tr>\n",
              "    <tr>\n",
              "      <th>2</th>\n",
              "      <td>concave points error</td>\n",
              "      <td>0.000000</td>\n",
              "    </tr>\n",
              "  </tbody>\n",
              "</table>\n",
              "</div>"
            ],
            "text/plain": [
              "                   Variable  Feature_Importance\n",
              "7       mean concave points            0.298057\n",
              "25          worst perimeter            0.216578\n",
              "22     worst concave points            0.089430\n",
              "20               worst area            0.084101\n",
              "21        worst compactness            0.052967\n",
              "8            mean concavity            0.045955\n",
              "5                 mean area            0.034902\n",
              "26             worst radius            0.026963\n",
              "29            worst texture            0.021188\n",
              "0                area error            0.017616\n",
              "14             mean texture            0.012453\n",
              "23          worst concavity            0.012316\n",
              "15          perimeter error            0.010691\n",
              "3           concavity error            0.010188\n",
              "10           mean perimeter            0.009936\n",
              "9    mean fractal dimension            0.009588\n",
              "1         compactness error            0.008655\n",
              "28           worst symmetry            0.005520\n",
              "16             radius error            0.005509\n",
              "19            texture error            0.005131\n",
              "4   fractal dimension error            0.005088\n",
              "27         worst smoothness            0.004399\n",
              "12          mean smoothness            0.004281\n",
              "18           symmetry error            0.004138\n",
              "17         smoothness error            0.002482\n",
              "6          mean compactness            0.001275\n",
              "24  worst fractal dimension            0.000380\n",
              "11              mean radius            0.000215\n",
              "13            mean symmetry            0.000000\n",
              "2      concave points error            0.000000"
            ]
          },
          "metadata": {
            "tags": []
          },
          "execution_count": 17
        }
      ]
    },
    {
      "cell_type": "code",
      "metadata": {
        "id": "v8Xt-gdNdsr-",
        "colab": {
          "base_uri": "https://localhost:8080/",
          "height": 297
        },
        "outputId": "1a7c9d65-3801-4f8c-e2d1-38b589cf3a19"
      },
      "source": [
        "ax = sns.barplot(x='Feature_Importance', y='Variable', data=CoeffSorted, order=CoeffSorted['Variable'])\n",
        "ax.set_xlabel('Feature Importance')\n",
        "ax.set_ylabel('Features')"
      ],
      "execution_count": null,
      "outputs": [
        {
          "output_type": "execute_result",
          "data": {
            "text/plain": [
              "Text(0, 0.5, 'Features')"
            ]
          },
          "metadata": {
            "tags": []
          },
          "execution_count": 18
        },
        {
          "output_type": "display_data",
          "data": {
            "image/png": "[encoded data removed]",
            "text/plain": [
              "<Figure size 432x288 with 1 Axes>"
            ]
          },
          "metadata": {
            "tags": [],
            "needs_background": "light"
          }
        }
      ]
    },
    {
      "cell_type": "markdown",
      "metadata": {
        "id": "XwifHLlXmPl7"
      },
      "source": [
        "## Random Search Prediction Distribution"
      ]
    },
    {
      "cell_type": "code",
      "metadata": {
        "id": "mPVwIWpVdsot",
        "colab": {
          "base_uri": "https://localhost:8080/",
          "height": 282
        },
        "outputId": "cb4e4d0e-fa97-4022-f153-463a6e70bb14"
      },
      "source": [
        "# Plot the predicted probability distribution\n",
        "sns.distplot(y_test_prob, label='Predicted Probability', kde=False)"
      ],
      "execution_count": null,
      "outputs": [
        {
          "output_type": "execute_result",
          "data": {
            "text/plain": [
              "<matplotlib.axes._subplots.AxesSubplot at 0x7f9f50921828>"
            ]
          },
          "metadata": {
            "tags": []
          },
          "execution_count": 19
        },
        {
          "output_type": "display_data",
          "data": {
            "image/png": "[encoded data removed]",
            "text/plain": [
              "<Figure size 432x288 with 1 Axes>"
            ]
          },
          "metadata": {
            "tags": [],
            "needs_background": "light"
          }
        }
      ]
    },
    {
      "cell_type": "code",
      "metadata": {
        "id": "pK2KEwSfdslG",
        "colab": {
          "base_uri": "https://localhost:8080/",
          "height": 279
        },
        "outputId": "8f91560a-d4d6-4831-875e-d787d91765db"
      },
      "source": [
        "# this is to plot the kde by label\n",
        "sns.distplot(testPred[testPred['y_test']==1]['y_test_prob'],label='1', kde=False);\n",
        "sns.distplot(testPred[testPred['y_test']==0]['y_test_prob'],label='0', kde=False);\n",
        "\n",
        "# add labels\n",
        "plt.xlabel('Predicted Probability')\n",
        "plt.ylabel('Frequency')\n",
        "plt.show()"
      ],
      "execution_count": null,
      "outputs": [
        {
          "output_type": "display_data",
          "data": {
            "image/png": "[encoded data removed]",
            "text/plain": [
              "<Figure size 432x288 with 1 Axes>"
            ]
          },
          "metadata": {
            "tags": [],
            "needs_background": "light"
          }
        }
      ]
    },
    {
      "cell_type": "markdown",
      "metadata": {
        "id": "iUcQPy_in8fY"
      },
      "source": [
        "## Bayesian Optimization"
      ]
    },
    {
      "cell_type": "code",
      "metadata": {
        "id": "sYCKpmz-dsgp"
      },
      "source": [
        "N_FOLDS = 3\n",
        "MAX_EVALS = 100"
      ],
      "execution_count": null,
      "outputs": []
    },
    {
      "cell_type": "code",
      "metadata": {
        "id": "zcETVkW4Yx2u"
      },
      "source": [
        "# Learning rate\n",
        "learning_rate=[0.0001, 0.001, 0.01, 0.1] \n",
        "n_estimators=[100,300,500,1000]\n",
        "# The maximum depth of a tree, same as GBM.\n",
        "max_depth=range(10,21,2)\n",
        "# This is similar to min_child_leaf in GBM but not exactly. This refers to min “sum of weights” of observations while GBM has min “number of observations”.    \n",
        "min_child_weight=range(1,6,2)\n",
        "#  node is split only when the resulting split gives a positive reduction in the loss function. Gamma specifies the minimum loss reduction required to make a split.    \n",
        "gamma=[i/10.0 for i in range(0,5)]\n",
        "# Same as the subsample of GBM. Denotes the fraction of observations to be randomly samples for each tree.    \n",
        "subsample=[i/10.0 for i in range(6,10)]\n",
        "# Similar to max_features in GBM. Denotes the fraction of columns to be randomly samples for each tree.\n",
        "colsample_bytree=[i/10.0 for i in range(5,10)]\n",
        "# L1 regularization\n",
        "reg_alpha=[1e-5, 1e-2, 0.1, 1, 10, 100]\n",
        "    \n",
        "param = dict(learning_rate=learning_rate, n_estimators=n_estimators,max_depth=max_depth,min_child_weight=min_child_weight,gamma=gamma,subsample=subsample,colsample_bytree=colsample_bytree,reg_alpha=reg_alpha)"
      ],
      "execution_count": null,
      "outputs": []
    },
    {
      "cell_type": "code",
      "metadata": {
        "id": "XqH7kog5oYES",
        "colab": {
          "base_uri": "https://localhost:8080/",
          "height": 153
        },
        "outputId": "54a92429-86be-47a3-f347-ab4a12cfff00"
      },
      "source": [
        "param"
      ],
      "execution_count": null,
      "outputs": [
        {
          "output_type": "execute_result",
          "data": {
            "text/plain": [
              "{'colsample_bytree': [0.5, 0.6, 0.7, 0.8, 0.9],\n",
              " 'gamma': [0.0, 0.1, 0.2, 0.3, 0.4],\n",
              " 'learning_rate': [0.0001, 0.001, 0.01, 0.1],\n",
              " 'max_depth': range(10, 21, 2),\n",
              " 'min_child_weight': range(1, 6, 2),\n",
              " 'n_estimators': [100, 300, 500, 1000],\n",
              " 'reg_alpha': [1e-05, 0.01, 0.1, 1, 10, 100],\n",
              " 'subsample': [0.6, 0.7, 0.8, 0.9]}"
            ]
          },
          "metadata": {
            "tags": []
          },
          "execution_count": 23
        }
      ]
    },
    {
      "cell_type": "code",
      "metadata": {
        "id": "NTzVg0qvoYN9"
      },
      "source": [
        "# Space\n",
        "space = {\n",
        "    'learning_rate': hp.choice('learning_rate', learning_rate),\n",
        "    'n_estimators': hp.choice('n_estimators', n_estimators),\n",
        "    'max_depth' : hp.choice('max_depth', max_depth),\n",
        "    'min_child_weight' : hp.choice('min_child_weight', min_child_weight),\n",
        "    'gamma' : hp.choice('gamma', gamma),\n",
        "    'subsample' : hp.choice('subsample', subsample),    \n",
        "    'colsample_bytree' : hp.choice('colsample_bytree', colsample_bytree),     \n",
        "    'reg_alpha' : hp.choice('reg_alpha', reg_alpha) \n",
        "}"
      ],
      "execution_count": null,
      "outputs": []
    },
    {
      "cell_type": "code",
      "metadata": {
        "id": "hKAJqE8HoYR5"
      },
      "source": [
        "# Objective function\n",
        "def objective(params, n_folds = N_FOLDS):\n",
        "\n",
        "    # Perform n_fold cross validation with hyperparameters\n",
        "    # Use early stopping and evaluate based on ROC AUC\n",
        "    \n",
        "    xgboost = XGBClassifier(seed=0, **params)\n",
        "    scores = cross_val_score(xgboost, X_train, y_train, cv=n_folds, scoring='recall', n_jobs=-1)\n",
        "\n",
        "    # Extract the best score\n",
        "    best_score = max(scores)\n",
        "\n",
        "    # Loss must be minimized\n",
        "    loss = 1 - best_score\n",
        "\n",
        "    # Dictionary with information for evaluation\n",
        "    return {'loss': loss, 'params': params, 'status': STATUS_OK}"
      ],
      "execution_count": null,
      "outputs": []
    },
    {
      "cell_type": "code",
      "metadata": {
        "id": "tlnEjUnKoYVq",
        "colab": {
          "base_uri": "https://localhost:8080/",
          "height": 34
        },
        "outputId": "a0e94fa3-8088-4548-d329-e500c363c7f0"
      },
      "source": [
        "# Algorithm\n",
        "tpe_algorithm = tpe.suggest\n",
        "\n",
        "# Trials object to track progress\n",
        "bayes_trials = Trials()\n",
        "\n",
        "# Optimize\n",
        "best = fmin(fn = objective, space = space, algo = tpe_algorithm, max_evals = MAX_EVALS, trials = bayes_trials)"
      ],
      "execution_count": null,
      "outputs": [
        {
          "output_type": "stream",
          "text": [
            "100%|██████████| 100/100 [00:47<00:00,  2.10it/s, best loss: 0.0]\n"
          ],
          "name": "stdout"
        }
      ]
    },
    {
      "cell_type": "code",
      "metadata": {
        "id": "ed3dBSaloYZR",
        "colab": {
          "base_uri": "https://localhost:8080/",
          "height": 153
        },
        "outputId": "ba2485cf-09c0-4d87-c189-9cfd69ed8a36"
      },
      "source": [
        "# Best parameters:\n",
        "best"
      ],
      "execution_count": null,
      "outputs": [
        {
          "output_type": "execute_result",
          "data": {
            "text/plain": [
              "{'colsample_bytree': 1,\n",
              " 'gamma': 1,\n",
              " 'learning_rate': 3,\n",
              " 'max_depth': 5,\n",
              " 'min_child_weight': 1,\n",
              " 'n_estimators': 1,\n",
              " 'reg_alpha': 3,\n",
              " 'subsample': 2}"
            ]
          },
          "metadata": {
            "tags": []
          },
          "execution_count": 31
        }
      ]
    },
    {
      "cell_type": "code",
      "metadata": {
        "id": "g2TgDM4HoYdG"
      },
      "source": [
        "{'colsample_bytree': [0.5, 0.6, 0.7, 0.8, 0.9],\n",
        " 'gamma': [0.0, 0.1, 0.2, 0.3, 0.4],\n",
        " 'learning_rate': [0.0001, 0.001, 0.01, 0.1],\n",
        " 'max_depth': range(10, 21, 2),\n",
        " 'min_child_weight': range(1, 6, 2),\n",
        " 'n_estimators': [100, 300, 500, 1000],\n",
        " 'reg_alpha': [1e-05, 0.01, 0.1, 1, 10, 100],\n",
        " 'subsample': [0.6, 0.7, 0.8, 0.9]}"
      ],
      "execution_count": null,
      "outputs": []
    },
    {
      "cell_type": "markdown",
      "metadata": {
        "id": "1HI7rvfZqtcQ"
      },
      "source": [
        "## Bayesian Optimization Final Model"
      ]
    },
    {
      "cell_type": "code",
      "metadata": {
        "id": "DXfr7cGmoYgP"
      },
      "source": [
        "xgboost_bo = XGBClassifier(seed=0, colsample_bytree=0.6, gamma=0.1, learning_rate=0.1, max_depth=20, min_child_weight=3, subsample=0.8, reg_alpha=1, n_estimators=300).fit(X_train,y_train)"
      ],
      "execution_count": null,
      "outputs": []
    },
    {
      "cell_type": "code",
      "metadata": {
        "id": "r_yMKt_BoYj3",
        "colab": {
          "base_uri": "https://localhost:8080/",
          "height": 408
        },
        "outputId": "c7b66876-513a-4c6f-b6bd-09b4f0d06245"
      },
      "source": [
        "xgboost_bo.get_params()"
      ],
      "execution_count": null,
      "outputs": [
        {
          "output_type": "execute_result",
          "data": {
            "text/plain": [
              "{'base_score': 0.5,\n",
              " 'booster': 'gbtree',\n",
              " 'colsample_bylevel': 1,\n",
              " 'colsample_bynode': 1,\n",
              " 'colsample_bytree': 0.6,\n",
              " 'gamma': 0.1,\n",
              " 'learning_rate': 0.1,\n",
              " 'max_delta_step': 0,\n",
              " 'max_depth': 20,\n",
              " 'min_child_weight': 3,\n",
              " 'missing': None,\n",
              " 'n_estimators': 300,\n",
              " 'n_jobs': 1,\n",
              " 'nthread': None,\n",
              " 'objective': 'binary:logistic',\n",
              " 'random_state': 0,\n",
              " 'reg_alpha': 1,\n",
              " 'reg_lambda': 1,\n",
              " 'scale_pos_weight': 1,\n",
              " 'seed': 0,\n",
              " 'silent': None,\n",
              " 'subsample': 0.8,\n",
              " 'verbosity': 1}"
            ]
          },
          "metadata": {
            "tags": []
          },
          "execution_count": 33
        }
      ]
    },
    {
      "cell_type": "markdown",
      "metadata": {
        "id": "wOkjiSD4tyBh"
      },
      "source": [
        "## Bayesian Optimization Prediction"
      ]
    },
    {
      "cell_type": "code",
      "metadata": {
        "id": "1G6NDG5EoYoU"
      },
      "source": [
        "y_test_prob = xgboost_bo.predict_proba(X_test)[:,1]\n",
        "y_test_predict = xgboost_bo.predict(X_test)"
      ],
      "execution_count": null,
      "outputs": []
    },
    {
      "cell_type": "code",
      "metadata": {
        "id": "yTPQFjS2oYsZ",
        "colab": {
          "base_uri": "https://localhost:8080/",
          "height": 258
        },
        "outputId": "282e9824-9a49-46ce-c504-99351476f323"
      },
      "source": [
        "testPred = X_test.copy()\n",
        "testPred['y_test'], testPred['y_test_prob'], testPred['y_test_predict']=[y_test,y_test_prob,y_test_predict]\n",
        "testPred.head()"
      ],
      "execution_count": null,
      "outputs": [
        {
          "output_type": "execute_result",
          "data": {
            "text/html": [
              "<div>\n",
              "<style scoped>\n",
              "    .dataframe tbody tr th:only-of-type {\n",
              "        vertical-align: middle;\n",
              "    }\n",
              "\n",
              "    .dataframe tbody tr th {\n",
              "        vertical-align: top;\n",
              "    }\n",
              "\n",
              "    .dataframe thead th {\n",
              "        text-align: right;\n",
              "    }\n",
              "</style>\n",
              "<table border=\"1\" class=\"dataframe\">\n",
              "  <thead>\n",
              "    <tr style=\"text-align: right;\">\n",
              "      <th></th>\n",
              "      <th>area error</th>\n",
              "      <th>compactness error</th>\n",
              "      <th>concave points error</th>\n",
              "      <th>concavity error</th>\n",
              "      <th>fractal dimension error</th>\n",
              "      <th>mean area</th>\n",
              "      <th>mean compactness</th>\n",
              "      <th>mean concave points</th>\n",
              "      <th>mean concavity</th>\n",
              "      <th>mean fractal dimension</th>\n",
              "      <th>mean perimeter</th>\n",
              "      <th>mean radius</th>\n",
              "      <th>mean smoothness</th>\n",
              "      <th>mean symmetry</th>\n",
              "      <th>mean texture</th>\n",
              "      <th>perimeter error</th>\n",
              "      <th>radius error</th>\n",
              "      <th>smoothness error</th>\n",
              "      <th>symmetry error</th>\n",
              "      <th>texture error</th>\n",
              "      <th>worst area</th>\n",
              "      <th>worst compactness</th>\n",
              "      <th>worst concave points</th>\n",
              "      <th>worst concavity</th>\n",
              "      <th>worst fractal dimension</th>\n",
              "      <th>worst perimeter</th>\n",
              "      <th>worst radius</th>\n",
              "      <th>worst smoothness</th>\n",
              "      <th>worst symmetry</th>\n",
              "      <th>worst texture</th>\n",
              "      <th>y_test</th>\n",
              "      <th>y_test_prob</th>\n",
              "      <th>y_test_predict</th>\n",
              "    </tr>\n",
              "  </thead>\n",
              "  <tbody>\n",
              "    <tr>\n",
              "      <th>204</th>\n",
              "      <td>-0.221053</td>\n",
              "      <td>-0.355912</td>\n",
              "      <td>-0.231333</td>\n",
              "      <td>-0.161929</td>\n",
              "      <td>-0.079018</td>\n",
              "      <td>-0.491999</td>\n",
              "      <td>0.027651</td>\n",
              "      <td>-0.276232</td>\n",
              "      <td>-0.109847</td>\n",
              "      <td>0.132176</td>\n",
              "      <td>-0.448110</td>\n",
              "      <td>-0.470694</td>\n",
              "      <td>0.234114</td>\n",
              "      <td>0.413949</td>\n",
              "      <td>-0.160486</td>\n",
              "      <td>-0.182696</td>\n",
              "      <td>-0.032743</td>\n",
              "      <td>-0.029327</td>\n",
              "      <td>-0.329612</td>\n",
              "      <td>-0.313616</td>\n",
              "      <td>-0.356299</td>\n",
              "      <td>-0.104741</td>\n",
              "      <td>-0.199563</td>\n",
              "      <td>-0.024412</td>\n",
              "      <td>0.196958</td>\n",
              "      <td>-0.333935</td>\n",
              "      <td>-0.269040</td>\n",
              "      <td>0.448503</td>\n",
              "      <td>0.183204</td>\n",
              "      <td>-0.168905</td>\n",
              "      <td>1</td>\n",
              "      <td>0.968536</td>\n",
              "      <td>1</td>\n",
              "    </tr>\n",
              "    <tr>\n",
              "      <th>70</th>\n",
              "      <td>1.225780</td>\n",
              "      <td>-0.500666</td>\n",
              "      <td>0.308825</td>\n",
              "      <td>-0.305168</td>\n",
              "      <td>-0.793157</td>\n",
              "      <td>1.351264</td>\n",
              "      <td>-0.027309</td>\n",
              "      <td>0.789060</td>\n",
              "      <td>0.241064</td>\n",
              "      <td>-1.160679</td>\n",
              "      <td>1.302886</td>\n",
              "      <td>1.366877</td>\n",
              "      <td>-0.446227</td>\n",
              "      <td>-0.838325</td>\n",
              "      <td>0.470149</td>\n",
              "      <td>1.296951</td>\n",
              "      <td>1.384594</td>\n",
              "      <td>-0.865695</td>\n",
              "      <td>-0.809083</td>\n",
              "      <td>-0.760851</td>\n",
              "      <td>1.732277</td>\n",
              "      <td>-0.131459</td>\n",
              "      <td>0.978975</td>\n",
              "      <td>-0.016736</td>\n",
              "      <td>-1.000578</td>\n",
              "      <td>1.746605</td>\n",
              "      <td>1.779007</td>\n",
              "      <td>-0.572873</td>\n",
              "      <td>-0.565828</td>\n",
              "      <td>0.147012</td>\n",
              "      <td>0</td>\n",
              "      <td>0.001373</td>\n",
              "      <td>0</td>\n",
              "    </tr>\n",
              "    <tr>\n",
              "      <th>131</th>\n",
              "      <td>0.175418</td>\n",
              "      <td>-0.594561</td>\n",
              "      <td>-0.140496</td>\n",
              "      <td>-0.124794</td>\n",
              "      <td>-0.504551</td>\n",
              "      <td>0.267377</td>\n",
              "      <td>0.340350</td>\n",
              "      <td>0.824140</td>\n",
              "      <td>0.725686</td>\n",
              "      <td>-0.685782</td>\n",
              "      <td>0.400820</td>\n",
              "      <td>0.378508</td>\n",
              "      <td>0.913744</td>\n",
              "      <td>0.435855</td>\n",
              "      <td>0.044296</td>\n",
              "      <td>0.112838</td>\n",
              "      <td>0.249497</td>\n",
              "      <td>-0.267004</td>\n",
              "      <td>-0.795764</td>\n",
              "      <td>-0.781898</td>\n",
              "      <td>0.484159</td>\n",
              "      <td>-0.094562</td>\n",
              "      <td>0.560244</td>\n",
              "      <td>0.512911</td>\n",
              "      <td>-0.208132</td>\n",
              "      <td>0.525386</td>\n",
              "      <td>0.619345</td>\n",
              "      <td>0.974533</td>\n",
              "      <td>-0.103143</td>\n",
              "      <td>0.052562</td>\n",
              "      <td>0</td>\n",
              "      <td>0.001544</td>\n",
              "      <td>0</td>\n",
              "    </tr>\n",
              "    <tr>\n",
              "      <th>431</th>\n",
              "      <td>-0.547998</td>\n",
              "      <td>0.417599</td>\n",
              "      <td>-0.020461</td>\n",
              "      <td>0.554262</td>\n",
              "      <td>0.835972</td>\n",
              "      <td>-0.532101</td>\n",
              "      <td>0.516599</td>\n",
              "      <td>-0.539846</td>\n",
              "      <td>-0.142993</td>\n",
              "      <td>1.165609</td>\n",
              "      <td>-0.432457</td>\n",
              "      <td>-0.490575</td>\n",
              "      <td>0.643316</td>\n",
              "      <td>-0.002259</td>\n",
              "      <td>-0.374576</td>\n",
              "      <td>-0.327740</td>\n",
              "      <td>-0.824604</td>\n",
              "      <td>0.986380</td>\n",
              "      <td>0.160756</td>\n",
              "      <td>0.441152</td>\n",
              "      <td>-0.641257</td>\n",
              "      <td>0.054930</td>\n",
              "      <td>-0.622863</td>\n",
              "      <td>-0.152986</td>\n",
              "      <td>0.534440</td>\n",
              "      <td>-0.525756</td>\n",
              "      <td>-0.701842</td>\n",
              "      <td>0.553709</td>\n",
              "      <td>-0.557739</td>\n",
              "      <td>-0.450625</td>\n",
              "      <td>1</td>\n",
              "      <td>0.997588</td>\n",
              "      <td>1</td>\n",
              "    </tr>\n",
              "    <tr>\n",
              "      <th>540</th>\n",
              "      <td>-0.428529</td>\n",
              "      <td>0.874216</td>\n",
              "      <td>0.509965</td>\n",
              "      <td>0.783709</td>\n",
              "      <td>0.649494</td>\n",
              "      <td>-0.716683</td>\n",
              "      <td>0.145150</td>\n",
              "      <td>-0.592724</td>\n",
              "      <td>-0.269044</td>\n",
              "      <td>0.711976</td>\n",
              "      <td>-0.713374</td>\n",
              "      <td>-0.734828</td>\n",
              "      <td>0.247636</td>\n",
              "      <td>0.023298</td>\n",
              "      <td>-1.128546</td>\n",
              "      <td>-0.612877</td>\n",
              "      <td>-0.457547</td>\n",
              "      <td>1.703076</td>\n",
              "      <td>-0.259386</td>\n",
              "      <td>0.999969</td>\n",
              "      <td>-0.743216</td>\n",
              "      <td>-0.270137</td>\n",
              "      <td>-0.691687</td>\n",
              "      <td>-0.443716</td>\n",
              "      <td>-0.144403</td>\n",
              "      <td>-0.848337</td>\n",
              "      <td>-0.830233</td>\n",
              "      <td>0.093432</td>\n",
              "      <td>-0.924975</td>\n",
              "      <td>-0.976611</td>\n",
              "      <td>1</td>\n",
              "      <td>0.999184</td>\n",
              "      <td>1</td>\n",
              "    </tr>\n",
              "  </tbody>\n",
              "</table>\n",
              "</div>"
            ],
            "text/plain": [
              "     area error  compactness error  ...  y_test_prob  y_test_predict\n",
              "204   -0.221053          -0.355912  ...     0.968536               1\n",
              "70     1.225780          -0.500666  ...     0.001373               0\n",
              "131    0.175418          -0.594561  ...     0.001544               0\n",
              "431   -0.547998           0.417599  ...     0.997588               1\n",
              "540   -0.428529           0.874216  ...     0.999184               1\n",
              "\n",
              "[5 rows x 33 columns]"
            ]
          },
          "metadata": {
            "tags": []
          },
          "execution_count": 35
        }
      ]
    },
    {
      "cell_type": "markdown",
      "metadata": {
        "id": "WRgGotqVvA3C"
      },
      "source": [
        "## Bayesian Optimization Model Performance"
      ]
    },
    {
      "cell_type": "code",
      "metadata": {
        "id": "eP6sF1WyuGrB",
        "colab": {
          "base_uri": "https://localhost:8080/",
          "height": 265
        },
        "outputId": "04260f12-0372-4ef7-b0cf-66692c156f42"
      },
      "source": [
        "#ROC/AUC Curve\n",
        "from sklearn import metrics\n",
        "# y_test_prob=et_gs.predict_proba(X_test)[:,1]\n",
        "fpr,tpr, _=metrics.roc_curve(y_test,y_test_prob)\n",
        "auc=metrics.roc_auc_score(y_test,y_test_prob)\n",
        "plt.plot(fpr,tpr,label=\"area=\"+str(auc))\n",
        "plt.legend(loc=4)\n",
        "plt.show()"
      ],
      "execution_count": null,
      "outputs": [
        {
          "output_type": "display_data",
          "data": {
            "image/png": "[encoded data removed]",
            "text/plain": [
              "<Figure size 432x288 with 1 Axes>"
            ]
          },
          "metadata": {
            "tags": [],
            "needs_background": "light"
          }
        }
      ]
    },
    {
      "cell_type": "code",
      "metadata": {
        "id": "m1TtMsnhuGms",
        "colab": {
          "base_uri": "https://localhost:8080/",
          "height": 34
        },
        "outputId": "17eb8ca5-c2ad-4537-86e8-41ef9a0ecb01"
      },
      "source": [
        "log_loss(y_test,y_test_prob)"
      ],
      "execution_count": null,
      "outputs": [
        {
          "output_type": "execute_result",
          "data": {
            "text/plain": [
              "0.07979581276161123"
            ]
          },
          "metadata": {
            "tags": []
          },
          "execution_count": 37
        }
      ]
    },
    {
      "cell_type": "code",
      "metadata": {
        "id": "JtxdInAbuGjU",
        "colab": {
          "base_uri": "https://localhost:8080/",
          "height": 68
        },
        "outputId": "eecb4657-907a-4621-b876-650bdd7bc5e5"
      },
      "source": [
        "cm = confusion_matrix(y_test, y_test_predict)\n",
        "cmtx = pd.DataFrame(cm, index=['true:no', 'true:yes'], columns=['pred:no', 'pred:yes'])\n",
        "print(cmtx)"
      ],
      "execution_count": null,
      "outputs": [
        {
          "output_type": "stream",
          "text": [
            "          pred:no  pred:yes\n",
            "true:no        41         2\n",
            "true:yes        1        70\n"
          ],
          "name": "stdout"
        }
      ]
    },
    {
      "cell_type": "code",
      "metadata": {
        "id": "Gokp5jgduGfv",
        "colab": {
          "base_uri": "https://localhost:8080/",
          "height": 170
        },
        "outputId": "e2cd8397-b0cd-45cd-c070-438ae6b650c9"
      },
      "source": [
        "print(classification_report(y_test, y_test_predict, digits=4))"
      ],
      "execution_count": null,
      "outputs": [
        {
          "output_type": "stream",
          "text": [
            "              precision    recall  f1-score   support\n",
            "\n",
            "           0     0.9762    0.9535    0.9647        43\n",
            "           1     0.9722    0.9859    0.9790        71\n",
            "\n",
            "    accuracy                         0.9737       114\n",
            "   macro avg     0.9742    0.9697    0.9719       114\n",
            "weighted avg     0.9737    0.9737    0.9736       114\n",
            "\n"
          ],
          "name": "stdout"
        }
      ]
    },
    {
      "cell_type": "markdown",
      "metadata": {
        "id": "b-TLMPdyx9bS"
      },
      "source": [
        "## Bayesian Optimization Feature Importance"
      ]
    },
    {
      "cell_type": "code",
      "metadata": {
        "id": "gdMrPymMuGcv",
        "colab": {
          "base_uri": "https://localhost:8080/",
          "height": 979
        },
        "outputId": "b88c8fef-671c-4cdf-a6c6-13f20761862c"
      },
      "source": [
        "Coeff = pd.concat([pd.DataFrame(X.columns),pd.DataFrame(np.transpose(xgboost_bo.feature_importances_))], axis = 1)\n",
        "Coeff.columns=['Variable','Feature_Importance']\n",
        "CoeffSorted = Coeff.sort_values(by='Feature_Importance', ascending=False)\n",
        "CoeffSorted"
      ],
      "execution_count": null,
      "outputs": [
        {
          "output_type": "execute_result",
          "data": {
            "text/html": [
              "<div>\n",
              "<style scoped>\n",
              "    .dataframe tbody tr th:only-of-type {\n",
              "        vertical-align: middle;\n",
              "    }\n",
              "\n",
              "    .dataframe tbody tr th {\n",
              "        vertical-align: top;\n",
              "    }\n",
              "\n",
              "    .dataframe thead th {\n",
              "        text-align: right;\n",
              "    }\n",
              "</style>\n",
              "<table border=\"1\" class=\"dataframe\">\n",
              "  <thead>\n",
              "    <tr style=\"text-align: right;\">\n",
              "      <th></th>\n",
              "      <th>Variable</th>\n",
              "      <th>Feature_Importance</th>\n",
              "    </tr>\n",
              "  </thead>\n",
              "  <tbody>\n",
              "    <tr>\n",
              "      <th>7</th>\n",
              "      <td>mean concave points</td>\n",
              "      <td>0.307822</td>\n",
              "    </tr>\n",
              "    <tr>\n",
              "      <th>22</th>\n",
              "      <td>worst concave points</td>\n",
              "      <td>0.157712</td>\n",
              "    </tr>\n",
              "    <tr>\n",
              "      <th>25</th>\n",
              "      <td>worst perimeter</td>\n",
              "      <td>0.156790</td>\n",
              "    </tr>\n",
              "    <tr>\n",
              "      <th>20</th>\n",
              "      <td>worst area</td>\n",
              "      <td>0.081283</td>\n",
              "    </tr>\n",
              "    <tr>\n",
              "      <th>11</th>\n",
              "      <td>mean radius</td>\n",
              "      <td>0.039454</td>\n",
              "    </tr>\n",
              "    <tr>\n",
              "      <th>5</th>\n",
              "      <td>mean area</td>\n",
              "      <td>0.036256</td>\n",
              "    </tr>\n",
              "    <tr>\n",
              "      <th>8</th>\n",
              "      <td>mean concavity</td>\n",
              "      <td>0.028429</td>\n",
              "    </tr>\n",
              "    <tr>\n",
              "      <th>26</th>\n",
              "      <td>worst radius</td>\n",
              "      <td>0.025818</td>\n",
              "    </tr>\n",
              "    <tr>\n",
              "      <th>3</th>\n",
              "      <td>concavity error</td>\n",
              "      <td>0.022213</td>\n",
              "    </tr>\n",
              "    <tr>\n",
              "      <th>29</th>\n",
              "      <td>worst texture</td>\n",
              "      <td>0.020510</td>\n",
              "    </tr>\n",
              "    <tr>\n",
              "      <th>14</th>\n",
              "      <td>mean texture</td>\n",
              "      <td>0.015349</td>\n",
              "    </tr>\n",
              "    <tr>\n",
              "      <th>23</th>\n",
              "      <td>worst concavity</td>\n",
              "      <td>0.013543</td>\n",
              "    </tr>\n",
              "    <tr>\n",
              "      <th>28</th>\n",
              "      <td>worst symmetry</td>\n",
              "      <td>0.013360</td>\n",
              "    </tr>\n",
              "    <tr>\n",
              "      <th>0</th>\n",
              "      <td>area error</td>\n",
              "      <td>0.010282</td>\n",
              "    </tr>\n",
              "    <tr>\n",
              "      <th>10</th>\n",
              "      <td>mean perimeter</td>\n",
              "      <td>0.009117</td>\n",
              "    </tr>\n",
              "    <tr>\n",
              "      <th>27</th>\n",
              "      <td>worst smoothness</td>\n",
              "      <td>0.007270</td>\n",
              "    </tr>\n",
              "    <tr>\n",
              "      <th>19</th>\n",
              "      <td>texture error</td>\n",
              "      <td>0.005552</td>\n",
              "    </tr>\n",
              "    <tr>\n",
              "      <th>12</th>\n",
              "      <td>mean smoothness</td>\n",
              "      <td>0.005415</td>\n",
              "    </tr>\n",
              "    <tr>\n",
              "      <th>18</th>\n",
              "      <td>symmetry error</td>\n",
              "      <td>0.005194</td>\n",
              "    </tr>\n",
              "    <tr>\n",
              "      <th>4</th>\n",
              "      <td>fractal dimension error</td>\n",
              "      <td>0.005029</td>\n",
              "    </tr>\n",
              "    <tr>\n",
              "      <th>9</th>\n",
              "      <td>mean fractal dimension</td>\n",
              "      <td>0.004656</td>\n",
              "    </tr>\n",
              "    <tr>\n",
              "      <th>6</th>\n",
              "      <td>mean compactness</td>\n",
              "      <td>0.004600</td>\n",
              "    </tr>\n",
              "    <tr>\n",
              "      <th>1</th>\n",
              "      <td>compactness error</td>\n",
              "      <td>0.004396</td>\n",
              "    </tr>\n",
              "    <tr>\n",
              "      <th>15</th>\n",
              "      <td>perimeter error</td>\n",
              "      <td>0.004110</td>\n",
              "    </tr>\n",
              "    <tr>\n",
              "      <th>16</th>\n",
              "      <td>radius error</td>\n",
              "      <td>0.004056</td>\n",
              "    </tr>\n",
              "    <tr>\n",
              "      <th>24</th>\n",
              "      <td>worst fractal dimension</td>\n",
              "      <td>0.003728</td>\n",
              "    </tr>\n",
              "    <tr>\n",
              "      <th>17</th>\n",
              "      <td>smoothness error</td>\n",
              "      <td>0.003652</td>\n",
              "    </tr>\n",
              "    <tr>\n",
              "      <th>2</th>\n",
              "      <td>concave points error</td>\n",
              "      <td>0.002850</td>\n",
              "    </tr>\n",
              "    <tr>\n",
              "      <th>13</th>\n",
              "      <td>mean symmetry</td>\n",
              "      <td>0.001553</td>\n",
              "    </tr>\n",
              "    <tr>\n",
              "      <th>21</th>\n",
              "      <td>worst compactness</td>\n",
              "      <td>0.000000</td>\n",
              "    </tr>\n",
              "  </tbody>\n",
              "</table>\n",
              "</div>"
            ],
            "text/plain": [
              "                   Variable  Feature_Importance\n",
              "7       mean concave points            0.307822\n",
              "22     worst concave points            0.157712\n",
              "25          worst perimeter            0.156790\n",
              "20               worst area            0.081283\n",
              "11              mean radius            0.039454\n",
              "5                 mean area            0.036256\n",
              "8            mean concavity            0.028429\n",
              "26             worst radius            0.025818\n",
              "3           concavity error            0.022213\n",
              "29            worst texture            0.020510\n",
              "14             mean texture            0.015349\n",
              "23          worst concavity            0.013543\n",
              "28           worst symmetry            0.013360\n",
              "0                area error            0.010282\n",
              "10           mean perimeter            0.009117\n",
              "27         worst smoothness            0.007270\n",
              "19            texture error            0.005552\n",
              "12          mean smoothness            0.005415\n",
              "18           symmetry error            0.005194\n",
              "4   fractal dimension error            0.005029\n",
              "9    mean fractal dimension            0.004656\n",
              "6          mean compactness            0.004600\n",
              "1         compactness error            0.004396\n",
              "15          perimeter error            0.004110\n",
              "16             radius error            0.004056\n",
              "24  worst fractal dimension            0.003728\n",
              "17         smoothness error            0.003652\n",
              "2      concave points error            0.002850\n",
              "13            mean symmetry            0.001553\n",
              "21        worst compactness            0.000000"
            ]
          },
          "metadata": {
            "tags": []
          },
          "execution_count": 40
        }
      ]
    },
    {
      "cell_type": "code",
      "metadata": {
        "id": "jAwN4IVYuGZ7",
        "colab": {
          "base_uri": "https://localhost:8080/",
          "height": 297
        },
        "outputId": "8fd8bd92-05ae-43b5-ba55-ab4404348c0a"
      },
      "source": [
        "ax = sns.barplot(x='Feature_Importance', y='Variable', data=CoeffSorted, order=CoeffSorted['Variable'])\n",
        "ax.set_xlabel('Feature Importance')\n",
        "ax.set_ylabel('Features')"
      ],
      "execution_count": null,
      "outputs": [
        {
          "output_type": "execute_result",
          "data": {
            "text/plain": [
              "Text(0, 0.5, 'Features')"
            ]
          },
          "metadata": {
            "tags": []
          },
          "execution_count": 41
        },
        {
          "output_type": "display_data",
          "data": {
            "image/png": "[encoded data removed]",
            "text/plain": [
              "<Figure size 432x288 with 1 Axes>"
            ]
          },
          "metadata": {
            "tags": [],
            "needs_background": "light"
          }
        }
      ]
    },
    {
      "cell_type": "markdown",
      "metadata": {
        "id": "OBa2BEn4yNyY"
      },
      "source": [
        "## Bayesian Optimization Prediction Distribution"
      ]
    },
    {
      "cell_type": "code",
      "metadata": {
        "id": "iYJNWcILuGU3",
        "colab": {
          "base_uri": "https://localhost:8080/",
          "height": 282
        },
        "outputId": "aadc7fdc-0617-45b5-b5c0-722626852fa2"
      },
      "source": [
        "# Plot the predicted probability distribution\n",
        "sns.distplot(y_test_prob, label='Predicted Probability', kde=False)"
      ],
      "execution_count": null,
      "outputs": [
        {
          "output_type": "execute_result",
          "data": {
            "text/plain": [
              "<matplotlib.axes._subplots.AxesSubplot at 0x7f9f4e99acc0>"
            ]
          },
          "metadata": {
            "tags": []
          },
          "execution_count": 42
        },
        {
          "output_type": "display_data",
          "data": {
            "image/png": "[encoded data removed]",
            "text/plain": [
              "<Figure size 432x288 with 1 Axes>"
            ]
          },
          "metadata": {
            "tags": [],
            "needs_background": "light"
          }
        }
      ]
    },
    {
      "cell_type": "code",
      "metadata": {
        "id": "2fy5zFLfuGRP",
        "colab": {
          "base_uri": "https://localhost:8080/",
          "height": 279
        },
        "outputId": "1257cac0-2b7d-449d-ebbb-5d5d2ae46386"
      },
      "source": [
        "# this is to plot the kde by label\n",
        "sns.distplot(testPred[testPred['y_test']==1]['y_test_prob'],label='1', kde=False);\n",
        "sns.distplot(testPred[testPred['y_test']==0]['y_test_prob'],label='0', kde=False);\n",
        "\n",
        "# add labels\n",
        "plt.xlabel('Predicted Probability')\n",
        "plt.ylabel('Frequency')\n",
        "plt.show()"
      ],
      "execution_count": null,
      "outputs": [
        {
          "output_type": "display_data",
          "data": {
            "image/png": "[encoded data removed]",
            "text/plain": [
              "<Figure size 432x288 with 1 Axes>"
            ]
          },
          "metadata": {
            "tags": [],
            "needs_background": "light"
          }
        }
      ]
    },
    {
      "cell_type": "markdown",
      "metadata": {
        "id": "5Dz7QJ1Cypqz"
      },
      "source": [
        "## Save Model"
      ]
    },
    {
      "cell_type": "code",
      "metadata": {
        "id": "GCO9LpahuGMW"
      },
      "source": [
        "import pickle\n",
        "# save the model to disk\n",
        "modelname = 'xgboost_bo_model.pkl'\n",
        "pickle.dump(xgboost_bo, open(modelname, 'wb'))"
      ],
      "execution_count": null,
      "outputs": []
    },
    {
      "cell_type": "code",
      "metadata": {
        "id": "r6IOA2wduGIW"
      },
      "source": [
        "# load the model from disk\n",
        "loaded_phase1_model = pickle.load(open(modelname, 'rb'))"
      ],
      "execution_count": null,
      "outputs": []
    },
    {
      "cell_type": "markdown",
      "metadata": {
        "id": "6WLS5CndznRK"
      },
      "source": [
        "# Neutal Network Model"
      ]
    },
    {
      "cell_type": "markdown",
      "metadata": {
        "id": "fh45Vj3gg1Tu"
      },
      "source": [
        "## Grid Search Cross Validation"
      ]
    },
    {
      "cell_type": "code",
      "metadata": {
        "id": "0Gotb22XuGEI",
        "colab": {
          "base_uri": "https://localhost:8080/",
          "height": 85
        },
        "outputId": "ff401575-5b03-42b4-f5b0-171db058b6d5"
      },
      "source": [
        "layers = [(30), (30, 15)]# Need to use tuple instead of list because of a bug related to nested list with Keras. https://datascience.stackexchange.com/questions/66341/cannot-clone-object-keras-wrappers-scikit-learn-kerasregressor-object-at-0x7fdc\n",
        "activations = ['tanh', 'relu']\n",
        "batch_size = [32, 256]\n",
        "epochs=[10, 50]\n",
        "param_grid = dict(layers=layers, activation=activations, batch_size = batch_size, epochs=epochs)\n",
        "param_grid"
      ],
      "execution_count": null,
      "outputs": [
        {
          "output_type": "execute_result",
          "data": {
            "text/plain": [
              "{'activation': ['tanh', 'relu'],\n",
              " 'batch_size': [32, 256],\n",
              " 'epochs': [10, 50],\n",
              " 'layers': [30, (30, 15)]}"
            ]
          },
          "metadata": {
            "tags": []
          },
          "execution_count": 60
        }
      ]
    },
    {
      "cell_type": "code",
      "metadata": {
        "id": "ZNkWyPW2uGAT"
      },
      "source": [
        "scoring = ['recall']"
      ],
      "execution_count": null,
      "outputs": []
    },
    {
      "cell_type": "code",
      "metadata": {
        "id": "EHd951QFhgjp"
      },
      "source": [
        "kfold = StratifiedKFold(n_splits=3, shuffle=True)"
      ],
      "execution_count": null,
      "outputs": []
    },
    {
      "cell_type": "code",
      "metadata": {
        "id": "rmWoo8Fbhgfz",
        "colab": {
          "base_uri": "https://localhost:8080/",
          "height": 34
        },
        "outputId": "6b15a3be-25c9-4503-daad-d0082970284b"
      },
      "source": [
        "l = enumerate(layers)\n",
        "print(list(l))"
      ],
      "execution_count": null,
      "outputs": [
        {
          "output_type": "stream",
          "text": [
            "[(0, 30), (1, (30, 15))]\n"
          ],
          "name": "stdout"
        }
      ]
    },
    {
      "cell_type": "code",
      "metadata": {
        "id": "GDxHaXehhgco"
      },
      "source": [
        "def create_model(layers, activation='relu', batch_size=32, epochs=50):\n",
        "    model = Sequential()\n",
        "    for i, nodes in enumerate(layers):\n",
        "        if i==0:\n",
        "            model.add(Dense(nodes,input_dim=X_train.shape[1]))\n",
        "            model.add(Activation(activation))\n",
        "            model.add(Dropout(0.3))\n",
        "        else:\n",
        "            model.add(Dense(nodes))\n",
        "            model.add(Activation(activation))\n",
        "            model.add(Dropout(0.3))\n",
        "            \n",
        "    model.add(Dense(units = 1, activation = 'sigmoid')) # Note: no activation beyond this point\n",
        "    \n",
        "    model.compile(optimizer='adam', loss='binary_crossentropy',metrics=[\"accuracy\"])\n",
        "    return model"
      ],
      "execution_count": null,
      "outputs": []
    },
    {
      "cell_type": "code",
      "metadata": {
        "id": "IX8vsoBuLdJz",
        "colab": {
          "base_uri": "https://localhost:8080/",
          "height": 68
        },
        "outputId": "442d16a0-84a3-46fa-a5e9-e4a596530f03"
      },
      "source": [
        "# Set seeds\n",
        "import random\n",
        "import tensorflow as tf\n",
        "import keras.backend as K\n",
        "random.seed(0)\n",
        "np.random.seed(0)\n",
        "# tf.compat.v1.set_random_seed(0)\n",
        "# tf.random.set_random_seed(0)\n",
        "session_conf = tf.compat.v1.ConfigProto(intra_op_parallelism_threads=1, inter_op_parallelism_threads=1)\n",
        "sess = tf.compat.v1.Session(graph=tf.compat.v1.get_default_graph(), config=session_conf)\n",
        "# K.set_session(sess)\n",
        "\n",
        "# Change function to estimator\n",
        "model = KerasClassifier(build_fn=create_model, verbose=0)\n",
        "\n",
        "grid_search = GridSearchCV(model, param_grid, scoring=scoring, refit='recall', n_jobs=-1, cv=kfold, verbose=1)\n",
        "\n",
        "grid_result = grid_search.fit(X_train, y_train)"
      ],
      "execution_count": null,
      "outputs": [
        {
          "output_type": "stream",
          "text": [
            "Fitting 3 folds for each of 16 candidates, totalling 48 fits\n"
          ],
          "name": "stdout"
        },
        {
          "output_type": "stream",
          "text": [
            "[Parallel(n_jobs=-1)]: Using backend LokyBackend with 2 concurrent workers.\n",
            "[Parallel(n_jobs=-1)]: Done  48 out of  48 | elapsed:   23.0s finished\n"
          ],
          "name": "stderr"
        }
      ]
    },
    {
      "cell_type": "code",
      "metadata": {
        "id": "FsmwDwhnhgOf",
        "colab": {
          "base_uri": "https://localhost:8080/",
          "height": 170
        },
        "outputId": "072e77dc-b8e9-4e75-8b65-a036305c85ed"
      },
      "source": [
        "grid_result"
      ],
      "execution_count": null,
      "outputs": [
        {
          "output_type": "execute_result",
          "data": {
            "text/plain": [
              "GridSearchCV(cv=StratifiedKFold(n_splits=3, random_state=None, shuffle=True),\n",
              "             error_score=nan,\n",
              "             estimator=<keras.wrappers.scikit_learn.KerasClassifier object at 0x7fa7c9d96400>,\n",
              "             iid='deprecated', n_jobs=-1,\n",
              "             param_grid={'activation': ['tanh', 'relu'],\n",
              "                         'batch_size': [32, 256], 'epochs': [10, 50],\n",
              "                         'layers': [30, (30, 15)]},\n",
              "             pre_dispatch='2*n_jobs', refit='recall', return_train_score=False,\n",
              "             scoring=['recall'], verbose=1)"
            ]
          },
          "metadata": {
            "tags": []
          },
          "execution_count": 66
        }
      ]
    },
    {
      "cell_type": "code",
      "metadata": {
        "id": "GTtOILzihgJ6",
        "colab": {
          "base_uri": "https://localhost:8080/",
          "height": 1000
        },
        "outputId": "efeb8a8a-baff-437c-ab23-90be5e2959bb"
      },
      "source": [
        "grid_result.cv_results_"
      ],
      "execution_count": null,
      "outputs": [
        {
          "output_type": "execute_result",
          "data": {
            "text/plain": [
              "{'mean_fit_time': array([0.00466077, 1.30289054, 0.00261458, 2.01705122, 0.00263262,\n",
              "        1.13590185, 0.00270025, 1.31156119, 0.00294018, 1.40193327,\n",
              "        0.00255156, 2.10102916, 0.00264525, 1.132821  , 0.00260703,\n",
              "        1.12254206]),\n",
              " 'mean_score_time': array([0.        , 0.06201641, 0.        , 0.06232897, 0.        ,\n",
              "        0.05839936, 0.        , 0.05992444, 0.        , 0.06219912,\n",
              "        0.        , 0.0789663 , 0.        , 0.064092  , 0.        ,\n",
              "        0.05373144]),\n",
              " 'mean_test_recall': array([       nan, 0.98603801,        nan, 0.98260234,        nan,\n",
              "        0.94415205,        nan, 0.98607456,        nan, 0.97909357,\n",
              "               nan, 0.97562135,        nan, 0.91290205,        nan,\n",
              "        0.98607456]),\n",
              " 'param_activation': masked_array(data=['tanh', 'tanh', 'tanh', 'tanh', 'tanh', 'tanh', 'tanh',\n",
              "                    'tanh', 'relu', 'relu', 'relu', 'relu', 'relu', 'relu',\n",
              "                    'relu', 'relu'],\n",
              "              mask=[False, False, False, False, False, False, False, False,\n",
              "                    False, False, False, False, False, False, False, False],\n",
              "        fill_value='?',\n",
              "             dtype=object),\n",
              " 'param_batch_size': masked_array(data=[32, 32, 32, 32, 256, 256, 256, 256, 32, 32, 32, 32,\n",
              "                    256, 256, 256, 256],\n",
              "              mask=[False, False, False, False, False, False, False, False,\n",
              "                    False, False, False, False, False, False, False, False],\n",
              "        fill_value='?',\n",
              "             dtype=object),\n",
              " 'param_epochs': masked_array(data=[10, 10, 50, 50, 10, 10, 50, 50, 10, 10, 50, 50, 10, 10,\n",
              "                    50, 50],\n",
              "              mask=[False, False, False, False, False, False, False, False,\n",
              "                    False, False, False, False, False, False, False, False],\n",
              "        fill_value='?',\n",
              "             dtype=object),\n",
              " 'param_layers': masked_array(data=[30, (30, 15), 30, (30, 15), 30, (30, 15), 30, (30, 15),\n",
              "                    30, (30, 15), 30, (30, 15), 30, (30, 15), 30, (30, 15)],\n",
              "              mask=[False, False, False, False, False, False, False, False,\n",
              "                    False, False, False, False, False, False, False, False],\n",
              "        fill_value='?',\n",
              "             dtype=object),\n",
              " 'params': [{'activation': 'tanh',\n",
              "   'batch_size': 32,\n",
              "   'epochs': 10,\n",
              "   'layers': 30},\n",
              "  {'activation': 'tanh', 'batch_size': 32, 'epochs': 10, 'layers': (30, 15)},\n",
              "  {'activation': 'tanh', 'batch_size': 32, 'epochs': 50, 'layers': 30},\n",
              "  {'activation': 'tanh', 'batch_size': 32, 'epochs': 50, 'layers': (30, 15)},\n",
              "  {'activation': 'tanh', 'batch_size': 256, 'epochs': 10, 'layers': 30},\n",
              "  {'activation': 'tanh', 'batch_size': 256, 'epochs': 10, 'layers': (30, 15)},\n",
              "  {'activation': 'tanh', 'batch_size': 256, 'epochs': 50, 'layers': 30},\n",
              "  {'activation': 'tanh', 'batch_size': 256, 'epochs': 50, 'layers': (30, 15)},\n",
              "  {'activation': 'relu', 'batch_size': 32, 'epochs': 10, 'layers': 30},\n",
              "  {'activation': 'relu', 'batch_size': 32, 'epochs': 10, 'layers': (30, 15)},\n",
              "  {'activation': 'relu', 'batch_size': 32, 'epochs': 50, 'layers': 30},\n",
              "  {'activation': 'relu', 'batch_size': 32, 'epochs': 50, 'layers': (30, 15)},\n",
              "  {'activation': 'relu', 'batch_size': 256, 'epochs': 10, 'layers': 30},\n",
              "  {'activation': 'relu', 'batch_size': 256, 'epochs': 10, 'layers': (30, 15)},\n",
              "  {'activation': 'relu', 'batch_size': 256, 'epochs': 50, 'layers': 30},\n",
              "  {'activation': 'relu', 'batch_size': 256, 'epochs': 50, 'layers': (30, 15)}],\n",
              " 'rank_test_recall': array([ 9,  3, 10,  4, 11,  7, 12,  1, 13,  5, 14,  6, 15,  8, 16,  1],\n",
              "       dtype=int32),\n",
              " 'split0_test_recall': array([       nan, 0.97916667,        nan, 0.95833333,        nan,\n",
              "        0.91666667,        nan, 0.96875   ,        nan, 0.95833333,\n",
              "               nan, 0.94791667,        nan, 0.82291667,        nan,\n",
              "        0.96875   ]),\n",
              " 'split1_test_recall': array([       nan, 0.98947368,        nan, 1.        ,        nan,\n",
              "        0.95789474,        nan, 0.98947368,        nan, 0.98947368,\n",
              "               nan, 0.98947368,        nan, 0.91578947,        nan,\n",
              "        1.        ]),\n",
              " 'split2_test_recall': array([       nan, 0.98947368,        nan, 0.98947368,        nan,\n",
              "        0.95789474,        nan, 1.        ,        nan, 0.98947368,\n",
              "               nan, 0.98947368,        nan, 1.        ,        nan,\n",
              "        0.98947368]),\n",
              " 'std_fit_time': array([1.41754615e-03, 3.51799772e-02, 2.12628147e-05, 8.21880304e-02,\n",
              "        2.02739642e-04, 3.10585852e-02, 2.31222294e-04, 2.32356346e-02,\n",
              "        1.40550128e-04, 1.30187340e-01, 2.28771789e-04, 7.41057334e-02,\n",
              "        1.14655955e-05, 6.27795139e-02, 1.53321417e-04, 2.06813679e-01]),\n",
              " 'std_score_time': array([0.        , 0.00548912, 0.        , 0.00237505, 0.        ,\n",
              "        0.00069654, 0.        , 0.00170908, 0.        , 0.00205014,\n",
              "        0.        , 0.01167135, 0.        , 0.00343073, 0.        ,\n",
              "        0.01009982]),\n",
              " 'std_test_recall': array([       nan, 0.00485877,        nan, 0.01769066,        nan,\n",
              "        0.0194351 ,        nan, 0.0129822 ,        nan, 0.0146797 ,\n",
              "               nan, 0.01959017,        nan, 0.07232279,        nan,\n",
              "        0.0129822 ])}"
            ]
          },
          "metadata": {
            "tags": []
          },
          "execution_count": 67
        }
      ]
    },
    {
      "cell_type": "code",
      "metadata": {
        "id": "zEG6h35LhgFv",
        "colab": {
          "base_uri": "https://localhost:8080/",
          "height": 34
        },
        "outputId": "d0c454b7-1759-400f-d9b8-1cfda698b8b9"
      },
      "source": [
        "grid_result.best_score_"
      ],
      "execution_count": null,
      "outputs": [
        {
          "output_type": "execute_result",
          "data": {
            "text/plain": [
              "0.9860745614035088"
            ]
          },
          "metadata": {
            "tags": []
          },
          "execution_count": 69
        }
      ]
    },
    {
      "cell_type": "code",
      "metadata": {
        "id": "EA7dablMMtMN",
        "colab": {
          "base_uri": "https://localhost:8080/",
          "height": 34
        },
        "outputId": "1d67e7a0-8fd6-4bc9-8486-d149965567a0"
      },
      "source": [
        "grid_result.best_params_"
      ],
      "execution_count": null,
      "outputs": [
        {
          "output_type": "execute_result",
          "data": {
            "text/plain": [
              "{'activation': 'tanh', 'batch_size': 256, 'epochs': 50, 'layers': (30, 15)}"
            ]
          },
          "metadata": {
            "tags": []
          },
          "execution_count": 70
        }
      ]
    },
    {
      "cell_type": "markdown",
      "metadata": {
        "id": "7j-nGgjTM7gz"
      },
      "source": [
        "## Grid Search Final Model"
      ]
    },
    {
      "cell_type": "code",
      "metadata": {
        "id": "BzOGMka8MtIc",
        "colab": {
          "base_uri": "https://localhost:8080/",
          "height": 1000
        },
        "outputId": "5e454926-08f7-4e83-d87f-0ed8fbda0f83"
      },
      "source": [
        "# Set seeds\n",
        "import random\n",
        "import tensorflow as tf\n",
        "import keras.backend as K\n",
        "random.seed(0)\n",
        "np.random.seed(0)\n",
        "# tf.compat.v1.set_random_seed(0)\n",
        "# tf.random.set_random_seed(0)\n",
        "session_conf = tf.compat.v1.ConfigProto(intra_op_parallelism_threads=1, inter_op_parallelism_threads=1)\n",
        "sess = tf.compat.v1.Session(graph=tf.compat.v1.get_default_graph(), config=session_conf)\n",
        "# K.set_session(sess)\n",
        "\n",
        "start = time.time()\n",
        "nn = Sequential()\n",
        "nn.add(Dense(30,input_dim=30,activation='tanh'))\n",
        "nn.add(Dropout(0.3))\n",
        "nn.add(Dense(15,activation='tanh'))\n",
        "nn.add(Dropout(0.3))\n",
        "nn.add(Dense(1, activation='sigmoid'))\n",
        "\n",
        "nn.compile(loss='binary_crossentropy',optimizer='adam')   \n",
        "nn.fit(X_train,y_train, epochs=50,batch_size=256)\n",
        "end = time.time()\n",
        "fit_time = (end - start)"
      ],
      "execution_count": null,
      "outputs": [
        {
          "output_type": "stream",
          "text": [
            "Epoch 1/50\n",
            "455/455 [==============================] - 0s 331us/step - loss: 0.6923\n",
            "Epoch 2/50\n",
            "455/455 [==============================] - 0s 23us/step - loss: 0.6885\n",
            "Epoch 3/50\n",
            "455/455 [==============================] - 0s 19us/step - loss: 0.6840\n",
            "Epoch 4/50\n",
            "455/455 [==============================] - 0s 19us/step - loss: 0.6787\n",
            "Epoch 5/50\n",
            "455/455 [==============================] - 0s 21us/step - loss: 0.6730\n",
            "Epoch 6/50\n",
            "455/455 [==============================] - 0s 18us/step - loss: 0.6670\n",
            "Epoch 7/50\n",
            "455/455 [==============================] - 0s 13us/step - loss: 0.6583\n",
            "Epoch 8/50\n",
            "455/455 [==============================] - 0s 18us/step - loss: 0.6496\n",
            "Epoch 9/50\n",
            "455/455 [==============================] - 0s 20us/step - loss: 0.6419\n",
            "Epoch 10/50\n",
            "455/455 [==============================] - 0s 17us/step - loss: 0.6326\n",
            "Epoch 11/50\n",
            "455/455 [==============================] - 0s 13us/step - loss: 0.6223\n",
            "Epoch 12/50\n",
            "455/455 [==============================] - 0s 21us/step - loss: 0.6087\n",
            "Epoch 13/50\n",
            "455/455 [==============================] - 0s 15us/step - loss: 0.5995\n",
            "Epoch 14/50\n",
            "455/455 [==============================] - 0s 15us/step - loss: 0.5886\n",
            "Epoch 15/50\n",
            "455/455 [==============================] - 0s 15us/step - loss: 0.5785\n",
            "Epoch 16/50\n",
            "455/455 [==============================] - 0s 15us/step - loss: 0.5660\n",
            "Epoch 17/50\n",
            "455/455 [==============================] - 0s 16us/step - loss: 0.5541\n",
            "Epoch 18/50\n",
            "455/455 [==============================] - 0s 19us/step - loss: 0.5381\n",
            "Epoch 19/50\n",
            "455/455 [==============================] - 0s 17us/step - loss: 0.5213\n",
            "Epoch 20/50\n",
            "455/455 [==============================] - 0s 25us/step - loss: 0.5102\n",
            "Epoch 21/50\n",
            "455/455 [==============================] - 0s 18us/step - loss: 0.4994\n",
            "Epoch 22/50\n",
            "455/455 [==============================] - 0s 22us/step - loss: 0.4861\n",
            "Epoch 23/50\n",
            "455/455 [==============================] - 0s 17us/step - loss: 0.4742\n",
            "Epoch 24/50\n",
            "455/455 [==============================] - 0s 18us/step - loss: 0.4624\n",
            "Epoch 25/50\n",
            "455/455 [==============================] - 0s 16us/step - loss: 0.4484\n",
            "Epoch 26/50\n",
            "455/455 [==============================] - 0s 20us/step - loss: 0.4350\n",
            "Epoch 27/50\n",
            "455/455 [==============================] - 0s 16us/step - loss: 0.4267\n",
            "Epoch 28/50\n",
            "455/455 [==============================] - 0s 17us/step - loss: 0.4141\n",
            "Epoch 29/50\n",
            "455/455 [==============================] - 0s 16us/step - loss: 0.4053\n",
            "Epoch 30/50\n",
            "455/455 [==============================] - 0s 17us/step - loss: 0.3908\n",
            "Epoch 31/50\n",
            "455/455 [==============================] - 0s 16us/step - loss: 0.3882\n",
            "Epoch 32/50\n",
            "455/455 [==============================] - 0s 17us/step - loss: 0.3793\n",
            "Epoch 33/50\n",
            "455/455 [==============================] - 0s 17us/step - loss: 0.3625\n",
            "Epoch 34/50\n",
            "455/455 [==============================] - 0s 17us/step - loss: 0.3547\n",
            "Epoch 35/50\n",
            "455/455 [==============================] - 0s 16us/step - loss: 0.3409\n",
            "Epoch 36/50\n",
            "455/455 [==============================] - 0s 34us/step - loss: 0.3370\n",
            "Epoch 37/50\n",
            "455/455 [==============================] - 0s 22us/step - loss: 0.3291\n",
            "Epoch 38/50\n",
            "455/455 [==============================] - 0s 23us/step - loss: 0.3226\n",
            "Epoch 39/50\n",
            "455/455 [==============================] - 0s 22us/step - loss: 0.3162\n",
            "Epoch 40/50\n",
            "455/455 [==============================] - 0s 22us/step - loss: 0.3032\n",
            "Epoch 41/50\n",
            "455/455 [==============================] - 0s 22us/step - loss: 0.2972\n",
            "Epoch 42/50\n",
            "455/455 [==============================] - 0s 20us/step - loss: 0.2935\n",
            "Epoch 43/50\n",
            "455/455 [==============================] - 0s 18us/step - loss: 0.2816\n",
            "Epoch 44/50\n",
            "455/455 [==============================] - 0s 18us/step - loss: 0.2774\n",
            "Epoch 45/50\n",
            "455/455 [==============================] - 0s 18us/step - loss: 0.2674\n",
            "Epoch 46/50\n",
            "455/455 [==============================] - 0s 18us/step - loss: 0.2594\n",
            "Epoch 47/50\n",
            "455/455 [==============================] - 0s 19us/step - loss: 0.2601\n",
            "Epoch 48/50\n",
            "455/455 [==============================] - 0s 19us/step - loss: 0.2537\n",
            "Epoch 49/50\n",
            "455/455 [==============================] - 0s 17us/step - loss: 0.2534\n",
            "Epoch 50/50\n",
            "455/455 [==============================] - 0s 16us/step - loss: 0.2375\n"
          ],
          "name": "stdout"
        }
      ]
    },
    {
      "cell_type": "code",
      "metadata": {
        "id": "BzLdNnilMtDB",
        "colab": {
          "base_uri": "https://localhost:8080/",
          "height": 34
        },
        "outputId": "92a2e346-7ef5-4c29-8e31-28cc9c7e2a63"
      },
      "source": [
        "fit_time"
      ],
      "execution_count": null,
      "outputs": [
        {
          "output_type": "execute_result",
          "data": {
            "text/plain": [
              "1.2431859970092773"
            ]
          },
          "metadata": {
            "tags": []
          },
          "execution_count": 72
        }
      ]
    },
    {
      "cell_type": "markdown",
      "metadata": {
        "id": "YydibsV2SQ-t"
      },
      "source": [
        "## Grid Search Prediction"
      ]
    },
    {
      "cell_type": "code",
      "metadata": {
        "id": "GnHM3PAMMs-a",
        "colab": {
          "base_uri": "https://localhost:8080/",
          "height": 34
        },
        "outputId": "ed2aaa0b-6df8-4604-802d-e8dec7dd392d"
      },
      "source": [
        "start_time = time.time()\n",
        "y_test_predict = nn.predict_classes(X_test)\n",
        "end_time = time.time()\n",
        "predict_time = end_time - start_time\n",
        "predict_time"
      ],
      "execution_count": null,
      "outputs": [
        {
          "output_type": "execute_result",
          "data": {
            "text/plain": [
              "0.05805802345275879"
            ]
          },
          "metadata": {
            "tags": []
          },
          "execution_count": 73
        }
      ]
    },
    {
      "cell_type": "code",
      "metadata": {
        "id": "ZsJHXDRMMs6D"
      },
      "source": [
        "y_test_prob = nn.predict_proba(X_test)"
      ],
      "execution_count": null,
      "outputs": []
    },
    {
      "cell_type": "code",
      "metadata": {
        "id": "k914Y02ESmNF",
        "colab": {
          "base_uri": "https://localhost:8080/",
          "height": 258
        },
        "outputId": "5a415ba5-972c-4f6d-800e-a31056d8270c"
      },
      "source": [
        "testPred = X_test.copy()\n",
        "testPred['y_test'], testPred['y_test_prob'], testPred['y_test_predict']=[y_test,y_test_prob,y_test_predict]\n",
        "testPred.head()"
      ],
      "execution_count": null,
      "outputs": [
        {
          "output_type": "execute_result",
          "data": {
            "text/html": [
              "<div>\n",
              "<style scoped>\n",
              "    .dataframe tbody tr th:only-of-type {\n",
              "        vertical-align: middle;\n",
              "    }\n",
              "\n",
              "    .dataframe tbody tr th {\n",
              "        vertical-align: top;\n",
              "    }\n",
              "\n",
              "    .dataframe thead th {\n",
              "        text-align: right;\n",
              "    }\n",
              "</style>\n",
              "<table border=\"1\" class=\"dataframe\">\n",
              "  <thead>\n",
              "    <tr style=\"text-align: right;\">\n",
              "      <th></th>\n",
              "      <th>area error</th>\n",
              "      <th>compactness error</th>\n",
              "      <th>concave points error</th>\n",
              "      <th>concavity error</th>\n",
              "      <th>fractal dimension error</th>\n",
              "      <th>mean area</th>\n",
              "      <th>mean compactness</th>\n",
              "      <th>mean concave points</th>\n",
              "      <th>mean concavity</th>\n",
              "      <th>mean fractal dimension</th>\n",
              "      <th>mean perimeter</th>\n",
              "      <th>mean radius</th>\n",
              "      <th>mean smoothness</th>\n",
              "      <th>mean symmetry</th>\n",
              "      <th>mean texture</th>\n",
              "      <th>perimeter error</th>\n",
              "      <th>radius error</th>\n",
              "      <th>smoothness error</th>\n",
              "      <th>symmetry error</th>\n",
              "      <th>texture error</th>\n",
              "      <th>worst area</th>\n",
              "      <th>worst compactness</th>\n",
              "      <th>worst concave points</th>\n",
              "      <th>worst concavity</th>\n",
              "      <th>worst fractal dimension</th>\n",
              "      <th>worst perimeter</th>\n",
              "      <th>worst radius</th>\n",
              "      <th>worst smoothness</th>\n",
              "      <th>worst symmetry</th>\n",
              "      <th>worst texture</th>\n",
              "      <th>y_test</th>\n",
              "      <th>y_test_prob</th>\n",
              "      <th>y_test_predict</th>\n",
              "    </tr>\n",
              "  </thead>\n",
              "  <tbody>\n",
              "    <tr>\n",
              "      <th>204</th>\n",
              "      <td>-0.221053</td>\n",
              "      <td>-0.355912</td>\n",
              "      <td>-0.231333</td>\n",
              "      <td>-0.161929</td>\n",
              "      <td>-0.079018</td>\n",
              "      <td>-0.491999</td>\n",
              "      <td>0.027651</td>\n",
              "      <td>-0.276232</td>\n",
              "      <td>-0.109847</td>\n",
              "      <td>0.132176</td>\n",
              "      <td>-0.448110</td>\n",
              "      <td>-0.470694</td>\n",
              "      <td>0.234114</td>\n",
              "      <td>0.413949</td>\n",
              "      <td>-0.160486</td>\n",
              "      <td>-0.182696</td>\n",
              "      <td>-0.032743</td>\n",
              "      <td>-0.029327</td>\n",
              "      <td>-0.329612</td>\n",
              "      <td>-0.313616</td>\n",
              "      <td>-0.356299</td>\n",
              "      <td>-0.104741</td>\n",
              "      <td>-0.199563</td>\n",
              "      <td>-0.024412</td>\n",
              "      <td>0.196958</td>\n",
              "      <td>-0.333935</td>\n",
              "      <td>-0.269040</td>\n",
              "      <td>0.448503</td>\n",
              "      <td>0.183204</td>\n",
              "      <td>-0.168905</td>\n",
              "      <td>1</td>\n",
              "      <td>0.819023</td>\n",
              "      <td>1</td>\n",
              "    </tr>\n",
              "    <tr>\n",
              "      <th>70</th>\n",
              "      <td>1.225780</td>\n",
              "      <td>-0.500666</td>\n",
              "      <td>0.308825</td>\n",
              "      <td>-0.305168</td>\n",
              "      <td>-0.793157</td>\n",
              "      <td>1.351264</td>\n",
              "      <td>-0.027309</td>\n",
              "      <td>0.789060</td>\n",
              "      <td>0.241064</td>\n",
              "      <td>-1.160679</td>\n",
              "      <td>1.302886</td>\n",
              "      <td>1.366877</td>\n",
              "      <td>-0.446227</td>\n",
              "      <td>-0.838325</td>\n",
              "      <td>0.470149</td>\n",
              "      <td>1.296951</td>\n",
              "      <td>1.384594</td>\n",
              "      <td>-0.865695</td>\n",
              "      <td>-0.809083</td>\n",
              "      <td>-0.760851</td>\n",
              "      <td>1.732277</td>\n",
              "      <td>-0.131459</td>\n",
              "      <td>0.978975</td>\n",
              "      <td>-0.016736</td>\n",
              "      <td>-1.000578</td>\n",
              "      <td>1.746605</td>\n",
              "      <td>1.779007</td>\n",
              "      <td>-0.572873</td>\n",
              "      <td>-0.565828</td>\n",
              "      <td>0.147012</td>\n",
              "      <td>0</td>\n",
              "      <td>0.184614</td>\n",
              "      <td>0</td>\n",
              "    </tr>\n",
              "    <tr>\n",
              "      <th>131</th>\n",
              "      <td>0.175418</td>\n",
              "      <td>-0.594561</td>\n",
              "      <td>-0.140496</td>\n",
              "      <td>-0.124794</td>\n",
              "      <td>-0.504551</td>\n",
              "      <td>0.267377</td>\n",
              "      <td>0.340350</td>\n",
              "      <td>0.824140</td>\n",
              "      <td>0.725686</td>\n",
              "      <td>-0.685782</td>\n",
              "      <td>0.400820</td>\n",
              "      <td>0.378508</td>\n",
              "      <td>0.913744</td>\n",
              "      <td>0.435855</td>\n",
              "      <td>0.044296</td>\n",
              "      <td>0.112838</td>\n",
              "      <td>0.249497</td>\n",
              "      <td>-0.267004</td>\n",
              "      <td>-0.795764</td>\n",
              "      <td>-0.781898</td>\n",
              "      <td>0.484159</td>\n",
              "      <td>-0.094562</td>\n",
              "      <td>0.560244</td>\n",
              "      <td>0.512911</td>\n",
              "      <td>-0.208132</td>\n",
              "      <td>0.525386</td>\n",
              "      <td>0.619345</td>\n",
              "      <td>0.974533</td>\n",
              "      <td>-0.103143</td>\n",
              "      <td>0.052562</td>\n",
              "      <td>0</td>\n",
              "      <td>0.187819</td>\n",
              "      <td>0</td>\n",
              "    </tr>\n",
              "    <tr>\n",
              "      <th>431</th>\n",
              "      <td>-0.547998</td>\n",
              "      <td>0.417599</td>\n",
              "      <td>-0.020461</td>\n",
              "      <td>0.554262</td>\n",
              "      <td>0.835972</td>\n",
              "      <td>-0.532101</td>\n",
              "      <td>0.516599</td>\n",
              "      <td>-0.539846</td>\n",
              "      <td>-0.142993</td>\n",
              "      <td>1.165609</td>\n",
              "      <td>-0.432457</td>\n",
              "      <td>-0.490575</td>\n",
              "      <td>0.643316</td>\n",
              "      <td>-0.002259</td>\n",
              "      <td>-0.374576</td>\n",
              "      <td>-0.327740</td>\n",
              "      <td>-0.824604</td>\n",
              "      <td>0.986380</td>\n",
              "      <td>0.160756</td>\n",
              "      <td>0.441152</td>\n",
              "      <td>-0.641257</td>\n",
              "      <td>0.054930</td>\n",
              "      <td>-0.622863</td>\n",
              "      <td>-0.152986</td>\n",
              "      <td>0.534440</td>\n",
              "      <td>-0.525756</td>\n",
              "      <td>-0.701842</td>\n",
              "      <td>0.553709</td>\n",
              "      <td>-0.557739</td>\n",
              "      <td>-0.450625</td>\n",
              "      <td>1</td>\n",
              "      <td>0.837161</td>\n",
              "      <td>1</td>\n",
              "    </tr>\n",
              "    <tr>\n",
              "      <th>540</th>\n",
              "      <td>-0.428529</td>\n",
              "      <td>0.874216</td>\n",
              "      <td>0.509965</td>\n",
              "      <td>0.783709</td>\n",
              "      <td>0.649494</td>\n",
              "      <td>-0.716683</td>\n",
              "      <td>0.145150</td>\n",
              "      <td>-0.592724</td>\n",
              "      <td>-0.269044</td>\n",
              "      <td>0.711976</td>\n",
              "      <td>-0.713374</td>\n",
              "      <td>-0.734828</td>\n",
              "      <td>0.247636</td>\n",
              "      <td>0.023298</td>\n",
              "      <td>-1.128546</td>\n",
              "      <td>-0.612877</td>\n",
              "      <td>-0.457547</td>\n",
              "      <td>1.703076</td>\n",
              "      <td>-0.259386</td>\n",
              "      <td>0.999969</td>\n",
              "      <td>-0.743216</td>\n",
              "      <td>-0.270137</td>\n",
              "      <td>-0.691687</td>\n",
              "      <td>-0.443716</td>\n",
              "      <td>-0.144403</td>\n",
              "      <td>-0.848337</td>\n",
              "      <td>-0.830233</td>\n",
              "      <td>0.093432</td>\n",
              "      <td>-0.924975</td>\n",
              "      <td>-0.976611</td>\n",
              "      <td>1</td>\n",
              "      <td>0.837691</td>\n",
              "      <td>1</td>\n",
              "    </tr>\n",
              "  </tbody>\n",
              "</table>\n",
              "</div>"
            ],
            "text/plain": [
              "     area error  compactness error  ...  y_test_prob  y_test_predict\n",
              "204   -0.221053          -0.355912  ...     0.819023               1\n",
              "70     1.225780          -0.500666  ...     0.184614               0\n",
              "131    0.175418          -0.594561  ...     0.187819               0\n",
              "431   -0.547998           0.417599  ...     0.837161               1\n",
              "540   -0.428529           0.874216  ...     0.837691               1\n",
              "\n",
              "[5 rows x 33 columns]"
            ]
          },
          "metadata": {
            "tags": []
          },
          "execution_count": 75
        }
      ]
    },
    {
      "cell_type": "code",
      "metadata": {
        "id": "QLChrkKbSmIN",
        "colab": {
          "base_uri": "https://localhost:8080/",
          "height": 170
        },
        "outputId": "25d85e0e-1b8b-4a01-b4f1-debb0c3ac4fc"
      },
      "source": [
        "testPred['y_test_prob'].describe()"
      ],
      "execution_count": null,
      "outputs": [
        {
          "output_type": "execute_result",
          "data": {
            "text/plain": [
              "count    114.000000\n",
              "mean       0.590895\n",
              "std        0.303237\n",
              "min        0.184212\n",
              "25%        0.187479\n",
              "50%        0.824869\n",
              "75%        0.836736\n",
              "max        0.838044\n",
              "Name: y_test_prob, dtype: float64"
            ]
          },
          "metadata": {
            "tags": []
          },
          "execution_count": 76
        }
      ]
    },
    {
      "cell_type": "markdown",
      "metadata": {
        "id": "0Ya_sdrJTTYh"
      },
      "source": [
        "## Grid Search Model Performance"
      ]
    },
    {
      "cell_type": "code",
      "metadata": {
        "id": "Vmzh5trSSmC9",
        "colab": {
          "base_uri": "https://localhost:8080/",
          "height": 265
        },
        "outputId": "4f2902b3-9b18-4e90-f392-a6f77b26d1f4"
      },
      "source": [
        "#ROC/AUC Curve\n",
        "import matplotlib.pyplot as plt\n",
        "%matplotlib inline\n",
        "from sklearn import metrics\n",
        "# y_test_prob=et_gs.predict_proba(X_test)[:,1]\n",
        "fpr,tpr, _=metrics.roc_curve(y_test,y_test_prob)\n",
        "auc=metrics.roc_auc_score(y_test,y_test_prob)\n",
        "plt.plot(fpr,tpr,label=\"area=\"+str(auc))\n",
        "plt.legend(loc=4)\n",
        "plt.show()"
      ],
      "execution_count": null,
      "outputs": [
        {
          "output_type": "display_data",
          "data": {
            "image/png": "[encoded data removed]",
            "text/plain": [
              "<Figure size 432x288 with 1 Axes>"
            ]
          },
          "metadata": {
            "tags": [],
            "needs_background": "light"
          }
        }
      ]
    },
    {
      "cell_type": "code",
      "metadata": {
        "id": "uh5x-NQMSl92",
        "colab": {
          "base_uri": "https://localhost:8080/",
          "height": 34
        },
        "outputId": "761ad005-84e7-464c-97f8-904f625cb0dc"
      },
      "source": [
        "from sklearn.metrics import confusion_matrix, log_loss\n",
        "log_loss(y_test,y_test_prob)"
      ],
      "execution_count": null,
      "outputs": [
        {
          "output_type": "execute_result",
          "data": {
            "text/plain": [
              "0.22825900504463598"
            ]
          },
          "metadata": {
            "tags": []
          },
          "execution_count": 78
        }
      ]
    },
    {
      "cell_type": "code",
      "metadata": {
        "id": "WCXRTz8nTkoV",
        "colab": {
          "base_uri": "https://localhost:8080/",
          "height": 68
        },
        "outputId": "f7856517-dcc8-4208-ab3a-b65255c7e4c9"
      },
      "source": [
        "cm = confusion_matrix(y_test, y_test_predict)\n",
        "cmtx = pd.DataFrame(cm, index=['true:no', 'true:yes'], columns=['pred:no', 'pred:yes'])\n",
        "print(cmtx)"
      ],
      "execution_count": null,
      "outputs": [
        {
          "output_type": "stream",
          "text": [
            "          pred:no  pred:yes\n",
            "true:no        41         2\n",
            "true:yes        1        70\n"
          ],
          "name": "stdout"
        }
      ]
    },
    {
      "cell_type": "code",
      "metadata": {
        "id": "ieDl27rDTkba",
        "colab": {
          "base_uri": "https://localhost:8080/",
          "height": 170
        },
        "outputId": "8afc96b7-f9ed-43f9-ed4f-fd89a00e4374"
      },
      "source": [
        "from sklearn.metrics import classification_report\n",
        "print(classification_report(y_test, y_test_predict))"
      ],
      "execution_count": null,
      "outputs": [
        {
          "output_type": "stream",
          "text": [
            "              precision    recall  f1-score   support\n",
            "\n",
            "           0       0.98      0.95      0.96        43\n",
            "           1       0.97      0.99      0.98        71\n",
            "\n",
            "    accuracy                           0.97       114\n",
            "   macro avg       0.97      0.97      0.97       114\n",
            "weighted avg       0.97      0.97      0.97       114\n",
            "\n"
          ],
          "name": "stdout"
        }
      ]
    },
    {
      "cell_type": "markdown",
      "metadata": {
        "id": "8s8maPDtTusO"
      },
      "source": [
        "## Grid Search Prediction Distribution"
      ]
    },
    {
      "cell_type": "code",
      "metadata": {
        "id": "WSTnhjLpSl6E",
        "colab": {
          "base_uri": "https://localhost:8080/",
          "height": 282
        },
        "outputId": "5d3495d3-a6ca-469a-b2ac-465474e2b620"
      },
      "source": [
        "# Plot the predicted probability distribution\n",
        "sns.distplot(y_test_prob, label='Predicted Probability', kde=False)"
      ],
      "execution_count": null,
      "outputs": [
        {
          "output_type": "execute_result",
          "data": {
            "text/plain": [
              "<matplotlib.axes._subplots.AxesSubplot at 0x7fa7c85e2160>"
            ]
          },
          "metadata": {
            "tags": []
          },
          "execution_count": 81
        },
        {
          "output_type": "display_data",
          "data": {
            "image/png": "[encoded data removed]",
            "text/plain": [
              "<Figure size 432x288 with 1 Axes>"
            ]
          },
          "metadata": {
            "tags": [],
            "needs_background": "light"
          }
        }
      ]
    },
    {
      "cell_type": "code",
      "metadata": {
        "id": "YniDpijBT9wD",
        "colab": {
          "base_uri": "https://localhost:8080/",
          "height": 281
        },
        "outputId": "35522249-8755-4293-c1bf-0410d2163208"
      },
      "source": [
        "# this is to plot the kde by label\n",
        "sns.kdeplot(testPred[testPred['y_test']==1]['y_test_prob'],label='traffic_keyword=1');\n",
        "sns.kdeplot(testPred[testPred['y_test']==0]['y_test_prob'],label='traffic_keyword=0');\n",
        "\n",
        "# add labels\n",
        "plt.xlabel('Predicted Probability')\n",
        "plt.ylabel('Density')\n",
        "plt.show()"
      ],
      "execution_count": null,
      "outputs": [
        {
          "output_type": "display_data",
          "data": {
            "image/png": "[encoded data removed]",
            "text/plain": [
              "<Figure size 432x288 with 1 Axes>"
            ]
          },
          "metadata": {
            "tags": [],
            "needs_background": "light"
          }
        }
      ]
    },
    {
      "cell_type": "code",
      "metadata": {
        "id": "NJP94Y0zT9id",
        "colab": {
          "base_uri": "https://localhost:8080/",
          "height": 279
        },
        "outputId": "cfd53683-462d-4c01-e4ed-49a2fd78f37d"
      },
      "source": [
        "# this is to plot the kde by label\n",
        "sns.distplot(testPred[testPred['y_test']==1]['y_test_prob'],label='traffic_keyword=1', kde=False);\n",
        "sns.distplot(testPred[testPred['y_test']==0]['y_test_prob'],label='traffic_keyword=0', kde=False);\n",
        "\n",
        "# add labels\n",
        "plt.xlabel('Predicted Probability')\n",
        "plt.ylabel('Frequency')\n",
        "plt.show()"
      ],
      "execution_count": null,
      "outputs": [
        {
          "output_type": "display_data",
          "data": {
            "image/png": "[encoded data removed]",
            "text/plain": [
              "<Figure size 432x288 with 1 Axes>"
            ]
          },
          "metadata": {
            "tags": [],
            "needs_background": "light"
          }
        }
      ]
    },
    {
      "cell_type": "markdown",
      "metadata": {
        "id": "Iu3iXnyp95OJ"
      },
      "source": [
        "## Random Search Cross Validation"
      ]
    },
    {
      "cell_type": "code",
      "metadata": {
        "id": "LAN3Vbcn9-9s",
        "colab": {
          "base_uri": "https://localhost:8080/",
          "height": 255
        },
        "outputId": "152fbde6-eb02-4958-edd1-3bf1b0f315e3"
      },
      "source": [
        "layers = [(30), (30, 15), (30, 15, 7), (30, 15, 7, 3)]# Need to use tuple instead of list because of a bug related to nested list with Keras. https://datascience.stackexchange.com/questions/66341/cannot-clone-object-keras-wrappers-scikit-learn-kerasregressor-object-at-0x7fdc\n",
        "activations = ['tanh', 'relu']\n",
        "kernel_initializer = ['uniform', 'lecun_uniform', 'normal', 'zero', 'glorot_normal', 'glorot_uniform', 'he_normal', 'he_uniform']\n",
        "optimizer = ['Adam', 'Adamax', 'Nadam']\n",
        "# Glorot normal initializer, also called Xavier normal initializer.\n",
        "# It draws samples from a truncated normal distribution centered on 0 with stddev = sqrt(2 / (fan_in + fan_out)) where fan_in is the number of input units in the weight tensor and fan_out is the number of output units in the weight tensor.\n",
        "batch_size = [16, 32, 64, 128, 256, 512, 1024]\n",
        "epochs=[50, 100, 150]\n",
        "dropout=[0.0, 0.1, 0.2, 0.3, 0.4]\n",
        "param_grid = dict(layers=layers, activation=activations, kernel_initializer=kernel_initializer, optimizer=optimizer, batch_size = batch_size, epochs=epochs, dropout=dropout)\n",
        "param_grid"
      ],
      "execution_count": null,
      "outputs": [
        {
          "output_type": "execute_result",
          "data": {
            "text/plain": [
              "{'activation': ['tanh', 'relu'],\n",
              " 'batch_size': [16, 32, 64, 128, 256, 512, 1024],\n",
              " 'dropout': [0.0, 0.1, 0.2, 0.3, 0.4],\n",
              " 'epochs': [50, 100, 150],\n",
              " 'kernel_initializer': ['uniform',\n",
              "  'lecun_uniform',\n",
              "  'normal',\n",
              "  'zero',\n",
              "  'glorot_normal',\n",
              "  'glorot_uniform',\n",
              "  'he_normal',\n",
              "  'he_uniform'],\n",
              " 'layers': [30, (30, 15), (30, 15, 7), (30, 15, 7, 3)],\n",
              " 'optimizer': ['Adam', 'Adamax', 'Nadam']}"
            ]
          },
          "metadata": {
            "tags": []
          },
          "execution_count": 21
        }
      ]
    },
    {
      "cell_type": "code",
      "metadata": {
        "id": "-wpQKaRI-wv2"
      },
      "source": [
        "scoring = ['recall']"
      ],
      "execution_count": null,
      "outputs": []
    },
    {
      "cell_type": "code",
      "metadata": {
        "id": "gfyLvbxz-wrh"
      },
      "source": [
        "kfold = StratifiedKFold(n_splits=3, shuffle=True)"
      ],
      "execution_count": null,
      "outputs": []
    },
    {
      "cell_type": "code",
      "metadata": {
        "id": "NWz8v-pP-wnU",
        "colab": {
          "base_uri": "https://localhost:8080/",
          "height": 34
        },
        "outputId": "a4cc5a54-91dd-491c-e47e-97b86f9226ee"
      },
      "source": [
        "l = enumerate(layers)\n",
        "print(list(l))"
      ],
      "execution_count": null,
      "outputs": [
        {
          "output_type": "stream",
          "text": [
            "[(0, 30), (1, (30, 15)), (2, (30, 15, 7)), (3, (30, 15, 7, 3))]\n"
          ],
          "name": "stdout"
        }
      ]
    },
    {
      "cell_type": "code",
      "metadata": {
        "id": "z1GSCeyQ-wjk"
      },
      "source": [
        "def create_model(layers, activation='relu', batch_size=32, epochs=50, dropout=0.2, kernel_initializer='normal', optimizer = 'adam'):\n",
        "    # Add seed later\n",
        "    model = Sequential()\n",
        "    for i, nodes in enumerate(layers):\n",
        "        if i==0:\n",
        "            model.add(Dense(nodes,kernel_initializer=kernel_initializer, input_dim=X_train.shape[1]))\n",
        "            model.add(Activation(activation))\n",
        "            model.add(Dropout(dropout))\n",
        "        else:\n",
        "            model.add(Dense(nodes,kernel_initializer=kernel_initializer))\n",
        "            model.add(Activation(activation))\n",
        "            model.add(Dropout(dropout))\n",
        "            \n",
        "    model.add(Dense(units = 1, activation = 'sigmoid')) # Note: no activation beyond this point\n",
        "    \n",
        "    model.compile(loss='binary_crossentropy',optimizer=optimizer,metrics=['accuracy'])\n",
        "    return model"
      ],
      "execution_count": null,
      "outputs": []
    },
    {
      "cell_type": "code",
      "metadata": {
        "id": "zTqxMzNr-wfa",
        "colab": {
          "base_uri": "https://localhost:8080/",
          "height": 68
        },
        "outputId": "bc8794a0-304a-47ef-c28d-025767416580"
      },
      "source": [
        "# Set seeds\n",
        "import random\n",
        "import tensorflow as tf\n",
        "import keras.backend as K\n",
        "random.seed(0)\n",
        "np.random.seed(0)\n",
        "# tf.compat.v1.set_random_seed(0)\n",
        "# tf.random.set_random_seed(0)\n",
        "session_conf = tf.compat.v1.ConfigProto(intra_op_parallelism_threads=1, inter_op_parallelism_threads=1)\n",
        "sess = tf.compat.v1.Session(graph=tf.compat.v1.get_default_graph(), config=session_conf)\n",
        "# K.set_session(sess)\n",
        "\n",
        "# Change function to estimator\n",
        "model = KerasClassifier(build_fn=create_model, verbose=0)\n",
        "\n",
        "random_search = RandomizedSearchCV(model, param_grid, scoring=scoring, refit='recall', n_jobs=-1, cv=kfold, verbose=1)\n",
        "\n",
        "random_result = random_search.fit(X_train, y_train)"
      ],
      "execution_count": null,
      "outputs": [
        {
          "output_type": "stream",
          "text": [
            "Fitting 3 folds for each of 10 candidates, totalling 30 fits\n"
          ],
          "name": "stdout"
        },
        {
          "output_type": "stream",
          "text": [
            "[Parallel(n_jobs=-1)]: Using backend LokyBackend with 2 concurrent workers.\n",
            "[Parallel(n_jobs=-1)]: Done  30 out of  30 | elapsed:   37.0s finished\n"
          ],
          "name": "stderr"
        }
      ]
    },
    {
      "cell_type": "code",
      "metadata": {
        "id": "s-68C25v-wbc",
        "colab": {
          "base_uri": "https://localhost:8080/",
          "height": 391
        },
        "outputId": "3673f8b8-f35e-4051-86e9-d0339f03c6b2"
      },
      "source": [
        "random_result"
      ],
      "execution_count": null,
      "outputs": [
        {
          "output_type": "execute_result",
          "data": {
            "text/plain": [
              "RandomizedSearchCV(cv=StratifiedKFold(n_splits=3, random_state=None, shuffle=True),\n",
              "                   error_score=nan,\n",
              "                   estimator=<keras.wrappers.scikit_learn.KerasClassifier object at 0x7fa7d13a8f28>,\n",
              "                   iid='deprecated', n_iter=10, n_jobs=-1,\n",
              "                   param_distributions={'activation': ['tanh', 'relu'],\n",
              "                                        'batch_size': [16, 32, 64, 128, 256,\n",
              "                                                       512, 1024],\n",
              "                                        'dropout': [0.0, 0.1, 0.2, 0.3, 0.4],\n",
              "                                        'epochs': [50, 100, 150],\n",
              "                                        'kernel_initializer': ['uniform',\n",
              "                                                               'lecun_uniform',\n",
              "                                                               'normal', 'zero',\n",
              "                                                               'glorot_normal',\n",
              "                                                               'glorot_uniform',\n",
              "                                                               'he_normal',\n",
              "                                                               'he_uniform'],\n",
              "                                        'layers': [30, (30, 15), (30, 15, 7),\n",
              "                                                   (30, 15, 7, 3)],\n",
              "                                        'optimizer': ['Adam', 'Adamax',\n",
              "                                                      'Nadam']},\n",
              "                   pre_dispatch='2*n_jobs', random_state=None, refit='recall',\n",
              "                   return_train_score=False, scoring=['recall'], verbose=1)"
            ]
          },
          "metadata": {
            "tags": []
          },
          "execution_count": 40
        }
      ]
    },
    {
      "cell_type": "code",
      "metadata": {
        "id": "Zq_0Xckr-wXD",
        "colab": {
          "base_uri": "https://localhost:8080/",
          "height": 1000
        },
        "outputId": "158c8339-a320-43b7-f148-33f235b4dff8"
      },
      "source": [
        "random_result.cv_results_"
      ],
      "execution_count": null,
      "outputs": [
        {
          "output_type": "execute_result",
          "data": {
            "text/plain": [
              "{'mean_fit_time': array([3.78247627, 6.00837509, 1.61261201, 1.11561497, 1.71611245,\n",
              "        1.75621144, 1.33307648, 2.33495267, 2.12752716, 1.63257154]),\n",
              " 'mean_score_time': array([0.08262761, 0.09238728, 0.05707057, 0.06044046, 0.04833428,\n",
              "        0.08923046, 0.05669896, 0.10359367, 0.0965116 , 0.05684217]),\n",
              " 'mean_test_recall': array([1.        , 1.        , 0.98249269, 0.9755117 , 0.98600146,\n",
              "        0.9755117 , 0.98600146, 0.98249269, 0.97905702, 0.97902047]),\n",
              " 'param_activation': masked_array(data=['tanh', 'relu', 'tanh', 'relu', 'relu', 'tanh', 'relu',\n",
              "                    'relu', 'relu', 'relu'],\n",
              "              mask=[False, False, False, False, False, False, False, False,\n",
              "                    False, False],\n",
              "        fill_value='?',\n",
              "             dtype=object),\n",
              " 'param_batch_size': masked_array(data=[32, 16, 1024, 1024, 64, 1024, 64, 128, 128, 128],\n",
              "              mask=[False, False, False, False, False, False, False, False,\n",
              "                    False, False],\n",
              "        fill_value='?',\n",
              "             dtype=object),\n",
              " 'param_dropout': masked_array(data=[0.4, 0.2, 0.4, 0.3, 0.0, 0.2, 0.4, 0.1, 0.3, 0.4],\n",
              "              mask=[False, False, False, False, False, False, False, False,\n",
              "                    False, False],\n",
              "        fill_value='?',\n",
              "             dtype=object),\n",
              " 'param_epochs': masked_array(data=[100, 100, 50, 50, 100, 50, 50, 150, 100, 150],\n",
              "              mask=[False, False, False, False, False, False, False, False,\n",
              "                    False, False],\n",
              "        fill_value='?',\n",
              "             dtype=object),\n",
              " 'param_kernel_initializer': masked_array(data=['zero', 'zero', 'glorot_normal', 'glorot_uniform',\n",
              "                    'glorot_uniform', 'uniform', 'uniform',\n",
              "                    'glorot_normal', 'glorot_uniform', 'he_uniform'],\n",
              "              mask=[False, False, False, False, False, False, False, False,\n",
              "                    False, False],\n",
              "        fill_value='?',\n",
              "             dtype=object),\n",
              " 'param_layers': masked_array(data=[(30, 15, 7), (30, 15, 7, 3), (30, 15), (30, 15),\n",
              "                    (30, 15, 7), (30, 15, 7, 3), (30, 15), (30, 15, 7),\n",
              "                    (30, 15, 7, 3), (30, 15)],\n",
              "              mask=[False, False, False, False, False, False, False, False,\n",
              "                    False, False],\n",
              "        fill_value='?',\n",
              "             dtype=object),\n",
              " 'param_optimizer': masked_array(data=['Nadam', 'Nadam', 'Nadam', 'Adamax', 'Adamax', 'Adam',\n",
              "                    'Adamax', 'Adamax', 'Adamax', 'Adamax'],\n",
              "              mask=[False, False, False, False, False, False, False, False,\n",
              "                    False, False],\n",
              "        fill_value='?',\n",
              "             dtype=object),\n",
              " 'params': [{'activation': 'tanh',\n",
              "   'batch_size': 32,\n",
              "   'dropout': 0.4,\n",
              "   'epochs': 100,\n",
              "   'kernel_initializer': 'zero',\n",
              "   'layers': (30, 15, 7),\n",
              "   'optimizer': 'Nadam'},\n",
              "  {'activation': 'relu',\n",
              "   'batch_size': 16,\n",
              "   'dropout': 0.2,\n",
              "   'epochs': 100,\n",
              "   'kernel_initializer': 'zero',\n",
              "   'layers': (30, 15, 7, 3),\n",
              "   'optimizer': 'Nadam'},\n",
              "  {'activation': 'tanh',\n",
              "   'batch_size': 1024,\n",
              "   'dropout': 0.4,\n",
              "   'epochs': 50,\n",
              "   'kernel_initializer': 'glorot_normal',\n",
              "   'layers': (30, 15),\n",
              "   'optimizer': 'Nadam'},\n",
              "  {'activation': 'relu',\n",
              "   'batch_size': 1024,\n",
              "   'dropout': 0.3,\n",
              "   'epochs': 50,\n",
              "   'kernel_initializer': 'glorot_uniform',\n",
              "   'layers': (30, 15),\n",
              "   'optimizer': 'Adamax'},\n",
              "  {'activation': 'relu',\n",
              "   'batch_size': 64,\n",
              "   'dropout': 0.0,\n",
              "   'epochs': 100,\n",
              "   'kernel_initializer': 'glorot_uniform',\n",
              "   'layers': (30, 15, 7),\n",
              "   'optimizer': 'Adamax'},\n",
              "  {'activation': 'tanh',\n",
              "   'batch_size': 1024,\n",
              "   'dropout': 0.2,\n",
              "   'epochs': 50,\n",
              "   'kernel_initializer': 'uniform',\n",
              "   'layers': (30, 15, 7, 3),\n",
              "   'optimizer': 'Adam'},\n",
              "  {'activation': 'relu',\n",
              "   'batch_size': 64,\n",
              "   'dropout': 0.4,\n",
              "   'epochs': 50,\n",
              "   'kernel_initializer': 'uniform',\n",
              "   'layers': (30, 15),\n",
              "   'optimizer': 'Adamax'},\n",
              "  {'activation': 'relu',\n",
              "   'batch_size': 128,\n",
              "   'dropout': 0.1,\n",
              "   'epochs': 150,\n",
              "   'kernel_initializer': 'glorot_normal',\n",
              "   'layers': (30, 15, 7),\n",
              "   'optimizer': 'Adamax'},\n",
              "  {'activation': 'relu',\n",
              "   'batch_size': 128,\n",
              "   'dropout': 0.3,\n",
              "   'epochs': 100,\n",
              "   'kernel_initializer': 'glorot_uniform',\n",
              "   'layers': (30, 15, 7, 3),\n",
              "   'optimizer': 'Adamax'},\n",
              "  {'activation': 'relu',\n",
              "   'batch_size': 128,\n",
              "   'dropout': 0.4,\n",
              "   'epochs': 150,\n",
              "   'kernel_initializer': 'he_uniform',\n",
              "   'layers': (30, 15),\n",
              "   'optimizer': 'Adamax'}],\n",
              " 'rank_test_recall': array([ 1,  1,  5,  9,  3, 10,  3,  5,  7,  8], dtype=int32),\n",
              " 'split0_test_recall': array([1.        , 1.        , 0.98958333, 0.97916667, 0.98958333,\n",
              "        0.97916667, 0.98958333, 0.98958333, 0.96875   , 0.97916667]),\n",
              " 'split1_test_recall': array([1.        , 1.        , 0.96842105, 0.96842105, 0.97894737,\n",
              "        0.95789474, 0.97894737, 0.97894737, 0.97894737, 0.97894737]),\n",
              " 'split2_test_recall': array([1.        , 1.        , 0.98947368, 0.97894737, 0.98947368,\n",
              "        0.98947368, 0.98947368, 0.97894737, 0.98947368, 0.97894737]),\n",
              " 'std_fit_time': array([0.21557144, 0.20324701, 0.22449828, 0.11218252, 0.05111248,\n",
              "        0.04013515, 0.00908796, 0.23233471, 0.0285159 , 0.30123861]),\n",
              " 'std_score_time': array([0.00082494, 0.00600576, 0.00238193, 0.00267305, 0.00131266,\n",
              "        0.00415573, 0.00079434, 0.03580731, 0.00376795, 0.0114744 ]),\n",
              " 'std_test_recall': array([0.        , 0.        , 0.00995025, 0.00501464, 0.0049882 ,\n",
              "        0.01314855, 0.0049882 , 0.00501384, 0.00846076, 0.00010338])}"
            ]
          },
          "metadata": {
            "tags": []
          },
          "execution_count": 41
        }
      ]
    },
    {
      "cell_type": "code",
      "metadata": {
        "id": "SNqFvI5c-wTC",
        "colab": {
          "base_uri": "https://localhost:8080/",
          "height": 34
        },
        "outputId": "75c31d08-32e4-44e3-dad4-05db494c161e"
      },
      "source": [
        "random_result.best_score_"
      ],
      "execution_count": null,
      "outputs": [
        {
          "output_type": "execute_result",
          "data": {
            "text/plain": [
              "1.0"
            ]
          },
          "metadata": {
            "tags": []
          },
          "execution_count": 42
        }
      ]
    },
    {
      "cell_type": "code",
      "metadata": {
        "id": "E7C6_hxd-wO5",
        "colab": {
          "base_uri": "https://localhost:8080/",
          "height": 136
        },
        "outputId": "7cdef521-cf0d-4a3c-93cd-d1791945b7ef"
      },
      "source": [
        "random_result.best_params_"
      ],
      "execution_count": null,
      "outputs": [
        {
          "output_type": "execute_result",
          "data": {
            "text/plain": [
              "{'activation': 'tanh',\n",
              " 'batch_size': 32,\n",
              " 'dropout': 0.4,\n",
              " 'epochs': 100,\n",
              " 'kernel_initializer': 'zero',\n",
              " 'layers': (30, 15, 7),\n",
              " 'optimizer': 'Nadam'}"
            ]
          },
          "metadata": {
            "tags": []
          },
          "execution_count": 43
        }
      ]
    },
    {
      "cell_type": "markdown",
      "metadata": {
        "id": "hA8vhA3zDrOJ"
      },
      "source": [
        "## Random Search Final Model"
      ]
    },
    {
      "cell_type": "code",
      "metadata": {
        "id": "MOtgFbf0-wK7",
        "colab": {
          "base_uri": "https://localhost:8080/",
          "height": 1000
        },
        "outputId": "d7d3df09-ebe1-4077-c334-ba199acca1b4"
      },
      "source": [
        "# Set seeds\n",
        "import random\n",
        "import tensorflow as tf\n",
        "import keras.backend as K\n",
        "random.seed(0)\n",
        "np.random.seed(0)\n",
        "# tf.compat.v1.set_random_seed(0)\n",
        "# tf.random.set_random_seed(0)\n",
        "session_conf = tf.compat.v1.ConfigProto(intra_op_parallelism_threads=1, inter_op_parallelism_threads=1)\n",
        "sess = tf.compat.v1.Session(graph=tf.compat.v1.get_default_graph(), config=session_conf)\n",
        "# K.set_session(sess)\n",
        "\n",
        "start = time.time()\n",
        "nn = Sequential()\n",
        "nn.add(Dense(30,input_dim=30,activation='tanh'))\n",
        "nn.add(Dropout(0.4))\n",
        "nn.add(Dense(15,activation='tanh'))\n",
        "nn.add(Dropout(0.4))\n",
        "nn.add(Dense(7,activation='tanh'))\n",
        "nn.add(Dropout(0.4))\n",
        "nn.add(Dense(1,kernel_initializer= 'zero', activation='sigmoid'))\n",
        "\n",
        "nn.compile(loss='binary_crossentropy',optimizer='Nadam')   \n",
        "nn.fit(X_train,y_train, epochs=100,batch_size=32)\n",
        "end = time.time()\n",
        "fit_time = (end - start)"
      ],
      "execution_count": null,
      "outputs": [
        {
          "output_type": "stream",
          "text": [
            "Epoch 1/100\n",
            "455/455 [==============================] - 0s 490us/step - loss: 0.6793\n",
            "Epoch 2/100\n",
            "455/455 [==============================] - 0s 51us/step - loss: 0.6082\n",
            "Epoch 3/100\n",
            "455/455 [==============================] - 0s 51us/step - loss: 0.5193\n",
            "Epoch 4/100\n",
            "455/455 [==============================] - 0s 49us/step - loss: 0.4367\n",
            "Epoch 5/100\n",
            "455/455 [==============================] - 0s 53us/step - loss: 0.3588\n",
            "Epoch 6/100\n",
            "455/455 [==============================] - 0s 53us/step - loss: 0.3076\n",
            "Epoch 7/100\n",
            "455/455 [==============================] - 0s 55us/step - loss: 0.2864\n",
            "Epoch 8/100\n",
            "455/455 [==============================] - 0s 50us/step - loss: 0.2459\n",
            "Epoch 9/100\n",
            "455/455 [==============================] - 0s 51us/step - loss: 0.2270\n",
            "Epoch 10/100\n",
            "455/455 [==============================] - 0s 66us/step - loss: 0.2149\n",
            "Epoch 11/100\n",
            "455/455 [==============================] - 0s 58us/step - loss: 0.1908\n",
            "Epoch 12/100\n",
            "455/455 [==============================] - 0s 59us/step - loss: 0.1791\n",
            "Epoch 13/100\n",
            "455/455 [==============================] - 0s 57us/step - loss: 0.1717\n",
            "Epoch 14/100\n",
            "455/455 [==============================] - 0s 66us/step - loss: 0.1623\n",
            "Epoch 15/100\n",
            "455/455 [==============================] - 0s 52us/step - loss: 0.1666\n",
            "Epoch 16/100\n",
            "455/455 [==============================] - 0s 54us/step - loss: 0.1446\n",
            "Epoch 17/100\n",
            "455/455 [==============================] - 0s 55us/step - loss: 0.1493\n",
            "Epoch 18/100\n",
            "455/455 [==============================] - 0s 63us/step - loss: 0.1242\n",
            "Epoch 19/100\n",
            "455/455 [==============================] - 0s 54us/step - loss: 0.1258\n",
            "Epoch 20/100\n",
            "455/455 [==============================] - 0s 54us/step - loss: 0.1302\n",
            "Epoch 21/100\n",
            "455/455 [==============================] - 0s 64us/step - loss: 0.1131\n",
            "Epoch 22/100\n",
            "455/455 [==============================] - 0s 63us/step - loss: 0.1170\n",
            "Epoch 23/100\n",
            "455/455 [==============================] - 0s 55us/step - loss: 0.1209\n",
            "Epoch 24/100\n",
            "455/455 [==============================] - 0s 55us/step - loss: 0.1103\n",
            "Epoch 25/100\n",
            "455/455 [==============================] - 0s 56us/step - loss: 0.1118\n",
            "Epoch 26/100\n",
            "455/455 [==============================] - 0s 57us/step - loss: 0.0963\n",
            "Epoch 27/100\n",
            "455/455 [==============================] - 0s 57us/step - loss: 0.1110\n",
            "Epoch 28/100\n",
            "455/455 [==============================] - 0s 56us/step - loss: 0.1065\n",
            "Epoch 29/100\n",
            "455/455 [==============================] - 0s 56us/step - loss: 0.0952\n",
            "Epoch 30/100\n",
            "455/455 [==============================] - 0s 53us/step - loss: 0.1024\n",
            "Epoch 31/100\n",
            "455/455 [==============================] - 0s 56us/step - loss: 0.1124\n",
            "Epoch 32/100\n",
            "455/455 [==============================] - 0s 63us/step - loss: 0.0933\n",
            "Epoch 33/100\n",
            "455/455 [==============================] - 0s 70us/step - loss: 0.1004\n",
            "Epoch 34/100\n",
            "455/455 [==============================] - 0s 53us/step - loss: 0.0985\n",
            "Epoch 35/100\n",
            "455/455 [==============================] - 0s 68us/step - loss: 0.0989\n",
            "Epoch 36/100\n",
            "455/455 [==============================] - 0s 54us/step - loss: 0.0980\n",
            "Epoch 37/100\n",
            "455/455 [==============================] - 0s 60us/step - loss: 0.0845\n",
            "Epoch 38/100\n",
            "455/455 [==============================] - 0s 63us/step - loss: 0.0731\n",
            "Epoch 39/100\n",
            "455/455 [==============================] - 0s 56us/step - loss: 0.0811\n",
            "Epoch 40/100\n",
            "455/455 [==============================] - 0s 61us/step - loss: 0.0954\n",
            "Epoch 41/100\n",
            "455/455 [==============================] - 0s 64us/step - loss: 0.0825\n",
            "Epoch 42/100\n",
            "455/455 [==============================] - 0s 70us/step - loss: 0.0797\n",
            "Epoch 43/100\n",
            "455/455 [==============================] - 0s 69us/step - loss: 0.0841\n",
            "Epoch 44/100\n",
            "455/455 [==============================] - 0s 65us/step - loss: 0.0766\n",
            "Epoch 45/100\n",
            "455/455 [==============================] - 0s 54us/step - loss: 0.0803\n",
            "Epoch 46/100\n",
            "455/455 [==============================] - 0s 52us/step - loss: 0.0908\n",
            "Epoch 47/100\n",
            "455/455 [==============================] - 0s 59us/step - loss: 0.0737\n",
            "Epoch 48/100\n",
            "455/455 [==============================] - 0s 63us/step - loss: 0.0795\n",
            "Epoch 49/100\n",
            "455/455 [==============================] - 0s 57us/step - loss: 0.0666\n",
            "Epoch 50/100\n",
            "455/455 [==============================] - 0s 54us/step - loss: 0.0584\n",
            "Epoch 51/100\n",
            "455/455 [==============================] - 0s 55us/step - loss: 0.0683\n",
            "Epoch 52/100\n",
            "455/455 [==============================] - 0s 64us/step - loss: 0.0898\n",
            "Epoch 53/100\n",
            "455/455 [==============================] - 0s 55us/step - loss: 0.0920\n",
            "Epoch 54/100\n",
            "455/455 [==============================] - 0s 57us/step - loss: 0.0733\n",
            "Epoch 55/100\n",
            "455/455 [==============================] - 0s 54us/step - loss: 0.0750\n",
            "Epoch 56/100\n",
            "455/455 [==============================] - 0s 74us/step - loss: 0.0786\n",
            "Epoch 57/100\n",
            "455/455 [==============================] - 0s 57us/step - loss: 0.0666\n",
            "Epoch 58/100\n",
            "455/455 [==============================] - 0s 55us/step - loss: 0.0813\n",
            "Epoch 59/100\n",
            "455/455 [==============================] - 0s 53us/step - loss: 0.0618\n",
            "Epoch 60/100\n",
            "455/455 [==============================] - 0s 59us/step - loss: 0.0581\n",
            "Epoch 61/100\n",
            "455/455 [==============================] - 0s 54us/step - loss: 0.0632\n",
            "Epoch 62/100\n",
            "455/455 [==============================] - 0s 56us/step - loss: 0.0679\n",
            "Epoch 63/100\n",
            "455/455 [==============================] - 0s 58us/step - loss: 0.0639\n",
            "Epoch 64/100\n",
            "455/455 [==============================] - 0s 63us/step - loss: 0.0798\n",
            "Epoch 65/100\n",
            "455/455 [==============================] - 0s 60us/step - loss: 0.0716\n",
            "Epoch 66/100\n",
            "455/455 [==============================] - 0s 57us/step - loss: 0.0744\n",
            "Epoch 67/100\n",
            "455/455 [==============================] - 0s 66us/step - loss: 0.0592\n",
            "Epoch 68/100\n",
            "455/455 [==============================] - 0s 60us/step - loss: 0.0596\n",
            "Epoch 69/100\n",
            "455/455 [==============================] - 0s 62us/step - loss: 0.0656\n",
            "Epoch 70/100\n",
            "455/455 [==============================] - 0s 59us/step - loss: 0.0602\n",
            "Epoch 71/100\n",
            "455/455 [==============================] - 0s 66us/step - loss: 0.0714\n",
            "Epoch 72/100\n",
            "455/455 [==============================] - 0s 55us/step - loss: 0.0656\n",
            "Epoch 73/100\n",
            "455/455 [==============================] - 0s 59us/step - loss: 0.0425\n",
            "Epoch 74/100\n",
            "455/455 [==============================] - 0s 62us/step - loss: 0.1057\n",
            "Epoch 75/100\n",
            "455/455 [==============================] - 0s 57us/step - loss: 0.0746\n",
            "Epoch 76/100\n",
            "455/455 [==============================] - 0s 54us/step - loss: 0.0618\n",
            "Epoch 77/100\n",
            "455/455 [==============================] - 0s 60us/step - loss: 0.0535\n",
            "Epoch 78/100\n",
            "455/455 [==============================] - 0s 59us/step - loss: 0.0657\n",
            "Epoch 79/100\n",
            "455/455 [==============================] - 0s 53us/step - loss: 0.0696\n",
            "Epoch 80/100\n",
            "455/455 [==============================] - 0s 54us/step - loss: 0.0478\n",
            "Epoch 81/100\n",
            "455/455 [==============================] - 0s 56us/step - loss: 0.0526\n",
            "Epoch 82/100\n",
            "455/455 [==============================] - 0s 59us/step - loss: 0.0728\n",
            "Epoch 83/100\n",
            "455/455 [==============================] - 0s 56us/step - loss: 0.0727\n",
            "Epoch 84/100\n",
            "455/455 [==============================] - 0s 51us/step - loss: 0.0700\n",
            "Epoch 85/100\n",
            "455/455 [==============================] - 0s 54us/step - loss: 0.0572\n",
            "Epoch 86/100\n",
            "455/455 [==============================] - 0s 55us/step - loss: 0.0720\n",
            "Epoch 87/100\n",
            "455/455 [==============================] - 0s 61us/step - loss: 0.0582\n",
            "Epoch 88/100\n",
            "455/455 [==============================] - 0s 58us/step - loss: 0.0566\n",
            "Epoch 89/100\n",
            "455/455 [==============================] - 0s 52us/step - loss: 0.0707\n",
            "Epoch 90/100\n",
            "455/455 [==============================] - 0s 54us/step - loss: 0.0510\n",
            "Epoch 91/100\n",
            "455/455 [==============================] - 0s 61us/step - loss: 0.0618\n",
            "Epoch 92/100\n",
            "455/455 [==============================] - 0s 53us/step - loss: 0.0633\n",
            "Epoch 93/100\n",
            "455/455 [==============================] - 0s 52us/step - loss: 0.0648\n",
            "Epoch 94/100\n",
            "455/455 [==============================] - 0s 54us/step - loss: 0.0527\n",
            "Epoch 95/100\n",
            "455/455 [==============================] - 0s 52us/step - loss: 0.0592\n",
            "Epoch 96/100\n",
            "455/455 [==============================] - 0s 53us/step - loss: 0.0514\n",
            "Epoch 97/100\n",
            "455/455 [==============================] - 0s 53us/step - loss: 0.0767\n",
            "Epoch 98/100\n",
            "455/455 [==============================] - 0s 54us/step - loss: 0.0553\n",
            "Epoch 99/100\n",
            "455/455 [==============================] - 0s 54us/step - loss: 0.0803\n",
            "Epoch 100/100\n",
            "455/455 [==============================] - 0s 58us/step - loss: 0.0549\n"
          ],
          "name": "stdout"
        }
      ]
    },
    {
      "cell_type": "code",
      "metadata": {
        "id": "tGMNJQgL-wHW",
        "colab": {
          "base_uri": "https://localhost:8080/",
          "height": 34
        },
        "outputId": "bfbbfbb8-bab7-43fa-9d32-dd6bd9e593a2"
      },
      "source": [
        "fit_time"
      ],
      "execution_count": null,
      "outputs": [
        {
          "output_type": "execute_result",
          "data": {
            "text/plain": [
              "3.6858060359954834"
            ]
          },
          "metadata": {
            "tags": []
          },
          "execution_count": 46
        }
      ]
    },
    {
      "cell_type": "markdown",
      "metadata": {
        "id": "KDKcK-KKGFAc"
      },
      "source": [
        "## Random Search Prediction"
      ]
    },
    {
      "cell_type": "code",
      "metadata": {
        "id": "u7nCyCeVGO62"
      },
      "source": [
        "start_time = time.time()\n",
        "y_test_predict = nn.predict_classes(X_test)\n",
        "end_time = time.time()\n",
        "predict_time = end_time - start_time"
      ],
      "execution_count": null,
      "outputs": []
    },
    {
      "cell_type": "code",
      "metadata": {
        "id": "lPmOKmn0GQWg",
        "colab": {
          "base_uri": "https://localhost:8080/",
          "height": 34
        },
        "outputId": "e7247f10-f8c1-4c6e-9f01-5f46eba6fd1f"
      },
      "source": [
        "predict_time"
      ],
      "execution_count": null,
      "outputs": [
        {
          "output_type": "execute_result",
          "data": {
            "text/plain": [
              "0.05567789077758789"
            ]
          },
          "metadata": {
            "tags": []
          },
          "execution_count": 48
        }
      ]
    },
    {
      "cell_type": "code",
      "metadata": {
        "id": "tr9hOVFeGQSR"
      },
      "source": [
        "y_test_prob = nn.predict_proba(X_test)"
      ],
      "execution_count": null,
      "outputs": []
    },
    {
      "cell_type": "code",
      "metadata": {
        "id": "LWTUU5X_GQO3",
        "colab": {
          "base_uri": "https://localhost:8080/",
          "height": 258
        },
        "outputId": "baebf930-a623-4bbc-b1ae-30e0fcb44445"
      },
      "source": [
        "testPred = X_test.copy()\n",
        "testPred['y_test'], testPred['y_test_prob'], testPred['y_test_predict']=[y_test,y_test_prob,y_test_predict]\n",
        "testPred.head()"
      ],
      "execution_count": null,
      "outputs": [
        {
          "output_type": "execute_result",
          "data": {
            "text/html": [
              "<div>\n",
              "<style scoped>\n",
              "    .dataframe tbody tr th:only-of-type {\n",
              "        vertical-align: middle;\n",
              "    }\n",
              "\n",
              "    .dataframe tbody tr th {\n",
              "        vertical-align: top;\n",
              "    }\n",
              "\n",
              "    .dataframe thead th {\n",
              "        text-align: right;\n",
              "    }\n",
              "</style>\n",
              "<table border=\"1\" class=\"dataframe\">\n",
              "  <thead>\n",
              "    <tr style=\"text-align: right;\">\n",
              "      <th></th>\n",
              "      <th>area error</th>\n",
              "      <th>compactness error</th>\n",
              "      <th>concave points error</th>\n",
              "      <th>concavity error</th>\n",
              "      <th>fractal dimension error</th>\n",
              "      <th>mean area</th>\n",
              "      <th>mean compactness</th>\n",
              "      <th>mean concave points</th>\n",
              "      <th>mean concavity</th>\n",
              "      <th>mean fractal dimension</th>\n",
              "      <th>mean perimeter</th>\n",
              "      <th>mean radius</th>\n",
              "      <th>mean smoothness</th>\n",
              "      <th>mean symmetry</th>\n",
              "      <th>mean texture</th>\n",
              "      <th>perimeter error</th>\n",
              "      <th>radius error</th>\n",
              "      <th>smoothness error</th>\n",
              "      <th>symmetry error</th>\n",
              "      <th>texture error</th>\n",
              "      <th>worst area</th>\n",
              "      <th>worst compactness</th>\n",
              "      <th>worst concave points</th>\n",
              "      <th>worst concavity</th>\n",
              "      <th>worst fractal dimension</th>\n",
              "      <th>worst perimeter</th>\n",
              "      <th>worst radius</th>\n",
              "      <th>worst smoothness</th>\n",
              "      <th>worst symmetry</th>\n",
              "      <th>worst texture</th>\n",
              "      <th>y_test</th>\n",
              "      <th>y_test_prob</th>\n",
              "      <th>y_test_predict</th>\n",
              "    </tr>\n",
              "  </thead>\n",
              "  <tbody>\n",
              "    <tr>\n",
              "      <th>204</th>\n",
              "      <td>-0.221053</td>\n",
              "      <td>-0.355912</td>\n",
              "      <td>-0.231333</td>\n",
              "      <td>-0.161929</td>\n",
              "      <td>-0.079018</td>\n",
              "      <td>-0.491999</td>\n",
              "      <td>0.027651</td>\n",
              "      <td>-0.276232</td>\n",
              "      <td>-0.109847</td>\n",
              "      <td>0.132176</td>\n",
              "      <td>-0.448110</td>\n",
              "      <td>-0.470694</td>\n",
              "      <td>0.234114</td>\n",
              "      <td>0.413949</td>\n",
              "      <td>-0.160486</td>\n",
              "      <td>-0.182696</td>\n",
              "      <td>-0.032743</td>\n",
              "      <td>-0.029327</td>\n",
              "      <td>-0.329612</td>\n",
              "      <td>-0.313616</td>\n",
              "      <td>-0.356299</td>\n",
              "      <td>-0.104741</td>\n",
              "      <td>-0.199563</td>\n",
              "      <td>-0.024412</td>\n",
              "      <td>0.196958</td>\n",
              "      <td>-0.333935</td>\n",
              "      <td>-0.269040</td>\n",
              "      <td>0.448503</td>\n",
              "      <td>0.183204</td>\n",
              "      <td>-0.168905</td>\n",
              "      <td>1</td>\n",
              "      <td>0.994947</td>\n",
              "      <td>1</td>\n",
              "    </tr>\n",
              "    <tr>\n",
              "      <th>70</th>\n",
              "      <td>1.225780</td>\n",
              "      <td>-0.500666</td>\n",
              "      <td>0.308825</td>\n",
              "      <td>-0.305168</td>\n",
              "      <td>-0.793157</td>\n",
              "      <td>1.351264</td>\n",
              "      <td>-0.027309</td>\n",
              "      <td>0.789060</td>\n",
              "      <td>0.241064</td>\n",
              "      <td>-1.160679</td>\n",
              "      <td>1.302886</td>\n",
              "      <td>1.366877</td>\n",
              "      <td>-0.446227</td>\n",
              "      <td>-0.838325</td>\n",
              "      <td>0.470149</td>\n",
              "      <td>1.296951</td>\n",
              "      <td>1.384594</td>\n",
              "      <td>-0.865695</td>\n",
              "      <td>-0.809083</td>\n",
              "      <td>-0.760851</td>\n",
              "      <td>1.732277</td>\n",
              "      <td>-0.131459</td>\n",
              "      <td>0.978975</td>\n",
              "      <td>-0.016736</td>\n",
              "      <td>-1.000578</td>\n",
              "      <td>1.746605</td>\n",
              "      <td>1.779007</td>\n",
              "      <td>-0.572873</td>\n",
              "      <td>-0.565828</td>\n",
              "      <td>0.147012</td>\n",
              "      <td>0</td>\n",
              "      <td>0.006245</td>\n",
              "      <td>0</td>\n",
              "    </tr>\n",
              "    <tr>\n",
              "      <th>131</th>\n",
              "      <td>0.175418</td>\n",
              "      <td>-0.594561</td>\n",
              "      <td>-0.140496</td>\n",
              "      <td>-0.124794</td>\n",
              "      <td>-0.504551</td>\n",
              "      <td>0.267377</td>\n",
              "      <td>0.340350</td>\n",
              "      <td>0.824140</td>\n",
              "      <td>0.725686</td>\n",
              "      <td>-0.685782</td>\n",
              "      <td>0.400820</td>\n",
              "      <td>0.378508</td>\n",
              "      <td>0.913744</td>\n",
              "      <td>0.435855</td>\n",
              "      <td>0.044296</td>\n",
              "      <td>0.112838</td>\n",
              "      <td>0.249497</td>\n",
              "      <td>-0.267004</td>\n",
              "      <td>-0.795764</td>\n",
              "      <td>-0.781898</td>\n",
              "      <td>0.484159</td>\n",
              "      <td>-0.094562</td>\n",
              "      <td>0.560244</td>\n",
              "      <td>0.512911</td>\n",
              "      <td>-0.208132</td>\n",
              "      <td>0.525386</td>\n",
              "      <td>0.619345</td>\n",
              "      <td>0.974533</td>\n",
              "      <td>-0.103143</td>\n",
              "      <td>0.052562</td>\n",
              "      <td>0</td>\n",
              "      <td>0.006245</td>\n",
              "      <td>0</td>\n",
              "    </tr>\n",
              "    <tr>\n",
              "      <th>431</th>\n",
              "      <td>-0.547998</td>\n",
              "      <td>0.417599</td>\n",
              "      <td>-0.020461</td>\n",
              "      <td>0.554262</td>\n",
              "      <td>0.835972</td>\n",
              "      <td>-0.532101</td>\n",
              "      <td>0.516599</td>\n",
              "      <td>-0.539846</td>\n",
              "      <td>-0.142993</td>\n",
              "      <td>1.165609</td>\n",
              "      <td>-0.432457</td>\n",
              "      <td>-0.490575</td>\n",
              "      <td>0.643316</td>\n",
              "      <td>-0.002259</td>\n",
              "      <td>-0.374576</td>\n",
              "      <td>-0.327740</td>\n",
              "      <td>-0.824604</td>\n",
              "      <td>0.986380</td>\n",
              "      <td>0.160756</td>\n",
              "      <td>0.441152</td>\n",
              "      <td>-0.641257</td>\n",
              "      <td>0.054930</td>\n",
              "      <td>-0.622863</td>\n",
              "      <td>-0.152986</td>\n",
              "      <td>0.534440</td>\n",
              "      <td>-0.525756</td>\n",
              "      <td>-0.701842</td>\n",
              "      <td>0.553709</td>\n",
              "      <td>-0.557739</td>\n",
              "      <td>-0.450625</td>\n",
              "      <td>1</td>\n",
              "      <td>0.994985</td>\n",
              "      <td>1</td>\n",
              "    </tr>\n",
              "    <tr>\n",
              "      <th>540</th>\n",
              "      <td>-0.428529</td>\n",
              "      <td>0.874216</td>\n",
              "      <td>0.509965</td>\n",
              "      <td>0.783709</td>\n",
              "      <td>0.649494</td>\n",
              "      <td>-0.716683</td>\n",
              "      <td>0.145150</td>\n",
              "      <td>-0.592724</td>\n",
              "      <td>-0.269044</td>\n",
              "      <td>0.711976</td>\n",
              "      <td>-0.713374</td>\n",
              "      <td>-0.734828</td>\n",
              "      <td>0.247636</td>\n",
              "      <td>0.023298</td>\n",
              "      <td>-1.128546</td>\n",
              "      <td>-0.612877</td>\n",
              "      <td>-0.457547</td>\n",
              "      <td>1.703076</td>\n",
              "      <td>-0.259386</td>\n",
              "      <td>0.999969</td>\n",
              "      <td>-0.743216</td>\n",
              "      <td>-0.270137</td>\n",
              "      <td>-0.691687</td>\n",
              "      <td>-0.443716</td>\n",
              "      <td>-0.144403</td>\n",
              "      <td>-0.848337</td>\n",
              "      <td>-0.830233</td>\n",
              "      <td>0.093432</td>\n",
              "      <td>-0.924975</td>\n",
              "      <td>-0.976611</td>\n",
              "      <td>1</td>\n",
              "      <td>0.994985</td>\n",
              "      <td>1</td>\n",
              "    </tr>\n",
              "  </tbody>\n",
              "</table>\n",
              "</div>"
            ],
            "text/plain": [
              "     area error  compactness error  ...  y_test_prob  y_test_predict\n",
              "204   -0.221053          -0.355912  ...     0.994947               1\n",
              "70     1.225780          -0.500666  ...     0.006245               0\n",
              "131    0.175418          -0.594561  ...     0.006245               0\n",
              "431   -0.547998           0.417599  ...     0.994985               1\n",
              "540   -0.428529           0.874216  ...     0.994985               1\n",
              "\n",
              "[5 rows x 33 columns]"
            ]
          },
          "metadata": {
            "tags": []
          },
          "execution_count": 50
        }
      ]
    },
    {
      "cell_type": "markdown",
      "metadata": {
        "id": "UCXfE3_RILLM"
      },
      "source": [
        "## Random Search Model Performance"
      ]
    },
    {
      "cell_type": "code",
      "metadata": {
        "id": "OH9Yg_sGGQKn",
        "colab": {
          "base_uri": "https://localhost:8080/",
          "height": 265
        },
        "outputId": "a608cf2a-92fc-4b03-dd34-e6321818cbc8"
      },
      "source": [
        "#ROC/AUC Curve\n",
        "from sklearn import metrics\n",
        "import matplotlib.pyplot as plt\n",
        "%matplotlib inline\n",
        "# y_test_prob=et_gs.predict_proba(X_test)[:,1]\n",
        "fpr,tpr, _=metrics.roc_curve(y_test,y_test_prob)\n",
        "auc=metrics.roc_auc_score(y_test,y_test_prob)\n",
        "plt.plot(fpr,tpr,label=\"area=\"+str(auc))\n",
        "plt.legend(loc=4)\n",
        "plt.show()"
      ],
      "execution_count": null,
      "outputs": [
        {
          "output_type": "display_data",
          "data": {
            "image/png": "[encoded data removed]",
            "text/plain": [
              "<Figure size 432x288 with 1 Axes>"
            ]
          },
          "metadata": {
            "tags": [],
            "needs_background": "light"
          }
        }
      ]
    },
    {
      "cell_type": "code",
      "metadata": {
        "id": "wemC92p4GQGf",
        "colab": {
          "base_uri": "https://localhost:8080/",
          "height": 34
        },
        "outputId": "92b0e870-d62d-4de1-944b-a9f1a0fcd3ef"
      },
      "source": [
        "from sklearn.metrics import confusion_matrix, log_loss\n",
        "log_loss(y_test,y_test_prob)"
      ],
      "execution_count": null,
      "outputs": [
        {
          "output_type": "execute_result",
          "data": {
            "text/plain": [
              "0.053125584048725534"
            ]
          },
          "metadata": {
            "tags": []
          },
          "execution_count": 52
        }
      ]
    },
    {
      "cell_type": "code",
      "metadata": {
        "id": "3TojQJdNGQCR",
        "colab": {
          "base_uri": "https://localhost:8080/",
          "height": 68
        },
        "outputId": "70281fcf-9cd0-4984-d004-91d3726f903f"
      },
      "source": [
        "cm = confusion_matrix(y_test, y_test_predict)\n",
        "cmtx = pd.DataFrame(cm, index=['true:no', 'true:yes'], columns=['pred:no', 'pred:yes'])\n",
        "print(cmtx)"
      ],
      "execution_count": null,
      "outputs": [
        {
          "output_type": "stream",
          "text": [
            "          pred:no  pred:yes\n",
            "true:no        42         1\n",
            "true:yes        0        71\n"
          ],
          "name": "stdout"
        }
      ]
    },
    {
      "cell_type": "code",
      "metadata": {
        "id": "FW-G40JZGP-1",
        "colab": {
          "base_uri": "https://localhost:8080/",
          "height": 170
        },
        "outputId": "115c1263-21a4-44b3-fedd-053e5f47585f"
      },
      "source": [
        "from sklearn.metrics import classification_report\n",
        "print(classification_report(y_test, y_test_predict))"
      ],
      "execution_count": null,
      "outputs": [
        {
          "output_type": "stream",
          "text": [
            "              precision    recall  f1-score   support\n",
            "\n",
            "           0       1.00      0.98      0.99        43\n",
            "           1       0.99      1.00      0.99        71\n",
            "\n",
            "    accuracy                           0.99       114\n",
            "   macro avg       0.99      0.99      0.99       114\n",
            "weighted avg       0.99      0.99      0.99       114\n",
            "\n"
          ],
          "name": "stdout"
        }
      ]
    },
    {
      "cell_type": "markdown",
      "metadata": {
        "id": "1i8LwQy0IycL"
      },
      "source": [
        "## Random Search Prediction Distribution"
      ]
    },
    {
      "cell_type": "code",
      "metadata": {
        "id": "dKpiNmx3GP6v",
        "colab": {
          "base_uri": "https://localhost:8080/",
          "height": 282
        },
        "outputId": "f64fe959-c817-4151-dd65-47b68b73ecf5"
      },
      "source": [
        "sns.distplot(y_test_prob, label='Predicted Probability', kde=False)"
      ],
      "execution_count": null,
      "outputs": [
        {
          "output_type": "execute_result",
          "data": {
            "text/plain": [
              "<matplotlib.axes._subplots.AxesSubplot at 0x7fa7c88042e8>"
            ]
          },
          "metadata": {
            "tags": []
          },
          "execution_count": 56
        },
        {
          "output_type": "display_data",
          "data": {
            "image/png": "[encoded data removed]",
            "text/plain": [
              "<Figure size 432x288 with 1 Axes>"
            ]
          },
          "metadata": {
            "tags": [],
            "needs_background": "light"
          }
        }
      ]
    },
    {
      "cell_type": "code",
      "metadata": {
        "id": "WcaUy6Z9GPzw",
        "colab": {
          "base_uri": "https://localhost:8080/",
          "height": 279
        },
        "outputId": "25e663d9-26a1-41c5-ddbf-a70a661d0db6"
      },
      "source": [
        "# this is to plot the kde by label\n",
        "sns.distplot(testPred[testPred['y_test']==1]['y_test_prob'],label='1', kde=False);\n",
        "sns.distplot(testPred[testPred['y_test']==0]['y_test_prob'],label='0', kde=False);\n",
        "\n",
        "# add labels\n",
        "plt.xlabel('Predicted Probability')\n",
        "plt.ylabel('Frequency')\n",
        "plt.show()"
      ],
      "execution_count": null,
      "outputs": [
        {
          "output_type": "display_data",
          "data": {
            "image/png": "[encoded data removed]",
            "text/plain": [
              "<Figure size 432x288 with 1 Axes>"
            ]
          },
          "metadata": {
            "tags": [],
            "needs_background": "light"
          }
        }
      ]
    },
    {
      "cell_type": "markdown",
      "metadata": {
        "id": "a6tHO3SwVbHs"
      },
      "source": [
        "## Bayesian Optimization Grid Search"
      ]
    },
    {
      "cell_type": "code",
      "metadata": {
        "id": "aL0IOMT0GPu9"
      },
      "source": [
        "N_FOLDS = StratifiedKFold(n_splits=3, shuffle=True)\n",
        "MAX_EVALS = 2"
      ],
      "execution_count": null,
      "outputs": []
    },
    {
      "cell_type": "code",
      "metadata": {
        "id": "uA7sw9afGPq-",
        "colab": {
          "base_uri": "https://localhost:8080/",
          "height": 238
        },
        "outputId": "9c20d280-04ef-4f76-b749-49d8d52c8344"
      },
      "source": [
        "layers = [(30), (30, 15), (30, 15, 7), (30, 15, 7, 3)]# Need to use tuple instead of list because of a bug related to nested list with Keras. https://datascience.stackexchange.com/questions/66341/cannot-clone-object-keras-wrappers-scikit-learn-kerasregressor-object-at-0x7fdc\n",
        "activation = ['tanh', 'relu']\n",
        "kernel_initializer = ['uniform', 'lecun_uniform', 'normal', 'zero', 'glorot_normal', 'glorot_uniform', 'he_normal', 'he_uniform']\n",
        "optimizer = ['Adam', 'Adamax', 'Nadam']\n",
        "batch_size = [16, 32, 64, 128, 256, 512, 1024]\n",
        "epochs=[50, 100, 150]\n",
        "param_grid = dict(layers=layers, activation=activation, kernel_initializer=kernel_initializer, optimizer=optimizer, batch_size = batch_size, epochs=epochs)\n",
        "param_grid"
      ],
      "execution_count": null,
      "outputs": [
        {
          "output_type": "execute_result",
          "data": {
            "text/plain": [
              "{'activation': ['tanh', 'relu'],\n",
              " 'batch_size': [16, 32, 64, 128, 256, 512, 1024],\n",
              " 'epochs': [50, 100, 150],\n",
              " 'kernel_initializer': ['uniform',\n",
              "  'lecun_uniform',\n",
              "  'normal',\n",
              "  'zero',\n",
              "  'glorot_normal',\n",
              "  'glorot_uniform',\n",
              "  'he_normal',\n",
              "  'he_uniform'],\n",
              " 'layers': [30, (30, 15), (30, 15, 7), (30, 15, 7, 3)],\n",
              " 'optimizer': ['Adam', 'Adamax', 'Nadam']}"
            ]
          },
          "metadata": {
            "tags": []
          },
          "execution_count": 127
        }
      ]
    },
    {
      "cell_type": "code",
      "metadata": {
        "id": "XaUjN31wGPnJ",
        "colab": {
          "base_uri": "https://localhost:8080/",
          "height": 34
        },
        "outputId": "a3d120a7-a6e2-40cc-dcc1-555ebff3ecd5"
      },
      "source": [
        "l = enumerate(layers)\n",
        "print(list(l))"
      ],
      "execution_count": null,
      "outputs": [
        {
          "output_type": "stream",
          "text": [
            "[(0, 30), (1, (30, 15)), (2, (30, 15, 7)), (3, (30, 15, 7, 3))]\n"
          ],
          "name": "stdout"
        }
      ]
    },
    {
      "cell_type": "code",
      "metadata": {
        "id": "fEm5dLg1GPi0"
      },
      "source": [
        "def create_model(layers, activation='relu', batch_size=32, epochs=50, kernel_initializer='normal', optimizer = 'adam'):\n",
        "    # Add seed later\n",
        "    model = Sequential()\n",
        "    for i, nodes in enumerate(layers):\n",
        "        if i==0:\n",
        "            model.add(Dense(nodes,kernel_initializer=kernel_initializer, input_dim=X_train.shape[1]))\n",
        "            model.add(Activation(activation))\n",
        "#             model.add(Dropout(dropout))\n",
        "        else:\n",
        "            model.add(Dense(nodes,kernel_initializer=kernel_initializer))\n",
        "            model.add(Activation(activation))\n",
        "#             model.add(Dropout(dropout))\n",
        "            \n",
        "    model.add(Dense(units = 1, activation = 'sigmoid')) # Note: no activation beyond this point\n",
        "    \n",
        "    model.compile(loss='binary_crossentropy',optimizer=optimizer,metrics=['accuracy'])\n",
        "    return model"
      ],
      "execution_count": null,
      "outputs": []
    },
    {
      "cell_type": "code",
      "metadata": {
        "id": "OcCVYovzdLM-"
      },
      "source": [
        "# Set seeds\n",
        "import random\n",
        "import tensorflow as tf\n",
        "import keras.backend as K\n",
        "random.seed(0)\n",
        "np.random.seed(0)\n",
        "# tf.compat.v1.set_random_seed(0)\n",
        "# tf.random.set_random_seed(0)\n",
        "session_conf = tf.compat.v1.ConfigProto(intra_op_parallelism_threads=1, inter_op_parallelism_threads=1)\n",
        "sess = tf.compat.v1.Session(graph=tf.compat.v1.get_default_graph(), config=session_conf)\n",
        "# K.set_session(sess)"
      ],
      "execution_count": null,
      "outputs": []
    },
    {
      "cell_type": "code",
      "metadata": {
        "id": "6jEyUTK0GPef"
      },
      "source": [
        "# Change function to estimator\n",
        "model = KerasClassifier(build_fn=create_model, verbose=0)"
      ],
      "execution_count": null,
      "outputs": []
    },
    {
      "cell_type": "code",
      "metadata": {
        "id": "kZVPO4GcWbd3"
      },
      "source": [
        "# Space\n",
        "space = {\n",
        "    'layers': hp.choice('layers', layers),\n",
        "    'activation': hp.choice('activation', activation),\n",
        "    'kernel_initializer': hp.choice('kernel_initializer', kernel_initializer),\n",
        "    'optimizer': hp.choice('optimizer', optimizer),    \n",
        "    'batch_size': hp.choice('batch_size', batch_size),    \n",
        "    'epochs': hp.choice('epochs', epochs),        \n",
        "#     'dropout': hp.choice('dropout', dropout)      \n",
        "#     'tol' : hp.uniform('tol', 0.00001, 1), #Tolerance for stopping criteria\n",
        "#     'C' : hp.uniform('C', 0.0001, 10000),\n",
        "#     'penalty': hp.choice('penalty',['l1', 'l2', 'none']),\n",
        "# #     'l1_ratio': hp.uniform('l1_ratio', 0, 1),\n",
        "#     'max_iter' : hp.choice('max_iter', range(5,1000)) #Maximum number of iterations taken for the solvers to converge\n",
        "}"
      ],
      "execution_count": null,
      "outputs": []
    },
    {
      "cell_type": "code",
      "metadata": {
        "id": "LaQrS0mLWbZQ"
      },
      "source": [
        "# Objective function\n",
        "def objective(params, n_folds = N_FOLDS):\n",
        "\n",
        "    # Perform n_fold cross validation with hyperparameters\n",
        "    # Use early stopping and evaluate based on ROC AUC\n",
        "    \n",
        "    model = KerasClassifier(build_fn=create_model, verbose=0,**params)\n",
        "    scores = cross_val_score(model, X_train, y_train, cv=n_folds, scoring='precision', n_jobs=-1)\n",
        "\n",
        "    # Extract the best score\n",
        "    best_score = max(scores)\n",
        "\n",
        "    # Loss must be minimized\n",
        "    loss = 1 - best_score\n",
        "\n",
        "    # Dictionary with information for evaluation\n",
        "    return {'loss': loss, 'params': params, 'status': STATUS_OK}"
      ],
      "execution_count": null,
      "outputs": []
    },
    {
      "cell_type": "code",
      "metadata": {
        "id": "lELeApcuWbVC",
        "colab": {
          "base_uri": "https://localhost:8080/",
          "height": 34
        },
        "outputId": "ec253d2e-1af1-4bd6-fc06-8c3985ecd176"
      },
      "source": [
        "# Algorithm\n",
        "tpe_algorithm = tpe.suggest\n",
        "\n",
        "# Trials object to track progress\n",
        "bayes_trials = Trials()\n",
        "\n",
        "# Optimize\n",
        "best = fmin(fn = objective, space = space, algo = tpe_algorithm, max_evals = MAX_EVALS, trials = bayes_trials)"
      ],
      "execution_count": null,
      "outputs": [
        {
          "output_type": "stream",
          "text": [
            "100%|██████████| 2/2 [00:04<00:00,  2.47s/it, best loss: 0.030612244897959218]\n"
          ],
          "name": "stdout"
        }
      ]
    },
    {
      "cell_type": "code",
      "metadata": {
        "id": "yfQztEREWbRf",
        "colab": {
          "base_uri": "https://localhost:8080/",
          "height": 119
        },
        "outputId": "c6d4540c-73f3-4fc7-8de3-5a5ac9a2edeb"
      },
      "source": [
        "best"
      ],
      "execution_count": null,
      "outputs": [
        {
          "output_type": "execute_result",
          "data": {
            "text/plain": [
              "{'activation': 0,\n",
              " 'batch_size': 6,\n",
              " 'epochs': 0,\n",
              " 'kernel_initializer': 4,\n",
              " 'layers': 2,\n",
              " 'optimizer': 1}"
            ]
          },
          "metadata": {
            "tags": []
          },
          "execution_count": 125
        }
      ]
    },
    {
      "cell_type": "code",
      "metadata": {
        "id": "kGWY3hJEWbNn",
        "colab": {
          "base_uri": "https://localhost:8080/",
          "height": 238
        },
        "outputId": "2dfd1865-b552-4dab-d629-711b31a9d33a"
      },
      "source": [
        "param_grid"
      ],
      "execution_count": null,
      "outputs": [
        {
          "output_type": "execute_result",
          "data": {
            "text/plain": [
              "{'activation': ['tanh', 'relu'],\n",
              " 'batch_size': [16, 32, 64, 128, 256, 512, 1024],\n",
              " 'epochs': [50, 100, 150],\n",
              " 'kernel_initializer': ['uniform',\n",
              "  'lecun_uniform',\n",
              "  'normal',\n",
              "  'zero',\n",
              "  'glorot_normal',\n",
              "  'glorot_uniform',\n",
              "  'he_normal',\n",
              "  'he_uniform'],\n",
              " 'layers': [30, (30, 15), (30, 15, 7), (30, 15, 7, 3)],\n",
              " 'optimizer': ['Adam', 'Adamax', 'Nadam']}"
            ]
          },
          "metadata": {
            "tags": []
          },
          "execution_count": 139
        }
      ]
    },
    {
      "cell_type": "markdown",
      "metadata": {
        "id": "iJaQrXwuf1L0"
      },
      "source": [
        "## Bayesian Optimization Final Model"
      ]
    },
    {
      "cell_type": "code",
      "metadata": {
        "id": "EZec9eIZWbJ-",
        "colab": {
          "base_uri": "https://localhost:8080/",
          "height": 1000
        },
        "outputId": "90a55e12-fc95-4280-86c7-4942539325de"
      },
      "source": [
        "# Set seeds\n",
        "import random\n",
        "import tensorflow as tf\n",
        "import keras.backend as K\n",
        "random.seed(0)\n",
        "np.random.seed(0)\n",
        "# tf.compat.v1.set_random_seed(0)\n",
        "# tf.random.set_random_seed(0)\n",
        "session_conf = tf.compat.v1.ConfigProto(intra_op_parallelism_threads=1, inter_op_parallelism_threads=1)\n",
        "sess = tf.compat.v1.Session(graph=tf.compat.v1.get_default_graph(), config=session_conf)\n",
        "# K.set_session(sess)\n",
        "\n",
        "start = time.time()\n",
        "nn = Sequential()\n",
        "nn.add(Dense(30,input_dim=30,activation='tanh'))\n",
        "nn.add(Dropout(0.4))\n",
        "nn.add(Dense(15,activation='tanh'))\n",
        "nn.add(Dropout(0.4))\n",
        "nn.add(Dense(7,activation='tanh'))\n",
        "nn.add(Dropout(0.4))\n",
        "nn.add(Dense(1,kernel_initializer= 'glorot_normal', activation='sigmoid'))\n",
        "#init_weights = np.array(nn.get_weights()[0]).sum()\n",
        "nn.compile(loss='binary_crossentropy',optimizer='Adamax')   \n",
        "# nn.compile(optimizer=keras.optimizers.RMSprop(lr=1e-2),loss=keras.losses.MSE)\n",
        "nn.fit(X_train,y_train, epochs=50,batch_size=1024)\n",
        "end = time.time()\n",
        "fit_time = (end - start)\n",
        "print('fit time is: ', fit_time)\n",
        "start_time = time.time()\n",
        "y_test_predict = nn.predict_classes(X_test)\n",
        "end_time = time.time()\n",
        "predict_time = end_time - start_time\n",
        "print('predict time is: ', predict_time)\n",
        "y_test_predict.sum()"
      ],
      "execution_count": null,
      "outputs": [
        {
          "output_type": "stream",
          "text": [
            "Epoch 1/50\n",
            "455/455 [==============================] - 0s 387us/step - loss: 0.9983\n",
            "Epoch 2/50\n",
            "455/455 [==============================] - 0s 15us/step - loss: 0.9032\n",
            "Epoch 3/50\n",
            "455/455 [==============================] - 0s 15us/step - loss: 0.8362\n",
            "Epoch 4/50\n",
            "455/455 [==============================] - 0s 12us/step - loss: 0.8121\n",
            "Epoch 5/50\n",
            "455/455 [==============================] - 0s 13us/step - loss: 0.7154\n",
            "Epoch 6/50\n",
            "455/455 [==============================] - 0s 11us/step - loss: 0.6805\n",
            "Epoch 7/50\n",
            "455/455 [==============================] - 0s 13us/step - loss: 0.6474\n",
            "Epoch 8/50\n",
            "455/455 [==============================] - 0s 13us/step - loss: 0.6054\n",
            "Epoch 9/50\n",
            "455/455 [==============================] - 0s 12us/step - loss: 0.5525\n",
            "Epoch 10/50\n",
            "455/455 [==============================] - 0s 9us/step - loss: 0.5699\n",
            "Epoch 11/50\n",
            "455/455 [==============================] - 0s 8us/step - loss: 0.5254\n",
            "Epoch 12/50\n",
            "455/455 [==============================] - 0s 9us/step - loss: 0.5611\n",
            "Epoch 13/50\n",
            "455/455 [==============================] - 0s 11us/step - loss: 0.4800\n",
            "Epoch 14/50\n",
            "455/455 [==============================] - 0s 7us/step - loss: 0.4999\n",
            "Epoch 15/50\n",
            "455/455 [==============================] - 0s 10us/step - loss: 0.4891\n",
            "Epoch 16/50\n",
            "455/455 [==============================] - 0s 9us/step - loss: 0.4727\n",
            "Epoch 17/50\n",
            "455/455 [==============================] - 0s 9us/step - loss: 0.4657\n",
            "Epoch 18/50\n",
            "455/455 [==============================] - 0s 10us/step - loss: 0.4247\n",
            "Epoch 19/50\n",
            "455/455 [==============================] - 0s 9us/step - loss: 0.3859\n",
            "Epoch 20/50\n",
            "455/455 [==============================] - 0s 8us/step - loss: 0.4220\n",
            "Epoch 21/50\n",
            "455/455 [==============================] - 0s 11us/step - loss: 0.4366\n",
            "Epoch 22/50\n",
            "455/455 [==============================] - 0s 8us/step - loss: 0.4219\n",
            "Epoch 23/50\n",
            "455/455 [==============================] - 0s 9us/step - loss: 0.3871\n",
            "Epoch 24/50\n",
            "455/455 [==============================] - 0s 10us/step - loss: 0.3690\n",
            "Epoch 25/50\n",
            "455/455 [==============================] - 0s 7us/step - loss: 0.3543\n",
            "Epoch 26/50\n",
            "455/455 [==============================] - 0s 11us/step - loss: 0.3366\n",
            "Epoch 27/50\n",
            "455/455 [==============================] - 0s 12us/step - loss: 0.3516\n",
            "Epoch 28/50\n",
            "455/455 [==============================] - 0s 9us/step - loss: 0.3649\n",
            "Epoch 29/50\n",
            "455/455 [==============================] - 0s 10us/step - loss: 0.3219\n",
            "Epoch 30/50\n",
            "455/455 [==============================] - 0s 7us/step - loss: 0.3448\n",
            "Epoch 31/50\n",
            "455/455 [==============================] - 0s 7us/step - loss: 0.3314\n",
            "Epoch 32/50\n",
            "455/455 [==============================] - 0s 10us/step - loss: 0.2988\n",
            "Epoch 33/50\n",
            "455/455 [==============================] - 0s 9us/step - loss: 0.3156\n",
            "Epoch 34/50\n",
            "455/455 [==============================] - 0s 9us/step - loss: 0.3045\n",
            "Epoch 35/50\n",
            "455/455 [==============================] - 0s 9us/step - loss: 0.3103\n",
            "Epoch 36/50\n",
            "455/455 [==============================] - 0s 10us/step - loss: 0.3111\n",
            "Epoch 37/50\n",
            "455/455 [==============================] - 0s 9us/step - loss: 0.3040\n",
            "Epoch 38/50\n",
            "455/455 [==============================] - 0s 9us/step - loss: 0.3031\n",
            "Epoch 39/50\n",
            "455/455 [==============================] - 0s 9us/step - loss: 0.2946\n",
            "Epoch 40/50\n",
            "455/455 [==============================] - 0s 8us/step - loss: 0.3120\n",
            "Epoch 41/50\n",
            "455/455 [==============================] - 0s 10us/step - loss: 0.2878\n",
            "Epoch 42/50\n",
            "455/455 [==============================] - 0s 10us/step - loss: 0.2911\n",
            "Epoch 43/50\n",
            "455/455 [==============================] - 0s 10us/step - loss: 0.2753\n",
            "Epoch 44/50\n",
            "455/455 [==============================] - 0s 10us/step - loss: 0.2755\n",
            "Epoch 45/50\n",
            "455/455 [==============================] - 0s 11us/step - loss: 0.3000\n",
            "Epoch 46/50\n",
            "455/455 [==============================] - 0s 8us/step - loss: 0.2783\n",
            "Epoch 47/50\n",
            "455/455 [==============================] - 0s 9us/step - loss: 0.2663\n",
            "Epoch 48/50\n",
            "455/455 [==============================] - 0s 7us/step - loss: 0.2815\n",
            "Epoch 49/50\n",
            "455/455 [==============================] - 0s 9us/step - loss: 0.2684\n",
            "Epoch 50/50\n",
            "455/455 [==============================] - 0s 10us/step - loss: 0.2554\n",
            "fit time is:  1.0857245922088623\n",
            "predict time is:  0.0675666332244873\n"
          ],
          "name": "stdout"
        },
        {
          "output_type": "execute_result",
          "data": {
            "text/plain": [
              "72"
            ]
          },
          "metadata": {
            "tags": []
          },
          "execution_count": 140
        }
      ]
    },
    {
      "cell_type": "markdown",
      "metadata": {
        "id": "7lAwDBUCil09"
      },
      "source": [
        "## Neural Network Model Prediction"
      ]
    },
    {
      "cell_type": "code",
      "metadata": {
        "id": "P1R2fNlMWbGA"
      },
      "source": [
        "y_test_prob = nn.predict_proba(X_test)"
      ],
      "execution_count": null,
      "outputs": []
    },
    {
      "cell_type": "code",
      "metadata": {
        "id": "IP0Yx4M8WbDc",
        "colab": {
          "base_uri": "https://localhost:8080/",
          "height": 258
        },
        "outputId": "0cae7b35-2c89-44e2-e3af-488a1a7e3892"
      },
      "source": [
        "testPred = X_test.copy()\n",
        "testPred['y_test'], testPred['y_test_prob'], testPred['y_test_predict']=[y_test,y_test_prob,y_test_predict]\n",
        "testPred.head()"
      ],
      "execution_count": null,
      "outputs": [
        {
          "output_type": "execute_result",
          "data": {
            "text/html": [
              "<div>\n",
              "<style scoped>\n",
              "    .dataframe tbody tr th:only-of-type {\n",
              "        vertical-align: middle;\n",
              "    }\n",
              "\n",
              "    .dataframe tbody tr th {\n",
              "        vertical-align: top;\n",
              "    }\n",
              "\n",
              "    .dataframe thead th {\n",
              "        text-align: right;\n",
              "    }\n",
              "</style>\n",
              "<table border=\"1\" class=\"dataframe\">\n",
              "  <thead>\n",
              "    <tr style=\"text-align: right;\">\n",
              "      <th></th>\n",
              "      <th>area error</th>\n",
              "      <th>compactness error</th>\n",
              "      <th>concave points error</th>\n",
              "      <th>concavity error</th>\n",
              "      <th>fractal dimension error</th>\n",
              "      <th>mean area</th>\n",
              "      <th>mean compactness</th>\n",
              "      <th>mean concave points</th>\n",
              "      <th>mean concavity</th>\n",
              "      <th>mean fractal dimension</th>\n",
              "      <th>mean perimeter</th>\n",
              "      <th>mean radius</th>\n",
              "      <th>mean smoothness</th>\n",
              "      <th>mean symmetry</th>\n",
              "      <th>mean texture</th>\n",
              "      <th>perimeter error</th>\n",
              "      <th>radius error</th>\n",
              "      <th>smoothness error</th>\n",
              "      <th>symmetry error</th>\n",
              "      <th>texture error</th>\n",
              "      <th>worst area</th>\n",
              "      <th>worst compactness</th>\n",
              "      <th>worst concave points</th>\n",
              "      <th>worst concavity</th>\n",
              "      <th>worst fractal dimension</th>\n",
              "      <th>worst perimeter</th>\n",
              "      <th>worst radius</th>\n",
              "      <th>worst smoothness</th>\n",
              "      <th>worst symmetry</th>\n",
              "      <th>worst texture</th>\n",
              "      <th>y_test</th>\n",
              "      <th>y_test_prob</th>\n",
              "      <th>y_test_predict</th>\n",
              "    </tr>\n",
              "  </thead>\n",
              "  <tbody>\n",
              "    <tr>\n",
              "      <th>204</th>\n",
              "      <td>-0.221053</td>\n",
              "      <td>-0.355912</td>\n",
              "      <td>-0.231333</td>\n",
              "      <td>-0.161929</td>\n",
              "      <td>-0.079018</td>\n",
              "      <td>-0.491999</td>\n",
              "      <td>0.027651</td>\n",
              "      <td>-0.276232</td>\n",
              "      <td>-0.109847</td>\n",
              "      <td>0.132176</td>\n",
              "      <td>-0.448110</td>\n",
              "      <td>-0.470694</td>\n",
              "      <td>0.234114</td>\n",
              "      <td>0.413949</td>\n",
              "      <td>-0.160486</td>\n",
              "      <td>-0.182696</td>\n",
              "      <td>-0.032743</td>\n",
              "      <td>-0.029327</td>\n",
              "      <td>-0.329612</td>\n",
              "      <td>-0.313616</td>\n",
              "      <td>-0.356299</td>\n",
              "      <td>-0.104741</td>\n",
              "      <td>-0.199563</td>\n",
              "      <td>-0.024412</td>\n",
              "      <td>0.196958</td>\n",
              "      <td>-0.333935</td>\n",
              "      <td>-0.269040</td>\n",
              "      <td>0.448503</td>\n",
              "      <td>0.183204</td>\n",
              "      <td>-0.168905</td>\n",
              "      <td>1</td>\n",
              "      <td>0.923457</td>\n",
              "      <td>1</td>\n",
              "    </tr>\n",
              "    <tr>\n",
              "      <th>70</th>\n",
              "      <td>1.225780</td>\n",
              "      <td>-0.500666</td>\n",
              "      <td>0.308825</td>\n",
              "      <td>-0.305168</td>\n",
              "      <td>-0.793157</td>\n",
              "      <td>1.351264</td>\n",
              "      <td>-0.027309</td>\n",
              "      <td>0.789060</td>\n",
              "      <td>0.241064</td>\n",
              "      <td>-1.160679</td>\n",
              "      <td>1.302886</td>\n",
              "      <td>1.366877</td>\n",
              "      <td>-0.446227</td>\n",
              "      <td>-0.838325</td>\n",
              "      <td>0.470149</td>\n",
              "      <td>1.296951</td>\n",
              "      <td>1.384594</td>\n",
              "      <td>-0.865695</td>\n",
              "      <td>-0.809083</td>\n",
              "      <td>-0.760851</td>\n",
              "      <td>1.732277</td>\n",
              "      <td>-0.131459</td>\n",
              "      <td>0.978975</td>\n",
              "      <td>-0.016736</td>\n",
              "      <td>-1.000578</td>\n",
              "      <td>1.746605</td>\n",
              "      <td>1.779007</td>\n",
              "      <td>-0.572873</td>\n",
              "      <td>-0.565828</td>\n",
              "      <td>0.147012</td>\n",
              "      <td>0</td>\n",
              "      <td>0.056968</td>\n",
              "      <td>0</td>\n",
              "    </tr>\n",
              "    <tr>\n",
              "      <th>131</th>\n",
              "      <td>0.175418</td>\n",
              "      <td>-0.594561</td>\n",
              "      <td>-0.140496</td>\n",
              "      <td>-0.124794</td>\n",
              "      <td>-0.504551</td>\n",
              "      <td>0.267377</td>\n",
              "      <td>0.340350</td>\n",
              "      <td>0.824140</td>\n",
              "      <td>0.725686</td>\n",
              "      <td>-0.685782</td>\n",
              "      <td>0.400820</td>\n",
              "      <td>0.378508</td>\n",
              "      <td>0.913744</td>\n",
              "      <td>0.435855</td>\n",
              "      <td>0.044296</td>\n",
              "      <td>0.112838</td>\n",
              "      <td>0.249497</td>\n",
              "      <td>-0.267004</td>\n",
              "      <td>-0.795764</td>\n",
              "      <td>-0.781898</td>\n",
              "      <td>0.484159</td>\n",
              "      <td>-0.094562</td>\n",
              "      <td>0.560244</td>\n",
              "      <td>0.512911</td>\n",
              "      <td>-0.208132</td>\n",
              "      <td>0.525386</td>\n",
              "      <td>0.619345</td>\n",
              "      <td>0.974533</td>\n",
              "      <td>-0.103143</td>\n",
              "      <td>0.052562</td>\n",
              "      <td>0</td>\n",
              "      <td>0.070303</td>\n",
              "      <td>0</td>\n",
              "    </tr>\n",
              "    <tr>\n",
              "      <th>431</th>\n",
              "      <td>-0.547998</td>\n",
              "      <td>0.417599</td>\n",
              "      <td>-0.020461</td>\n",
              "      <td>0.554262</td>\n",
              "      <td>0.835972</td>\n",
              "      <td>-0.532101</td>\n",
              "      <td>0.516599</td>\n",
              "      <td>-0.539846</td>\n",
              "      <td>-0.142993</td>\n",
              "      <td>1.165609</td>\n",
              "      <td>-0.432457</td>\n",
              "      <td>-0.490575</td>\n",
              "      <td>0.643316</td>\n",
              "      <td>-0.002259</td>\n",
              "      <td>-0.374576</td>\n",
              "      <td>-0.327740</td>\n",
              "      <td>-0.824604</td>\n",
              "      <td>0.986380</td>\n",
              "      <td>0.160756</td>\n",
              "      <td>0.441152</td>\n",
              "      <td>-0.641257</td>\n",
              "      <td>0.054930</td>\n",
              "      <td>-0.622863</td>\n",
              "      <td>-0.152986</td>\n",
              "      <td>0.534440</td>\n",
              "      <td>-0.525756</td>\n",
              "      <td>-0.701842</td>\n",
              "      <td>0.553709</td>\n",
              "      <td>-0.557739</td>\n",
              "      <td>-0.450625</td>\n",
              "      <td>1</td>\n",
              "      <td>0.946121</td>\n",
              "      <td>1</td>\n",
              "    </tr>\n",
              "    <tr>\n",
              "      <th>540</th>\n",
              "      <td>-0.428529</td>\n",
              "      <td>0.874216</td>\n",
              "      <td>0.509965</td>\n",
              "      <td>0.783709</td>\n",
              "      <td>0.649494</td>\n",
              "      <td>-0.716683</td>\n",
              "      <td>0.145150</td>\n",
              "      <td>-0.592724</td>\n",
              "      <td>-0.269044</td>\n",
              "      <td>0.711976</td>\n",
              "      <td>-0.713374</td>\n",
              "      <td>-0.734828</td>\n",
              "      <td>0.247636</td>\n",
              "      <td>0.023298</td>\n",
              "      <td>-1.128546</td>\n",
              "      <td>-0.612877</td>\n",
              "      <td>-0.457547</td>\n",
              "      <td>1.703076</td>\n",
              "      <td>-0.259386</td>\n",
              "      <td>0.999969</td>\n",
              "      <td>-0.743216</td>\n",
              "      <td>-0.270137</td>\n",
              "      <td>-0.691687</td>\n",
              "      <td>-0.443716</td>\n",
              "      <td>-0.144403</td>\n",
              "      <td>-0.848337</td>\n",
              "      <td>-0.830233</td>\n",
              "      <td>0.093432</td>\n",
              "      <td>-0.924975</td>\n",
              "      <td>-0.976611</td>\n",
              "      <td>1</td>\n",
              "      <td>0.946505</td>\n",
              "      <td>1</td>\n",
              "    </tr>\n",
              "  </tbody>\n",
              "</table>\n",
              "</div>"
            ],
            "text/plain": [
              "     area error  compactness error  ...  y_test_prob  y_test_predict\n",
              "204   -0.221053          -0.355912  ...     0.923457               1\n",
              "70     1.225780          -0.500666  ...     0.056968               0\n",
              "131    0.175418          -0.594561  ...     0.070303               0\n",
              "431   -0.547998           0.417599  ...     0.946121               1\n",
              "540   -0.428529           0.874216  ...     0.946505               1\n",
              "\n",
              "[5 rows x 33 columns]"
            ]
          },
          "metadata": {
            "tags": []
          },
          "execution_count": 142
        }
      ]
    },
    {
      "cell_type": "markdown",
      "metadata": {
        "id": "oJrgrHjUi16E"
      },
      "source": [
        "## Neural Network Model Performance"
      ]
    },
    {
      "cell_type": "code",
      "metadata": {
        "id": "Bv_m1KoWWa_O",
        "colab": {
          "base_uri": "https://localhost:8080/",
          "height": 265
        },
        "outputId": "970bfd23-8fb5-42a9-cb9c-a1d4594e81e6"
      },
      "source": [
        "#ROC/AUC Curve\n",
        "from sklearn import metrics\n",
        "# y_test_prob=et_gs.predict_proba(X_test)[:,1]\n",
        "fpr,tpr, _=metrics.roc_curve(y_test,y_test_prob)\n",
        "auc=metrics.roc_auc_score(y_test,y_test_prob)\n",
        "plt.plot(fpr,tpr,label=\"area=\"+str(auc))\n",
        "plt.legend(loc=4)\n",
        "plt.show()"
      ],
      "execution_count": null,
      "outputs": [
        {
          "output_type": "display_data",
          "data": {
            "image/png": "[encoded data removed]",
            "text/plain": [
              "<Figure size 432x288 with 1 Axes>"
            ]
          },
          "metadata": {
            "tags": [],
            "needs_background": "light"
          }
        }
      ]
    },
    {
      "cell_type": "code",
      "metadata": {
        "id": "SySLahQ0Wa7L",
        "colab": {
          "base_uri": "https://localhost:8080/",
          "height": 34
        },
        "outputId": "a8037902-4efd-404e-a5bf-c1ef104e2a8e"
      },
      "source": [
        "log_loss(y_test,y_test_prob)"
      ],
      "execution_count": null,
      "outputs": [
        {
          "output_type": "execute_result",
          "data": {
            "text/plain": [
              "0.10926605663017223"
            ]
          },
          "metadata": {
            "tags": []
          },
          "execution_count": 144
        }
      ]
    },
    {
      "cell_type": "code",
      "metadata": {
        "id": "zXE4jpJlWa2L",
        "colab": {
          "base_uri": "https://localhost:8080/",
          "height": 68
        },
        "outputId": "821359d5-5e1f-4032-e95b-4179a98d2e68"
      },
      "source": [
        "cm = confusion_matrix(y_test, y_test_predict)\n",
        "cmtx = pd.DataFrame(cm, index=['true:no', 'true:yes'], columns=['pred:no', 'pred:yes'])\n",
        "print(cmtx)"
      ],
      "execution_count": null,
      "outputs": [
        {
          "output_type": "stream",
          "text": [
            "          pred:no  pred:yes\n",
            "true:no        41         2\n",
            "true:yes        1        70\n"
          ],
          "name": "stdout"
        }
      ]
    },
    {
      "cell_type": "code",
      "metadata": {
        "id": "-gJWYLjlWaxd",
        "colab": {
          "base_uri": "https://localhost:8080/",
          "height": 170
        },
        "outputId": "d801a731-76f0-4055-ab83-d21e2186dc5b"
      },
      "source": [
        "print(classification_report(y_test, y_test_predict))"
      ],
      "execution_count": null,
      "outputs": [
        {
          "output_type": "stream",
          "text": [
            "              precision    recall  f1-score   support\n",
            "\n",
            "           0       0.98      0.95      0.96        43\n",
            "           1       0.97      0.99      0.98        71\n",
            "\n",
            "    accuracy                           0.97       114\n",
            "   macro avg       0.97      0.97      0.97       114\n",
            "weighted avg       0.97      0.97      0.97       114\n",
            "\n"
          ],
          "name": "stdout"
        }
      ]
    },
    {
      "cell_type": "markdown",
      "metadata": {
        "id": "6wNzI8GNjLRc"
      },
      "source": [
        "## Neural Network Model Prediction Distribution"
      ]
    },
    {
      "cell_type": "code",
      "metadata": {
        "id": "x9NG5FTzWas6",
        "colab": {
          "base_uri": "https://localhost:8080/",
          "height": 282
        },
        "outputId": "33d2b6bb-ba57-44c3-a0ba-2310fed3aa51"
      },
      "source": [
        "# Plot the predicted probability distribution\n",
        "sns.distplot(y_test_prob, label='Predicted Probability', kde=False)"
      ],
      "execution_count": null,
      "outputs": [
        {
          "output_type": "execute_result",
          "data": {
            "text/plain": [
              "<matplotlib.axes._subplots.AxesSubplot at 0x7fa7c8807c50>"
            ]
          },
          "metadata": {
            "tags": []
          },
          "execution_count": 147
        },
        {
          "output_type": "display_data",
          "data": {
            "image/png": "[encoded data removed]",
            "text/plain": [
              "<Figure size 432x288 with 1 Axes>"
            ]
          },
          "metadata": {
            "tags": [],
            "needs_background": "light"
          }
        }
      ]
    },
    {
      "cell_type": "code",
      "metadata": {
        "id": "1sXYG0yyGPag",
        "colab": {
          "base_uri": "https://localhost:8080/",
          "height": 281
        },
        "outputId": "2e4fd93c-2da6-4a1e-c774-f771199af5b9"
      },
      "source": [
        "# this is to plot the kde by label\n",
        "sns.kdeplot(testPred[testPred['y_test']==1]['y_test_prob'],label='1');\n",
        "sns.kdeplot(testPred[testPred['y_test']==0]['y_test_prob'],label='0');\n",
        "\n",
        "# add labels\n",
        "plt.xlabel('Predicted Probability')\n",
        "plt.ylabel('Density')\n",
        "plt.show()"
      ],
      "execution_count": null,
      "outputs": [
        {
          "output_type": "display_data",
          "data": {
            "image/png": "[encoded data removed]",
            "text/plain": [
              "<Figure size 432x288 with 1 Axes>"
            ]
          },
          "metadata": {
            "tags": [],
            "needs_background": "light"
          }
        }
      ]
    },
    {
      "cell_type": "code",
      "metadata": {
        "id": "CSNEyeCxji0B",
        "colab": {
          "base_uri": "https://localhost:8080/",
          "height": 279
        },
        "outputId": "107398c1-7963-4f45-9b1a-821ad808ac59"
      },
      "source": [
        "# this is to plot the kde by label\n",
        "sns.distplot(testPred[testPred['y_test']==1]['y_test_prob'],label='1', kde=False);\n",
        "sns.distplot(testPred[testPred['y_test']==0]['y_test_prob'],label='0', kde=False);\n",
        "\n",
        "# add labels\n",
        "plt.xlabel('Predicted Probability')\n",
        "plt.ylabel('Frequency')\n",
        "plt.show()"
      ],
      "execution_count": null,
      "outputs": [
        {
          "output_type": "display_data",
          "data": {
            "image/png": "[encoded data removed]",
            "text/plain": [
              "<Figure size 432x288 with 1 Axes>"
            ]
          },
          "metadata": {
            "tags": [],
            "needs_background": "light"
          }
        }
      ]
    }
  ]
}